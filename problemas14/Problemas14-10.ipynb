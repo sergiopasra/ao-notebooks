{
 "cells": [
  {
   "cell_type": "markdown",
   "metadata": {},
   "source": [
    "# Problema 10\n",
    "\n",
    "Calcular la duración del año de los eclipses suponiendo un año solar de 365.25 días y que el\n",
    "periodo (retrógrado) de movimiento de los nodos lunares es de 18.612 años (julianos de\n",
    "365.25 días)."
   ]
  },
  {
   "cell_type": "markdown",
   "metadata": {},
   "source": [
    "## Solución\n",
    "\n",
    "El año de eclipses corresponde al tiempo entre el paso del Sol por el mismo nodo lunar. Dado que estamos combinando dos movimientos circulares, el periodo vendrá dado por el periodo sinódico. Con la salvedad de que el movimiento de los nodos es retrógrado, por lo que el periodo sinódico será:\n",
    "\n",
    "$$\n",
    "\\frac{1}{P_S} = \\frac{1}{P_{\\odot}} + \\frac{1}{P}\n",
    "$$"
   ]
  },
  {
   "cell_type": "code",
   "execution_count": 2,
   "metadata": {},
   "outputs": [],
   "source": [
    "p_sol = 365.25\n",
    "p_nodo = 18.612 * 365.35"
   ]
  },
  {
   "cell_type": "code",
   "execution_count": 6,
   "metadata": {},
   "outputs": [
    {
     "name": "stdout",
     "output_type": "stream",
     "text": [
      "Años de eclipses: 346.63103591830014 días\n"
     ]
    }
   ],
   "source": [
    "ps = 1 / (1 / p_sol + 1 / p_nodo)\n",
    "print('Años de eclipses:', ps, 'días')"
   ]
  },
  {
   "cell_type": "code",
   "execution_count": null,
   "metadata": {},
   "outputs": [],
   "source": []
  }
 ],
 "metadata": {
  "kernelspec": {
   "display_name": "Python 3",
   "language": "python",
   "name": "python3"
  },
  "language_info": {
   "codemirror_mode": {
    "name": "ipython",
    "version": 3
   },
   "file_extension": ".py",
   "mimetype": "text/x-python",
   "name": "python",
   "nbconvert_exporter": "python",
   "pygments_lexer": "ipython3",
   "version": "3.9.1"
  }
 },
 "nbformat": 4,
 "nbformat_minor": 4
}
