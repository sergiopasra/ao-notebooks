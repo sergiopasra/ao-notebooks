{
 "cells": [
  {
   "cell_type": "markdown",
   "metadata": {},
   "source": [
    "# Problema 7\n",
    "\n",
    "Estimar la duración de un tránsito de Venus sobre el Sol visto desde la Tierra. El tamaño\n",
    "aparente del disco solar es de 32’ y el periodo sidéreo de Venus es de 224.7 días."
   ]
  },
  {
   "cell_type": "markdown",
   "metadata": {},
   "source": [
    "## Solución\n",
    "\n",
    "Dado que estamos observando el tránsito de Venus sobre el Sol visto desde la Tierra, la velocidad angular aparente de Venus vendrá dada por el periodo sinódico.\n",
    "\n",
    "$$\n",
    "\\theta_{\\odot} = \\frac{2\\pi}{P_S} t_T = n t_T\n",
    "$$\n",
    "\n",
    "Donde $\\theta_{\\odot}$ es el tamaño aparente del Sol y $t_T$ la duración del tránsito."
   ]
  },
  {
   "cell_type": "code",
   "execution_count": 4,
   "metadata": {},
   "outputs": [],
   "source": [
    "import astropy.units as u\n",
    "import numpy as np\n",
    "import matplotlib.pyplot as plt"
   ]
  },
  {
   "cell_type": "code",
   "execution_count": 5,
   "metadata": {},
   "outputs": [
    {
     "name": "stdout",
     "output_type": "stream",
     "text": [
      "Periodo sinódico: 583.9322305229456 d\n"
     ]
    }
   ],
   "source": [
    "# Empezamos calculando el periodo sinódico\n",
    "P_T = 365.25 * u.day\n",
    "P = 224.7 * u.day\n",
    "P_S = abs(1 / (1 / P_T - 1 / P))\n",
    "print(\"Periodo sinódico:\", P_S)"
   ]
  },
  {
   "cell_type": "code",
   "execution_count": 8,
   "metadata": {},
   "outputs": [
    {
     "name": "stdout",
     "output_type": "stream",
     "text": [
      "Velocidad angular 0.01076012759486255 rad / d\n"
     ]
    }
   ],
   "source": [
    "# La velocidad angular (en radianes por día) es\n",
    "n = 2 * math.pi * u.rad / P_S\n",
    "print('Velocidad angular', n)"
   ]
  },
  {
   "cell_type": "code",
   "execution_count": 16,
   "metadata": {},
   "outputs": [],
   "source": [
    "# El disco del Sol en radianes\n",
    "theta = 32 *u.arcmin\n",
    "m = np.arctan((1 / 0.723 - 1) * np.tan(theta))"
   ]
  },
  {
   "cell_type": "code",
   "execution_count": 18,
   "metadata": {},
   "outputs": [
    {
     "name": "stdout",
     "output_type": "stream",
     "text": [
      "7.954668580108448 h\n"
     ]
    }
   ],
   "source": [
    "t = m / n\n",
    "print(t.to('hour'))"
   ]
  },
  {
   "cell_type": "code",
   "execution_count": null,
   "metadata": {},
   "outputs": [],
   "source": []
  }
 ],
 "metadata": {
  "kernelspec": {
   "display_name": "Python 3",
   "language": "python",
   "name": "python3"
  },
  "language_info": {
   "codemirror_mode": {
    "name": "ipython",
    "version": 3
   },
   "file_extension": ".py",
   "mimetype": "text/x-python",
   "name": "python",
   "nbconvert_exporter": "python",
   "pygments_lexer": "ipython3",
   "version": "3.9.1"
  }
 },
 "nbformat": 4,
 "nbformat_minor": 4
}
