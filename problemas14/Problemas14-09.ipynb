{
 "cells": [
  {
   "cell_type": "markdown",
   "metadata": {},
   "source": [
    "# Problema 9\n",
    "\n",
    "Calcular la fracción iluminada mínima de Júpiter, cuya órbita tiene un semieje mayor a=5.20\n",
    "au"
   ]
  },
  {
   "cell_type": "markdown",
   "metadata": {},
   "source": [
    "## Solución\n",
    "\n",
    "La fracción iluminada de un planeta viene dada por:\n",
    "\n",
    "$$\n",
    "A = \\frac{1}{2}(1 + \\cos \\phi)\n",
    "$$\n",
    "\n",
    "Con $\\phi$ el ángulo de fase. Para un planeta exterior, el ángulo de fase varía entre 0 y un valor máximo, que corresponde al planeta en cuadratura.\n",
    "\n",
    "La máxima fracción iluminada ($A=1$), corresponde a $\\phi=0$ y la fracción mínima al ángulo de fase máximo $\\phi_{\\mathrm{max}}$.\n",
    "\n",
    "El ángulo de fase máximo viene dado por:\n",
    "\n",
    "$$\n",
    "\\sin \\phi_{\\mathrm{max}} = \\frac{a_{\\oplus}}{a_P}\n",
    "$$"
   ]
  },
  {
   "cell_type": "code",
   "execution_count": 12,
   "metadata": {},
   "outputs": [],
   "source": [
    "import math"
   ]
  },
  {
   "cell_type": "code",
   "execution_count": 13,
   "metadata": {},
   "outputs": [],
   "source": [
    "ap = 5.20"
   ]
  },
  {
   "cell_type": "code",
   "execution_count": 14,
   "metadata": {},
   "outputs": [
    {
     "name": "stdout",
     "output_type": "stream",
     "text": [
      "Ángulo de fase máximo= 11.087489210970617 grados\n"
     ]
    }
   ],
   "source": [
    "sin_phi = 1 / ap\n",
    "phi = math.asin(sin_phi)\n",
    "print('Ángulo de fase máximo=', phi / math.pi * 180, 'grados')"
   ]
  },
  {
   "cell_type": "code",
   "execution_count": 16,
   "metadata": {},
   "outputs": [
    {
     "name": "stdout",
     "output_type": "stream",
     "text": [
      "Fracción iluminada mínima: 0.990667339314349\n"
     ]
    }
   ],
   "source": [
    "area = 0.5 *(1+math.cos(phi))\n",
    "print('Fracción iluminada mínima:', area)"
   ]
  },
  {
   "cell_type": "code",
   "execution_count": null,
   "metadata": {},
   "outputs": [],
   "source": []
  }
 ],
 "metadata": {
  "kernelspec": {
   "display_name": "Python 3",
   "language": "python",
   "name": "python3"
  },
  "language_info": {
   "codemirror_mode": {
    "name": "ipython",
    "version": 3
   },
   "file_extension": ".py",
   "mimetype": "text/x-python",
   "name": "python",
   "nbconvert_exporter": "python",
   "pygments_lexer": "ipython3",
   "version": "3.9.0"
  }
 },
 "nbformat": 4,
 "nbformat_minor": 4
}
