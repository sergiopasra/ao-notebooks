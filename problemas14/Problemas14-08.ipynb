{
 "cells": [
  {
   "cell_type": "markdown",
   "metadata": {},
   "source": [
    "# Problema 8\n",
    "\n",
    "Aristarco de Samos, un astrónomo del siglo III a.C., realizó diferentes medidas de la\n",
    "distancia de la Tierra al Sol, de la Tierra a la Luna y el tamaño del Sol y la Luna en radios\n",
    "terrestres.\n",
    "\n",
    "Para la distancia Tierra-Sol, Aristarco calculó la elongación (ángulo Sol-Luna) en el\n",
    "momento de medialuna, cuando el ángulo de fase es de 90°. La medida de Aristarco para la\n",
    "elongación fue **1/30º de cuadrante menos de un ángulo recto**, es decir 87º.\n",
    "\n",
    "Calcular el valor de la distancia al Sol en función del radio de la órbita lunar con la medida\n",
    "de Aristarco y con el valor real de 89º50’"
   ]
  },
  {
   "cell_type": "markdown",
   "metadata": {},
   "source": [
    "## Solución"
   ]
  },
  {
   "cell_type": "code",
   "execution_count": 1,
   "metadata": {},
   "outputs": [],
   "source": [
    "from astropy.coordinates import Angle\n",
    "import astropy.units as u\n",
    "import numpy as np\n",
    "import matplotlib.pyplot as plt"
   ]
  },
  {
   "cell_type": "code",
   "execution_count": 27,
   "metadata": {},
   "outputs": [],
   "source": [
    "elong_a = Angle('87d')\n",
    "elong_m = Angle('89d50m')"
   ]
  },
  {
   "cell_type": "code",
   "execution_count": 32,
   "metadata": {},
   "outputs": [
    {
     "name": "stdout",
     "output_type": "stream",
     "text": [
      "Distancia mínima estimada por Aristarco\n",
      "19.10732260929735 veces la distancia entre la Tierra y la Luna\n",
      "Distancia estimada con E=89º50\n",
      "343.77516189265026 veces la distancia entre la Tierra y la Luna\n"
     ]
    }
   ],
   "source": [
    "d_a = 1 / np.cos(elong_a)\n",
    "print('Distancia mínima estimada por Aristarco')\n",
    "print(d_a, 'veces la distancia entre la Tierra y la Luna')\n",
    "print('Distancia estimada con E=89º50')\n",
    "d_m = 1 / np.cos(elong_m)\n",
    "print(d_m, 'veces la distancia entre la Tierra y la Luna')"
   ]
  },
  {
   "cell_type": "code",
   "execution_count": null,
   "metadata": {},
   "outputs": [],
   "source": []
  },
  {
   "cell_type": "code",
   "execution_count": null,
   "metadata": {},
   "outputs": [],
   "source": []
  }
 ],
 "metadata": {
  "kernelspec": {
   "display_name": "Python 3",
   "language": "python",
   "name": "python3"
  },
  "language_info": {
   "codemirror_mode": {
    "name": "ipython",
    "version": 3
   },
   "file_extension": ".py",
   "mimetype": "text/x-python",
   "name": "python",
   "nbconvert_exporter": "python",
   "pygments_lexer": "ipython3",
   "version": "3.9.1"
  }
 },
 "nbformat": 4,
 "nbformat_minor": 4
}
