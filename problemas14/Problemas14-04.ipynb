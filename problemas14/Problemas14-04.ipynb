{
 "cells": [
  {
   "cell_type": "markdown",
   "metadata": {},
   "source": [
    "# Problema 4\n",
    "\n",
    "Suponiendo que el semieje mayor de la órbita de Saturno es 9.54 au y los periodo sidéreos\n",
    "de la Tierra y Saturno 365.25 días y 10760.65 días respectivamente, calcular cuántos días\n",
    "tiene Saturno de movimiento retrógrado durante un periodo sinódico."
   ]
  },
  {
   "cell_type": "markdown",
   "metadata": {},
   "source": [
    "## Solución\n",
    "\n",
    "El tiempo que un planeta está en movimiento retrógrado es proporcional al ángulo entre sus puntos estacionarios en su movimiento aparente.\n",
    "\n",
    "Si el ángulo entre el planeta y la Tierra medido en el Sol es $\\theta_R$, el movimiento retrogrado se produce entre -$\\theta_R$ y $\\theta_R$.\n",
    "\n",
    "El planeta tarda un tiempo $t_R$ en recorrer esa distancia, dado por:\n",
    "\n",
    "$$\n",
    "2\\theta_R = \\frac{2\\pi}{P_S} t_R\n",
    "$$\n",
    "\n",
    "siendo $P_S$ el periodo sinódico.\n",
    "\n",
    "Entonces:\n",
    "\n",
    "$$\n",
    " t_R = \\frac{\\theta_R}{\\pi}P_S\n",
    "$$\n",
    "\n",
    "\n",
    "Por otro lado $\\theta_R$ se obtiene como:\n",
    "\n",
    "$$\n",
    "\\cos \\theta_R = \\frac{\\beta^{1/2} +1}{\\beta + \\beta^{-1/2}}\n",
    "$$\n",
    "\n",
    "siendo $\\beta = \\frac{a_P}{a_{\\oplus}}$"
   ]
  },
  {
   "cell_type": "code",
   "execution_count": 17,
   "metadata": {},
   "outputs": [],
   "source": [
    "import math\n",
    "import astropy.units as u\n",
    "import numpy as np\n",
    "import matplotlib.pyplot as plt"
   ]
  },
  {
   "cell_type": "code",
   "execution_count": 18,
   "metadata": {},
   "outputs": [
    {
     "name": "stdout",
     "output_type": "stream",
     "text": [
      "Periodo sinódico: 378.08332651942203 d\n"
     ]
    }
   ],
   "source": [
    "# Empezamos calculando el periodo sinódico\n",
    "P_T = 365.25 * u.day\n",
    "P = 10760.65 * u.day\n",
    "P_S = abs(1 / (1 / P_T - 1 / P))\n",
    "print(\"Periodo sinódico:\", P_S)"
   ]
  },
  {
   "cell_type": "code",
   "execution_count": 19,
   "metadata": {},
   "outputs": [],
   "source": [
    "a_P = 9.54 * u.au\n",
    "a_T = 1 * u.au\n",
    "beta = a_P / a_T\n",
    "beta_sqrt = math.sqrt(beta)\n",
    "cos_theta = (beta_sqrt + 1) / (beta + 1 / beta_sqrt)\n",
    "theta = math.cos(cos_theta)"
   ]
  },
  {
   "cell_type": "code",
   "execution_count": 20,
   "metadata": {},
   "outputs": [
    {
     "name": "stdout",
     "output_type": "stream",
     "text": [
      "Días en movimiento retrógrado: 110.1555712948685 d\n"
     ]
    }
   ],
   "source": [
    "tr = theta / math.pi * P_S\n",
    "print('Días en movimiento retrógrado:', tr)"
   ]
  },
  {
   "cell_type": "code",
   "execution_count": null,
   "metadata": {},
   "outputs": [],
   "source": []
  }
 ],
 "metadata": {
  "kernelspec": {
   "display_name": "Python 3",
   "language": "python",
   "name": "python3"
  },
  "language_info": {
   "codemirror_mode": {
    "name": "ipython",
    "version": 3
   },
   "file_extension": ".py",
   "mimetype": "text/x-python",
   "name": "python",
   "nbconvert_exporter": "python",
   "pygments_lexer": "ipython3",
   "version": "3.9.1"
  }
 },
 "nbformat": 4,
 "nbformat_minor": 4
}
