{
 "cells": [
  {
   "cell_type": "markdown",
   "metadata": {},
   "source": [
    "# Problema 2\n",
    "\n",
    "El periodo sinódico de Marte es 779.9 días y su distancia heliocéntrica 1.524 au. Calcular la\n",
    "fase del planeta 80 días después de la oposición."
   ]
  },
  {
   "cell_type": "markdown",
   "metadata": {},
   "source": [
    "## Planteamiento\n",
    "\n",
    "El Sol, Marte y la Tierra forman un triángulo del que dos de los lados son conocidos. El lado Sol-Marte tiene 1.524 au y el lado Sol-Tierra 1 au mientras que la longitud del tercer lado es desconocida. \n",
    "\n",
    "Para resolver el triángulo necesitamos un tercer dato. El ángulo formado por Marte-Sol-Tierra crece linealmente con el tiempo según el periodo sinódico.\n",
    "En oposición, los dos planetas se encuentran juntos, luego el ángulo M-S-T será 0º en ese momento."
   ]
  },
  {
   "cell_type": "code",
   "execution_count": 3,
   "metadata": {},
   "outputs": [],
   "source": [
    "from astropy.coordinates import Angle\n",
    "import astropy.units as u\n",
    "import numpy as np\n",
    "import matplotlib.pyplot as plt"
   ]
  },
  {
   "cell_type": "code",
   "execution_count": 4,
   "metadata": {},
   "outputs": [],
   "source": [
    "dm = 1.524\n",
    "dt = 1\n",
    "Ps = 779.9"
   ]
  },
  {
   "cell_type": "code",
   "execution_count": 5,
   "metadata": {},
   "outputs": [
    {
     "name": "stdout",
     "output_type": "stream",
     "text": [
      "36d55m40.1205s\n"
     ]
    }
   ],
   "source": [
    "# El ángulo M-S-T 80 días después de la oposición será\n",
    "theta = Angle(360.0, unit='deg') / Ps * 80\n",
    "print(theta)"
   ]
  },
  {
   "cell_type": "code",
   "execution_count": 6,
   "metadata": {},
   "outputs": [
    {
     "name": "stdout",
     "output_type": "stream",
     "text": [
      "Tercer lado: 0.9412894165226129 au\n"
     ]
    }
   ],
   "source": [
    "# Resolvemos el triángulo\n",
    "# Teorema del coseno, sabemos dos lados y el ángulo que forman\n",
    "l = np.sqrt(dm**2 + dt**2 - 2 * dm * dt * np.cos(theta))\n",
    "print('Tercer lado:', l, 'au')"
   ]
  },
  {
   "cell_type": "code",
   "execution_count": 7,
   "metadata": {},
   "outputs": [],
   "source": [
    "# Aplicamos ahora el teorema del seno para calcular los ángulo que faltan\n",
    "# el ángulo de fase es el que está enfrentado al lado del triángulo de longitud 1 au\n",
    "# el ángulo theta está enfrentado al lado l\n",
    "sin_phi = 1 / l * np.sin(theta)"
   ]
  },
  {
   "cell_type": "code",
   "execution_count": 8,
   "metadata": {},
   "outputs": [
    {
     "name": "stdout",
     "output_type": "stream",
     "text": [
      "Ángulo de fase 39d39m49.8586s\n"
     ]
    }
   ],
   "source": [
    "fase = Angle(np.arcsin(sin_phi), unit='deg')\n",
    "print('Ángulo de fase', fase)"
   ]
  },
  {
   "cell_type": "code",
   "execution_count": 9,
   "metadata": {},
   "outputs": [
    {
     "name": "stdout",
     "output_type": "stream",
     "text": [
      "Ángulo de elongación: 103d24m30.0209s\n"
     ]
    }
   ],
   "source": [
    "elongacion = Angle(180, unit='deg') - theta -fase\n",
    "print('Ángulo de elongación:', elongacion)"
   ]
  },
  {
   "cell_type": "code",
   "execution_count": null,
   "metadata": {},
   "outputs": [],
   "source": []
  }
 ],
 "metadata": {
  "kernelspec": {
   "display_name": "Python 3",
   "language": "python",
   "name": "python3"
  },
  "language_info": {
   "codemirror_mode": {
    "name": "ipython",
    "version": 3
   },
   "file_extension": ".py",
   "mimetype": "text/x-python",
   "name": "python",
   "nbconvert_exporter": "python",
   "pygments_lexer": "ipython3",
   "version": "3.9.1"
  }
 },
 "nbformat": 4,
 "nbformat_minor": 4
}
