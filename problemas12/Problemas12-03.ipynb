{
 "cells": [
  {
   "cell_type": "markdown",
   "metadata": {},
   "source": [
    "# Problema 6\n",
    "Calcular la latitud de un lugar donde el crepúsculo astronómico dura toda la noche (la altura\n",
    "mínima del Sol es -18°) cuando la declinación del Sol es 16° N\n",
    "\n",
    "## Planteamiento\n",
    "\n",
    "La altura mínima es:\n",
    "\n",
    "$a_{\\textrm{min}} = -90 + |\\delta + \\phi| $\n",
    "\n",
    "De donde:\n",
    "\n",
    "$|\\delta + \\phi| = 90 + a_{\\textrm{min}} $\n",
    "\n",
    "Habrá dos soluciones. \n",
    "\n",
    "Con $  \\delta + \\phi > 0 $\n",
    "\n",
    "$\\phi_1 = 90 + a_{\\textrm{min}} - \\delta $\n",
    "\n",
    "\n",
    "Con $  \\delta + \\phi < 0 $\n",
    "\n",
    "$\\phi_2 = -90 - a_{\\textrm{min}} - \\delta$"
   ]
  },
  {
   "cell_type": "code",
   "execution_count": null,
   "metadata": {},
   "outputs": [],
   "source": [
    "from astropy.coordinates import Angle\n",
    "import astropy.units as u\n",
    "import numpy as np\n",
    "import matplotlib.pyplot as plt"
   ]
  },
  {
   "cell_type": "markdown",
   "metadata": {},
   "source": [
    "$a_{\\textrm{min}} = -90 + |\\delta + \\phi| $\n",
    "\n",
    "$|\\delta + \\phi| = 90 + a_{\\textrm{min}} $ "
   ]
  },
  {
   "cell_type": "code",
   "execution_count": null,
   "metadata": {},
   "outputs": [],
   "source": [
    "a_min = -18.0\n",
    "delt = 16.0"
   ]
  },
  {
   "cell_type": "code",
   "execution_count": null,
   "metadata": {},
   "outputs": [],
   "source": [
    "# Valor absoluto de delta + phi\n",
    "abs_delt_phi = a_min + 90"
   ]
  },
  {
   "cell_type": "code",
   "execution_count": null,
   "metadata": {},
   "outputs": [],
   "source": [
    "# Suma positiva\n",
    "delt_phi1 = abs_delt_phi\n",
    "# Suma negativa\n",
    "delt_phi2 = -abs_delt_phi"
   ]
  },
  {
   "cell_type": "code",
   "execution_count": null,
   "metadata": {},
   "outputs": [],
   "source": [
    "# Va\n",
    "phi1 = delt_phi1 - delt\n",
    "phi2 = delt_phi2 - delt"
   ]
  },
  {
   "cell_type": "code",
   "execution_count": null,
   "metadata": {},
   "outputs": [],
   "source": [
    "print('Latitud (hemisferio norte):', phi1)\n",
    "print('Latitud (hemisferio sur):', phi2)"
   ]
  },
  {
   "cell_type": "code",
   "execution_count": null,
   "metadata": {},
   "outputs": [],
   "source": []
  }
 ],
 "metadata": {
  "kernelspec": {
   "display_name": "Python 3",
   "language": "python",
   "name": "python3"
  },
  "language_info": {
   "codemirror_mode": {
    "name": "ipython",
    "version": 3
   },
   "file_extension": ".py",
   "mimetype": "text/x-python",
   "name": "python",
   "nbconvert_exporter": "python",
   "pygments_lexer": "ipython3",
   "version": "3.9.1"
  }
 },
 "nbformat": 4,
 "nbformat_minor": 2
}
