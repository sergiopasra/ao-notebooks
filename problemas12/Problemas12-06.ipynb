{
 "cells": [
  {
   "cell_type": "markdown",
   "metadata": {},
   "source": [
    "# Problema 6"
   ]
  },
  {
   "cell_type": "markdown",
   "metadata": {},
   "source": [
    "Calcular el ángulo horario de la puesta del Sol y el tiempo sidéreo para un observador en φ =\n",
    "54° 55’ cuando la longitud eclíptica del Sol es 49°49’"
   ]
  },
  {
   "cell_type": "markdown",
   "metadata": {},
   "source": [
    "## Planteamiento"
   ]
  },
  {
   "cell_type": "markdown",
   "metadata": {},
   "source": [
    "Para el Sol, sabemos que la latitud eclíptica es 0°. Como sabemos la longitud eclíptica podemos calcular las coordenadas ecuatoriales:\n",
    "\n",
    "\n",
    "\\begin{eqnarray}\n",
    "\\sin \\delta_{\\odot} & = & \\sin \\epsilon \\sin l_{\\odot}\\\\\n",
    "\\cos \\delta_{\\odot} \\cos \\alpha_{\\odot} & = & \\cos l_{\\odot} \\\\\n",
    "\\cos \\delta_{\\odot} \\sin \\alpha_{\\odot} & = & \\cos \\epsilon \\sin l_{\\odot}\n",
    "\\end{eqnarray}"
   ]
  },
  {
   "cell_type": "code",
   "execution_count": 1,
   "metadata": {},
   "outputs": [],
   "source": [
    "from astropy.coordinates import Angle\n",
    "import astropy.units as u\n",
    "import numpy as np\n",
    "import matplotlib.pyplot as plt"
   ]
  },
  {
   "cell_type": "code",
   "execution_count": 2,
   "metadata": {},
   "outputs": [],
   "source": [
    "ε = Angle(\"23d26m12s\")"
   ]
  },
  {
   "cell_type": "code",
   "execution_count": 5,
   "metadata": {},
   "outputs": [],
   "source": [
    "lsol = Angle(\"49d49m\")"
   ]
  },
  {
   "cell_type": "code",
   "execution_count": 12,
   "metadata": {},
   "outputs": [
    {
     "name": "stdout",
     "output_type": "stream",
     "text": [
      "sin delta=  0.303863177110241\n",
      "delta (deg)=  17.689782993324027\n"
     ]
    }
   ],
   "source": [
    "sin_delta = np.sin(ε) * np.sin(lsol)\n",
    "print('sin delta= ', sin_delta)\n",
    "delta = Angle(np.arcsin(sin_delta))\n",
    "print('delta (deg)= ', delta.deg)"
   ]
  },
  {
   "cell_type": "code",
   "execution_count": 17,
   "metadata": {},
   "outputs": [
    {
     "name": "stdout",
     "output_type": "stream",
     "text": [
      "cos alfa=  0.6772592219836738 sin alfa=  0.7357444843409082\n"
     ]
    }
   ],
   "source": [
    "cos_delta = np.cos(delta)\n",
    "cos_alfa = np.cos(lsol) / cos_delta\n",
    "sin_alfa = np.cos(ε) * np.sin(lsol) / cos_delta\n",
    "print(\"cos alfa= \", cos_alfa, \"sin alfa= \", sin_alfa)"
   ]
  },
  {
   "cell_type": "markdown",
   "metadata": {},
   "source": [
    "Dado que tanto el coseno como el seno son positivos, el ángulo está en el primer cuadrante y se puede calcular directamente el arco tangente:"
   ]
  },
  {
   "cell_type": "code",
   "execution_count": 46,
   "metadata": {},
   "outputs": [
    {
     "name": "stdout",
     "output_type": "stream",
     "text": [
      "alfa (deg)= 47.3701615455546\n",
      "alfa (horas)= 3.1580107697036404\n"
     ]
    }
   ],
   "source": [
    "alfa = Angle(np.arctan(sin_alpha / cos_alpha))\n",
    "print('alfa (deg)=', alfa.deg)\n",
    "print('alfa (horas)=', alfa.hourangle)"
   ]
  },
  {
   "cell_type": "markdown",
   "metadata": {},
   "source": [
    "## Ángulo horario del ocaso\n",
    "\n",
    "El ángulo horario del ocaso se puede calcular como:\n",
    "\n",
    "$$\n",
    "\\cos H = -\\tan \\delta \\tan \\phi\n",
    "$$"
   ]
  },
  {
   "cell_type": "code",
   "execution_count": 25,
   "metadata": {},
   "outputs": [],
   "source": [
    "𝜙 = Angle(\"54d55m\")"
   ]
  },
  {
   "cell_type": "code",
   "execution_count": 28,
   "metadata": {},
   "outputs": [
    {
     "name": "stdout",
     "output_type": "stream",
     "text": [
      "cos H =  -0.45409246990190977\n"
     ]
    }
   ],
   "source": [
    "cos_H = -np.tan(delta) * np.tan(𝜙)\n",
    "print('cos H = ', cos_H)"
   ]
  },
  {
   "cell_type": "code",
   "execution_count": 50,
   "metadata": {},
   "outputs": [
    {
     "name": "stdout",
     "output_type": "stream",
     "text": [
      "Estos ángulos ya se dan en HORAS\n",
      "Cuadrante II   H1= 7.800437155819221 = 7h48m01.5738s\n",
      "Cuadrante III, H2=360-H1= 16.199562844180782 = 16h11m58.4262s\n"
     ]
    }
   ],
   "source": [
    "# Dado el coseno de H hay dos valores posibles para H:\n",
    "# Resultado en el cuadrante II\n",
    "H1 = Angle(np.arccos(cos_H))\n",
    "# Resultado en el cuadrante III\n",
    "# Sumamos 360 para que el ángulo sea positivo\n",
    "\n",
    "H2 = Angle(360, unit='deg') -H1\n",
    "print('Estos ángulos ya se dan en HORAS')\n",
    "print('Cuadrante II   H1=', H1.hourangle, '=', H1.to_string(unit='hour'))\n",
    "print('Cuadrante III, H2=360-H1=', H2.hourangle, '=', H2.to_string(unit='hour'))\n"
   ]
  },
  {
   "cell_type": "markdown",
   "metadata": {},
   "source": [
    "El ángulo $H1$ corresponde al ocaso (oeste). A partir del ángulo horario y la ascensión recta podemos calcular el tiempo sidéreo:"
   ]
  },
  {
   "cell_type": "code",
   "execution_count": 51,
   "metadata": {},
   "outputs": [
    {
     "name": "stdout",
     "output_type": "stream",
     "text": [
      "TSL= 10.958447925522862 = 10h57m30.4125s\n"
     ]
    }
   ],
   "source": [
    "TSL = H1 + alfa\n",
    "print('TSL=', TSL.hourangle, '=', TSL.to_string(unit='hour'))"
   ]
  }
 ],
 "metadata": {
  "kernelspec": {
   "display_name": "Python 3",
   "language": "python",
   "name": "python3"
  },
  "language_info": {
   "codemirror_mode": {
    "name": "ipython",
    "version": 3
   },
   "file_extension": ".py",
   "mimetype": "text/x-python",
   "name": "python",
   "nbconvert_exporter": "python",
   "pygments_lexer": "ipython3",
   "version": "3.9.0"
  }
 },
 "nbformat": 4,
 "nbformat_minor": 4
}
