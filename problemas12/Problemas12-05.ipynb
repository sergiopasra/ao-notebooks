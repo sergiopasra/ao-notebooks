{
 "cells": [
  {
   "cell_type": "markdown",
   "metadata": {},
   "source": [
    "# Problema 5\n",
    "\n",
    "Demostrar que un lugar cualquiera de los trópicos, el tiempo que está el Sol sobre el\n",
    "horizonte varía entre aproximadamente 10h33m y 13h26m"
   ]
  },
  {
   "cell_type": "markdown",
   "metadata": {},
   "source": [
    "## Solución"
   ]
  },
  {
   "cell_type": "markdown",
   "metadata": {},
   "source": [
    "El ángulo horario $H$ del orto y del ocaso cumple:\n",
    "\n",
    "$\\cos H = - \\tan \\delta \\tan \\phi$\n",
    "\n",
    "\n",
    "Por otro lado, el tiempo sobre el horizonte es $2H$ (en tiempo sidéreo).\n",
    "\n",
    "\n",
    "En los trópicos, la latitud es $\\phi = \\epsilon$. Por otro lado, la declinación del Sol varía entre $\\delta = -\\epsilon$ y $\\delta = \\epsilon$.\n",
    "\n",
    "\n",
    "Por lo tanto, $\\cos H$ varía entre:\n",
    "\n",
    "$\\cos H = \\pm \\tan^2 \\epsilon$"
   ]
  },
  {
   "cell_type": "code",
   "execution_count": 2,
   "metadata": {},
   "outputs": [],
   "source": [
    "from astropy.coordinates import Angle\n",
    "import astropy.units as u\n",
    "import numpy as np\n",
    "import matplotlib.pyplot as plt"
   ]
  },
  {
   "cell_type": "code",
   "execution_count": 3,
   "metadata": {},
   "outputs": [],
   "source": [
    "eps = Angle(\"23d26m12s\")\n",
    "\n",
    "cos_h1 = -(np.tan(eps))**2\n",
    "cos_h2 = -cos_h1"
   ]
  },
  {
   "cell_type": "code",
   "execution_count": 4,
   "metadata": {},
   "outputs": [],
   "source": [
    "h1 = Angle(np.arccos(cos_h1))\n",
    "h2 = Angle(np.arccos(cos_h2))"
   ]
  },
  {
   "cell_type": "code",
   "execution_count": 5,
   "metadata": {},
   "outputs": [
    {
     "name": "stdout",
     "output_type": "stream",
     "text": [
      "Escala: 1.0027379091 hourangle / h\n"
     ]
    }
   ],
   "source": [
    "# Convertimos tiempo sidéreo a tiempo TU\n",
    "tsid_tu = 1.0027379091 * u.hourangle / u.hour\n",
    "print('Escala:', tsid_tu)"
   ]
  },
  {
   "cell_type": "code",
   "execution_count": 6,
   "metadata": {},
   "outputs": [],
   "source": [
    "t1 = (2*h1 / tsid_tu).to('h')\n",
    "t2 = (2*h2 / tsid_tu).to('h')"
   ]
  },
  {
   "cell_type": "code",
   "execution_count": 7,
   "metadata": {},
   "outputs": [
    {
     "name": "stdout",
     "output_type": "stream",
     "text": [
      "Tiempo máximo:  13.407489564633464 h\n"
     ]
    }
   ],
   "source": [
    "print('Tiempo máximo: ', t1)"
   ]
  },
  {
   "cell_type": "code",
   "execution_count": 8,
   "metadata": {},
   "outputs": [
    {
     "name": "stdout",
     "output_type": "stream",
     "text": [
      "Tiempo mínimo:  10.526980033250817 h\n"
     ]
    }
   ],
   "source": [
    "print('Tiempo mínimo: ', t2)"
   ]
  },
  {
   "cell_type": "code",
   "execution_count": null,
   "metadata": {},
   "outputs": [],
   "source": []
  }
 ],
 "metadata": {
  "kernelspec": {
   "display_name": "Python 3",
   "language": "python",
   "name": "python3"
  },
  "language_info": {
   "codemirror_mode": {
    "name": "ipython",
    "version": 3
   },
   "file_extension": ".py",
   "mimetype": "text/x-python",
   "name": "python",
   "nbconvert_exporter": "python",
   "pygments_lexer": "ipython3",
   "version": "3.9.0"
  }
 },
 "nbformat": 4,
 "nbformat_minor": 4
}
