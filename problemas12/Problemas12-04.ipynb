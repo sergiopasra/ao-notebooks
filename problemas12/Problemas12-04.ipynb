{
 "cells": [
  {
   "cell_type": "markdown",
   "metadata": {},
   "source": [
    "# Problema 4\n",
    "\n",
    "Calcular la latitud de un lugar donde la eclíptica puede coincidir con el horizonte."
   ]
  },
  {
   "cell_type": "markdown",
   "metadata": {},
   "source": [
    "## Solución"
   ]
  },
  {
   "cell_type": "markdown",
   "metadata": {},
   "source": [
    "La eclíptica puede describirse en coordenadas ecliípticas como $b=0$ y $l \\in [0, 360)$.\n",
    "\n",
    "Si aplicamos las transformación para obtener las coordenadas equatoriales de la eclíptica, tenemos:\n",
    "\n",
    "\\begin{eqnarray}\n",
    "\\sin \\delta & = & \\sin \\epsilon \\sin l \\\\\n",
    "\\cos \\delta \\sin \\alpha & = & \\cos \\epsilon \\sin l \\\\\n",
    "\\cos \\delta \\cos \\alpha & = & \\cos l \\\\\n",
    "\\end{eqnarray}\n",
    "\n",
    "Es decir, dada la oblicuidad de la eclíptica $\\epsilon$, para cada valor de la longitud eclíptica $l$ tenemos un par de coordenadas $\\alpha, \\delta$\n",
    "\n",
    "\n",
    "\n",
    "\n"
   ]
  },
  {
   "cell_type": "markdown",
   "metadata": {},
   "source": [
    "Por otro lado, las coordenadas del horizonte para un lugar dado serán las que se obtienen de hacer $a=0$ en las transformaciones entre **altura y acimut**, por un lado, y **declinación y ángulo horario** por el otro.\n",
    "\n",
    "$$\n",
    "a = \\sin \\phi \\sin \\delta + \\cos \\phi \\cos \\delta \\cos H = 0\n",
    "$$\n",
    "\n",
    "Donde el ángulo horario es H=TSL - $\\alpha$. Para abreviar, denotaré el Tiempo Sidéreo Local como $\\tau$\n",
    "\n",
    "Para poner la ecuación del horizonte en función de las coordenadas ecuatoriales, necesitamos introducir el ángulo de rotación de la Tierra (via TLS). Se cumple entonces:\n",
    "\n",
    "$$\n",
    "\\sin \\phi \\sin \\delta + \\cos \\phi \\cos \\delta \\cos (\\tau - \\alpha) = 0\n",
    "$$\n",
    "\n",
    "\n",
    "\n",
    "\n"
   ]
  },
  {
   "cell_type": "markdown",
   "metadata": {},
   "source": [
    "De las ecuaciones inciales, sabemos que $\\alpha, \\delta$ dependen de la longitud eclíptica. Expandimos el término que incluye $\\tau$:\n",
    "\n",
    "\n",
    "$$\n",
    "\\cos (\\tau - \\alpha) = \\cos \\tau \\cos \\alpha + \\sin \\tau \\sin \\alpha \n",
    "$$\n",
    "\n",
    "Volviendo a la ecuación del horizonte, tenemos:\n",
    "\n",
    "$$\n",
    "\\sin \\phi \\sin \\delta + \\cos \\phi \\cos \\delta (\\cos \\tau \\cos \\alpha + \\sin \\tau \\sin \\alpha ) = 0\n",
    "$$\n",
    "\n",
    "Ahora agrupamos todos los términos $\\sin \\delta, \\cos \\delta$ y los sustituimos por sus expresiones en función de la longitud eclíptica:\n",
    "\n",
    "$$\n",
    "\\sin \\phi \\sin \\epsilon \\sin l + \\cos \\phi \\cos \\tau \\cos l + \\cos \\phi \\sin \\tau \\cos \\epsilon \\sin l = 0\n",
    "$$\n",
    "\n",
    "Agrupando términos, queda:\n",
    "\n",
    "$$\n",
    "(\\sin \\phi \\sin \\epsilon+\\cos \\phi \\sin \\tau \\cos \\epsilon) \\sin l + \\cos \\phi \\cos \\tau \\cos l = 0\n",
    "$$\n",
    "\n"
   ]
  },
  {
   "cell_type": "markdown",
   "metadata": {},
   "source": [
    "Para un momento dado del tiempo ($\\tau$ fijo), la suma tiene que ser 0 para todos los valores de $l$. Esto implica que los términos que multiplican a $\\sin l$ y $\\cos l$ tiene que ser cero de manera independiente y simultánea. \n",
    "\n",
    "\\begin{equation}\n",
    "\\sin \\phi \\sin \\epsilon+\\cos \\phi \\sin \\tau \\cos \\epsilon  = 0\\\\\n",
    "\\cos \\phi \\cos \\tau  = 0\n",
    "\\end{equation}\n",
    "\n",
    "\n"
   ]
  },
  {
   "cell_type": "markdown",
   "metadata": {},
   "source": [
    "De la segunda condición tenemos que: o bien $\\cos \\phi=0$  o bien $\\cos \\tau  = 0$\n",
    "\n",
    "Es fácil comprobar que las soluciones del primer término ($\\phi =\\pm 90^{\\circ}$) no son validas para la primera ecuación. El segundo término implica que $\\tau = 90^{\\circ}$ o bien $\\tau = 270^{\\circ}$\n",
    "\n",
    "También sabemos que $\\cos \\phi \\ne 0$ y podemos despejar $\\tan \\phi $ como:\n",
    "\n",
    "$$\n",
    "\\tan \\phi = \\frac{\\sin \\tau}{\\tan \\epsilon}\n",
    "$$\n",
    "\n",
    "\n",
    "Si sustituímos $\\tau$, tenemos:\n",
    "\n",
    "$$\n",
    "\\tan \\phi = \\pm \\frac{1}{\\tan \\epsilon}\n",
    "$$\n",
    "\n",
    "Sabemos que $1 / \\tan x = \\cot x = \\tan(90^{\\circ} -x)$\n",
    "\n",
    "Por lo que finalmente tenemos:\n",
    "\n",
    "$$\n",
    "\\phi = \\pm (90^{\\circ} - \\epsilon)\n",
    "$$\n",
    "\n",
    "Así pues, **los únicos lugares donde la eclíptica puede estar sobre el horizonte son los círculos polares**. Y de hecho, la eclíptica se situará sobre el horizonte una vez cada día sidéreo.\n"
   ]
  },
  {
   "cell_type": "code",
   "execution_count": null,
   "metadata": {},
   "outputs": [],
   "source": []
  }
 ],
 "metadata": {
  "kernelspec": {
   "display_name": "Python 3",
   "language": "python",
   "name": "python3"
  },
  "language_info": {
   "codemirror_mode": {
    "name": "ipython",
    "version": 3
   },
   "file_extension": ".py",
   "mimetype": "text/x-python",
   "name": "python",
   "nbconvert_exporter": "python",
   "pygments_lexer": "ipython3",
   "version": "3.9.0"
  }
 },
 "nbformat": 4,
 "nbformat_minor": 4
}
