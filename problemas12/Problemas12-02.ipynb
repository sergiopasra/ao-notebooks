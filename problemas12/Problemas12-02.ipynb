{
 "cells": [
  {
   "cell_type": "markdown",
   "metadata": {},
   "source": [
    "# Problemas astronomía de posición\n",
    "## Duración del día\n",
    "\n",
    "Calcular la duración máxima y mínima del día en Sapporo (Japón)\n",
    "con latitud φ = 43° 03’ 43’’ y longitud L = 141° 21′ 16′′ E.\n",
    "\n",
    "Considerar la **oblicuidad de la eclíptica ε = 23° 26’ 12’’**.\n",
    "\n",
    "## Planteamiento\n",
    "\n",
    "Podemos calcular la longitud del día, calculando la diferencia entre el ángulo horario del ocaso y del orto y convirtiendo el ángulo de tiempo sidéreo a tiempo en segundos SI. La precisión del resultado es del orden de minutos (no se incluye refracción y otros efectos).\n",
    "\n",
    "Dado que el la latitud del lugar está por encima del ecuador y por debajo del círculo polar, habrá ortos y ocasos todos los días.\n",
    "\n",
    "Las declinaciones máxima y mínima serán:\n",
    "\n",
    "$ \\delta_M = \\epsilon $\n",
    "\n",
    "$ \\delta_m = -\\epsilon $"
   ]
  },
  {
   "cell_type": "code",
   "execution_count": null,
   "metadata": {},
   "outputs": [],
   "source": [
    "from astropy.coordinates import Angle\n",
    "import astropy.units as u\n",
    "import numpy as np\n",
    "import matplotlib.pyplot as plt"
   ]
  },
  {
   "cell_type": "code",
   "execution_count": null,
   "metadata": {},
   "outputs": [],
   "source": [
    "eps = Angle(\"23d26m12s\")\n",
    "\n",
    "dec_M = eps\n",
    "dec_m = -eps\n",
    "\n",
    "lat = Angle(\"43d03m43s\")"
   ]
  },
  {
   "cell_type": "markdown",
   "metadata": {},
   "source": [
    "Calculamos el ángulo horario $H$\n",
    "\n",
    "$\\cos H = - \\tan \\delta \\tan \\phi $\n"
   ]
  },
  {
   "cell_type": "code",
   "execution_count": null,
   "metadata": {},
   "outputs": [],
   "source": [
    "cos_h_M = -np.tan(dec_M) * np.tan(lat)\n",
    "h_M = Angle(np.arccos(cos_h_M))\n",
    "cos_h_m = -np.tan(dec_m) * np.tan(lat)\n",
    "h_m = Angle(np.arccos(cos_h_m))\n",
    "\n",
    "print('Ángulo horario para la declinación máxima:', h_M.deg, 'grados')\n",
    "print('Angulo horario para la declinación mínima:', h_m.deg, 'grados')"
   ]
  },
  {
   "cell_type": "markdown",
   "metadata": {},
   "source": [
    "Podemos estimar el tiempo sobre el horizonte usando el TSL o bien el ángulo horario. Además, dada la periodicidad del coseno se cumple que:\n",
    "\n",
    "$H_2 = - H_1$\n",
    "\n",
    "luego:\n",
    "\n",
    "$\\mathrm{TSL_1} - \\mathrm{TSL_2} = H_1 - H_2 = 2 H_1$\n",
    "\n",
    "\n",
    "## Tiempo entre orto y ocaso\n",
    "\n",
    "Se puede calcular de manera aproximada (con precisión de minutos) el tiempo que es visible un objeto como la diferencia entre el TSL de su ocaso y su orto, convirtiendo la escala de tiempo sidéro a tiempo universal.\n",
    "\n",
    "$ \\Delta \\mathrm{TSL} = 1.0027379091 \\Delta t$"
   ]
  },
  {
   "cell_type": "code",
   "execution_count": null,
   "metadata": {},
   "outputs": [],
   "source": [
    "# Convertimos tiempo sidéreo a tiempo TU\n",
    "tsid_tu = 1.0027379091 * u.hourangle / u.hour\n",
    "print('Escala:', tsid_tu)"
   ]
  },
  {
   "cell_type": "code",
   "execution_count": null,
   "metadata": {},
   "outputs": [],
   "source": [
    "delta_T_M = 2 * h_M / tsid_tu # Tiempo sobre el horizonte máximo\n",
    "delta_T_m = 2 * h_m / tsid_tu # Tiempo sobre el horizonte mínimo"
   ]
  },
  {
   "cell_type": "code",
   "execution_count": null,
   "metadata": {},
   "outputs": [],
   "source": [
    "print('T max=', delta_T_M.to(\"hour\"), 'T min=', delta_T_m.to(\"hour\"))"
   ]
  },
  {
   "cell_type": "markdown",
   "metadata": {},
   "source": [
    "## Bonus\n",
    "\n",
    "Podemos calcular la duración del día para todos los días del año. Para ello tenemos que calcular las coordenadas eclípticas del Sol, luego las ecuatoriales y aplicar las ecuaciones anteriores para la duración del día."
   ]
  },
  {
   "cell_type": "code",
   "execution_count": null,
   "metadata": {},
   "outputs": [],
   "source": [
    "# Modelo para la longitud eclíptica del Sol\n",
    "# https://www.aa.quae.nl/en/reken/zonpositie.html\n",
    "M0 = 357.5291\n",
    "M1 = 0.98560028\n",
    "\n",
    "# Días del año\n",
    "tm = np.arange(0, 366)\n",
    "# Anomalía media\n",
    "M = Angle(M0 + M1 * tm, unit='deg')\n",
    "\n",
    "C1 = Angle(1.9148, unit='deg')\n",
    "C2 = Angle(0.0200, unit='deg')\n",
    "C3 = Angle(0.0003, unit='deg')\n",
    "C = C1 * np.sin(M) + C2 * np.sin(2*M) + C3 * np.sin(3*M)\n",
    "\n",
    "peri = Angle(102.9373, unit='deg')\n",
    "\n",
    "mean_l = peri + M + Angle(180, unit='deg')\n",
    "lon = mean_l + C\n",
    "# latitud eclíptica del Sol ~ 0"
   ]
  },
  {
   "cell_type": "code",
   "execution_count": null,
   "metadata": {},
   "outputs": [],
   "source": [
    "# Conversión a coordenadas ecuatoriales\n",
    "sin_d = np.sin(eps) * np.sin(lon)\n",
    "dec = Angle(np.arcsin(sin_d))\n",
    "cos_d = np.cos(dec)\n",
    "\n",
    "cos_a = np.cos(lon) / cos_d\n",
    "sin_a = np.cos(eps) * np.sin(lon) / cos_d\n",
    "ra = Angle(np.arctan2(sin_a, cos_a))"
   ]
  },
  {
   "cell_type": "code",
   "execution_count": null,
   "metadata": {},
   "outputs": [],
   "source": [
    "cos_h_all = -np.tan(dec) * np.tan(lat)\n",
    "h_all = Angle(np.arccos(cos_h_all))\n",
    "delta_T_all = 2 * h_all.hour / tsid_tu"
   ]
  },
  {
   "cell_type": "code",
   "execution_count": null,
   "metadata": {},
   "outputs": [],
   "source": [
    "# Duración del día en Sapporo\n",
    "plt.plot(tm, delta_T_all)\n",
    "plt.title('Sapporo, lat=43d03m43s')\n",
    "plt.xlabel('Día del año')\n",
    "plt.ylabel('Duración del día');"
   ]
  },
  {
   "cell_type": "code",
   "execution_count": null,
   "metadata": {},
   "outputs": [],
   "source": [
    "# Duración del día en Lima\n",
    "lat_lima = Angle(\"12d03m00s\")\n",
    "\n",
    "cos_h_lima = -np.tan(dec) * np.tan(lat_lima)\n",
    "h_all = Angle(np.arccos(cos_h_lima))\n",
    "delta_T_all = 2 * h_all.hour * tsid_tu\n",
    "\n",
    "plt.plot(tm, delta_T_all)\n",
    "plt.title('Lima, lat=12d03m00s')\n",
    "plt.xlabel('Día del año')\n",
    "plt.ylabel('Duración del día');"
   ]
  },
  {
   "cell_type": "code",
   "execution_count": null,
   "metadata": {},
   "outputs": [],
   "source": [
    "# Duración del día en Helsinki\n",
    "lat_hel = Angle(\"60d10m32s\")\n",
    "\n",
    "cos_h_hel = -np.tan(dec) * np.tan(lat_hel)\n",
    "h_all = Angle(np.arccos(cos_h_hel))\n",
    "delta_T_all = 2 * h_all.hour * tsid_tu\n",
    "\n",
    "plt.plot(tm, delta_T_all)\n",
    "plt.title('Helsinki, lat=60d10m32s')\n",
    "plt.xlabel('Día del año')\n",
    "plt.ylabel('Duración del día');"
   ]
  }
 ],
 "metadata": {
  "kernelspec": {
   "display_name": "Python 3",
   "language": "python",
   "name": "python3"
  },
  "language_info": {
   "codemirror_mode": {
    "name": "ipython",
    "version": 3
   },
   "file_extension": ".py",
   "mimetype": "text/x-python",
   "name": "python",
   "nbconvert_exporter": "python",
   "pygments_lexer": "ipython3",
   "version": "3.9.0"
  }
 },
 "nbformat": 4,
 "nbformat_minor": 2
}
