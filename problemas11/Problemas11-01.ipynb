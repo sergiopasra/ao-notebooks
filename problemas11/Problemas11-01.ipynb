{
 "cells": [
  {
   "cell_type": "markdown",
   "metadata": {},
   "source": [
    "# Problema 1\n",
    "\n",
    "Asumiendo que la Tierra es una esfera de radio medio 6371 km, calcular la distancia\n",
    "(geodésica) entre Moscú (55°45′21′′N 37°37′04′′E) y Nairobi (1°17′11′′S 36°49′02′′E).\n",
    "\n",
    "## Planteamiento\n",
    "\n",
    "Para una Tierra esférica, calcular la distancia geodésica implica resolver un triángulo esférico.\n",
    "\n",
    "<div>\n",
    "<img src=\"img/earth.png\" width=\"500\"/>\n",
    "</div>\n",
    "\n",
    "El punto __A representa el polo Norte y B__ y __C__ los puntos sobre la superficie de la Tierra. (Esta imagen no corresponde a los datos del prolema).\n",
    "\n",
    "De este triángulo conocemos:\n",
    "\n",
    " * El lado AB, correspondiente a 90 - $\\phi_B$\n",
    " * El lado AC. correspondiente a 90 - $\\phi_C$\n",
    " * El ángulo A, se mide sobre el ecuador y corresponde al arco desde la intersección del meridiano que pasa por __B__ hasta el que pasa por **C**. Es la diferencia de longitudes.\n",
    "\n",
    "A partir de aquí podemos utilizar trigonometría esférica, en particular la ley del coseno.\n",
    "\n",
    "$$\\cos c = \\cos a \\cos b + \\sin a \\sin b \\cos C $$\n",
    "\n",
    "En nuestro caso, $a = 90 - \\phi_1$, $b = 90 - \\phi_2$, $C = \\mathrm{lon_2} - \\mathrm{lon_1}$ \n"
   ]
  },
  {
   "cell_type": "code",
   "execution_count": 1,
   "metadata": {},
   "outputs": [],
   "source": [
    "from astropy.coordinates import Angle\n",
    "import astropy.units as u\n",
    "import numpy as np\n",
    "import matplotlib.pyplot as plt"
   ]
  },
  {
   "cell_type": "code",
   "execution_count": 2,
   "metadata": {},
   "outputs": [],
   "source": [
    "latB = Angle(\"55d45m21s\")\n",
    "lonB = Angle(\"37d37m04s\")\n",
    "\n",
    "latC = Angle(\"-1d17m11s\")\n",
    "lonC = Angle(\"36d49m02s\")\n",
    "\n",
    "rad = 6731 * u.km"
   ]
  },
  {
   "cell_type": "markdown",
   "metadata": {},
   "source": [
    "$$\\cos c = \\cos a \\cos b + \\sin a \\sin b \\cos C $$\n",
    "\n",
    "En nuestro caso, $a = 90 - \\phi_B$, $b = 90 - \\phi_C$, $C = \\mathrm{L_C} - \\mathrm{L_B}$ \n",
    "\n",
    "\n",
    "Por lo que:\n",
    "\n",
    "$$\\cos c = \\sin \\phi_B \\sin \\phi_C + \\cos \\phi_B \\sin \\phi_C \\cos (L_B - L_C) $$\n"
   ]
  },
  {
   "cell_type": "code",
   "execution_count": 3,
   "metadata": {},
   "outputs": [],
   "source": [
    "cos_c = np.sin(latB) * np.sin(latC) + np.cos(latB) * np.cos(latC) * np.cos(lonC - lonB)"
   ]
  },
  {
   "cell_type": "code",
   "execution_count": 4,
   "metadata": {},
   "outputs": [],
   "source": [
    "c = np.arccos(cos_c)"
   ]
  },
  {
   "cell_type": "code",
   "execution_count": 5,
   "metadata": {},
   "outputs": [
    {
     "name": "stdout",
     "output_type": "stream",
     "text": [
      "Arco del lado C: 0.9956400353333785 rad\n"
     ]
    }
   ],
   "source": [
    "print('Arco del lado C:', c)"
   ]
  },
  {
   "cell_type": "code",
   "execution_count": 6,
   "metadata": {},
   "outputs": [],
   "source": [
    "dist = rad * c.value"
   ]
  },
  {
   "cell_type": "code",
   "execution_count": 7,
   "metadata": {},
   "outputs": [
    {
     "name": "stdout",
     "output_type": "stream",
     "text": [
      "Distance: 6701.653077828971 km\n"
     ]
    }
   ],
   "source": [
    "print('Distance:', dist)"
   ]
  },
  {
   "cell_type": "markdown",
   "metadata": {},
   "source": [
    "Si estuviéramos calculando la distancia en línea recta, podríamos calcular las coordendas cartesianas.\n",
    "\n",
    "$$\n",
    "z = \\sin \\phi \\\\\n",
    "y = \\cos \\phi \\sin l \\\\\n",
    "x = \\cos \\phi \\cos l \\\\\n",
    "$$\n",
    "\n",
    "\n"
   ]
  },
  {
   "cell_type": "code",
   "execution_count": 8,
   "metadata": {},
   "outputs": [],
   "source": [
    "coorB = (np.cos(latB) * np.cos(lonB), np.cos(latB) * np.sin(lonB), np.sin(latB))\n",
    "coorC = (np.cos(latC) * np.cos(lonC), np.cos(latC) * np.sin(lonC), np.sin(latC))"
   ]
  },
  {
   "cell_type": "code",
   "execution_count": 9,
   "metadata": {},
   "outputs": [
    {
     "name": "stdout",
     "output_type": "stream",
     "text": [
      "Cartesians B: (<Quantity 0.44573128>, <Quantity 0.34347967>, <Quantity 0.82664704>)\n",
      "Cartesians C: (<Quantity 0.80034952>, <Quantity 0.59911323>, <Quantity -0.02244984>)\n"
     ]
    }
   ],
   "source": [
    "print('Cartesians B:', coorB)\n",
    "print('Cartesians C:', coorC)"
   ]
  },
  {
   "cell_type": "code",
   "execution_count": 10,
   "metadata": {},
   "outputs": [
    {
     "name": "stdout",
     "output_type": "stream",
     "text": [
      "Difference: [-0.35461823 -0.25563355  0.84909688]\n"
     ]
    }
   ],
   "source": [
    "coor_diff = np.subtract(coorB, coorC)\n",
    "print('Difference:', coor_diff)"
   ]
  },
  {
   "cell_type": "code",
   "execution_count": 11,
   "metadata": {},
   "outputs": [
    {
     "name": "stdout",
     "output_type": "stream",
     "text": [
      "Distance: 6428.256938142787 km\n"
     ]
    }
   ],
   "source": [
    "print('Distance:', rad * np.sqrt(coor_diff @ coor_diff))"
   ]
  },
  {
   "cell_type": "code",
   "execution_count": null,
   "metadata": {},
   "outputs": [],
   "source": []
  }
 ],
 "metadata": {
  "kernelspec": {
   "display_name": "Python 3",
   "language": "python",
   "name": "python3"
  },
  "language_info": {
   "codemirror_mode": {
    "name": "ipython",
    "version": 3
   },
   "file_extension": ".py",
   "mimetype": "text/x-python",
   "name": "python",
   "nbconvert_exporter": "python",
   "pygments_lexer": "ipython3",
   "version": "3.7.9"
  }
 },
 "nbformat": 4,
 "nbformat_minor": 2
}
