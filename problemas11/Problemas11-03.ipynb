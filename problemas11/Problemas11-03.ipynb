{
 "cells": [
  {
   "cell_type": "markdown",
   "metadata": {},
   "source": [
    "# Problema 3\n",
    "Calcular los valores del acimut de la estrella Proción (declinación 5°N) cuando su distancia\n",
    "cenital es de 80° para un observador de latitud 57° N.\n",
    "\n",
    "## Planteamiento\n",
    "En este cambio de coordenadas, no conocemos las dos coordenadas horarias ($\\delta$, H), sino solamente una de ellas. Sí que conocemos la distancia cenital (altura).\n",
    "\n",
    "\n",
    "$\n",
    "\\sin a = \\sin \\phi \\sin \\delta  + \\cos \\phi \\cos \\delta \\cos H  \\\\\n",
    "\\cos a \\sin A = \\cos \\delta \\sin H \\\\\n",
    "\\cos a \\cos A = -\\cos \\phi \\sin \\delta + \\sin \\phi \\cos \\delta \\cos H\n",
    "$\n",
    "\n",
    "De la primera ecuación despejamos $\\cos H$.\n",
    "\n",
    "$\n",
    "\\cos H  = \\frac{(\\sin a - \\sin \\phi \\sin \\delta )}{\\cos \\phi \\cos \\delta}\n",
    "$\n",
    "\n",
    "Y utilizamos el valor de H para obtener A"
   ]
  },
  {
   "cell_type": "code",
   "execution_count": 1,
   "metadata": {},
   "outputs": [],
   "source": [
    "from astropy.coordinates import Angle\n",
    "import astropy.units as u\n",
    "import numpy as np\n",
    "import matplotlib.pyplot as plt"
   ]
  },
  {
   "cell_type": "code",
   "execution_count": 2,
   "metadata": {},
   "outputs": [],
   "source": [
    "dec = Angle(5, unit='deg')\n",
    "lat = Angle(57, unit='deg')\n",
    "z = Angle(80, unit='deg')"
   ]
  },
  {
   "cell_type": "code",
   "execution_count": 3,
   "metadata": {},
   "outputs": [],
   "source": [
    "a = Angle(90, unit='deg') - z"
   ]
  },
  {
   "cell_type": "code",
   "execution_count": 4,
   "metadata": {},
   "outputs": [],
   "source": [
    "cos_H = (np.sin(a) - np.sin(lat) * np.sin(dec)) / (np.cos(lat) * np.cos(dec))"
   ]
  },
  {
   "cell_type": "code",
   "execution_count": 5,
   "metadata": {},
   "outputs": [
    {
     "name": "stdout",
     "output_type": "stream",
     "text": [
      "0.1853288359407779\n"
     ]
    }
   ],
   "source": [
    "print(cos_H)"
   ]
  },
  {
   "cell_type": "code",
   "execution_count": 6,
   "metadata": {},
   "outputs": [],
   "source": [
    "# Dado el coseno de H hay dos valores posibles:\n",
    "H1 = np.arccos(cos_H)\n",
    "H2 = -H1"
   ]
  },
  {
   "cell_type": "code",
   "execution_count": 7,
   "metadata": {},
   "outputs": [],
   "source": [
    "cos_a = np.cos(a)"
   ]
  },
  {
   "cell_type": "code",
   "execution_count": 8,
   "metadata": {},
   "outputs": [],
   "source": [
    "sin_A1 = (np.cos(dec) * np.sin(H1)) / cos_a\n",
    "cos_A1 = (-np.cos(lat) * np.sin(dec) + np.sin(lat) * np.cos(dec) * np.cos(H1)) / cos_a"
   ]
  },
  {
   "cell_type": "code",
   "execution_count": 9,
   "metadata": {},
   "outputs": [],
   "source": [
    "A1 = Angle(np.arctan2(sin_A1, cos_A1))"
   ]
  },
  {
   "cell_type": "code",
   "execution_count": 10,
   "metadata": {},
   "outputs": [],
   "source": [
    "sin_A2 = (np.cos(dec) * np.sin(H2)) / cos_a\n",
    "cos_A2 = (-np.cos(lat) * np.sin(dec) + np.sin(lat) * np.cos(dec) * np.cos(H2)) / cos_a"
   ]
  },
  {
   "cell_type": "code",
   "execution_count": 11,
   "metadata": {},
   "outputs": [],
   "source": [
    "# Sumamos 360 para que el ángulo sea positivo\n",
    "A2 = Angle(np.arctan2(sin_A2, cos_A2))+ Angle(360, unit='degree')"
   ]
  },
  {
   "cell_type": "code",
   "execution_count": 12,
   "metadata": {},
   "outputs": [
    {
     "name": "stdout",
     "output_type": "stream",
     "text": [
      "83d44m26.9156s\n"
     ]
    }
   ],
   "source": [
    "print(A1.to_string(unit='degree'))"
   ]
  },
  {
   "cell_type": "code",
   "execution_count": 13,
   "metadata": {},
   "outputs": [
    {
     "name": "stdout",
     "output_type": "stream",
     "text": [
      "276d15m33.0844s\n"
     ]
    }
   ],
   "source": [
    "print(A2.to_string(unit='degree'))"
   ]
  },
  {
   "cell_type": "code",
   "execution_count": 14,
   "metadata": {},
   "outputs": [
    {
     "name": "stdout",
     "output_type": "stream",
     "text": [
      "360d00m00s\n"
     ]
    }
   ],
   "source": [
    "# Ambos ángulos suman 360\n",
    "print((A1+A2).to_string(unit='degree'))"
   ]
  },
  {
   "cell_type": "code",
   "execution_count": null,
   "metadata": {},
   "outputs": [],
   "source": []
  }
 ],
 "metadata": {
  "kernelspec": {
   "display_name": "Python 3",
   "language": "python",
   "name": "python3"
  },
  "language_info": {
   "codemirror_mode": {
    "name": "ipython",
    "version": 3
   },
   "file_extension": ".py",
   "mimetype": "text/x-python",
   "name": "python",
   "nbconvert_exporter": "python",
   "pygments_lexer": "ipython3",
   "version": "3.7.9"
  }
 },
 "nbformat": 4,
 "nbformat_minor": 2
}
