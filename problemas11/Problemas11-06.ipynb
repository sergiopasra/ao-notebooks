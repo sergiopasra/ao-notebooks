{
 "cells": [
  {
   "cell_type": "markdown",
   "metadata": {},
   "source": [
    "# Problema 6\n",
    "Se realiza una observación el 4 de abril de 2000, 10h25m30s TU. El observador está en\n",
    "longitud 43°11′47′′O. Para ese día, a 0 TU, el valor del tiempo sidéreo local en el meridiano\n",
    "de referencia es 12h50m27s. Calcular el tiempo sidéreo local de la observación.\n",
    "\n",
    "## Planteamiento\n",
    "\n",
    "Aunque para largos plazos de tiempo la relación entre tiempo sidéreo y tiempo universal es irregular, para periodos cortos, como un día, podemos supener que la relación es lineal.\n",
    "\n",
    "Por otro lado, podemos relacionar el TSL a un certo tiempo T con el TS en el meridiano de referencia en ese mismo tiempo mediante la longitud geográfica:\n",
    "\n",
    "$ \\mathrm{TSL}(T) = \\mathrm{TSR}(T) + \\mathrm{L}$\n",
    "\n",
    "$ \\mathrm{TSR}(T) = \\mathrm{TSR}(\\mathrm{0h TU}) + 360º / \\mathrm{23h56m04s} \\, T$"
   ]
  },
  {
   "cell_type": "markdown",
   "metadata": {},
   "source": [
    "TSR(0h TU) = 12h50m27s\n",
    "\n",
    "TSR(10h25m30s TU) = ??\n",
    "\n",
    "TSL(10h25m30s TU) = TSR(10h25m30s TU) + LON\n",
    "\n",
    "Sabemos que 24h de tiempo sidéreo corresponden a 23h56m04s de tiempo SI. "
   ]
  },
  {
   "cell_type": "code",
   "execution_count": 1,
   "metadata": {},
   "outputs": [],
   "source": [
    "from astropy.coordinates import Angle\n",
    "import astropy.units as u\n",
    "import numpy as np\n",
    "import matplotlib.pyplot as plt"
   ]
  },
  {
   "cell_type": "code",
   "execution_count": 2,
   "metadata": {},
   "outputs": [],
   "source": [
    "TS_re_0tu = Angle(\"12h50m27s\")\n",
    "lon = Angle(\"-43d11m47s\")\n",
    "time_tu = (10 + (25 + 30.0 / 60) / 60) * u.hour"
   ]
  },
  {
   "cell_type": "code",
   "execution_count": 3,
   "metadata": {},
   "outputs": [],
   "source": [
    "# escala entre tiempo sidéreo yb tiempo universal\n",
    "dia_sid = (23 + (56 + 4.0 / 60) / 60) * u.hour\n",
    "tsid_tu = Angle(\"24h\") / dia_sid"
   ]
  },
  {
   "cell_type": "code",
   "execution_count": 4,
   "metadata": {},
   "outputs": [],
   "source": [
    "# TSR(10h25m30s TU) = TSR(0h TU) + tsid_tu * 10h25m30s \n",
    "TS_re_tu = TS_re_0tu + tsid_tu * time_tu"
   ]
  },
  {
   "cell_type": "code",
   "execution_count": 5,
   "metadata": {},
   "outputs": [
    {
     "name": "stdout",
     "output_type": "stream",
     "text": [
      "TSR(10h25m30s TU)= 23h17m39.7933s\n"
     ]
    }
   ],
   "source": [
    "print(\"TSR(10h25m30s TU)=\", TS_re_tu)"
   ]
  },
  {
   "cell_type": "code",
   "execution_count": 6,
   "metadata": {},
   "outputs": [],
   "source": [
    "TSL_tu = TS_re_tu + lon"
   ]
  },
  {
   "cell_type": "code",
   "execution_count": 7,
   "metadata": {},
   "outputs": [
    {
     "name": "stdout",
     "output_type": "stream",
     "text": [
      "TSL(10h25m30s TU) 20h24m52.6599s\n"
     ]
    }
   ],
   "source": [
    "print(\"TSL(10h25m30s TU)\", TSL_tu)"
   ]
  },
  {
   "cell_type": "code",
   "execution_count": null,
   "metadata": {},
   "outputs": [],
   "source": []
  }
 ],
 "metadata": {
  "kernelspec": {
   "display_name": "Python 3",
   "language": "python",
   "name": "python3"
  },
  "language_info": {
   "codemirror_mode": {
    "name": "ipython",
    "version": 3
   },
   "file_extension": ".py",
   "mimetype": "text/x-python",
   "name": "python",
   "nbconvert_exporter": "python",
   "pygments_lexer": "ipython3",
   "version": "3.7.9"
  }
 },
 "nbformat": 4,
 "nbformat_minor": 2
}
