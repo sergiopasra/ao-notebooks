{
 "cells": [
  {
   "cell_type": "markdown",
   "metadata": {},
   "source": [
    "# Problema 6\n",
    "Se realiza una observación el 4 de abril de 2000, 10h25m30s TU. El observador está en\n",
    "longitud 43°11′47′′O. Para ese día, a 0 TU, el valor del tiempo sidéreo local en el meridiano\n",
    "de referencia es 12h50m27s. Calcular el tiempo sidéreo local de la observación.\n",
    "\n",
    "## Planteamiento\n",
    "\n",
    "Aunque para largos plazos de tiempo la relación entre tiempo sidéreo y tiempo universal es irregular, para periodos cortos, como un día, podemos supener que la relación es lineal.\n",
    "\n",
    "Por otro lado, podemos relacionar el TSL a un cierto tiempo *t* con el GMST en el meridiano de referencia en ese mismo tiempo mediante la longitud geográfica:\n",
    "\n",
    "$ \\mathrm{TSL}(t) = \\mathrm{GMST}(t) + \\lambda$\n",
    "\n",
    "$ \\mathrm{GMST}(t) = \\mathrm{GMST}(\\mathrm{0h TU}) + 1.0027379091 \\,(t - \\mathrm{0h TU})$"
   ]
  },
  {
   "cell_type": "markdown",
   "metadata": {},
   "source": [
    "Sabemos que:\n",
    "\n",
    "$\\mathrm{GMST}(\\mathrm{0h TU}) = \\mathrm{12h50m27s} $\n",
    "\n",
    "Necesitamos saber:\n",
    "\n",
    "$\\mathrm{GMST}(\\mathrm{10h25m30s TU})$\n",
    "\n",
    "Para calcular:\n",
    "\n",
    "$\\mathrm{TSL}(\\mathrm{10h25m30s TU}) = \\mathrm{GMST}(\\mathrm{10h25m30s TU}) + \\lambda $\n"
   ]
  },
  {
   "cell_type": "code",
   "execution_count": 9,
   "metadata": {},
   "outputs": [],
   "source": [
    "from astropy.coordinates import Angle\n",
    "import astropy.units as u\n",
    "import numpy as np\n",
    "import matplotlib.pyplot as plt"
   ]
  },
  {
   "cell_type": "code",
   "execution_count": 10,
   "metadata": {},
   "outputs": [],
   "source": [
    "gmst_0tu = Angle(\"12h50m27s\")\n",
    "lon = Angle(\"-43d11m47s\")\n",
    "time_tu = (10 + (25 + 30.0 / 60) / 60) * u.hour"
   ]
  },
  {
   "cell_type": "code",
   "execution_count": 11,
   "metadata": {},
   "outputs": [],
   "source": [
    "# escala entre tiempo sidéreo y tiempo universal\n",
    "# las unidades son horas (angulares) entre hora de tiempo\n",
    "tsid_tu = 1.0027379091 * u.hourangle / u.hour"
   ]
  },
  {
   "cell_type": "code",
   "execution_count": 12,
   "metadata": {},
   "outputs": [],
   "source": [
    "# GMST(10h25m30s TU) = GMST(0h TU) + tsid_tu * 10h25m30s \n",
    "gmst = gmst_0tu + tsid_tu * time_tu"
   ]
  },
  {
   "cell_type": "code",
   "execution_count": 13,
   "metadata": {},
   "outputs": [
    {
     "name": "stdout",
     "output_type": "stream",
     "text": [
      "GMST(10h25m30s TU)= 23h17m39.7537s\n"
     ]
    }
   ],
   "source": [
    "print(\"GMST(10h25m30s TU)=\", gmst)"
   ]
  },
  {
   "cell_type": "code",
   "execution_count": 14,
   "metadata": {},
   "outputs": [],
   "source": [
    "TSL_tu = gmst + lon"
   ]
  },
  {
   "cell_type": "code",
   "execution_count": 15,
   "metadata": {},
   "outputs": [
    {
     "name": "stdout",
     "output_type": "stream",
     "text": [
      "TSL(10h25m30s TU)= 20h24m52.6204s\n"
     ]
    }
   ],
   "source": [
    "print(\"TSL(10h25m30s TU)=\", TSL_tu)"
   ]
  },
  {
   "cell_type": "code",
   "execution_count": null,
   "metadata": {},
   "outputs": [],
   "source": []
  }
 ],
 "metadata": {
  "kernelspec": {
   "display_name": "Python 3",
   "language": "python",
   "name": "python3"
  },
  "language_info": {
   "codemirror_mode": {
    "name": "ipython",
    "version": 3
   },
   "file_extension": ".py",
   "mimetype": "text/x-python",
   "name": "python",
   "nbconvert_exporter": "python",
   "pygments_lexer": "ipython3",
   "version": "3.8.6"
  }
 },
 "nbformat": 4,
 "nbformat_minor": 2
}
