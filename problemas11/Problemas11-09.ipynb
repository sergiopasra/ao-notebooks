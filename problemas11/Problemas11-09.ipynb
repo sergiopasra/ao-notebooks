{
 "cells": [
  {
   "cell_type": "markdown",
   "metadata": {},
   "source": [
    "# Problemas astronomía de posición, coordenadas\n",
    "\n",
    "## Problema 9\n",
    "\n",
    "¿Cuál será la mejor época del año para observar β Tau?\n",
    "\n",
    "Coordenadas ecuatoriales \n",
    "\n",
    "α = 05h25m37s.641 y \n",
    "δ = 28º35’ 57’’.36 \n",
    "\n",
    "en Manila con latitud φ = 14º 35’ 25’’ y longitud L = 120° 58′ 55′′ E.\n",
    "\n",
    "## Planteamiento\n",
    "\n",
    "Sabemos que la estrella culmina con TSL = α = 05h25m37s.641\n",
    "\n",
    "Por otro lado, el objeto se observará mejor cuanto más lejos se encuentre del Sol. El tiempo sidéreo correspondiente a media noche será 12h más que el correspondiente al medio día solar. El tiempo sidéreo del mediodía solar, por otro lado, cambia a lo largo del año. Em el meridiano de referencia, además, mediodía solar corresponde a 12h UT (aproximadamente). \n",
    "\n",
    "El tiempo sidereo del Sol en el meridiano de referencia será GST(12hUT), el de medianoche será GST(0hUT) y el de nuestro lugar de observación TSL(0hUT) = GST(0hUT) + lon. La longitud del lugar es 120º ~ 8h\n",
    "\n",
    "\n",
    "\n",
    "| Fecha         |  GST(12hUT)  | GST(0hUT) | TSL(0hUT) |\n",
    "|---------------|--------------|-----------|-----------|\n",
    "| 21 marzo      |  0h          | 12h       |  20h      |\n",
    "| 21 junio      |  6h          | 18h       |   2h      |\n",
    "| 21 septiembre |  12h         |  0h       |   8h      |\n",
    "| 21 diciembre  |  18h         |  6h       |  14h      |\n",
    "\n",
    "Para calcular medianoche local, necesitamos tener en cuenta la zona horaria de Filipines, UT+8, luego la longitd y la diferencia horaria se cancelan aproximadamente\n",
    "\n",
    "| Fecha         |  GST(12hUT)  | GST(0hUT) | TSL(0hUT) | TSL(0h) |\n",
    "|---------------|--------------|-----------|-----------|---------|\n",
    "| 21 marzo      |  0h          | 12h       |  20h      |   12h   |\n",
    "| 21 junio      |  6h          | 18h       |   2h      |   18h   |\n",
    "| 21 septiembre |  12h         |  0h       |   8h      |    0h   |\n",
    "| 21 diciembre  |  18h         |  6h       |  14h      |    6h   |\n",
    "\n",
    "\n",
    "Luego, aproximadamente, la mejor fecha es cerca del solsticio de invierno.\n"
   ]
  },
  {
   "cell_type": "code",
   "execution_count": null,
   "metadata": {},
   "outputs": [],
   "source": []
  }
 ],
 "metadata": {
  "kernelspec": {
   "display_name": "Python 3",
   "language": "python",
   "name": "python3"
  },
  "language_info": {
   "codemirror_mode": {
    "name": "ipython",
    "version": 3
   },
   "file_extension": ".py",
   "mimetype": "text/x-python",
   "name": "python",
   "nbconvert_exporter": "python",
   "pygments_lexer": "ipython3",
   "version": "3.7.9"
  }
 },
 "nbformat": 4,
 "nbformat_minor": 2
}
