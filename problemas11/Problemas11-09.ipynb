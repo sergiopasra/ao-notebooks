{
 "cells": [
  {
   "cell_type": "markdown",
   "metadata": {},
   "source": [
    "# Problemas astronomía de posición, coordenadas\n",
    "\n",
    "## Problema 9\n",
    "\n",
    "¿Cuál será la mejor época del año para observar β Tau?\n",
    "\n",
    "Coordenadas ecuatoriales \n",
    "\n",
    "α = 05h25m37s.641 y \n",
    "δ = 28º35’ 57’’.36 \n",
    "\n",
    "en Manila con latitud φ = 14º 35’ 25’’ y longitud $\\lambda$ = 120° 58′ 55′′ E.\n",
    "\n",
    "## Planteamiento\n",
    "\n",
    "La situación óptima para observar un objeto es cuando se encuentra a la mayor altura posible, esto es, cerca de su culminación. Además, queremos que se sea visible durante la noche el mayor tiempo posible. Para conseguir los dos objetivos, la mejor situación es cuando el objeto culmina a la mitad de la noche.\n",
    "\n",
    "La mitad de la noche se produce cuando el Sol está en su altura mínima por debajo del horizonte, es decir, en su culminación inferior. En ese momento, $H_{\\star} = 0^h$ y $H_{\\odot} = 12^h$. Utilizamos la relación con el tiempo sidéreo y obtenemos una relación entre la ascensión recta del Sol y la del objeto para esta situación óptima.\n",
    "\n",
    "$\\alpha_{\\star} = \\alpha_{\\odot} + 12^h$\n",
    "\n",
    "\n",
    "La ascensión recta del Sol varía a lo largo del año (de manera no uniforme). Podemos obtener fácilmente la coordenada para los equinoccios y solsticios.\n",
    "\n",
    "\n",
    "\n",
    "| Fecha         |$\\alpha_{\\odot}$| $\\alpha_{\\star}$|\n",
    "|---------------|----------------|-----------------|\n",
    "| 21 marzo      |  0h            | 12h             |\n",
    "| 21 junio      |  6h            | 18h             |\n",
    "| 21 septiembre |  12h           |  0h             |\n",
    "| 21 diciembre  |  18h           |  6h             |\n",
    "\n",
    "Esta tabla nos indica que la región del cielo que se observa durante la noche varía a lo largo del año.\n",
    "En verano, por ejemplo, veremos (a mitad de la noche) objetos cuyas ascensiones rectas están entre 18h y 24h.\n",
    "Las constelaciones que cumplen estas condiciones se suelen denominar **constelaciones de verano**; lo mismo se aplica al resto de estaciones.\n",
    "\n",
    "Estos rangos aproximados son válidos para toda la Tierra, independientemente del hemisferio.\n",
    "\n",
    "Dada la ascensión recta del objeto, la época mejor de observación será unas semanas antes del solsticio de invierno.\n",
    "\n",
    "<div>\n",
    "<br />\n",
    "    <img src=\"img/highest.png\" width=\"800\"/>\n",
    "</div>"
   ]
  },
  {
   "cell_type": "code",
   "execution_count": null,
   "metadata": {},
   "outputs": [],
   "source": []
  }
 ],
 "metadata": {
  "kernelspec": {
   "display_name": "Python 3",
   "language": "python",
   "name": "python3"
  },
  "language_info": {
   "codemirror_mode": {
    "name": "ipython",
    "version": 3
   },
   "file_extension": ".py",
   "mimetype": "text/x-python",
   "name": "python",
   "nbconvert_exporter": "python",
   "pygments_lexer": "ipython3",
   "version": "3.8.6"
  }
 },
 "nbformat": 4,
 "nbformat_minor": 2
}
