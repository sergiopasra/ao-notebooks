{
 "cells": [
  {
   "cell_type": "markdown",
   "metadata": {},
   "source": [
    "# Problemas astronomía de posición, coordenadas\n",
    "\n",
    "## Problema 8\n",
    "\n",
    "Analizar el movimiento diurno de la estrella β Tau.\n",
    "\n",
    "Coordenadas ecuatoriales \n",
    "\n",
    "**α = 05h25m37s.641** y \n",
    "**δ = 28º35’ 57’’.36** \n",
    "\n",
    "en Manila con latitud **φ = 14°35’ 25’’** y longitud **L = 120° 58′ 55′′ E**.\n",
    "\n",
    "## Planteamiento\n",
    "\n",
    "En primer lugar hay que verificar si la estrella tiene ortos y ocasos, es circumpolar o no visible. Las alturas máxima y mínima son:\n",
    "\n",
    "$ a_M = 90 - | \\delta - \\phi| $\n",
    "\n",
    "$ a_m = -90 + | \\delta + \\phi| $\n"
   ]
  },
  {
   "cell_type": "code",
   "execution_count": 1,
   "metadata": {},
   "outputs": [],
   "source": [
    "from astropy.coordinates import Angle\n",
    "import astropy.units as u\n",
    "import numpy as np\n",
    "import matplotlib.pyplot as plt"
   ]
  },
  {
   "cell_type": "code",
   "execution_count": 3,
   "metadata": {},
   "outputs": [],
   "source": [
    "dec = Angle(\"28d35m57.36s\")\n",
    "ra = Angle(\"5h25m37.641s\")\n",
    "lat = Angle(\"14d35m25s\")\n",
    "lon = Angle(\"120d58m55s\")"
   ]
  },
  {
   "cell_type": "code",
   "execution_count": 7,
   "metadata": {},
   "outputs": [
    {
     "name": "stdout",
     "output_type": "stream",
     "text": [
      "Altura máxima: 75d59m27.64s\n",
      "Altura mínima: -46d48m37.64s\n"
     ]
    }
   ],
   "source": [
    "a_M = Angle(90, unit='deg') - abs(dec - lat)\n",
    "a_m = -Angle(90, unit='deg') + abs(dec + lat)\n",
    "print('Altura máxima:', a_M)\n",
    "print('Altura mínima:', a_m)"
   ]
  },
  {
   "cell_type": "markdown",
   "metadata": {},
   "source": [
    "Dado que la altura mínima es < 0 y la máxima es >0, tendremos orto y ocaso"
   ]
  },
  {
   "cell_type": "markdown",
   "metadata": {},
   "source": [
    "## Cálculo del orto y el ocaso\n",
    "\n",
    "\n",
    "En el momento del orto y el ocaso, tenemos:\n",
    "\n",
    "$\n",
    "\\cos H_o  = -\\tan \\phi \\tan \\delta\n",
    "$ \n",
    "\n",
    "$\n",
    "\\cos A_o = -\\sin \\delta / \\cos \\phi\n",
    "$\n",
    "\n",
    "Los valores obtenidos serán para el orto o el ocaso, dependiendo de sus posiciones.\n",
    "\n",
    "Nótese que el coseno tiene el mismo signo en el primer y cuarto cuadrante (positivo) y en el segundo y tercero (negativo). Los signos indican que el orto y el ocaso pueden producirse en el primer y cuarto cuadrante o bien en el segundo y tercero. "
   ]
  },
  {
   "cell_type": "code",
   "execution_count": 9,
   "metadata": {},
   "outputs": [],
   "source": [
    "cos_H = -np.tan(lat) * np.tan(dec)\n",
    "cos_A = - np.sin(dec) / np.cos(lat)"
   ]
  },
  {
   "cell_type": "code",
   "execution_count": 11,
   "metadata": {},
   "outputs": [
    {
     "name": "stdout",
     "output_type": "stream",
     "text": [
      "-0.49463153339006466\n"
     ]
    }
   ],
   "source": [
    "# Para el acimut\n",
    "print(cos_A)"
   ]
  },
  {
   "cell_type": "code",
   "execution_count": 19,
   "metadata": {},
   "outputs": [
    {
     "name": "stdout",
     "output_type": "stream",
     "text": [
      "Acimut ocaso: 119d38m43.6422s\n",
      "Acimut orto: 240d21m16.3578s\n"
     ]
    }
   ],
   "source": [
    "# Dada la orientación SWNE el acimut\n",
    "A_1 = Angle(np.arccos(cos_A), unit='rad')\n",
    "A_2 = Angle(360, unit=u.degree) - A_1\n",
    "\n",
    "print('Acimut ocaso:', A_1.to_string(unit=u.degree))\n",
    "print('Acimut orto:', A_2.to_string(unit=u.degree))"
   ]
  },
  {
   "cell_type": "code",
   "execution_count": 21,
   "metadata": {},
   "outputs": [
    {
     "name": "stdout",
     "output_type": "stream",
     "text": [
      "-0.14191546324959042\n"
     ]
    }
   ],
   "source": [
    "# Para el ángulo horario\n",
    "print(cos_H)"
   ]
  },
  {
   "cell_type": "code",
   "execution_count": 24,
   "metadata": {},
   "outputs": [
    {
     "name": "stdout",
     "output_type": "stream",
     "text": [
      "Ángulo horario ocaso: 6h32m38.0883s\n",
      "Ángulo horario orto: 17h27m21.9117s\n"
     ]
    }
   ],
   "source": [
    "H_1 = Angle(np.arccos(cos_H))\n",
    "H_2 = Angle(360, unit=u.degree) - H_1\n",
    "\n",
    "print('Ángulo horario ocaso:', H_1.to_string(unit=u.hour))\n",
    "print('Ángulo horario orto:', H_2.to_string(unit=u.hour))"
   ]
  },
  {
   "cell_type": "code",
   "execution_count": 26,
   "metadata": {},
   "outputs": [
    {
     "name": "stdout",
     "output_type": "stream",
     "text": [
      "TSL ocaso: 11h58m15.7293s\n",
      "TSL orto: 22h52m59.5527s\n"
     ]
    }
   ],
   "source": [
    "# Tiempo sidéreo del orto y ocaso\n",
    "TSL_1 = ra + H_1\n",
    "TSL_2 = ra + H_2\n",
    "\n",
    "print('TSL ocaso:', TSL_1.to_string(unit=u.hour))\n",
    "print('TSL orto:', TSL_2.to_string(unit=u.hour))"
   ]
  },
  {
   "cell_type": "markdown",
   "metadata": {},
   "source": [
    "## Tiempo entre orto y ocaso\n",
    "\n",
    "Se puede calcular de manera aproximada (con precisión de minutos) el tiempo que es visible un objeto como la diferencia entre el TSL de su ocaso y su orto, convirtiendo la escala de tiempo sidéro a tiempo SI.\n",
    "\n",
    "Sabemos que 24h de tiempo sidéreo corresponden a 23h56m04s de tiempo SI. "
   ]
  },
  {
   "cell_type": "code",
   "execution_count": 31,
   "metadata": {},
   "outputs": [
    {
     "name": "stdout",
     "output_type": "stream",
     "text": [
      "Escala: 0.9972685185185185\n"
     ]
    }
   ],
   "source": [
    "# Convertimos tiempo sidéreo a tiempo en SI\n",
    "tsid_tsol = Angle(\"23h56m04s\") / Angle(\"24h\")\n",
    "print('Escala:', tsid_tsol)"
   ]
  },
  {
   "cell_type": "markdown",
   "metadata": {},
   "source": [
    "Podemos utilizar el ángulo horario en lugar del tiempo sidéreo:\n",
    "\n",
    "$\\mathrm{TSL_1} - \\mathrm{TSL_2} = H_1 - H_2$\n",
    "\n",
    "Además, dada la periodicidad del coseno, \n",
    "\n",
    "$H_2 = -H_1$\n",
    "\n",
    "luego \n",
    "\n",
    "$\\mathrm{TSL_1} - \\mathrm{TSL_2} = 2 H_1 $"
   ]
  },
  {
   "cell_type": "code",
   "execution_count": 32,
   "metadata": {},
   "outputs": [],
   "source": [
    "delta_tsl = 2 * H_1"
   ]
  },
  {
   "cell_type": "code",
   "execution_count": 38,
   "metadata": {},
   "outputs": [],
   "source": [
    "delta_T = delta_tsl.hour * tsid_tsol"
   ]
  },
  {
   "cell_type": "code",
   "execution_count": 39,
   "metadata": {},
   "outputs": [
    {
     "name": "stdout",
     "output_type": "stream",
     "text": [
      "Tiempo (horas) del objeto sobre el horizonte: 13.05207764910627\n"
     ]
    }
   ],
   "source": [
    "print('Tiempo (horas) del objeto sobre el horizonte:', delta_T)"
   ]
  },
  {
   "cell_type": "code",
   "execution_count": null,
   "metadata": {},
   "outputs": [],
   "source": []
  }
 ],
 "metadata": {
  "kernelspec": {
   "display_name": "Python 3",
   "language": "python",
   "name": "python3"
  },
  "language_info": {
   "codemirror_mode": {
    "name": "ipython",
    "version": 3
   },
   "file_extension": ".py",
   "mimetype": "text/x-python",
   "name": "python",
   "nbconvert_exporter": "python",
   "pygments_lexer": "ipython3",
   "version": "3.7.9"
  }
 },
 "nbformat": 4,
 "nbformat_minor": 2
}
