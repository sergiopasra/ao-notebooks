{
 "cells": [
  {
   "cell_type": "markdown",
   "metadata": {},
   "source": [
    "# Problemas astronomía de posición, coordenadas\n",
    "\n",
    "## Problema 8\n",
    "\n",
    "Analizar el movimiento diurno de la estrella β Tau.\n",
    "\n",
    "Coordenadas ecuatoriales \n",
    "\n",
    "**α = 05h25m37s.641** y \n",
    "**δ = 28º35’ 57’’.36** \n",
    "\n",
    "en Manila con latitud **φ = 14°35’ 25’’** y longitud **λ = 120° 58′ 55′′ E**.\n",
    "\n",
    "## Planteamiento\n",
    "\n",
    "En primer lugar hay que verificar si la estrella tiene ortos y ocasos, es circumpolar o no visible. Las alturas máxima y mínima son:\n",
    "\n",
    "$ a_M = 90 - | \\delta - \\phi| $\n",
    "\n",
    "$ a_m = -90 + | \\delta + \\phi| $\n"
   ]
  },
  {
   "cell_type": "code",
   "execution_count": 1,
   "metadata": {},
   "outputs": [],
   "source": [
    "from astropy.coordinates import Angle\n",
    "import astropy.units as u\n",
    "import numpy as np\n",
    "import matplotlib.pyplot as plt"
   ]
  },
  {
   "cell_type": "code",
   "execution_count": 2,
   "metadata": {},
   "outputs": [],
   "source": [
    "dec = Angle(\"28d35m57.36s\")\n",
    "ra = Angle(\"5h25m37.641s\")\n",
    "lat = Angle(\"14d35m25s\")\n",
    "lon = Angle(\"120d58m55s\")"
   ]
  },
  {
   "cell_type": "code",
   "execution_count": 7,
   "metadata": {},
   "outputs": [
    {
     "name": "stdout",
     "output_type": "stream",
     "text": [
      "Altura máxima: 75d59m27.64s\n",
      "Altura mínima: -46d48m37.64s\n"
     ]
    }
   ],
   "source": [
    "a_M = Angle(90, unit='deg') - abs(dec - lat)\n",
    "a_m = -Angle(90, unit='deg') + abs(dec + lat)\n",
    "print('Altura máxima:', a_M)\n",
    "print('Altura mínima:', a_m)"
   ]
  },
  {
   "cell_type": "markdown",
   "metadata": {},
   "source": [
    "Dado que la altura mínima es < 0 y la máxima es >0, tendremos orto y ocaso"
   ]
  },
  {
   "cell_type": "markdown",
   "metadata": {},
   "source": [
    "## Cálculo del orto y el ocaso\n",
    "\n",
    "\n",
    "En el momento del orto y el ocaso, tenemos:\n",
    "\n",
    "$\n",
    "\\cos H_o  = -\\tan \\phi \\tan \\delta\n",
    "$ \n",
    "\n",
    "$\n",
    "\\cos A_o = -\\sin \\delta / \\cos \\phi\n",
    "$\n",
    "\n",
    "Los valores obtenidos serán para el orto o el ocaso, dependiendo de sus posiciones.\n",
    "\n",
    "Nótese que el coseno tiene el mismo signo en el primer y cuarto cuadrante (positivo) y en el segundo y tercero (negativo). Los signos indican que el orto y el ocaso pueden producirse en el primer y cuarto cuadrante o bien en el segundo y tercero. "
   ]
  },
  {
   "cell_type": "code",
   "execution_count": 3,
   "metadata": {},
   "outputs": [],
   "source": [
    "# Calculamos H y A\n",
    "cos_H = -np.tan(lat) * np.tan(dec)\n",
    "cos_A = - np.sin(dec) / np.cos(lat)"
   ]
  },
  {
   "cell_type": "code",
   "execution_count": 7,
   "metadata": {},
   "outputs": [
    {
     "name": "stdout",
     "output_type": "stream",
     "text": [
      "cos(A)= -0.49463153339006466\n",
      "El coseno es negativo en el segundo y tercer cuadrantes\n"
     ]
    }
   ],
   "source": [
    "# Para el acimut\n",
    "print('cos(A)=', cos_A)\n",
    "print(\"El coseno es negativo en el segundo y tercer cuadrantes\")"
   ]
  },
  {
   "cell_type": "code",
   "execution_count": 8,
   "metadata": {},
   "outputs": [
    {
     "name": "stdout",
     "output_type": "stream",
     "text": [
      "Acimut ocaso: 119d38m43.6422s\n",
      "Acimut orto: 240d21m16.3578s\n"
     ]
    }
   ],
   "source": [
    "# Dada la orientación SWNE el acimut\n",
    "A_1 = Angle(np.arccos(cos_A), unit='rad')\n",
    "A_2 = Angle(360, unit=u.degree) - A_1\n",
    "\n",
    "print('Acimut ocaso:', A_1.to_string(unit=u.degree))\n",
    "print('Acimut orto:', A_2.to_string(unit=u.degree))"
   ]
  },
  {
   "cell_type": "code",
   "execution_count": 10,
   "metadata": {},
   "outputs": [
    {
     "name": "stdout",
     "output_type": "stream",
     "text": [
      "cos(H)= -0.14191546324959042\n",
      "El coseno es negativo en el segundo y tercer cuadrantes\n"
     ]
    }
   ],
   "source": [
    "# Para el ángulo horario\n",
    "print('cos(H)=', cos_H)\n",
    "print(\"El coseno es negativo en el segundo y tercer cuadrantes\")"
   ]
  },
  {
   "cell_type": "code",
   "execution_count": 11,
   "metadata": {},
   "outputs": [
    {
     "name": "stdout",
     "output_type": "stream",
     "text": [
      "Ángulo horario ocaso: 6h32m38.0883s\n",
      "Ángulo horario orto: 17h27m21.9117s\n"
     ]
    }
   ],
   "source": [
    "H_1 = Angle(np.arccos(cos_H))\n",
    "H_2 = Angle(360, unit=u.degree) - H_1\n",
    "\n",
    "print('Ángulo horario ocaso:', H_1.to_string(unit=u.hour))\n",
    "print('Ángulo horario orto:', H_2.to_string(unit=u.hour))"
   ]
  },
  {
   "cell_type": "markdown",
   "metadata": {},
   "source": [
    "En ambos casos, tanto los valores de acimut como de ángulo horario se pueden obtener como:\n",
    "\n",
    "$H_2 = 360 - H_1 $\n",
    "\n",
    "$A_2 = 360 - A_1 $"
   ]
  },
  {
   "cell_type": "code",
   "execution_count": 26,
   "metadata": {},
   "outputs": [
    {
     "name": "stdout",
     "output_type": "stream",
     "text": [
      "TSL ocaso: 11h58m15.7293s\n",
      "TSL orto: 22h52m59.5527s\n"
     ]
    }
   ],
   "source": [
    "# Tiempo sidéreo del orto y ocaso\n",
    "TSL_1 = ra + H_1\n",
    "TSL_2 = ra + H_2\n",
    "\n",
    "print('TSL ocaso:', TSL_1.to_string(unit=u.hour))\n",
    "print('TSL orto:', TSL_2.to_string(unit=u.hour))"
   ]
  },
  {
   "cell_type": "markdown",
   "metadata": {},
   "source": [
    "## Tiempo entre orto y ocaso\n",
    "\n",
    "Se puede calcular de manera aproximada (con precisión de minutos) el tiempo que es visible un objeto como la diferencia entre el TSL de su ocaso y su orto, convirtiendo la escala de tiempo sidéro a tiempo universal.\n",
    "\n",
    "$ \\Delta \\mathrm{TSL} = 1.0027379091 \\Delta t$\n"
   ]
  },
  {
   "cell_type": "code",
   "execution_count": 14,
   "metadata": {},
   "outputs": [
    {
     "name": "stdout",
     "output_type": "stream",
     "text": [
      "Escala: 1.0027379091 hourangle / h\n"
     ]
    }
   ],
   "source": [
    "# Convertimos tiempo sidéreo a tiempo TU\n",
    "tsid_tu = 1.0027379091 * u.hourangle / u.hour\n",
    "print('Escala:', tsid_tu)"
   ]
  },
  {
   "cell_type": "markdown",
   "metadata": {},
   "source": [
    "Podemos utilizar el ángulo horario en lugar del tiempo sidéreo:\n",
    "\n",
    "$\\mathrm{TSL_1} - \\mathrm{TSL_2} = H_1 - H_2$\n",
    "\n",
    "Además, dada la periodicidad del coseno, \n",
    "\n",
    "$H_2 = 360 -H_1$\n",
    "\n",
    "luego:\n",
    "\n",
    "$\\mathrm{TSL_1} - \\mathrm{TSL_2} = 2 H_1 \\mod 360 $\n"
   ]
  },
  {
   "cell_type": "code",
   "execution_count": 15,
   "metadata": {},
   "outputs": [],
   "source": [
    "delta_tsl = 2 * H_1"
   ]
  },
  {
   "cell_type": "code",
   "execution_count": 20,
   "metadata": {},
   "outputs": [],
   "source": [
    "delta_T = delta_tsl / tsid_tu\n",
    "# Convertimos la unidades a horas\n",
    "delta_T = delta_T.to(\"hour\")"
   ]
  },
  {
   "cell_type": "code",
   "execution_count": 21,
   "metadata": {},
   "outputs": [
    {
     "name": "stdout",
     "output_type": "stream",
     "text": [
      "Tiempo (horas) del objeto sobre el horizonte: 13.052091365933943 h\n"
     ]
    }
   ],
   "source": [
    "print('Tiempo (horas) del objeto sobre el horizonte:', delta_T)"
   ]
  },
  {
   "cell_type": "code",
   "execution_count": null,
   "metadata": {},
   "outputs": [],
   "source": []
  }
 ],
 "metadata": {
  "kernelspec": {
   "display_name": "Python 3",
   "language": "python",
   "name": "python3"
  },
  "language_info": {
   "codemirror_mode": {
    "name": "ipython",
    "version": 3
   },
   "file_extension": ".py",
   "mimetype": "text/x-python",
   "name": "python",
   "nbconvert_exporter": "python",
   "pygments_lexer": "ipython3",
   "version": "3.8.6"
  }
 },
 "nbformat": 4,
 "nbformat_minor": 2
}
