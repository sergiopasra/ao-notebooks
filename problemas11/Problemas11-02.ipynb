{
 "cells": [
  {
   "cell_type": "markdown",
   "metadata": {},
   "source": [
    "# Problema 2\n",
    "\n",
    "Las distancias cenitales de una estrella en su culminación superior (al sur del cenit) e\n",
    "inferior son, respectivamente 35° y 75°. Calcular la declinación de la estrella y la latitud del\n",
    "lugar de observación.\n",
    "\n",
    "## Planteamiento\n",
    "\n",
    "Sabemos que:\n",
    "\n",
    "$ a_{\\textrm{max}} = 90 - | \\delta - \\phi| $\n",
    "\n",
    "$ a_{\\textrm{min}} = -90 + | \\delta + \\phi| $\n",
    "\n",
    "Convertido en distancias cenitales:\n",
    "\n",
    "$ z_{\\textrm{max}} = | \\delta - \\phi| $\n",
    "\n",
    "$ z_{\\textrm{min}} = 180 - | \\delta + \\phi| $\n",
    "\n",
    "Si la culminación es al sur del cenit, entonces $\\phi > \\delta $\n",
    "\n",
    "$ z_{\\textrm{max}} = \\phi - \\delta $\n",
    "\n",
    "Ahora hay dos posibilidades. \n",
    "\n",
    "Si $ \\delta + \\phi > 0 $\n",
    "\n",
    "$ z_{\\textrm{min}} = 180 - \\delta - \\phi \\\\\n",
    "z_{\\textrm{max}} = \\phi - \\delta $\n",
    "\n",
    "De donde:\n",
    "\n",
    "$ z_{\\textrm{min}} + z_{\\textrm{max}} = 180 - 2 * \\delta $\n",
    "\n",
    "$\\delta = 90 - (z_{\\textrm{min}} + z_{\\textrm{max}}) / 2 $\n",
    "\n",
    "\n",
    "Por otro lado, si $ \\delta + \\phi < 0 $\n",
    "\n",
    "$ z_{\\textrm{min}} = 180 + \\delta + \\phi \\\\\n",
    "z_{\\textrm{max}} = \\phi - \\delta $\n",
    "\n",
    "De donde:\n",
    "\n",
    "$ z_{\\textrm{min}} + z_{\\textrm{max}} = 180 + 2 * \\phi $\n",
    "\n",
    "$\\phi = (z_{\\textrm{min}} + z_{\\textrm{max}}) / 2 - 90$\n",
    "\n",
    "\n",
    "Luego en principio tendremos dos soluciones. Hay que comprobar que ambas son váidas."
   ]
  },
  {
   "cell_type": "code",
   "execution_count": 1,
   "metadata": {},
   "outputs": [],
   "source": [
    "from astropy.coordinates import Angle\n",
    "import astropy.units as u\n",
    "import numpy as np\n",
    "import matplotlib.pyplot as plt"
   ]
  },
  {
   "cell_type": "code",
   "execution_count": 2,
   "metadata": {},
   "outputs": [],
   "source": [
    "z1 = Angle(\"35d\")\n",
    "z2 = Angle(\"75d\")"
   ]
  },
  {
   "cell_type": "code",
   "execution_count": 3,
   "metadata": {},
   "outputs": [
    {
     "name": "stdout",
     "output_type": "stream",
     "text": [
      "Dec: 35d00m00s\n",
      "Lat: 70d00m00s\n"
     ]
    }
   ],
   "source": [
    "# Solución para el hemisferio Norte\n",
    "# Como estamos al sur del cenit, delta < phi\n",
    "dec1 = Angle(90, unit='deg') - (z1 + z2) / (2.0)\n",
    "lat1 = z1 + dec1\n",
    "print('Dec:', dec1)\n",
    "print('Lat:', lat1)"
   ]
  },
  {
   "cell_type": "code",
   "execution_count": 4,
   "metadata": {},
   "outputs": [
    {
     "name": "stdout",
     "output_type": "stream",
     "text": [
      "Dec: -70d00m00s\n",
      "Lat: -35d00m00s\n"
     ]
    }
   ],
   "source": [
    "# Solución para el hemisferio Sur\n",
    "# Como estamos al sur del cenit, delta < phi\n",
    "lat2 = (z1 + z2) / 2.0 - Angle(90, unit='deg')\n",
    "dec2 = lat2 - z1\n",
    "print('Dec:', dec2)\n",
    "print('Lat:', lat2)"
   ]
  },
  {
   "cell_type": "code",
   "execution_count": null,
   "metadata": {},
   "outputs": [],
   "source": []
  }
 ],
 "metadata": {
  "kernelspec": {
   "display_name": "Python 3",
   "language": "python",
   "name": "python3"
  },
  "language_info": {
   "codemirror_mode": {
    "name": "ipython",
    "version": 3
   },
   "file_extension": ".py",
   "mimetype": "text/x-python",
   "name": "python",
   "nbconvert_exporter": "python",
   "pygments_lexer": "ipython3",
   "version": "3.7.9"
  }
 },
 "nbformat": 4,
 "nbformat_minor": 2
}
