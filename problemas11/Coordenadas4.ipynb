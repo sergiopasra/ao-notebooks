{
 "cells": [
  {
   "cell_type": "markdown",
   "metadata": {},
   "source": [
    "# Problemas astronomía de posición, coordenadas"
   ]
  },
  {
   "cell_type": "markdown",
   "metadata": {},
   "source": [
    "## Problema 4\n",
    "\n",
    "Determinar la altura del Sol sobre el horizonte al culminar el día 21 de Junio en un lugar de la Tierra situado en el trópico de Cáncer. Considerar la oblicuidad de la eclíptica **ε = 23º 26’ 16’’.3.** \n",
    "\n",
    "Determinar también el acimut del sol en el momento del orto."
   ]
  },
  {
   "cell_type": "markdown",
   "metadata": {},
   "source": [
    "## Planteamiento\n",
    "\n",
    "Este problema exige entender el concepto de trópico y solsticio.\n",
    "\n",
    "El trópico de Cáncer se encuentra a latitud φ = ε = 23º26’16’’.3.\n",
    "\n",
    "El 21 de Junio es el solsticio de verano, con lo que, para el Sol, δ = ε\n",
    "\n",
    "En el momento de la culminación el Sol pasa (muy aproximadamente) por el meridiano, con lo que H = 0h.\n",
    "\n",
    "Conociendo la pareja (δ, H) podemos pasar a coordenadas horarias (a, A).\n",
    "\n",
    "<div>\n",
    "<img src=\"img/solsticio.png\" width=\"500\"/>\n",
    "</div>\n"
   ]
  },
  {
   "cell_type": "code",
   "execution_count": 1,
   "metadata": {},
   "outputs": [],
   "source": [
    "from astropy.coordinates import Angle\n",
    "import astropy.units as u\n",
    "import numpy as np\n",
    "import matplotlib.pyplot as plt"
   ]
  },
  {
   "cell_type": "code",
   "execution_count": 2,
   "metadata": {},
   "outputs": [],
   "source": [
    "ha = Angle(\"0h\")\n",
    "eps = Angle(\"23d26m16.3s\")\n",
    "dec = eps\n",
    "lat = eps"
   ]
  },
  {
   "cell_type": "markdown",
   "metadata": {},
   "source": [
    "## Coordenadas horarias a horizontales\n",
    "\n",
    "El cambio sistema horario a horizontal requiere una rotación de ejes. De manera alternativa se puede utilizar trigonometría esférica para resolver el triángulo común formado por objeto, el polo norte y el cenit. Hay que tener cuidado, además, con la convención para el origen del ángulo de acimut. \n",
    "\n",
    "Las ecuaciones son (para acimut desde el Sur):\n",
    "\n",
    "$\n",
    "\\sin a = \\sin \\phi \\sin \\delta  + \\cos \\phi \\cos \\delta \\cos H  \\\\\n",
    "\\cos a \\sin A = \\cos \\delta \\sin H \\\\\n",
    "\\cos a \\cos A = -\\cos \\phi \\sin \\delta + \\sin \\phi \\cos \\delta \\cos H\n",
    "$\n",
    "\n",
    "Dado que `A` va de 0 a 360, necesitamos el seno y el coseno para determinar el cuadrante correcto del ángulo."
   ]
  },
  {
   "cell_type": "markdown",
   "metadata": {},
   "source": [
    "En este caso, para la primera ecuación, tenemos\n",
    "\n",
    "$\n",
    "\\sin a = \\sin \\epsilon \\sin \\epsilon  + \\cos \\epsilon \\cos \\epsilon \\cos 0 = \\sin^2 \\epsilon + \\cos^2 \\epsilon = 1 \n",
    "$\n",
    "\n",
    "De donde a = 90º y el valor de A es indefinido (cualquier valor de A cumple las ecuaciones de transformación).\n"
   ]
  },
  {
   "cell_type": "markdown",
   "metadata": {},
   "source": [
    "## Cálculo del orto y el ocaso\n",
    "\n",
    "\n",
    "En el momento del orto y el ocaso, tenemos que a=0. Sustituyendo en las ecuaciones de transformación tenemos:\n",
    "\n",
    "$\n",
    "0 = \\sin \\phi \\sin \\delta  + \\cos \\phi \\cos \\delta \\cos H_o  \\\\\n",
    "\\sin A_a = \\cos \\delta \\sin H_o \\\\\n",
    "\\cos A_a = -\\cos \\phi \\sin \\delta + \\sin \\phi \\cos \\delta \\cos H_o\n",
    "$\n",
    "\n",
    "De la primera ecuación tenemos:\n",
    "\n",
    "$\n",
    "\\cos H_o  = -\\tan \\phi \\tan \\delta\n",
    "$ \n",
    "\n",
    "Sustituyendo en la tercera tenemos:\n",
    "\n",
    "$\n",
    "\\cos A_o = -\\sin \\delta / \\cos \\phi\n",
    "$\n",
    "\n",
    "Los valores obtenidos serán para el orto o el ocaso, dependiendo de sus posiciones.\n",
    "\n",
    "Nótese que el coseno tiene el mismo signo en el primer y cuarto cuadrante (positivo) y en el segundo y tercero (negativo). Los signos indican que el orto y el ocaso pueden producirse en el primer y cuarto cuadrante o bien en el segundo y tercero. \n",
    "\n",
    "<div>\n",
    "<img src=\"img/solsticio2.png\" width=\"500\"/>\n",
    "</div>\n"
   ]
  },
  {
   "cell_type": "code",
   "execution_count": 3,
   "metadata": {},
   "outputs": [
    {
     "name": "stdout",
     "output_type": "stream",
     "text": [
      "-0.18794254808164354\n"
     ]
    }
   ],
   "source": [
    "cos_h = -np.tan(lat) * np.tan(dec)\n",
    "print(cos_h)"
   ]
  },
  {
   "cell_type": "markdown",
   "metadata": {},
   "source": [
    "El coseno es negativo en el segundo y tercer cuadrantes, luego las dos posibles soluciones son:"
   ]
  },
  {
   "cell_type": "code",
   "execution_count": 4,
   "metadata": {},
   "outputs": [
    {
     "name": "stdout",
     "output_type": "stream",
     "text": [
      "6h43m19.8571s\n",
      "17h16m40.1429s\n"
     ]
    }
   ],
   "source": [
    "h1 = Angle(np.arccos(cos_h))\n",
    "print(h1.to_string(unit=u.hour))\n",
    "h2 = Angle(360, unit=u.degree) - h1\n",
    "print(h2.to_string(unit=u.hour))"
   ]
  },
  {
   "cell_type": "markdown",
   "metadata": {},
   "source": [
    "El primer ángulo corresponde a una posición entre el oeste y el norte (ocaso). El segundo ángulo corresponde a una posición entre el norte y el este (orto)."
   ]
  },
  {
   "cell_type": "markdown",
   "metadata": {},
   "source": [
    "Con la segunda ecuación, podemos calcular el acimut, sabiendo que con la convención de acimut desde el sur, tenemos que elegir el ángulo en el tercer (negativo) o cuarto cuadrante (positivo)."
   ]
  },
  {
   "cell_type": "code",
   "execution_count": 5,
   "metadata": {},
   "outputs": [
    {
     "name": "stdout",
     "output_type": "stream",
     "text": [
      "-0.4335234112267105\n"
     ]
    }
   ],
   "source": [
    "cos_A = -np.sin(dec) / np.cos(lat)\n",
    "print(cos_A)"
   ]
  },
  {
   "cell_type": "markdown",
   "metadata": {},
   "source": [
    "El coseno es negativo en el segundo y tercer cuadrantes. Para el orto, tenemos que elegir el ángulo en el tercer cudrante"
   ]
  },
  {
   "cell_type": "code",
   "execution_count": 6,
   "metadata": {},
   "outputs": [
    {
     "name": "stdout",
     "output_type": "stream",
     "text": [
      "244d18m31.0558s\n"
     ]
    }
   ],
   "source": [
    "Ao = Angle(360, unit=u.degree) - Angle(np.arccos(cos_A))\n",
    "print(Ao.to_string(unit=u.degree))"
   ]
  },
  {
   "cell_type": "code",
   "execution_count": null,
   "metadata": {},
   "outputs": [],
   "source": []
  }
 ],
 "metadata": {
  "kernelspec": {
   "display_name": "Python 3",
   "language": "python",
   "name": "python3"
  },
  "language_info": {
   "codemirror_mode": {
    "name": "ipython",
    "version": 3
   },
   "file_extension": ".py",
   "mimetype": "text/x-python",
   "name": "python",
   "nbconvert_exporter": "python",
   "pygments_lexer": "ipython3",
   "version": "3.7.7"
  }
 },
 "nbformat": 4,
 "nbformat_minor": 2
}
