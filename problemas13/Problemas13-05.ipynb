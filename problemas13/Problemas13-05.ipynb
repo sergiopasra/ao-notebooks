{
 "cells": [
  {
   "cell_type": "markdown",
   "metadata": {},
   "source": [
    "# Problema 5"
   ]
  },
  {
   "cell_type": "markdown",
   "metadata": {},
   "source": [
    "Las coordenadas de la Luna a principios de 2001 son RA 22h40m2s DEC -12º53’25’’. \n",
    "\n",
    "Determinar si en ese instante la Luna es visible desde las \n",
    "coordenadas φ =42º52’31,8’’$, longitud=0h34m14sW.\n",
    "\n",
    "Como dato, el valor de GMST a 0h TU el día 2000-12-31 es 6h42m51.54s"
   ]
  },
  {
   "cell_type": "markdown",
   "metadata": {},
   "source": [
    "## Solución\n",
    "\n",
    "Lass coordenadas de la Luna, a diferencia de las de las estrellas, cambian rápidamente con el tiempo (la ascensión recta cambia ~12 grados por día).\n",
    "\n",
    "### Altura mínima y máxima de la Luna\n",
    "En primer lugar determinamos si la luna es visible en el lugar de observación.\n",
    "\n",
    "Sabemos que:\n",
    "\n",
    "$ a_{\\textrm{max}} = 90 - | \\delta - \\phi| $\n",
    "\n",
    "$ a_{\\textrm{min}} = -90 + | \\delta + \\phi| $\n"
   ]
  },
  {
   "cell_type": "code",
   "execution_count": 1,
   "metadata": {},
   "outputs": [],
   "source": [
    "from astropy.coordinates import Angle\n",
    "import astropy.units as u\n",
    "import numpy as np\n",
    "import matplotlib.pyplot as plt"
   ]
  },
  {
   "cell_type": "code",
   "execution_count": 2,
   "metadata": {},
   "outputs": [],
   "source": [
    "lat = Angle(\"42d52m31.8s\")\n",
    "lon = -Angle(\"0h34m14s\")\n",
    "dec = Angle(\"-12d53m25s\")\n",
    "ra = Angle(\"22h40m2s\")"
   ]
  },
  {
   "cell_type": "code",
   "execution_count": 4,
   "metadata": {},
   "outputs": [
    {
     "name": "stdout",
     "output_type": "stream",
     "text": [
      "Altura máxima 34d14m03.2s\n",
      "Altura mínima -60d00m53.2s\n"
     ]
    }
   ],
   "source": [
    "amax = Angle(\"90d\") - np.abs(dec - lat)\n",
    "amin = -Angle(\"90d\") + np.abs(dec + lat)\n",
    "print('Altura máxima', amax)\n",
    "print('Altura mínima', amin)"
   ]
  },
  {
   "cell_type": "markdown",
   "metadata": {},
   "source": [
    "Por lo tanto, la Luna tendrá ortos y ocasos.\n",
    "\n",
    "### Tiempo sidéreo local\n",
    "En segundo lugar, tenemos que verificar que la altura de la Luna es positiva a principio de 2001, es decir a 0 UT de 1 de enero de 2001.\n",
    "\n",
    "Para ello podemos calcular el ángulo horario del orto y del ocaso, el ángulo horario de la Luna y comprobar que este último se encuentra entre el ángulo horario de del orto y del ocaso.\n",
    "\n",
    "Otra opción es calcular la altura de la Luna, para lo que es necesario también calcular su ángulo horario.\n",
    "\n",
    "Por ambos métodos es necesario calcular el ángulo horario y por tanto, el tiempo sidéreo local.\n"
   ]
  },
  {
   "cell_type": "markdown",
   "metadata": {},
   "source": [
    "Sabemos el valor de GMST(0h TU 2000-12-31) y necesitamos LST(0h TU 2001-01-01).\n",
    "\n",
    "**En primer lugar**, calculamos GMST(0h TU 2001-01-01). Recordemos que:\n",
    "\n",
    "$ \\mathrm{GMST}(t) = \\mathrm{GMST}(\\mathrm{0h TU}) + 1.0027379091 \\,(t - \\mathrm{0h TU})$"
   ]
  },
  {
   "cell_type": "code",
   "execution_count": 5,
   "metadata": {},
   "outputs": [],
   "source": [
    "# escala entre tiempo sidéreo y tiempo universal\n",
    "# las unidades son horas (angulares) entre hora de tiempo\n",
    "tsid_tu = 1.0027379091 * u.hourangle / u.hour"
   ]
  },
  {
   "cell_type": "code",
   "execution_count": 6,
   "metadata": {},
   "outputs": [
    {
     "name": "stdout",
     "output_type": "stream",
     "text": [
      "GMST (0 TU 2001-01-01) 30h46m48.0953s\n",
      "Dado que el ángulo es mayor que 24h (360º)\n",
      "lo reducimos restando 24h\n",
      "GMST (0 TU 2001-01-01) 6h46m48.0953s\n"
     ]
    }
   ],
   "source": [
    "gmst_t1 = Angle(\"6h42m51.54s\")\n",
    "gmst_t2 = gmst_t1 + tsid_tu * 24 * u.hour\n",
    "print('GMST (0 TU 2001-01-01)', gmst_t2)\n",
    "print('Dado que el ángulo es mayor que 24h (360º)')\n",
    "print('lo reducimos restando 24h')\n",
    "# gmst_t2.wrap_at('24h')\n",
    "gmst_t2 = gmst_t2 - Angle(\"24h\")\n",
    "print('GMST (0 TU 2001-01-01)', gmst_t2)"
   ]
  },
  {
   "cell_type": "markdown",
   "metadata": {},
   "source": [
    "**En segundo lugar**, calculamos el tiempo sidéreo local sumando la longitud del sitio de observación:\n",
    "\n",
    "$ \\mathrm{TSL}(t) = \\mathrm{GMST}(t) + \\lambda$"
   ]
  },
  {
   "cell_type": "code",
   "execution_count": 7,
   "metadata": {},
   "outputs": [
    {
     "name": "stdout",
     "output_type": "stream",
     "text": [
      "TSL: 6h12m34.0953s\n"
     ]
    }
   ],
   "source": [
    "tsl = gmst_t2 + lon\n",
    "print('TSL:', tsl)"
   ]
  },
  {
   "cell_type": "markdown",
   "metadata": {},
   "source": [
    "El ángulo horario de la Luna será:"
   ]
  },
  {
   "cell_type": "code",
   "execution_count": 8,
   "metadata": {},
   "outputs": [
    {
     "name": "stdout",
     "output_type": "stream",
     "text": [
      "H= -16h27m27.9047s\n",
      "Dado que el ángulo es negativo, sumamos 24h\n",
      "H= 7h32m32.0953s\n"
     ]
    }
   ],
   "source": [
    "H = tsl - ra\n",
    "print('H=', H)\n",
    "print('Dado que el ángulo es negativo, sumamos 24h')\n",
    "H = H + Angle(\"24h\")\n",
    "print('H=', H)"
   ]
  },
  {
   "cell_type": "markdown",
   "metadata": {},
   "source": [
    "Sabiendo el ángulo horario, podemos calcular la altura:\n",
    "\n",
    "$\n",
    "\\sin a = \\sin \\phi \\sin \\delta  + \\cos \\phi \\cos \\delta \\cos H\n",
    "$"
   ]
  },
  {
   "cell_type": "code",
   "execution_count": 10,
   "metadata": {},
   "outputs": [
    {
     "name": "stdout",
     "output_type": "stream",
     "text": [
      "sin a= -0.43244753383605505\n"
     ]
    }
   ],
   "source": [
    "sin_a = np.sin(lat) * np.sin(dec) + np.cos(lat) * np.cos(dec) * np.cos(H)\n",
    "print('sin a=', sin_a)"
   ]
  },
  {
   "cell_type": "markdown",
   "metadata": {},
   "source": [
    "Como el seno de la altura es negativo, **la altura es negativa**. Dado el valor del ángulo horario, la Luna ya se ha puesto a esta hora."
   ]
  }
 ],
 "metadata": {
  "kernelspec": {
   "display_name": "Python 3",
   "language": "python",
   "name": "python3"
  },
  "language_info": {
   "codemirror_mode": {
    "name": "ipython",
    "version": 3
   },
   "file_extension": ".py",
   "mimetype": "text/x-python",
   "name": "python",
   "nbconvert_exporter": "python",
   "pygments_lexer": "ipython3",
   "version": "3.9.1"
  }
 },
 "nbformat": 4,
 "nbformat_minor": 4
}
