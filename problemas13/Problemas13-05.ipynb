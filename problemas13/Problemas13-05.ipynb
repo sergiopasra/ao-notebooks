{
 "cells": [
  {
   "cell_type": "markdown",
   "metadata": {},
   "source": [
    "# Problema 5"
   ]
  },
  {
   "cell_type": "markdown",
   "metadata": {},
   "source": [
    "Las coordenadas de la Luna a principios de 2001 son RA 22h40m2s DEC -12o53’25’’. \n",
    "\n",
    "Determinar si en ese instante la luna es visible desde las \n",
    "coordenadas φ =42o52’31,8’’, longitud=0h34m14sW.\n",
    "\n",
    "Como dato, el valor de GMST a 0h TU el día 2000-12-31 es 6h42m51.54s"
   ]
  },
  {
   "cell_type": "code",
   "execution_count": null,
   "metadata": {},
   "outputs": [],
   "source": []
  }
 ],
 "metadata": {
  "kernelspec": {
   "display_name": "Python 3",
   "language": "python",
   "name": "python3"
  },
  "language_info": {
   "codemirror_mode": {
    "name": "ipython",
    "version": 3
   },
   "file_extension": ".py",
   "mimetype": "text/x-python",
   "name": "python",
   "nbconvert_exporter": "python",
   "pygments_lexer": "ipython3",
   "version": "3.9.0"
  }
 },
 "nbformat": 4,
 "nbformat_minor": 4
}
