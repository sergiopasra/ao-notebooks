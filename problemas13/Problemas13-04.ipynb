{
 "cells": [
  {
   "cell_type": "markdown",
   "metadata": {},
   "source": [
    "# Problema 4"
   ]
  },
  {
   "cell_type": "markdown",
   "metadata": {},
   "source": [
    "Calcular el número de días entre el 11 de enero de 1845 y el 17 de septiembre de 2012"
   ]
  },
  {
   "cell_type": "markdown",
   "metadata": {},
   "source": [
    "## Solución\n",
    "\n",
    "Calculamos las fechas juliana correspondiente y restamos"
   ]
  },
  {
   "cell_type": "code",
   "execution_count": 16,
   "metadata": {},
   "outputs": [
    {
     "name": "stdout",
     "output_type": "stream",
     "text": [
      "JD a 0 de enero 2012 0 TU 2455926.5\n",
      "JD a 17 de septiembre 2012 0 TU 2456187.5\n"
     ]
    }
   ],
   "source": [
    "# 17 de septiembre de 2012\n",
    "jd2 = (4712+2012) * 365.25 # Entero, restamos 1\n",
    "jd2 = int(jd2) - 1\n",
    "jd2 = jd2 - 13\n",
    "jd2 = jd2 - 0.5\n",
    "print('JD a 0 de enero 2012 0 TU', jd2)\n",
    "jd2 = jd2 + 31 + 29 + 31 +30 +  31 + 30 + 31 + 31 + 17\n",
    "print('JD a 17 de septiembre 2012 0 TU', jd2)"
   ]
  },
  {
   "cell_type": "code",
   "execution_count": 17,
   "metadata": {},
   "outputs": [
    {
     "name": "stdout",
     "output_type": "stream",
     "text": [
      "JD a 0 de enero 1845 0 TU 2394931.5\n",
      "JD a 11 de enero 1845 0 TU 2394942.5\n"
     ]
    }
   ],
   "source": [
    "# 11 de enero de 1845\n",
    "jd1 = (4712+1845) * 365.25\n",
    "jd1 = int(jd1)\n",
    "jd1 = jd1 - 12\n",
    "jd1 = jd1 - 0.5\n",
    "print('JD a 0 de enero 1845 0 TU', jd1)\n",
    "jd1 = jd1 + 11\n",
    "print('JD a 11 de enero 1845 0 TU', jd1)"
   ]
  },
  {
   "cell_type": "code",
   "execution_count": 18,
   "metadata": {},
   "outputs": [
    {
     "name": "stdout",
     "output_type": "stream",
     "text": [
      "Diferencia de días: 61245.0\n"
     ]
    }
   ],
   "source": [
    "print('Diferencia de días:', jd2 - jd1)"
   ]
  },
  {
   "cell_type": "code",
   "execution_count": null,
   "metadata": {},
   "outputs": [],
   "source": []
  }
 ],
 "metadata": {
  "kernelspec": {
   "display_name": "Python 3",
   "language": "python",
   "name": "python3"
  },
  "language_info": {
   "codemirror_mode": {
    "name": "ipython",
    "version": 3
   },
   "file_extension": ".py",
   "mimetype": "text/x-python",
   "name": "python",
   "nbconvert_exporter": "python",
   "pygments_lexer": "ipython3",
   "version": "3.9.1"
  }
 },
 "nbformat": 4,
 "nbformat_minor": 4
}
