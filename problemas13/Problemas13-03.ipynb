{
 "cells": [
  {
   "cell_type": "markdown",
   "metadata": {},
   "source": [
    "# Problema 3"
   ]
  },
  {
   "cell_type": "markdown",
   "metadata": {},
   "source": [
    "Calcular UT1, TAI y TT para la fecha de 2020-09-01 16:44:12 UTC, sabiendo que UT1-UTC=-0.185s para esa fecha."
   ]
  },
  {
   "cell_type": "markdown",
   "metadata": {},
   "source": [
    "## Solución\n",
    "\n",
    "Las diferentes escalas de tiempo están relacionadas por diferencias fijas \n",
    "\n",
    "* TAI - UTC = 37s\n",
    "* TT - TAI = 32.184\n",
    "\n",
    "o dadas por tablas (UT1 - UTC)"
   ]
  },
  {
   "cell_type": "code",
   "execution_count": 1,
   "metadata": {},
   "outputs": [
    {
     "name": "stdout",
     "output_type": "stream",
     "text": [
      "Segundos TAI: 49\n"
     ]
    }
   ],
   "source": [
    "# TAI será:\n",
    "utc_s = 12\n",
    "tai_s = utc_s + 37\n",
    "print('Segundos TAI:', tai_s)"
   ]
  },
  {
   "cell_type": "code",
   "execution_count": 2,
   "metadata": {},
   "outputs": [
    {
     "name": "stdout",
     "output_type": "stream",
     "text": [
      "Tiempo en escala TAI: 2020-09-01T16:44:49\n"
     ]
    }
   ],
   "source": [
    "# Como tai_s es menor que 60s, la fecha TAI será\n",
    "t_tai = \"2020-09-01T16:44:49\"\n",
    "print('Tiempo en escala TAI:', t_tai)"
   ]
  },
  {
   "cell_type": "code",
   "execution_count": 3,
   "metadata": {},
   "outputs": [
    {
     "name": "stdout",
     "output_type": "stream",
     "text": [
      "Segundos TT: 81.184\n"
     ]
    }
   ],
   "source": [
    "# TT será\n",
    "tt_s = tai_s + 32.184\n",
    "print('Segundos TT:', tt_s)"
   ]
  },
  {
   "cell_type": "code",
   "execution_count": 4,
   "metadata": {},
   "outputs": [
    {
     "name": "stdout",
     "output_type": "stream",
     "text": [
      "Tiempo en escala TT: 2020-09-01T16:45:21.184\n"
     ]
    }
   ],
   "source": [
    "# Como tt_s es mayor que 60, añadimos un minuto\n",
    "t_tt = \"2020-09-01T16:45:21.184\"\n",
    "print('Tiempo en escala TT:', t_tt)"
   ]
  },
  {
   "cell_type": "code",
   "execution_count": 5,
   "metadata": {},
   "outputs": [
    {
     "name": "stdout",
     "output_type": "stream",
     "text": [
      "segundos UT1: 11.815\n"
     ]
    }
   ],
   "source": [
    "# UT1 será\n",
    "ut1_s = utc_s -0.185\n",
    "print('segundos UT1:', ut1_s)"
   ]
  },
  {
   "cell_type": "code",
   "execution_count": 6,
   "metadata": {},
   "outputs": [
    {
     "name": "stdout",
     "output_type": "stream",
     "text": [
      "Tiempo en escala UT1: 2020-09-01T16:44:11.815\n"
     ]
    }
   ],
   "source": [
    "t_ut1 = \"2020-09-01T16:44:11.815\"\n",
    "print('Tiempo en escala UT1:', t_ut1)"
   ]
  }
 ],
 "metadata": {
  "kernelspec": {
   "display_name": "Python 3",
   "language": "python",
   "name": "python3"
  },
  "language_info": {
   "codemirror_mode": {
    "name": "ipython",
    "version": 3
   },
   "file_extension": ".py",
   "mimetype": "text/x-python",
   "name": "python",
   "nbconvert_exporter": "python",
   "pygments_lexer": "ipython3",
   "version": "3.9.0"
  }
 },
 "nbformat": 4,
 "nbformat_minor": 4
}
