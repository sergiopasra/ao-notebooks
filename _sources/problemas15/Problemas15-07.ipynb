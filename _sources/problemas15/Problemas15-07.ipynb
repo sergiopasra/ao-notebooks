{
 "cells": [
  {
   "cell_type": "markdown",
   "metadata": {},
   "source": [
    "# Problema 7\n",
    "\n",
    "Una estrella en la eclíptica tiene longitud 42°. Si la longitud del Sol es 102°, calcular la\n",
    "variación de la longitud de la estrella debida a aberración."
   ]
  },
  {
   "cell_type": "markdown",
   "metadata": {},
   "source": [
    "## Planteamiento\n",
    "\n",
    "La corrección de aberración en longitud es:\n",
    "\n",
    "$\\Delta \\lambda = -\\kappa \\sec \\beta \\cos (\\lambda_{\\odot} - \\lambda) $\n",
    "\n",
    "donde &kappa; = 20.496''. en este caso, $\\beta$ = 0"
   ]
  },
  {
   "cell_type": "code",
   "execution_count": 12,
   "metadata": {},
   "outputs": [],
   "source": [
    "from astropy.coordinates import Angle\n",
    "import astropy.units as u\n",
    "import numpy as np\n",
    "import matplotlib.pyplot as plt"
   ]
  },
  {
   "cell_type": "code",
   "execution_count": 13,
   "metadata": {},
   "outputs": [],
   "source": [
    "lon = Angle(\"42d\")\n",
    "lon_s = Angle(\"102d\")\n",
    "k = 20.496 * u.arcsec"
   ]
  },
  {
   "cell_type": "code",
   "execution_count": 14,
   "metadata": {},
   "outputs": [],
   "source": [
    "theta = lon_s - lon\n",
    "delta_lon = -k * np.cos(theta)"
   ]
  },
  {
   "cell_type": "code",
   "execution_count": 15,
   "metadata": {},
   "outputs": [
    {
     "name": "stdout",
     "output_type": "stream",
     "text": [
      "Variación por aberración: -10.248000000000001 arcsec\n"
     ]
    }
   ],
   "source": [
    "print('Variación por aberración:', delta_lon)"
   ]
  },
  {
   "cell_type": "code",
   "execution_count": null,
   "metadata": {},
   "outputs": [],
   "source": []
  }
 ],
 "metadata": {
  "kernelspec": {
   "display_name": "Python 3",
   "language": "python",
   "name": "python3"
  },
  "language_info": {
   "codemirror_mode": {
    "name": "ipython",
    "version": 3
   },
   "file_extension": ".py",
   "mimetype": "text/x-python",
   "name": "python",
   "nbconvert_exporter": "python",
   "pygments_lexer": "ipython3",
   "version": "3.9.1"
  }
 },
 "nbformat": 4,
 "nbformat_minor": 4
}
