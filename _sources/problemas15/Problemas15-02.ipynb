{
 "cells": [
  {
   "cell_type": "markdown",
   "metadata": {},
   "source": [
    "# Problema 2\n",
    "\n",
    "Calcular la distancia al horizonte y aplicarlo al caso anterior."
   ]
  },
  {
   "cell_type": "markdown",
   "metadata": {},
   "source": [
    "## Solución\n",
    "\n",
    "La distancia hasta el horizonte puede calcularse como $d_H = R\\phi$, donde $\\phi$ es el ángulo desde la vertical del observador (de altura $h$) y la tangente a la superficie del planeta.\n",
    "\n",
    "$$\n",
    "\\cos \\phi = \\frac{R}{R + h}\n",
    "$$\n",
    "\n",
    "Suponiendo que $h<<R$ y que $\\phi$ es pequeño, se llega a \n",
    "\n",
    "$$\n",
    "d_H \\simeq \\sqrt{2 h R}\n",
    "$$"
   ]
  },
  {
   "cell_type": "code",
   "execution_count": 14,
   "metadata": {},
   "outputs": [],
   "source": [
    "import math"
   ]
  },
  {
   "cell_type": "code",
   "execution_count": 15,
   "metadata": {},
   "outputs": [],
   "source": [
    "rt = 6371\n",
    "h = 0.2 # 200m"
   ]
  },
  {
   "cell_type": "code",
   "execution_count": 16,
   "metadata": {},
   "outputs": [
    {
     "name": "stdout",
     "output_type": "stream",
     "text": [
      "Distancia al horizonte (km) 50.48167984526664\n"
     ]
    }
   ],
   "source": [
    "dh = math.sqrt(2*h*rt)\n",
    "print('Distancia al horizonte (km)', dh)"
   ]
  },
  {
   "cell_type": "code",
   "execution_count": 18,
   "metadata": {},
   "outputs": [
    {
     "name": "stdout",
     "output_type": "stream",
     "text": [
      "Distancia al horizonte (km) 50.48101955304385\n"
     ]
    }
   ],
   "source": [
    "# Sin aproximar, la diferencia es irrelevante\n",
    "cos_phi = rt / (rt + h)\n",
    "phi = math.acos(cos_phi)\n",
    "dh = rt * phi\n",
    "print('Distancia al horizonte (km)', dh)"
   ]
  },
  {
   "cell_type": "code",
   "execution_count": null,
   "metadata": {},
   "outputs": [],
   "source": []
  }
 ],
 "metadata": {
  "kernelspec": {
   "display_name": "Python 3",
   "language": "python",
   "name": "python3"
  },
  "language_info": {
   "codemirror_mode": {
    "name": "ipython",
    "version": 3
   },
   "file_extension": ".py",
   "mimetype": "text/x-python",
   "name": "python",
   "nbconvert_exporter": "python",
   "pygments_lexer": "ipython3",
   "version": "3.9.1"
  }
 },
 "nbformat": 4,
 "nbformat_minor": 4
}
