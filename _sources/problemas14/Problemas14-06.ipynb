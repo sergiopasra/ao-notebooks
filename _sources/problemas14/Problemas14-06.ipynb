{
 "cells": [
  {
   "cell_type": "markdown",
   "metadata": {},
   "source": [
    "# Problema 6\n",
    "\n",
    "Calcular el periodo sidéreo de un asteroide con semieje mayor de la órbita a=4 au"
   ]
  },
  {
   "cell_type": "markdown",
   "metadata": {},
   "source": [
    "## Solución\n",
    "\n",
    "Sabemos por la tercera ley de Kepler que $a^3 \\propto P^2$.\n",
    "\n",
    "Además, si el periodo se mide en años y la distancia en unidades astronómicas la constante de proporcionalidad es 1."
   ]
  },
  {
   "cell_type": "code",
   "execution_count": 1,
   "metadata": {},
   "outputs": [],
   "source": [
    "import math"
   ]
  },
  {
   "cell_type": "code",
   "execution_count": 2,
   "metadata": {},
   "outputs": [
    {
     "name": "stdout",
     "output_type": "stream",
     "text": [
      "Periodo 8.0 años\n"
     ]
    }
   ],
   "source": [
    "a = 4 # unidades astrónomicas\n",
    "p = math.sqrt(a**3) # en años\n",
    "print('Periodo', p, 'años')"
   ]
  },
  {
   "cell_type": "code",
   "execution_count": null,
   "metadata": {},
   "outputs": [],
   "source": []
  }
 ],
 "metadata": {
  "kernelspec": {
   "display_name": "Python 3",
   "language": "python",
   "name": "python3"
  },
  "language_info": {
   "codemirror_mode": {
    "name": "ipython",
    "version": 3
   },
   "file_extension": ".py",
   "mimetype": "text/x-python",
   "name": "python",
   "nbconvert_exporter": "python",
   "pygments_lexer": "ipython3",
   "version": "3.9.1"
  }
 },
 "nbformat": 4,
 "nbformat_minor": 4
}
