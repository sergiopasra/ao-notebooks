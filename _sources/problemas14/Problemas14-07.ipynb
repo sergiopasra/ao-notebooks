{
 "cells": [
  {
   "cell_type": "markdown",
   "metadata": {},
   "source": [
    "# Problema 7\n",
    "\n",
    "Estimar la duración de un tránsito de Venus sobre el Sol visto desde la Tierra. El tamaño\n",
    "aparente del disco solar es de 32’ y el periodo sidéreo de Venus es de 224.7 días."
   ]
  },
  {
   "cell_type": "markdown",
   "metadata": {},
   "source": [
    "## Solución\n",
    "\n",
    "La geometría del problema puede verse en la siguiente figura (no está a escala).\n",
    "\n",
    "\n",
    "<img src=\"../_static/p14/transit.png\" />\n"
   ]
  },
  {
   "cell_type": "markdown",
   "metadata": {},
   "source": [
    "Los puntos `S1` y `S2` representan los bordes del limbo solar vistos desde la Tierra. Ambos puntos son móviles, pero en todo momento el Ángulo en `S1` es de 90º.\n",
    "\n",
    "Al principio del tránsito Venus se encuentra en la posición `V1` y finaliza cuando se encuentra en la posición `V2`. Ambas posiciones son móviles y se desplazan sobre la órbita de Venus con la velocidad orbital angular de la Tierra.\n",
    "\n",
    "Denominamos $2\\theta_0$ al ángulo $\\widehat{V_1SV_2}$ (marcado en rojo). Cuando Venus se encuentre en `V1`, empieza el tránsito y termina cuando alcance `V2`. La posición angular de `V2` será:\n",
    "\n",
    "$$\n",
    "\\theta_{V2} = \\theta_0 + n_{\\oplus} t \n",
    "$$\n",
    "\n",
    "Con $n_{\\oplus}$ la velocidad angular de la Tierra.\n",
    "\n",
    "\n",
    "Mientras que la de Venus será:\n",
    "\n",
    "$$\n",
    "\\theta_V = -\\theta_0 + n_V t \n",
    "$$\n",
    "\n",
    "Con $n_V$ la velocidad angular de Venus.\n",
    "\n",
    "El tránsito termina cuando $\\theta_{V2} = \\theta_V$. Igualando:\n",
    "\n",
    "$$\n",
    " -\\theta_0 + n_V t  =  \\theta_0 + n_{\\oplus} t\n",
    "$$\n",
    "\n",
    "Con lo que:\n",
    "\n",
    "$$\n",
    " t = \\frac{2\\theta_0}{n_V - n_{\\oplus}}\n",
    "$$\n",
    "\n",
    "Insertando la definición de $n_{\\oplus}$ y $n_V$ tenemos:\n",
    "\n",
    "$$\n",
    " t = \\frac{2\\theta_0}{\\frac{2\\pi}{P_V} - \\frac{2\\pi}{P_{\\oplus}}}\n",
    "$$\n",
    "\n",
    "La expresión en el denominador no es más que el periodo sinódico de Venus:\n",
    "\n",
    "$$\n",
    " t = \\frac{2\\theta_0}{\\frac{2\\pi}{P_S}}\n",
    "$$"
   ]
  },
  {
   "cell_type": "markdown",
   "metadata": {},
   "source": [
    "Falta calcular el ángulo $\\theta_0$. \n",
    "\n",
    "Dado que el tamaño del disco solar es $\\phi$=32' y el ángulo en `S1` es 90º, el ángulo $\\widehat{S_1ST}$ será 90º - $\\phi / 2$.\n",
    "\n",
    "El ángulo $\\gamma = \\widehat{S_1V_2S}$ puede calcularse como:\n",
    "\n",
    "$$\n",
    "\\sin \\gamma = \\frac{R_{\\odot}}{a_V}\n",
    "$$\n",
    "\n",
    "Pero el semidiámetro solar es\n",
    "\n",
    "$$\n",
    "\\sin (\\phi / 2) = \\frac{R_{\\odot}}{a_{\\oplus}}\n",
    "$$\n",
    "\n",
    "Por lo que \n",
    "\n",
    "$$\n",
    "\\sin \\gamma = \\frac{a_{\\oplus}}{a_V} \\sin (\\phi / 2)\n",
    "$$\n",
    "\n",
    "\n",
    "El ángulo  $\\widehat{S_1SV_2} = 90 - \\gamma$ y por tanto \n",
    "\n",
    "$$\n",
    "\\theta_0 = \\widehat{S_1ST} - \\widehat{S_1SV_2} = 90- \\phi / 2 - (90 - \\gamma) = \\gamma - \\phi / 2\n",
    "$$\n",
    "\n",
    "Con el que podremos calcular la duración del tránsito."
   ]
  },
  {
   "cell_type": "code",
   "execution_count": 1,
   "metadata": {},
   "outputs": [],
   "source": [
    "import astropy.units as u\n",
    "import numpy as np\n",
    "import matplotlib.pyplot as plt\n",
    "import math"
   ]
  },
  {
   "cell_type": "code",
   "execution_count": 2,
   "metadata": {},
   "outputs": [
    {
     "name": "stdout",
     "output_type": "stream",
     "text": [
      "Periodo sinódico: 583.9322305229456 d\n"
     ]
    }
   ],
   "source": [
    "# Empezamos calculando el periodo sinódico\n",
    "P_T = 365.25 * u.day\n",
    "P = 224.7 * u.day\n",
    "P_S = abs(1 / (1 / P_T - 1 / P))\n",
    "print(\"Periodo sinódico:\", P_S)"
   ]
  },
  {
   "cell_type": "code",
   "execution_count": 3,
   "metadata": {},
   "outputs": [
    {
     "name": "stdout",
     "output_type": "stream",
     "text": [
      "Velocidad angular 0.01076012759486255 rad / d\n"
     ]
    }
   ],
   "source": [
    "# La velocidad angular (en radianes por día) es\n",
    "n = 2 * math.pi * u.rad / P_S\n",
    "print('Velocidad angular', n)"
   ]
  },
  {
   "cell_type": "code",
   "execution_count": 4,
   "metadata": {},
   "outputs": [
    {
     "name": "stdout",
     "output_type": "stream",
     "text": [
      "Ángulo recorrido por Venus durante el tránsito (grados): 12.26017356030636 arcmin\n"
     ]
    }
   ],
   "source": [
    "# El disco del Sol en radianes\n",
    "theta = 32 *u.arcmin\n",
    "sin_g = 1 / 0.723  * np.sin(theta / 2)\n",
    "gamma = np.arcsin(sin_g)\n",
    "theta_0 = gamma - theta / 2\n",
    "print('Ángulo recorrido por Venus durante el tránsito (grados):', (2*theta_0).to('arcmin'))"
   ]
  },
  {
   "cell_type": "code",
   "execution_count": 5,
   "metadata": {},
   "outputs": [
    {
     "name": "stdout",
     "output_type": "stream",
     "text": [
      "7.954567215186817 h\n"
     ]
    }
   ],
   "source": [
    "t = 2 * theta_0 / n\n",
    "print(t.to('hour'))"
   ]
  },
  {
   "cell_type": "code",
   "execution_count": null,
   "metadata": {},
   "outputs": [],
   "source": []
  }
 ],
 "metadata": {
  "kernelspec": {
   "display_name": "Python 3",
   "language": "python",
   "name": "python3"
  },
  "language_info": {
   "codemirror_mode": {
    "name": "ipython",
    "version": 3
   },
   "file_extension": ".py",
   "mimetype": "text/x-python",
   "name": "python",
   "nbconvert_exporter": "python",
   "pygments_lexer": "ipython3",
   "version": "3.9.1"
  }
 },
 "nbformat": 4,
 "nbformat_minor": 4
}
