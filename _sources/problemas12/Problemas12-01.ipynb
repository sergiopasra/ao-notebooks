{
 "cells": [
  {
   "cell_type": "markdown",
   "metadata": {},
   "source": [
    "# Problema 1"
   ]
  },
  {
   "cell_type": "markdown",
   "metadata": {},
   "source": [
    "Determinar la altura del Sol sobre el horizonte al culminar el día 21 de Junio en un lugar de la Tierra situado en el trópico de Cáncer. Considerar la oblicuidad de la eclíptica **ε = 23º 26’ 16’’.3.** \n",
    "\n",
    "Determinar también el acimut del sol en el momento del orto."
   ]
  },
  {
   "cell_type": "markdown",
   "metadata": {},
   "source": [
    "## Planteamiento\n",
    "\n",
    "Este problema exige entender el concepto de trópico y solsticio.\n",
    "\n",
    "El trópico de Cáncer se encuentra a latitud φ = ε = 23º26’12’’.\n",
    "\n",
    "El 21 de Junio es el solsticio de verano, con lo que, para el Sol, δ = ε\n",
    "\n",
    "En el momento de la culminación el Sol pasa (muy aproximadamente) por el meridiano, con lo que H = 0h.\n",
    "\n",
    "Conociendo la pareja (δ, H) podemos pasar a coordenadas horarias (a, A).\n",
    "\n",
    "\n",
    "La altura en el momento de la culminación (H=0) será:\n",
    "\n",
    "$$a = 90 - |\\delta - \\phi|$$\n",
    "\n",
    "Por lo que $a_{\\odot} = 90 - |\\epsilon - \\epsilon| = 90$, el Sol pasa por el cenit.\n",
    "\n",
    "\n",
    "El acimut del Sol en el orto será:\n",
    "\n",
    "$$\\cos A_{\\odot} = - \\sin \\delta_{\\odot} \\sec \\phi = - \\sin \\epsilon \\sec \\epsilon = -\\tan \\epsilon$$\n",
    "\n",
    "\n",
    "![solsticio](../_static/p12/solsticio.png)\n",
    "\n"
   ]
  },
  {
   "cell_type": "code",
   "execution_count": null,
   "metadata": {},
   "outputs": [],
   "source": [
    "from astropy.coordinates import Angle\n",
    "import astropy.units as u\n",
    "import numpy as np\n",
    "import matplotlib.pyplot as plt"
   ]
  },
  {
   "cell_type": "code",
   "execution_count": null,
   "metadata": {},
   "outputs": [],
   "source": [
    "ε = Angle(\"23d26m12s\")"
   ]
  },
  {
   "cell_type": "markdown",
   "metadata": {},
   "source": [
    "## Cálculo del orto y el ocaso\n",
    "\n",
    "La relación para el acimut (SWNE) es:\n",
    "\n",
    "$\n",
    "\\cos A_o = -\\sin \\delta \\sec \\phi\n",
    "$\n",
    "\n",
    "Los valores obtenidos serán para el orto o el ocaso, dependiendo de sus posiciones.\n",
    "\n",
    "Nótese que el coseno tiene el mismo signo en el primer y cuarto cuadrante (positivo) y en el segundo y tercero (negativo). Los signos indican que el orto y el ocaso pueden producirse en el primer y cuarto cuadrante o bien en el segundo y tercero. \n",
    "\n",
    "\n",
    "![solsticio2](../_static/p12/solsticio2.png)\n",
    "\n"
   ]
  },
  {
   "cell_type": "code",
   "execution_count": null,
   "metadata": {},
   "outputs": [],
   "source": [
    "cos_A = -np.tan(ε)\n",
    "print(cos_A)"
   ]
  },
  {
   "cell_type": "markdown",
   "metadata": {},
   "source": [
    "El coseno es negativo en el segundo y tercer cuadrantes. Para el orto, tenemos que elegir el ángulo en el tercer cuadrante"
   ]
  },
  {
   "cell_type": "code",
   "execution_count": null,
   "metadata": {},
   "outputs": [],
   "source": [
    "Ao = 360 * u.degree - Angle(np.arccos(cos_A))\n",
    "print('Acimut en el orto', Ao.to_string('deg'))"
   ]
  }
 ],
 "metadata": {
  "kernelspec": {
   "display_name": "Python 3 (ipykernel)",
   "language": "python",
   "name": "python3"
  },
  "language_info": {
   "codemirror_mode": {
    "name": "ipython",
    "version": 3
   },
   "file_extension": ".py",
   "mimetype": "text/x-python",
   "name": "python",
   "nbconvert_exporter": "python",
   "pygments_lexer": "ipython3",
   "version": "3.11.6"
  }
 },
 "nbformat": 4,
 "nbformat_minor": 2
}
