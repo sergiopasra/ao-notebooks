{
 "cells": [
  {
   "cell_type": "markdown",
   "metadata": {},
   "source": [
    "# Problema 7"
   ]
  },
  {
   "cell_type": "markdown",
   "metadata": {},
   "source": [
    "Calcular la duración del verano (en días) sabiendo que la ecuación del tiempo vale $-1^m27^s$\n",
    "en el solsticio de verano y $7^m20^s$ en el equinoccio de otoño."
   ]
  },
  {
   "cell_type": "markdown",
   "metadata": {},
   "source": [
    "## Planteamiento\n",
    "\n",
    "La ecuación del tiempo (ET) es la diferencia entre el ángulo horario del Sol y el ángulo horario del Sol medio (el Sol medio es un objeto ficticio):\n",
    "$ET = H_{\\odot} - H_M$\n",
    "\n",
    "La ecuación de tiempo también esta relacionada con las ascenciones rectas de ambos objetos: $ET = \\alpha_M - \\alpha_{\\odot}$, dado que, por definción, $\\mathrm{TSL} = H + \\alpha$\n"
   ]
  },
  {
   "cell_type": "markdown",
   "metadata": {},
   "source": [
    "Para el solsticio de verano, ET$_1$ = -$1^m27^s$ y $\\alpha_{\\odot}=6^h$. Para el equinoccio de otoño, ET$_2$ = $7^m20^s$ y $\\alpha_{\\odot}=12^h$."
   ]
  },
  {
   "cell_type": "markdown",
   "metadata": {},
   "source": [
    "Conviene recordar que la ecuación del tiempo es una diferencia de **ángulos**, luego ET es un ángulo medido en unidades angulares horarias."
   ]
  },
  {
   "cell_type": "markdown",
   "metadata": {},
   "source": [
    "Para calcular el valor de $\\alpha_M$, recordemos que el Sol medio se mueve de **manera uniforme en ascensión recta**. Esto implica que recorre 360 grados en un año. Por lo tanto:\n",
    "\n",
    "$$\\alpha_M= n (t - t_0)$$\n",
    "\n",
    "$$n= \\frac{360^{\\circ}}{365.25d}$$\n",
    "\n",
    "Donde $t_0$ es el paso por el equinoccio de primavera. Utilizar el año juliano en lugar del año trópico supone una diferencia de unos pocos minutos en la duración de las estaciones.\n",
    "\n",
    "Por lo tanto tenemos:\n",
    "\n",
    "\\begin{eqnarray}\n",
    "ET_2 &=& n(t_2 - t_0) - 12^h\\\\\n",
    "ET_1 &=& n(t_1 - t_0) - 6^h\n",
    "\\end{eqnarray}\n",
    "\n",
    "Restando queda:\n",
    "\n",
    "$$\n",
    "ET_2 - ET_1 = n(t_2 - t_1) - 6^h\n",
    "$$\n",
    "\n",
    "Y podemos despejar $t_2 - t_1$, la diferencia en días entre el equinoccio de otoño y el solsticio de verano."
   ]
  },
  {
   "cell_type": "code",
   "execution_count": 1,
   "metadata": {},
   "outputs": [],
   "source": [
    "from astropy.coordinates import Angle\n",
    "import astropy.units as u\n",
    "import numpy as np\n",
    "import matplotlib.pyplot as plt"
   ]
  },
  {
   "cell_type": "code",
   "execution_count": 2,
   "metadata": {},
   "outputs": [],
   "source": [
    "et1 = -Angle(\"0h1m27s\")\n",
    "et2 = Angle(\"0h7m20s\")\n",
    "year = 365.25 * u.day\n",
    "n = Angle(360 * u.deg) / year"
   ]
  },
  {
   "cell_type": "code",
   "execution_count": 4,
   "metadata": {},
   "outputs": [
    {
     "name": "stdout",
     "output_type": "stream",
     "text": [
      "Duración del verano:  93.54035590277778 d\n"
     ]
    }
   ],
   "source": [
    "diff = (Angle(\"6h\") + et2 - et1) / n\n",
    "print('Duración del verano: ', diff.to(u.day))"
   ]
  },
  {
   "cell_type": "code",
   "execution_count": null,
   "metadata": {},
   "outputs": [],
   "source": []
  }
 ],
 "metadata": {
  "kernelspec": {
   "display_name": "Python 3",
   "language": "python",
   "name": "python3"
  },
  "language_info": {
   "codemirror_mode": {
    "name": "ipython",
    "version": 3
   },
   "file_extension": ".py",
   "mimetype": "text/x-python",
   "name": "python",
   "nbconvert_exporter": "python",
   "pygments_lexer": "ipython3",
   "version": "3.9.0"
  }
 },
 "nbformat": 4,
 "nbformat_minor": 4
}
