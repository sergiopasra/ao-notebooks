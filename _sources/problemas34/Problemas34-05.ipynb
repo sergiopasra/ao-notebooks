{
 "cells": [
  {
   "cell_type": "markdown",
   "metadata": {},
   "source": [
    "# Problema 5\n",
    "El flujo neto medido para una estrella es de 40 cuentas/s con un cierto telescopio e instrumento CCD, empleando un filtro estrecho Δλ = 1 nm. Determinar la relación señal-ruido (SNR) para una observación de una estrella 2 magnitudes más débil que se observe con un telescopio del doble de diámetro y el mismo instrumento durante un tiempo de exposición de 90 s y con un filtro centrado en la misma longitud de onda pero con Δλ = 2 nm. \n",
    "\n",
    "Suponer que el espectro del objeto es aproximadamente plano dentro de los filtros.\n",
    "\n",
    "Suponer además, que la ganancia g=1, que el nivel de pedestal ha sido sustraído y que el ruido de lectura y la contribución del cielo son despreciables.\n",
    "\n",
    "## Planteamiento\n",
    "Para el caso de fotometría de apertura, la SNR del objeto es:\n",
    "\n",
    "$$\n",
    "\\mathrm{SNR}(\\mathrm{O}) = \\frac{ N_{\\mathrm{O}} }{\\sqrt{\\frac{1}{g} N_{\\mathrm{O+C}} + A\\left(\\frac{\\sigma_{R}}{g}\\right)^2}} =  \\frac{ N_{\\mathrm{O}} }{\\sqrt{\\frac{1}{g} N_{\\mathrm{O}} + \\frac{1}{g} A N_{\\mathrm{C}} + A\\left(\\frac{\\sigma_{R}}{g}\\right)^2}}\n",
    "$$\n",
    "\n",
    "En nuestro caso, la mayor parte de los factores desaparecen para acabar con una relación mucho más sencilla:\n",
    "\n",
    " \n",
    " \n",
    "$$\n",
    "\\mathrm{SNR}(\\mathrm{O}) =  \\frac{N_{\\mathrm{O}} }{\\sqrt{ N_{\\mathrm{O}}}} = \\sqrt{ N_{\\mathrm{O}}}\n",
    "$$\n",
    "\n",
    "Simplemente tenemos que calcular el número de cuentas esperado para nuestro objeto problema. \n",
    "\n",
    "Para empezar es dos mágnitudes más debil que $n_{1}$ = 40 ADU /s, $\\Delta m = -2$\n",
    "\n",
    "$ \\Delta m = m_1 - m_2 = -2.5 log (n_1 / n_2) $\n",
    "\n",
    "de donde:\n",
    "\n",
    "$ n_2 = n_1 10^{0.4 \\Delta m} $"
   ]
  },
  {
   "cell_type": "code",
   "execution_count": null,
   "metadata": {},
   "outputs": [],
   "source": [
    "import numpy as np\n",
    "import astropy.units as u\n",
    "from astropy.coordinates import Angle\n",
    "import matplotlib.pyplot as plt"
   ]
  },
  {
   "cell_type": "code",
   "execution_count": null,
   "metadata": {},
   "outputs": [],
   "source": [
    "n1 = 40.0\n",
    "delta_m = -2.0\n",
    "n2 = n1 * 10**(0.4 * delta_m)\n",
    "\n",
    "print('n1 (referencia)', n1, 'ADU/s')\n",
    "print('n2', n2, \"ADU/s\")"
   ]
  },
  {
   "cell_type": "markdown",
   "metadata": {},
   "source": [
    "Recordar que el número de fotones dentro de una cierta banda con transmisión T es proporcional a:\n",
    "\n",
    "$$N \\propto \\int \\mathrm{d}\\lambda \\, \\frac{e_{\\lambda}}{h c / \\lambda} T(\\lambda) $$\n",
    "\n",
    "Si el filtro es cuadrado y estrecho, podemos aproximar la integral por\n",
    "\n",
    "$$$$N \\propto \\Delta \\lambda \\, \\frac{e_{\\lambda}}{h c / \\lambda_0}$$\n",
    "\n",
    "\n",
    "Si los filtros están centrados en la misma longitud de onda, pero tienen anchuras diferentes, tendremos que:\n",
    "\n",
    "$$\\frac{N_1}{N_2} = \\frac{\\Delta \\lambda_1}{\\Delta \\lambda_2}$$\n"
   ]
  },
  {
   "cell_type": "markdown",
   "metadata": {},
   "source": [
    "Para el objeto problema, el número de cuentas será proporcional al tiempo, a la razón de áreas de los telescopios y la razón de anchos de los filtros, que son los factores que hacen que lleguen más fotones al detector.\n",
    "\n",
    "\n",
    "$$\\frac{N_1}{N_2} = \\frac{D_1^2}{D_2^2}\\frac{t_1}{t_2} \\frac{\\Delta \\lambda_1}{\\Delta \\lambda_2}$$\n",
    "\n",
    "Finalmente, en nuestro caso nos dan el número de cuentas por segundo $n_2$ en lugar de $N_2$. Despejamos:\n",
    "\n",
    "$$N_1  = \\frac{N_2}{t_2} \\frac{D_1^2}{D_2^2} \\frac{\\Delta \\lambda_1}{\\Delta \\lambda_2} t_1 = n_2 \\frac{D_1^2}{D_2^2} \\frac{\\Delta \\lambda_1}{\\Delta \\lambda_2} t_1$$\n"
   ]
  },
  {
   "cell_type": "code",
   "execution_count": null,
   "metadata": {},
   "outputs": [],
   "source": [
    "# Para el objeto problema, el número de cuentas será proporcional al tiempo, a la razón de áreas de los telescopios\n",
    "# y la razón de anchos de los filtros\n",
    "ratio_diametros = 2\n",
    "ratio_areas = ratio_diametros**2\n",
    "ratio_filtro = 2 # 2 nm / 1 nm\n",
    "texp = 90 # segundos\n",
    "\n",
    "N_O = n2 * ratio_filtro * ratio_areas * texp\n",
    "print('Cuentas del objeto', N_O)\n",
    "print('SNR', np.sqrt(N_O))"
   ]
  }
 ],
 "metadata": {
  "kernelspec": {
   "display_name": "Python 3",
   "language": "python",
   "name": "python3"
  },
  "language_info": {
   "codemirror_mode": {
    "name": "ipython",
    "version": 3
   },
   "file_extension": ".py",
   "mimetype": "text/x-python",
   "name": "python",
   "nbconvert_exporter": "python",
   "pygments_lexer": "ipython3",
   "version": "3.10.0"
  }
 },
 "nbformat": 4,
 "nbformat_minor": 2
}
