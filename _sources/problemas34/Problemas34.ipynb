{
 "cells": [
  {
   "cell_type": "code",
   "execution_count": 1,
   "metadata": {},
   "outputs": [],
   "source": [
    "import numpy as np\n",
    "import astropy.units as u\n",
    "from astropy.coordinates import Angle"
   ]
  },
  {
   "cell_type": "markdown",
   "metadata": {},
   "source": [
    "# Problema 1\n",
    "Adoptando para un lugar de observación el siguiente valor para el parámetro de Fried $r_0(0.5\\mu m) = 10 cm$ y su dependencia habitual con la longitud de onda. ¿Cuál será el *seeing* con el que se observaría en el óptico (λ = 500 nm) y el infrarrojo cercano, (λ = 2.0 μm)?. Determinar a que longitud de onda la difracción comienza a dominar para un telescopio de diámetro D = 2 m.\n",
    "\n",
    "## Planteamiento\n",
    "\n",
    "En condiciones de turbulencia, el parámetro que determina la resolución es el parámetro de Fried, $r_0 \\propto \\lambda^{6/5} $. En este caso, suponemos que el *seeing* vendrá dado por $ \\alpha = 1.2 \\ \\lambda / r_0$ (en radianes).\n",
    "\n",
    "Para que la difracción domine, el parámetro de Fried tiene que ser mayor que $D$. $r_0(\\lambda_D) \\ge D$\n",
    "\n",
    "$\\lambda_D = \\lambda_0 \\times (D / R_0)^{5/6}$"
   ]
  },
  {
   "cell_type": "code",
   "execution_count": 2,
   "metadata": {},
   "outputs": [
    {
     "name": "stdout",
     "output_type": "stream",
     "text": [
      "r0 óptico: 10.0 cm\n",
      "r0 NIR: 52.78031643091577 cm\n"
     ]
    }
   ],
   "source": [
    "r0_optico = 10 * u.cm\n",
    "wl_optico = 0.5 * u.micron\n",
    "wl_nir = 2.0 * u.micron\n",
    "r0_nir = r0_optico * (wl_nir / wl_optico) ** (6/5)\n",
    "print('r0 óptico:', r0_optico)\n",
    "print('r0 NIR:', r0_nir)"
   ]
  },
  {
   "cell_type": "code",
   "execution_count": 3,
   "metadata": {},
   "outputs": [
    {
     "name": "stdout",
     "output_type": "stream",
     "text": [
      "La difracción domina a partir de  6.069622310029172 micron\n"
     ]
    }
   ],
   "source": [
    "D = 2 * u.m\n",
    "wl_d = (wl_optico * (D / r0_optico)**(5/6)).to(u.micron) \n",
    "print('La difracción domina a partir de ', wl_d)"
   ]
  },
  {
   "cell_type": "code",
   "execution_count": 4,
   "metadata": {},
   "outputs": [
    {
     "name": "stdout",
     "output_type": "stream",
     "text": [
      "seeing optico (arcsec) 1.2375899999999997\n",
      "seeing nir (arcsec) 0.9379178327738017\n"
     ]
    }
   ],
   "source": [
    "# seeing\n",
    "# alpha_optico = (1.2 * wl_optico / r0_optico).to(u.arcsec, equivalencies=u.dimensionless_angles())\n",
    "# print(alpha_optico)\n",
    "\n",
    "alpha_optico = 206265 * (1.2 * wl_optico.to_value(u.cm) / r0_optico.to_value(u.cm))\n",
    "print('seeing optico (arcsec)', alpha_optico)\n",
    "\n",
    "# alpha_nir = (1.2 * wl_nir / r0_nir).to(u.arcsec, equivalencies=u.dimensionless_angles())\n",
    "# print(alpha_nir)\n",
    "\n",
    "alpha_nir = 206265 * (1.2 * wl_nir.to_value(u.cm) / r0_nir.to_value(u.cm))\n",
    "print('seeing nir (arcsec)', alpha_nir)"
   ]
  },
  {
   "cell_type": "markdown",
   "metadata": {},
   "source": [
    "# Problema 2\n",
    "\n",
    "El telescopio William Herschel (WHT) del Observatorio del Roque de Los Muchachos (La Palma) tiene un diámetro de 4.2 m y una relación focal f = 10.94 en el foco Cassegrain, calcular:\n",
    "\n",
    "* Las dimensiones mínimas que debe tener un detector acoplado al foco Cassegrain para poder obtener una imagen completa de una galaxia de 1´x 2´de tamaño aparente.\n",
    "* ¿Qué tamaño debe tener cada pixel del detector utilizado para no perder resolución espacial si el seeing es de 0.5´´?\n",
    "* Si se observa en el IR ¿necesitaríamos modificar algún parámetro del detector? \n",
    "\n",
    "## Planteamiento\n",
    "\n",
    "Dada la relación focal (f) y el diámetro del espejo (D) es posible calcular la distancia focal (F) y a partir de ella, la escala de placa.  \n",
    "\n",
    "\n",
    "$$f = F / D $$"
   ]
  },
  {
   "cell_type": "code",
   "execution_count": 5,
   "metadata": {},
   "outputs": [
    {
     "name": "stdout",
     "output_type": "stream",
     "text": [
      "Distancia focal: 45.948 m\n"
     ]
    }
   ],
   "source": [
    "D = 4.2 * u.m\n",
    "f_ratio = 10.94\n",
    "f_dist = f_ratio * D\n",
    "print('Distancia focal:', f_dist)"
   ]
  },
  {
   "cell_type": "code",
   "execution_count": 6,
   "metadata": {},
   "outputs": [
    {
     "name": "stdout",
     "output_type": "stream",
     "text": [
      "0.021763732915469663 rad / m\n",
      "4.489092153022904 arcsec / mm\n"
     ]
    }
   ],
   "source": [
    "plate_scale = 1 / f_dist * u.rad\n",
    "print(plate_scale)\n",
    "print(plate_scale.to(u.arcsec / u.mm))"
   ]
  },
  {
   "cell_type": "code",
   "execution_count": 7,
   "metadata": {},
   "outputs": [
    {
     "name": "stdout",
     "output_type": "stream",
     "text": [
      "Lado A 13.365731411772575 mm\n",
      "Lado B 26.73146282354515 mm\n"
     ]
    }
   ],
   "source": [
    "# Para cubrir un 1'x 2'\n",
    "ang_a = 1 * u.arcmin\n",
    "ang_b = 2 * u.arcmin\n",
    "lado_a = ang_a / plate_scale\n",
    "lado_b = ang_b / plate_scale\n",
    "print('Lado A', lado_a.to(u.mm))\n",
    "print('Lado B', lado_b.to(u.mm))"
   ]
  },
  {
   "cell_type": "code",
   "execution_count": 8,
   "metadata": {},
   "outputs": [
    {
     "name": "stdout",
     "output_type": "stream",
     "text": [
      "Pixel (ang) 0.25 arcsec\n",
      "Pixel (phy) 55.690547549052404 micron\n"
     ]
    }
   ],
   "source": [
    "# Para no perder resolución, la FWHM tiene que ser muestreada con 2 pixels\n",
    "# luego cada pixel tiene que tener\n",
    "seeing_fwhm = 0.5 * u.arcsec\n",
    "pix_ang = seeing_fwhm / 2\n",
    "print('Pixel (ang)', pix_ang)\n",
    "pix_phy = pix_ang / plate_scale\n",
    "print('Pixel (phy)', pix_phy.to(u.micron))"
   ]
  },
  {
   "cell_type": "markdown",
   "metadata": {},
   "source": [
    "Para el IR, el seeing será menor, luego necesitaremos pixels más pequeños\n",
    "Por ejemplo, con un seeing de 0.35''"
   ]
  },
  {
   "cell_type": "code",
   "execution_count": 9,
   "metadata": {},
   "outputs": [
    {
     "name": "stdout",
     "output_type": "stream",
     "text": [
      "Pixel (ang) 0.175 arcsec\n",
      "Pixel (phy) 38.983383284336675 micron\n"
     ]
    }
   ],
   "source": [
    "# Para no perder resolución, la FWHM tiene que ser muestreada con 2 pixels\n",
    "# luego cada pixel tiene que tener\n",
    "seeing_fwhm = 0.35 * u.arcsec\n",
    "pix_ang = seeing_fwhm / 2\n",
    "print('Pixel (ang)', pix_ang)\n",
    "pix_phy = pix_ang / plate_scale\n",
    "print('Pixel (phy)', pix_phy.to(u.micron))"
   ]
  },
  {
   "cell_type": "markdown",
   "metadata": {},
   "source": [
    "# Problema 3\n",
    "Se dispone de un detector CCD de 2048 × 2048 píxeles de 15 μm. Determine el campo registrado con un telescopio de focal F = 6 m y el número de exposiciones necesarias para cubrir un campo de 30×30 arcmin2. \n",
    "\n",
    "Si con este detector acoplado a un telescopio se obtienen un total de 2000 cuentas al observar una estrella durante 1000 segundos, ¿cuántas cuentas se obtendrían al observar una estrella 1 magnitud más débil y con un telescopio del doble de diámetro durante el mismo tiempo?\n",
    "\n",
    "## Planteamiento\n",
    "\n",
    "Dada la distancia focal, la escala de placa es $1 / F$ (en radianes por unidad de longitud)"
   ]
  },
  {
   "cell_type": "code",
   "execution_count": 10,
   "metadata": {},
   "outputs": [
    {
     "name": "stdout",
     "output_type": "stream",
     "text": [
      "Distancia focal: 6.0 m\n",
      "Escala de placa: 0.16666666666666666 rad / m\n",
      "Escala de placa: 0.00016666666666666666 rad / mm\n",
      "Escala de placa: 34.37746770784939 arcsec / mm\n",
      "Escala de placa: 34.3775\n"
     ]
    }
   ],
   "source": [
    "f_dist = 6 * u.m\n",
    "plate_scale = 1 / f_dist * u.rad\n",
    "print('Distancia focal:', f_dist)\n",
    "print('Escala de placa:', plate_scale)\n",
    "print('Escala de placa:', plate_scale.to(u.rad / u.mm))\n",
    "print('Escala de placa:', plate_scale.to(u.arcsec / u.mm))\n",
    "print('Escala de placa:', 206265 / 6000.0)"
   ]
  },
  {
   "cell_type": "code",
   "execution_count": 11,
   "metadata": {},
   "outputs": [
    {
     "name": "stdout",
     "output_type": "stream",
     "text": [
      "Lado del detector 30.72 mm\n",
      "Ángulo subtendido por el lado del detector 1056.0758079851332 arcsec 17.60126346641889 arcmin\n",
      "Ángulo sólido del detector: 1115296.1122114523 arcsec2 309.8044756142923 arcmin2\n",
      "Campo para cubrir 900.0 arcmin2\n",
      "Razón de ángulos sólidos 2.90505809580525\n",
      "Número de exposiciones: 3\n"
     ]
    }
   ],
   "source": [
    "# Ángulo por pixel\n",
    "pix_size = 15 * u.micron\n",
    "detector_size1 = 2048 * pix_size\n",
    "detector_size2 = 2048 * pix_size\n",
    "print('Lado del detector', detector_size1.to(u.mm))\n",
    "detector_ang1 = plate_scale * detector_size1\n",
    "detector_ang2 = plate_scale * detector_size2\n",
    "print('Ángulo subtendido por el lado del detector', detector_ang1.to(u.arcsec), detector_ang1.to(u.arcmin))\n",
    "detector_solid_ang = detector_ang1 * detector_ang2\n",
    "print('Ángulo sólido del detector:', detector_solid_ang.to(u.arcsec * u.arcsec), detector_solid_ang.to(u.arcmin * u.arcmin))\n",
    "# \n",
    "campo = 30 * u.arcmin * 30 * u.arcmin\n",
    "print('Campo para cubrir',campo)\n",
    "ratio = (campo / detector_solid_ang).to('')\n",
    "print('Razón de ángulos sólidos', ratio)\n",
    "num = int(np.ceil(ratio)) # Redondeo hacia arriba y conversión a entero\n",
    "print('Número de exposiciones:', num)\n"
   ]
  },
  {
   "cell_type": "markdown",
   "metadata": {},
   "source": [
    "El número de fotones o el número de cuentas (ignorando el bias) es proporcional al tiempo de exposición y proporcional al área colectora. El área colectora es proporcional al cuadrado del diámetro del primario.\n",
    "\n",
    "Si de la estrella 1 recibimos $n_1 = N_1 / t$ cuentas, de la estrella 2 (1 mag más débil) recibiremos $n_2$. \n",
    "\n",
    "*Recordar que 1 magnitud más débil significa que $m_2 = m_1 + 1$*\n",
    "\n",
    "$ \\Delta m = m_1 - m_2 = -2.5 log (n_1 / n_2) $\n",
    "\n",
    "de donde:\n",
    "\n",
    "$ n_2 = n_1 10^{0.4 \\Delta m} $"
   ]
  },
  {
   "cell_type": "code",
   "execution_count": 12,
   "metadata": {},
   "outputs": [
    {
     "name": "stdout",
     "output_type": "stream",
     "text": [
      "Total NA 2000.0\n",
      "Total NB 796.2143411069944\n"
     ]
    }
   ],
   "source": [
    "# Si de la estrella 1 recibimos N / t cuentas, de la estrella 2 (1 mag más débil) recibiremos\n",
    "delta_m = -1.0\n",
    "NA = 2000.0\n",
    "texp = 1000\n",
    "na = NA / texp\n",
    "nb = na * 10**(0.4 * delta_m)\n",
    "\n",
    "NB = nb * texp\n",
    "\n",
    "print('Total NA', NA)\n",
    "print('Total NB', NB)"
   ]
  },
  {
   "cell_type": "markdown",
   "metadata": {},
   "source": [
    "Si el tiempo de exposición y otros factores se mantienen constantes, entre dos telescopios la razón del número de cuentas (descontando el bias) será igual a la razón de las áreas colectoras, que en general se puede considerar proporcional al diámetro de M1.\n",
    "\n",
    "$\\frac{N_{T1}}{N_{T2}} = \\frac{A_{T1}}{A_{T2}} = \\left(\\frac{D_{T1}}{D_{T2}}\\right)^2$ "
   ]
  },
  {
   "cell_type": "code",
   "execution_count": 13,
   "metadata": {},
   "outputs": [
    {
     "name": "stdout",
     "output_type": "stream",
     "text": [
      "Estrella en telescopio 2 796.2143411069944 cuentas\n",
      "Estrella en telescopio 1 3184.8573644279777 cuentas\n"
     ]
    }
   ],
   "source": [
    "# El telescopio 1 tiene el diámetro mayor\n",
    "# Nuestra estrella tiene estas cuentas en el telescopio 2\n",
    "NB_2 = NB\n",
    "print('Estrella en telescopio 2', NB_2, 'cuentas')\n",
    "D_ratio12 = 2\n",
    "NB_1 = NB_2 * D_ratio12**2\n",
    "print('Estrella en telescopio 1', NB_1, 'cuentas')"
   ]
  },
  {
   "cell_type": "markdown",
   "metadata": {},
   "source": [
    "# Problema 4\n",
    "Calcular la relación señal/ruido (S/N) de observaciones fotométricas realizadas con un detector CCD tras obtener el flujo en una apertura de 50 pix * pix. La señal total de la estrella en la apertura es de 30000 ADU (1 ADU = 5 e- para este CCD), el nivel de fondo de cielo es de 1000 ADU por pixel y el ruido de lectura es de 5 ADU.\n",
    "\n",
    "Considerar ya sustraído el nivel de pedestal y que la determinación del cielo tiene un error despreciable.\n",
    "\n",
    "## Planteamiento\n",
    "Para el caso de fotometría de apertura, la SNR del objeto es:\n",
    "\n",
    "$$\n",
    "\\mathrm{SNR}(\\mathrm{O}) = \\frac{ N_{\\mathrm{O}} }{\\sqrt{\\frac{1}{g} N_{\\mathrm{O+C}} + A\\left(\\frac{\\sigma_{R}}{g}\\right)^2}} =  \\frac{ N_{\\mathrm{O}} }{\\sqrt{\\frac{1}{g} N_{\\mathrm{O}} + \\frac{1}{g} A N_{\\mathrm{C}} + A\\left(\\frac{\\sigma_{R}}{g}\\right)^2}}\n",
    "$$\n",
    "\n",
    "Simplemente tenemos que identificar los términos. En la anterior ecuación $\\sigma_{R}$ está medida en electrones, luego $\\sigma_{R}/g$ está medida en ADUSs."
   ]
  },
  {
   "cell_type": "code",
   "execution_count": 14,
   "metadata": {},
   "outputs": [
    {
     "name": "stdout",
     "output_type": "stream",
     "text": [
      "SNR: 228.4160962880643\n"
     ]
    }
   ],
   "source": [
    "N_O = 30000 # ADU\n",
    "N_C = 1000 # ADU / pix^2\n",
    "A = 50 # pix^2\n",
    "g = 5.0 # e / ADU\n",
    "sigma_r_g = 5.0 # ADU\n",
    "\n",
    "SNR = N_O / np.sqrt(N_O / g + N_C * A / g + A * sigma_r_g**2)\n",
    "print('SNR:', SNR)"
   ]
  },
  {
   "cell_type": "code",
   "execution_count": 15,
   "metadata": {},
   "outputs": [
    {
     "name": "stdout",
     "output_type": "stream",
     "text": [
      "SNR: 56.19514869490164\n"
     ]
    }
   ],
   "source": [
    "# ¿Si hubiéramos observado durante la decima parte de tiempo?\n",
    "N_O = 3000 # ADU\n",
    "N_C = 100 # ADU / pix^2\n",
    "A = 50 # pix^2\n",
    "g = 5.0 # e / ADU\n",
    "sigma_r_g = 5.0 # ADU\n",
    "\n",
    "SNR = N_O / np.sqrt(N_O / g + N_C * A / g + A * sigma_r_g**2)\n",
    "print('SNR:', SNR)"
   ]
  },
  {
   "cell_type": "code",
   "execution_count": 16,
   "metadata": {},
   "outputs": [
    {
     "name": "stdout",
     "output_type": "stream",
     "text": [
      "SNR: 7.989354619369612\n"
     ]
    }
   ],
   "source": [
    "# ¿Si hubiéramos observado durante la centésima parte de tiempo?\n",
    "N_O = 300 # ADU\n",
    "N_C = 10 # ADU / pix^2\n",
    "A = 50 # pix^2\n",
    "g = 5.0 # e / ADU\n",
    "sigma_r_g = 5.0 # ADU\n",
    "\n",
    "SNR = N_O / np.sqrt(N_O / g + N_C * A / g + A * sigma_r_g**2)\n",
    "print('SNR:', SNR)"
   ]
  },
  {
   "cell_type": "markdown",
   "metadata": {},
   "source": [
    "# Problema 5\n",
    "El flujo neto medido para una estrella es de 40 cuentas/s con un cierto telescopio e instrumento CCD, empleando un filtro estrecho Δλ = 1 nm. Determinar la relación señal-ruido (S/N) para una observación de una estrella dos magnitudes más débil que se observe con un telescopio del doble de diámetro y el mismo instrumento durante un tiempo de exposición de 90 s y con un filtro de Δλ = 2 nm. \n",
    "\n",
    "Suponer que el espectro del objeto es aproximadamente plano dentro de los filtros.\n",
    "\n",
    "Suponer además, que la ganancia g=1, que el nivel de pedestal ha sido sustraído y que el ruido de lectura y la contribución del cielo son despreciables.\n",
    "\n",
    "## Planteamiento\n",
    "Para el caso de fotometría de apertura, la SNR del objeto es:\n",
    "\n",
    "$$\n",
    "\\mathrm{SNR}(\\mathrm{O}) = \\frac{ N_{\\mathrm{O}} }{\\sqrt{\\frac{1}{g} N_{\\mathrm{O+C}} + A\\left(\\frac{\\sigma_{R}}{g}\\right)^2}} =  \\frac{ N_{\\mathrm{O}} }{\\sqrt{\\frac{1}{g} N_{\\mathrm{O}} + \\frac{1}{g} A N_{\\mathrm{C}} + A\\left(\\frac{\\sigma_{R}}{g}\\right)^2}}\n",
    "$$\n",
    "\n",
    "En nuestro caso:\n",
    "\n",
    " \n",
    " \n",
    "$$\n",
    "\\mathrm{SNR}(\\mathrm{O}) =  \\frac{N_{\\mathrm{O}} }{\\sqrt{ N_{\\mathrm{O}}}} = \\sqrt{ N_{\\mathrm{O}}}\n",
    "$$\n",
    "\n",
    "Simplemente tenemos que calcular el número de cuentas esperado para nuestro objeto problema. \n",
    "\n",
    "Para empezar es dos mágnitudes más debil que $n_{1}$ = 40 ADU /s, $\\Delta m = -2$\n",
    "\n",
    "$ \\Delta m = m_1 - m_2 = -2.5 log (n_1 / n_2) $\n",
    "\n",
    "de donde:\n",
    "\n",
    "$ n_2 = n_1 10^{0.4 \\Delta m} $"
   ]
  },
  {
   "cell_type": "code",
   "execution_count": 17,
   "metadata": {},
   "outputs": [
    {
     "name": "stdout",
     "output_type": "stream",
     "text": [
      "n1 (referencia) 40.0 ADU/s\n",
      "n2 6.3395727698444535 ADU/s\n"
     ]
    }
   ],
   "source": [
    "n1 = 40.0\n",
    "delta_m = -2.0\n",
    "n2 = n1 * 10**(0.4 * delta_m)\n",
    "\n",
    "print('n1 (referencia)', n1, 'ADU/s')\n",
    "print('n2', n2, \"ADU/s\")"
   ]
  },
  {
   "cell_type": "markdown",
   "metadata": {},
   "source": [
    "Recordar que el número de fotones dentro de una cierta banda con transmisión T es:\n",
    "\n",
    "$$n = \\int \\mathrm{d}\\nu \\, \\frac{f_{nu}}{h \\nu} T(\\nu) $$\n",
    "\n",
    "Si el filtro es cuadrado, con ancho $\\Delta \\nu$ y el flujo es aproximadamente constante dentro del filtro:\n",
    "\n",
    "$$n \\propto \\Delta \\nu$$\n",
    "\n",
    "Y el mismo desarrollo puede hacerse en longitud de onda."
   ]
  },
  {
   "cell_type": "code",
   "execution_count": 18,
   "metadata": {},
   "outputs": [
    {
     "name": "stdout",
     "output_type": "stream",
     "text": [
      "Cuentas del objeto 4564.492394288007\n",
      "SNR 67.56102718496815\n"
     ]
    }
   ],
   "source": [
    "# Para el objeto problema, el número de cuentas será proporcional al tiempo, a la razón de áreas de los telescopios\n",
    "# y la razón de anchos de los filtros\n",
    "ratio_d = 2\n",
    "ratio_a = ratio_d**2\n",
    "ratio_filtro = 2 # 2 nm / 1 nm\n",
    "texp = 90 # segundos\n",
    "\n",
    "N_O = n2 * ratio_filtro * ratio_a * texp\n",
    "print('Cuentas del objeto', N_O)\n",
    "print('SNR', np.sqrt(N_O))"
   ]
  },
  {
   "cell_type": "code",
   "execution_count": null,
   "metadata": {},
   "outputs": [],
   "source": []
  }
 ],
 "metadata": {
  "kernelspec": {
   "display_name": "Python 3",
   "language": "python",
   "name": "python3"
  },
  "language_info": {
   "codemirror_mode": {
    "name": "ipython",
    "version": 3
   },
   "file_extension": ".py",
   "mimetype": "text/x-python",
   "name": "python",
   "nbconvert_exporter": "python",
   "pygments_lexer": "ipython3",
   "version": "3.7.5"
  }
 },
 "nbformat": 4,
 "nbformat_minor": 2
}
