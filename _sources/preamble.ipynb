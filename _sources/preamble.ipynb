{
 "cells": [
  {
   "cell_type": "markdown",
   "id": "ea2fb9d5",
   "metadata": {},
   "source": [
    "% Creates a custom role for inserting raw latex\n",
    "```{role} raw-latex(raw)\n",
    ":format: latex\n",
    "```\n",
    "\n",
    "{raw-latex}`\\section*{Uso de Python}`\n",
    "{raw-latex}`\\addcontentsline{toc}{chapter}{Uso de Python}`\n",
    "\n",
    "\n",
    "Los problemas presentados a continuación están resueltos utilizando Python\n",
    "con la ayuda de una serie de paquetes adicionales, como `numpy` o `matplotlib`.\n",
    "\n",
    "En particular se utiliza `astropy` para facilitar el manejo de ángulos\n",
    "en grados y la conversión de unidades.\n",
    "\n",
    "\n",
    "Para manejar ángulos y unidades, necesitamos la clase `Angle`, así como \n",
    "el módulo especial `astropy.units`."
   ]
  },
  {
   "cell_type": "code",
   "execution_count": 1,
   "id": "5f8f1701",
   "metadata": {},
   "outputs": [],
   "source": [
    "from astropy.coordinates import Angle\n",
    "import astropy.units as u"
   ]
  },
  {
   "cell_type": "markdown",
   "id": "efee81c8",
   "metadata": {},
   "source": [
    "Con este módulo, ya podemos manejar ángulos de manera natural. Por ejemplo,\n",
    "creando un objeto con grados minutos y segundos:"
   ]
  },
  {
   "cell_type": "code",
   "execution_count": 2,
   "id": "a183b35a",
   "metadata": {},
   "outputs": [
    {
     "data": {
      "text/latex": [
       "$45^\\circ34{}^\\prime12.3{}^{\\prime\\prime}$"
      ],
      "text/plain": [
       "<Angle 45.57008333 deg>"
      ]
     },
     "execution_count": 2,
     "metadata": {},
     "output_type": "execute_result"
    }
   ],
   "source": [
    "Angle(\"45d34m12.3s\")"
   ]
  },
  {
   "cell_type": "code",
   "execution_count": 3,
   "id": "a3976c9f",
   "metadata": {},
   "outputs": [
    {
     "data": {
      "text/latex": [
       "$5^{\\mathrm{h}}12^{\\mathrm{m}}12.23^{\\mathrm{s}}$"
      ],
      "text/plain": [
       "<Angle 5.20339722 hourangle>"
      ]
     },
     "execution_count": 3,
     "metadata": {},
     "output_type": "execute_result"
    }
   ],
   "source": [
    "Angle(\"5h12m12.23s\")"
   ]
  },
  {
   "cell_type": "markdown",
   "id": "b378f47f",
   "metadata": {},
   "source": [
    "Pueden verse todos los formatos disponibles en [la documentación de astropy](https://docs.astropy.org/en/stable/api/astropy.coordinates.Angle.html)\n",
    "\n",
    "Usando `Angle` las funciones matemáticas devuelven los resultados correctos:"
   ]
  },
  {
   "cell_type": "code",
   "execution_count": 4,
   "id": "88414fde",
   "metadata": {},
   "outputs": [
    {
     "name": "stdout",
     "output_type": "stream",
     "text": [
      "El valor del coseno de 60 grados es \n"
     ]
    },
    {
     "data": {
      "text/latex": [
       "$0.5 \\; \\mathrm{}$"
      ],
      "text/plain": [
       "<Quantity 0.5>"
      ]
     },
     "execution_count": 4,
     "metadata": {},
     "output_type": "execute_result"
    }
   ],
   "source": [
    "import numpy as np\n",
    "print(\"El valor del coseno de 60 grados es \")\n",
    "np.cos( Angle(60 * u.deg))"
   ]
  }
 ],
 "metadata": {
  "jupytext": {
   "formats": "md:myst",
   "text_representation": {
    "extension": ".md",
    "format_name": "myst"
   }
  },
  "kernelspec": {
   "display_name": "Python 3",
   "language": "python",
   "name": "python3"
  },
  "language_info": {
   "codemirror_mode": {
    "name": "ipython",
    "version": 3
   },
   "file_extension": ".py",
   "mimetype": "text/x-python",
   "name": "python",
   "nbconvert_exporter": "python",
   "pygments_lexer": "ipython3",
   "version": "3.11.6"
  },
  "source_map": [
   11,
   32,
   35,
   40,
   44,
   46,
   52
  ]
 },
 "nbformat": 4,
 "nbformat_minor": 5
}