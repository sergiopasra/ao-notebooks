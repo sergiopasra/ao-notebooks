{
 "cells": [
  {
   "cell_type": "markdown",
   "id": "5f1441f7",
   "metadata": {},
   "source": [
    "# Uso de python\n",
    "\n",
    "\n",
    "Los problemas presentados a continuación están resueltos utilizando Python\n",
    "con la ayuda de una serie de paquetes adicionales, como `numpy` o `matplotlib`.\n",
    "\n",
    "En particular se utiliza `astropy` para facilitar el manejo de ángulos\n",
    "en grados y la conversión de unidades.\n",
    "\n",
    "\n",
    "Para manejar ángulos y unidades, necesitamos la clase `Angle`, así como \n",
    "el módulo especial `astropy.units`."
   ]
  },
  {
   "cell_type": "code",
   "execution_count": 1,
   "id": "2e33df75",
   "metadata": {},
   "outputs": [],
   "source": [
    "from astropy.coordinates import Angle\n",
    "import astropy.units as u"
   ]
  },
  {
   "cell_type": "markdown",
   "id": "61ddb667",
   "metadata": {},
   "source": [
    "Con este módulo, ya podemos manejar ángulos de manera natural. Por ejemplo,\n",
    "creando un objeto con grados minutos y segundos:"
   ]
  },
  {
   "cell_type": "code",
   "execution_count": 2,
   "id": "82165416",
   "metadata": {},
   "outputs": [
    {
     "data": {
      "text/latex": [
       "$45^\\circ34{}^\\prime12.3{}^{\\prime\\prime}$"
      ],
      "text/plain": [
       "<Angle 45.57008333 deg>"
      ]
     },
     "execution_count": 2,
     "metadata": {},
     "output_type": "execute_result"
    }
   ],
   "source": [
    "Angle(\"45d34m12.3s\")"
   ]
  },
  {
   "cell_type": "code",
   "execution_count": 3,
   "id": "937d1819",
   "metadata": {},
   "outputs": [
    {
     "name": "stderr",
     "output_type": "stream",
     "text": [
      "WARNING: AstropyDeprecationWarning: dms_to_degrees (or creating an Angle with a tuple) has ambiguous behavior when the degree value is 0. Use another way of creating angles instead (e.g. a less ambiguous string like '-0d1m2.3s'). [astropy.coordinates.angles]\n"
     ]
    },
    {
     "data": {
      "text/latex": [
       "$45^\\circ34{}^\\prime12.23{}^{\\prime\\prime}$"
      ],
      "text/plain": [
       "<Angle 45.57006389 deg>"
      ]
     },
     "execution_count": 3,
     "metadata": {},
     "output_type": "execute_result"
    }
   ],
   "source": [
    "Angle((45, 34, 12.23), unit='degree')"
   ]
  },
  {
   "cell_type": "code",
   "execution_count": 4,
   "id": "ab2a664b",
   "metadata": {},
   "outputs": [
    {
     "name": "stderr",
     "output_type": "stream",
     "text": [
      "WARNING: AstropyDeprecationWarning: hms_to_hours (or creating an Angle with a tuple) has ambiguous behavior when the hour value is 0. Use another way of creating angles instead (e.g. a less ambiguous string like '-0h1m2.3s'). [astropy.coordinates.angles]\n"
     ]
    },
    {
     "data": {
      "text/latex": [
       "$5^{\\mathrm{h}}12^{\\mathrm{m}}12.23^{\\mathrm{s}}$"
      ],
      "text/plain": [
       "<Angle 5.20339722 hourangle>"
      ]
     },
     "execution_count": 4,
     "metadata": {},
     "output_type": "execute_result"
    }
   ],
   "source": [
    "Angle((5, 12, 12.23), unit='hourangle')"
   ]
  },
  {
   "cell_type": "markdown",
   "id": "be4c2e4c",
   "metadata": {},
   "source": [
    "Pueden verse todos los formatos disponibles en [la documentación de astropy](https://docs.astropy.org/en/stable/api/astropy.coordinates.Angle.html)\n",
    "\n",
    "Usando `Angle` las funciones matemáticas devuelven los resultados correctos:"
   ]
  },
  {
   "cell_type": "code",
   "execution_count": 5,
   "id": "a39de77a",
   "metadata": {},
   "outputs": [
    {
     "data": {
      "text/latex": [
       "$0.5 \\; \\mathrm{}$"
      ],
      "text/plain": [
       "<Quantity 0.5>"
      ]
     },
     "execution_count": 5,
     "metadata": {},
     "output_type": "execute_result"
    }
   ],
   "source": [
    "import numpy as np\n",
    "np.cos( Angle((60, 0, 0), unit='degree') )"
   ]
  }
 ],
 "metadata": {
  "jupytext": {
   "formats": "md:myst",
   "text_representation": {
    "extension": ".md",
    "format_name": "myst"
   }
  },
  "kernelspec": {
   "display_name": "Python 3",
   "language": "python",
   "name": "python3"
  },
  "language_info": {
   "codemirror_mode": {
    "name": "ipython",
    "version": 3
   },
   "file_extension": ".py",
   "mimetype": "text/x-python",
   "name": "python",
   "nbconvert_exporter": "python",
   "pygments_lexer": "ipython3",
   "version": "3.11.5"
  },
  "source_map": [
   11,
   26,
   29,
   34,
   38,
   42,
   44,
   50
  ]
 },
 "nbformat": 4,
 "nbformat_minor": 5
}