{
 "cells": [
  {
   "cell_type": "markdown",
   "metadata": {},
   "source": [
    "# Problema  4\n",
    "\n",
    "Calcular las coordenadas horizontales de la estrella Altair (&alpha; Aql) con coordenadas:\n",
    "\n",
    "RA 19h50m47  DEC +08° 52′ 06″\n",
    "\n",
    "en Madrid, con **latitud 40° 25′N  y longitud 3° 41′ 31″ W** \n",
    "\n",
    "cuando el tiempo sidéreo local es **TSL = 22h12m18s**"
   ]
  },
  {
   "cell_type": "markdown",
   "metadata": {},
   "source": [
    "## Una nota respecto al tiempo\n",
    "\n",
    "Para resolver el problema completo, necesitamos calcular a qué hora en tiempo civil o universal corresponde nuestro TSL. Veremos cómo hacerlo en el tema dedicado al cálculo del tiempo. De momento asumiremos el TSL como dado.\n",
    "\n"
   ]
  },
  {
   "cell_type": "markdown",
   "metadata": {},
   "source": [
    "## Planteamiento\n",
    "\n",
    "Los problemas de cambio de coordenadas exigen pasar, normalmente, a través de varios sistemas.\n",
    "\n",
    "En este caso tenemos **ecuatorial -> horario -> horizontal**.\n",
    "\n",
    "Siempre es conveniente tener cierta idea de la configuración de la esfera celeste para nuestro ejemplo. En este caso nos encontramos en el hemisferio norte, con lo que los objetos que culminen lo harán en la parte sur del meridiano del observador. Además, la estrella tiene declinación positiva, así que se encontrará entre el **ecuador celeste y polo norte**.\n",
    "\n",
    "![sphere1](../_static/p11/spherecardinalpoints.png)"
   ]
  },
  {
   "cell_type": "markdown",
   "metadata": {},
   "source": [
    "### Ecuatorial a horario\n",
    "\n",
    "El cambio de coordenas ecuatoriales a horarias es simplemente:\n",
    "\n",
    "`TSL = RA + HA`\n",
    "\n",
    "y la coordenada de declinación es la misma.\n",
    "\n",
    "El único paso es convertir todas las coordenadas a una medida angular homogénea y dar el resultado entre 0-24h\n"
   ]
  },
  {
   "cell_type": "code",
   "execution_count": null,
   "metadata": {},
   "outputs": [],
   "source": [
    "from astropy.coordinates import Angle\n",
    "import astropy.units as u\n",
    "import numpy as np\n",
    "import matplotlib.pyplot as plt"
   ]
  },
  {
   "cell_type": "code",
   "execution_count": null,
   "metadata": {},
   "outputs": [],
   "source": [
    "ra = Angle(\"19h50m47\") \n",
    "dec = Angle(\"+08d52m06s\")\n",
    "lat = Angle(\"40d25m\")\n",
    "lon = Angle(\"-3d41m31s\")\n",
    "# 2019-09-15 22:48:38.200 UTC\n",
    "TSL = Angle(\"22h12m18s\")"
   ]
  },
  {
   "cell_type": "code",
   "execution_count": null,
   "metadata": {},
   "outputs": [],
   "source": [
    "ha = TSL - ra\n",
    "print(ha)"
   ]
  },
  {
   "cell_type": "markdown",
   "metadata": {},
   "source": [
    "Las coordenadas horarias serán entonces:\n",
    " \n",
    " * **DEC**: +08d52m06s\n",
    " * **H**: 2h21m31s\n",
    " \n",
    "Dado que en coordenadas horarias el sur es 0h y el oeste 6h, la estrella se encuentra en algún lugar entre esos dos puntos"
   ]
  },
  {
   "cell_type": "markdown",
   "metadata": {},
   "source": [
    "## Coordenadas horarias a horizontales\n",
    "\n",
    "El cambio sistema horario a horizontal requiere una rotación de ejes. De manera alternativa se puede utilizar trigonometría esférica para resolver el triángulo común formado por objeto, el polo norte y el cenit. Hay que tener cuidado, además, con la convención para el origen del ángulo de acimut. \n",
    "\n",
    "Las ecuaciones son (para acimut desde el Sur):\n",
    "\n",
    "$$\n",
    "\\begin{eqnarray}\n",
    "\\sin a & =&  \\sin \\phi \\sin \\delta  + \\cos \\phi \\cos \\delta \\cos H  \\\\\n",
    "\\cos a \\sin A & = & \\cos \\delta \\sin H \\\\\n",
    "\\cos a \\cos A & = & -\\cos \\phi \\sin \\delta + \\sin \\phi \\cos \\delta \\cos H\n",
    "\\end{eqnarray}\n",
    "$$\n",
    "\n",
    "Dado que `A` va de 0 a 360, necesitamos el seno y el coseno para determinar el cuadrante correcto del ángulo."
   ]
  },
  {
   "cell_type": "code",
   "execution_count": null,
   "metadata": {},
   "outputs": [],
   "source": [
    "sin_a = np.sin(lat) * np.sin(dec) + np.cos(lat) * np.cos(dec) * np.cos(ha)"
   ]
  },
  {
   "cell_type": "code",
   "execution_count": null,
   "metadata": {},
   "outputs": [],
   "source": [
    "a = Angle(np.arcsin(sin_a))"
   ]
  },
  {
   "cell_type": "code",
   "execution_count": null,
   "metadata": {},
   "outputs": [],
   "source": [
    "cos_a = np.cos(a)\n",
    "print(cos_a)"
   ]
  },
  {
   "cell_type": "code",
   "execution_count": null,
   "metadata": {},
   "outputs": [],
   "source": [
    "sin_A = (np.cos(dec) * np.sin(ha)) / cos_a\n",
    "cos_A = (-np.cos(lat) * np.sin(dec) + np.sin(lat) * np.cos(dec) * np.cos(ha)) / cos_a"
   ]
  },
  {
   "cell_type": "code",
   "execution_count": null,
   "metadata": {},
   "outputs": [],
   "source": [
    "print(sin_A, cos_A)"
   ]
  },
  {
   "cell_type": "markdown",
   "metadata": {},
   "source": [
    "Dado que los dos valores son positivos, el resultado es directamente:"
   ]
  },
  {
   "cell_type": "code",
   "execution_count": null,
   "metadata": {},
   "outputs": [],
   "source": [
    "A = Angle(np.arctan(sin_A / cos_A))\n"
   ]
  },
  {
   "cell_type": "code",
   "execution_count": null,
   "metadata": {},
   "outputs": [],
   "source": [
    "print(\"a=\", a.to_string(unit=u.degree), \"A=\",A.to_string(unit=u.degree))"
   ]
  },
  {
   "cell_type": "markdown",
   "metadata": {},
   "source": [
    "Esta medida de acimut tiene como referencia SWNE. Si el convenio de acimut fuera NESW, habría que sumar 180 grados (y restar 360 si fuera necesario)"
   ]
  },
  {
   "cell_type": "code",
   "execution_count": null,
   "metadata": {},
   "outputs": [],
   "source": [
    "A_N = A + Angle(\"180d\")\n",
    "print(A_N.to_string(unit=u.degree))"
   ]
  },
  {
   "cell_type": "markdown",
   "metadata": {},
   "source": [
    "## Usando rotaciones de ejes\n",
    "\n",
    "Otra manera de resolver el problema es utilizando rotaciones de ejes coordenados. Esta manera es más fácil para una computadora, que no tiene más que realizar productos matriciales.\n",
    "\n",
    "Para ello partimos de las coordenadas horarias y las convertimos en cartesianas.\n",
    "\n",
    "$$\n",
    "\\begin{eqnarray}\n",
    "x &=& \\cos \\delta \\cos H \\\\\n",
    "y &=& \\cos \\delta \\sin H\\\\\n",
    "z &=& \\sin \\delta\n",
    "\\end{eqnarray}\n",
    "$$\n",
    "\n",
    "Nótese que este sistema de coordenadas está orientado según la regla de la mano izquierda, con el eje `x` hacia el sur , el `y` hacia el oeste y el `z` hacia el cenit. El ángulo `H` se incrementa en el sentido de las agujas del reloj.\n",
    "\n",
    "![sphereaxis](../_static/p11/sphereaxis.png)\n"
   ]
  },
  {
   "cell_type": "code",
   "execution_count": null,
   "metadata": {},
   "outputs": [],
   "source": [
    "cos_dec = np.cos(dec)\n",
    "sin_dec = np.sin(dec)\n",
    "cos_H = np.cos(ha)\n",
    "sin_H = np.sin(ha)"
   ]
  },
  {
   "cell_type": "code",
   "execution_count": null,
   "metadata": {},
   "outputs": [],
   "source": [
    "r = (cos_dec * cos_H, cos_dec * sin_H, sin_dec)"
   ]
  },
  {
   "cell_type": "markdown",
   "metadata": {},
   "source": [
    "El sistema horizontal será *diestro* o *zurdo* dependiendo del convenio de acimut. Si el ángulo va del sur al oeste, seguirá el mismo convenio que las coordenadas horarias, luego estará **orientado a izquierdas**.\n",
    "\n",
    "$$\n",
    "\\begin{eqnarray}\n",
    "x' &=& \\cos a \\cos A \\\\\n",
    "y' &=& \\cos a \\sin A\\\\\n",
    "z' &=& \\sin a\n",
    "\\end{eqnarray}\n",
    "$$\n",
    "\n",
    "Ambos sistemas tienen el eje `Y` común. Para pasar del sistema `XYZ` al `X'Y'Z'` hay que realizar una rotación de $\\psi = (90 - \\phi)$ en sentido horario entorno al eje `Y`.\n",
    "\n",
    "El cambio de origen del acimut se puede incluir también como una rotación adicional en el eje `Z`, de 180 grados si el origen es el norte en lugar del sur.\n",
    "\n",
    "Para ello basta con crear al matriz de rotación y realizar un producto matricial:\n",
    "\n",
    "$ r' = R_z(180) *  R_y(\\psi) r $ \n"
   ]
  },
  {
   "cell_type": "code",
   "execution_count": null,
   "metadata": {},
   "outputs": [],
   "source": [
    "# Una función de python, para crear diferentes matices de rotación en x\n",
    "\n",
    "def rot_x(ang):\n",
    "    return [[1,0,0], \n",
    "            [0, np.cos(ang), np.sin(ang)], \n",
    "            [0, -np.sin(ang), np.cos(ang)]\n",
    "           ]\n",
    "\n",
    "def rot_y(ang):\n",
    "    return [ \n",
    "            [np.cos(ang), 0, -np.sin(ang)],\n",
    "            [0, 1, 0],\n",
    "            [np.sin(ang), 0, np.cos(ang)]\n",
    "           ]\n",
    "\n",
    "def rot_z(ang):\n",
    "    return [[np.cos(ang), np.sin(ang), 0], \n",
    "            [-np.sin(ang), np.cos(ang), 0],\n",
    "            [0, 0, 1]\n",
    "           ]"
   ]
  },
  {
   "cell_type": "code",
   "execution_count": null,
   "metadata": {},
   "outputs": [],
   "source": [
    "psi = (Angle(90, unit=u.deg) - lat)\n",
    "ry = rot_y(psi)\n",
    "rz = rot_z(Angle(180, unit=u.deg))"
   ]
  },
  {
   "cell_type": "code",
   "execution_count": null,
   "metadata": {},
   "outputs": [],
   "source": [
    "# los términos con Quantity corresponden a que hemos\n",
    "# pasado un objeto Angle en lugar de un ángulo en radianes\n",
    "print(ry)"
   ]
  },
  {
   "cell_type": "code",
   "execution_count": null,
   "metadata": {},
   "outputs": [],
   "source": [
    "# dot es la función de numpy para realizar productos de matrices\n",
    "rp = np.dot(rz, np.dot(ry, r))"
   ]
  },
  {
   "cell_type": "code",
   "execution_count": null,
   "metadata": {},
   "outputs": [],
   "source": [
    "# vector en el espacio primado\n",
    "rp"
   ]
  },
  {
   "cell_type": "code",
   "execution_count": null,
   "metadata": {},
   "outputs": [],
   "source": [
    "# Las tres componentes\n",
    "xp, yp, zp = rp"
   ]
  },
  {
   "cell_type": "code",
   "execution_count": null,
   "metadata": {},
   "outputs": [],
   "source": [
    "a_2 = Angle(np.arcsin(zp), unit=u.rad)"
   ]
  },
  {
   "cell_type": "code",
   "execution_count": null,
   "metadata": {},
   "outputs": [],
   "source": [
    "cos_a_2 = np.cos(a_2)"
   ]
  },
  {
   "cell_type": "code",
   "execution_count": null,
   "metadata": {},
   "outputs": [],
   "source": [
    "sin_A_2 = yp / cos_a_2\n",
    "cos_A_2 = xp / cos_a_2\n",
    "print(sin_A, cos_A)\n",
    "print(sin_A_2, cos_A_2)"
   ]
  },
  {
   "cell_type": "markdown",
   "metadata": {},
   "source": [
    "El cambio de signo se debe al cambio de origen en azimut:\n",
    "\n",
    "$$\n",
    "\\begin{eqnarray}\n",
    "\\sin(A + 180) &=& -\\sin A \\\\\n",
    "\\cos(A + 180) &=& -\\cos A\n",
    "\\end{eqnarray}\n",
    "$$\n",
    "\n",
    "\n",
    "El resultado es el mismo que se calcula con las ecuaciones de triángulos esféricos."
   ]
  },
  {
   "cell_type": "code",
   "execution_count": null,
   "metadata": {},
   "outputs": [],
   "source": [
    "# Aquí utilizamos la función arctan2(x, y)\n",
    "A_2 = Angle(np.arctan2(sin_A_2, cos_A_2))"
   ]
  },
  {
   "cell_type": "code",
   "execution_count": null,
   "metadata": {},
   "outputs": [],
   "source": [
    "print(\"a=\", a.to_string(unit=u.degree), \"A=\",A.to_string(unit=u.degree))"
   ]
  },
  {
   "cell_type": "code",
   "execution_count": null,
   "metadata": {},
   "outputs": [],
   "source": [
    "print(\"a2=\", a_2.to_string(unit=u.degree), \"A2=\",(A_2+ Angle(360, unit=u.deg)).to_string(unit=u.degree))"
   ]
  }
 ],
 "metadata": {
  "kernelspec": {
   "display_name": "Python 3 (ipykernel)",
   "language": "python",
   "name": "python3"
  },
  "language_info": {
   "codemirror_mode": {
    "name": "ipython",
    "version": 3
   },
   "file_extension": ".py",
   "mimetype": "text/x-python",
   "name": "python",
   "nbconvert_exporter": "python",
   "pygments_lexer": "ipython3",
   "version": "3.12.7"
  }
 },
 "nbformat": 4,
 "nbformat_minor": 4
}
