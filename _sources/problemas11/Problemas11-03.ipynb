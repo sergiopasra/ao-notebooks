{
 "cells": [
  {
   "cell_type": "markdown",
   "metadata": {},
   "source": [
    "# Problema 3\n",
    "Calcular los valores del acimut de la estrella Proción (declinación 5°N) cuando su distancia\n",
    "cenital es de 80° para un observador de latitud 57° N."
   ]
  },
  {
   "cell_type": "markdown",
   "metadata": {},
   "source": [
    "## Planteamiento\n",
    "En este cambio de coordenadas, no conocemos las dos coordenadas horarias ($\\delta$, H), sino solamente una de ellas. Sí que conocemos la distancia cenital (altura).\n",
    "\n",
    "\n",
    "$$\n",
    "\\sin a = \\sin \\phi \\sin \\delta  + \\cos \\phi \\cos \\delta \\cos H  \\\\\n",
    "\\cos a \\sin A = \\cos \\delta \\sin H \\\\\n",
    "\\cos a \\cos A = -\\cos \\phi \\sin \\delta + \\sin \\phi \\cos \\delta \\cos H\n",
    "$$\n",
    "\n",
    "De la primera ecuación despejamos $\\cos H$.\n",
    "\n",
    "$\n",
    "\\cos H  = \\frac{(\\sin a - \\sin \\phi \\sin \\delta )}{\\cos \\phi \\cos \\delta}\n",
    "$\n",
    "\n",
    "Y utilizamos el valor de H para obtener A"
   ]
  },
  {
   "cell_type": "code",
   "execution_count": null,
   "metadata": {},
   "outputs": [],
   "source": [
    "from astropy.coordinates import Angle\n",
    "import astropy.units as u\n",
    "import numpy as np\n",
    "import matplotlib.pyplot as plt"
   ]
  },
  {
   "cell_type": "code",
   "execution_count": null,
   "metadata": {},
   "outputs": [],
   "source": [
    "dec = Angle(5, unit='deg')\n",
    "lat = Angle(57, unit='deg')\n",
    "# Distancia cenital\n",
    "z = Angle(80, unit='deg')"
   ]
  },
  {
   "cell_type": "code",
   "execution_count": null,
   "metadata": {},
   "outputs": [],
   "source": [
    "# Altura\n",
    "a = Angle(90, unit='deg') - z"
   ]
  },
  {
   "cell_type": "code",
   "execution_count": null,
   "metadata": {},
   "outputs": [],
   "source": [
    "# coseno del ángulo horario\n",
    "cos_H = (np.sin(a) - np.sin(lat) * np.sin(dec)) / (np.cos(lat) * np.cos(dec))"
   ]
  },
  {
   "cell_type": "code",
   "execution_count": null,
   "metadata": {},
   "outputs": [],
   "source": [
    "print(cos_H)\n",
    "print(\"El coseno es +, lo que corresponde a un ángulo en cuarto o en el primer cuadrante\")"
   ]
  },
  {
   "cell_type": "code",
   "execution_count": null,
   "metadata": {},
   "outputs": [],
   "source": [
    "# Dado el coseno de H hay dos valores posibles:\n",
    "# Resultado en el cuadrante I\n",
    "H1 = Angle(np.arccos(cos_H))\n",
    "# Resultado en el cuadrante IV\n",
    "# Sumamos 360 para que el ángulo sea positivo\n",
    "\n",
    "H2 = Angle(360, unit='deg') -H1\n",
    "print('Angulos en HORAS')\n",
    "print('Cuadrante I   H1=', H1.hourangle, '=', H1.to_string(unit='hour'))\n",
    "print('Cuadrante IV, H2=360-H1=', H2.hourangle, '=', H2.to_string(unit='hour'))"
   ]
  },
  {
   "cell_type": "markdown",
   "metadata": {},
   "source": [
    "### Coordenadas horizontales\n",
    "\n",
    "Sabiendo los valores correspondientes del ángulo horario, ya tenemos la pareja ($\\delta$, H).\n",
    "Utilizamos las ecuaciones de transformación para obtener el acimut."
   ]
  },
  {
   "cell_type": "code",
   "execution_count": null,
   "metadata": {},
   "outputs": [],
   "source": [
    "# Como vamos a utilizar varias veces este valor, lo calculamos\n",
    "cos_a = np.cos(a)"
   ]
  },
  {
   "cell_type": "code",
   "execution_count": null,
   "metadata": {},
   "outputs": [],
   "source": [
    "# Para H1\n",
    "sin_A1 = (np.cos(dec) * np.sin(H1)) / cos_a\n",
    "cos_A1 = (-np.cos(lat) * np.sin(dec) + np.sin(lat) * np.cos(dec) * np.cos(H1)) / cos_a"
   ]
  },
  {
   "cell_type": "code",
   "execution_count": null,
   "metadata": {},
   "outputs": [],
   "source": [
    "print('Valor del seno y coseno')\n",
    "print('seno', sin_A1)\n",
    "print('coseno', cos_A1)\n",
    "print('Ambos valores son positivos, luego el ángulo es del primer cuadrante')\n",
    "print('usamos arcotangente')\n",
    "A1 = np.arctan(sin_A1 / cos_A1)\n",
    "print(A1)"
   ]
  },
  {
   "cell_type": "code",
   "execution_count": null,
   "metadata": {},
   "outputs": [],
   "source": [
    "# Esta funcion de python hace lo mismo\n",
    "# que arctan, pero devuelve directamente el ángulo\n",
    "# en el cuadrante correcto\n",
    "A1 = Angle(np.arctan2(sin_A1, cos_A1))\n",
    "print(A1.deg)"
   ]
  },
  {
   "cell_type": "code",
   "execution_count": null,
   "metadata": {},
   "outputs": [],
   "source": [
    "sin_A2 = (np.cos(dec) * np.sin(H2)) / cos_a\n",
    "cos_A2 = (-np.cos(lat) * np.sin(dec) + np.sin(lat) * np.cos(dec) * np.cos(H2)) / cos_a\n",
    "print('Valor del seno y coseno')\n",
    "print('seno', sin_A2)\n",
    "print('coseno', cos_A2)\n",
    "print('Seno negativo y coseno positivo es el cuarto cuadrante')\n",
    "print('usamos arcotangente y sumamos 360')\n",
    "A2 = Angle(360, unit='degree') + np.arctan(sin_A2 / cos_A2)\n",
    "print(A2)"
   ]
  },
  {
   "cell_type": "code",
   "execution_count": null,
   "metadata": {},
   "outputs": [],
   "source": [
    "# Esta funcion de python hace lo mismo\n",
    "# que arctan, pero devuelve directamente el ángulo\n",
    "# en el cuadrante correcto\n",
    "# Sumamos 360 para que el ángulo sea positivo\n",
    "A2 = Angle(np.arctan2(sin_A2, cos_A2))+ Angle(360, unit='degree')\n",
    "print(A2.deg)"
   ]
  },
  {
   "cell_type": "code",
   "execution_count": null,
   "metadata": {},
   "outputs": [],
   "source": [
    "print('A1=', A1.to_string(unit='degree'))"
   ]
  },
  {
   "cell_type": "code",
   "execution_count": null,
   "metadata": {},
   "outputs": [],
   "source": [
    "print('A2=', A2.to_string(unit='degree'))"
   ]
  },
  {
   "cell_type": "code",
   "execution_count": null,
   "metadata": {},
   "outputs": [],
   "source": []
  }
 ],
 "metadata": {
  "kernelspec": {
   "display_name": "Python 3 (ipykernel)",
   "language": "python",
   "name": "python3"
  },
  "language_info": {
   "codemirror_mode": {
    "name": "ipython",
    "version": 3
   },
   "file_extension": ".py",
   "mimetype": "text/x-python",
   "name": "python",
   "nbconvert_exporter": "python",
   "pygments_lexer": "ipython3",
   "version": "3.10.13"
  }
 },
 "nbformat": 4,
 "nbformat_minor": 2
}
