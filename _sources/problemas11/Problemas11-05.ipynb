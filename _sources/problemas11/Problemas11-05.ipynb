{
 "cells": [
  {
   "cell_type": "markdown",
   "metadata": {},
   "source": [
    "# Problema 5\n",
    "\n",
    "A las 0h 5m de tiempo sidéreo local (TSL) en un Observatorio de latitud   φ = 43º 22’ 12’’ se midieron las coordenadas horizontales de una estrella obteniéndose una \n",
    "**distancia cenital z = 14º 20’  55’’.75**  y  un  acimut  **A  =  357º  29’  29’’.31**.  Calcular  las  coordenadas  ecuatoriales  de  dicha estrella. El acimut se mide desde el sur al oeste."
   ]
  },
  {
   "cell_type": "markdown",
   "metadata": {},
   "source": [
    "## Planteamiento\n",
    "\n",
    "Este problema exige un cambio de coordenadas contrario del ejercicio 4, es decir: **horizontal -> horario -> ecuatorial**"
   ]
  },
  {
   "cell_type": "code",
   "execution_count": 2,
   "metadata": {},
   "outputs": [],
   "source": [
    "from astropy.coordinates import Angle\n",
    "import astropy.units as u\n",
    "import numpy as np\n",
    "import matplotlib.pyplot as plt"
   ]
  },
  {
   "cell_type": "code",
   "execution_count": 3,
   "metadata": {},
   "outputs": [],
   "source": [
    "A = Angle(\"357d29m29.31s\")\n",
    "z = Angle(\"14d20m55.75s\")\n",
    "a = Angle(\"90d\") - z\n",
    "lat = Angle(\"43d22m12s\")\n",
    "TSL = Angle(\"0h5m\")"
   ]
  },
  {
   "cell_type": "markdown",
   "metadata": {},
   "source": [
    "### Coordenadas horizontales a horarias\n",
    "\n",
    "El cambio de sistema horizontal a horario requiere unas ecuaciones simétricas a las usadas para la conversión inversea o bien una rotación de ejes con las matrices de rotación aplicadas en senstido inverso. Hay que tener cuidado, además, con la convención para el origen del ángulo de acimut.\n",
    "\n",
    "Las ecuaciones son (para acimut desde el Sur):\n",
    "\n",
    "$\n",
    "\\sin \\delta = \\sin \\phi \\sin a  - \\cos \\phi \\cos a \\cos A  \\\\\n",
    "\\cos \\delta \\sin H = \\cos a \\sin A \\\\\n",
    "\\cos \\delta \\cos H = \\cos \\phi \\sin a + \\sin \\phi \\cos a \\cos A\n",
    "$\n",
    "\n",
    "Dado que `A` va de 0 a 360, necesitamos el seno y el coseno para determinar el cuadrante correcto del ángulo."
   ]
  },
  {
   "cell_type": "code",
   "execution_count": 4,
   "metadata": {},
   "outputs": [],
   "source": [
    "sin_d = np.sin(lat) * np.sin(a) - np.cos(lat) * np.cos(a) * np.cos(A)"
   ]
  },
  {
   "cell_type": "code",
   "execution_count": 5,
   "metadata": {},
   "outputs": [
    {
     "name": "stdout",
     "output_type": "stream",
     "text": [
      "Declinación= 29d01m56.974s\n"
     ]
    }
   ],
   "source": [
    "dec = Angle(np.arcsin(sin_d))\n",
    "cos_d = np.cos(dec)\n",
    "print('Declinación=', dec.to_string(unit=u.degree))"
   ]
  },
  {
   "cell_type": "code",
   "execution_count": 8,
   "metadata": {},
   "outputs": [],
   "source": [
    "# Seno y coseno del ángulo horario\n",
    "sin_H = (np.cos(a) * np.sin(A)) / cos_d\n",
    "cos_H = (np.cos(lat) * np.sin(a) + np.sin(lat) * np.cos(a) * np.cos(A)) / cos_d"
   ]
  },
  {
   "cell_type": "code",
   "execution_count": 11,
   "metadata": {},
   "outputs": [
    {
     "name": "stdout",
     "output_type": "stream",
     "text": [
      "seno y coseno\n",
      "sin(H)= -0.012405628801294998 cos(H)= 0.9999230472261574\n",
      "seno negativo y coseno positivo corresponde al cuarto cuadrante\n",
      "podemos calcular el arcotangente y sumar 360\n"
     ]
    }
   ],
   "source": [
    "print(\"seno y coseno\")\n",
    "print('sin(H)=', sin_H, 'cos(H)=',cos_H)\n",
    "print('seno negativo y coseno positivo corresponde al cuarto cuadrante')\n",
    "print('podemos calcular el arcotangente y sumar 360')"
   ]
  },
  {
   "cell_type": "code",
   "execution_count": 12,
   "metadata": {},
   "outputs": [],
   "source": [
    "H = Angle(np.arctan2(sin_H, cos_H))\n",
    "H = H + Angle(\"24h\")\n"
   ]
  },
  {
   "cell_type": "code",
   "execution_count": 15,
   "metadata": {},
   "outputs": [
    {
     "name": "stdout",
     "output_type": "stream",
     "text": [
      "Coordenadas horarias\n",
      "dec= 29d01m56.974s H= 23h57m09.406s\n"
     ]
    }
   ],
   "source": [
    "print('Coordenadas horarias')\n",
    "print(\"dec=\", dec.to_string(unit=u.degree), \"H=\",H.to_string(unit=u.hourangle))"
   ]
  },
  {
   "cell_type": "code",
   "execution_count": 18,
   "metadata": {},
   "outputs": [
    {
     "name": "stdout",
     "output_type": "stream",
     "text": [
      "calculamos ascensión recta\n",
      "RA= -23h52m09.406s\n",
      "Como el ángulo es negativo, sumamos 24h (360 grados)\n"
     ]
    }
   ],
   "source": [
    "print('calculamos ascensión recta')\n",
    "RA = TSL - H\n",
    "print('RA=',RA)\n",
    "print('Como el ángulo es negativo, sumamos 24h (360 grados)')"
   ]
  },
  {
   "cell_type": "code",
   "execution_count": 20,
   "metadata": {},
   "outputs": [
    {
     "name": "stdout",
     "output_type": "stream",
     "text": [
      "RA= 0h07m50.594s\n"
     ]
    }
   ],
   "source": [
    "print('RA=', RA + Angle(\"24h\"))"
   ]
  },
  {
   "cell_type": "code",
   "execution_count": null,
   "metadata": {},
   "outputs": [],
   "source": []
  }
 ],
 "metadata": {
  "kernelspec": {
   "display_name": "Python 3",
   "language": "python",
   "name": "python3"
  },
  "language_info": {
   "codemirror_mode": {
    "name": "ipython",
    "version": 3
   },
   "file_extension": ".py",
   "mimetype": "text/x-python",
   "name": "python",
   "nbconvert_exporter": "python",
   "pygments_lexer": "ipython3",
   "version": "3.8.6"
  }
 },
 "nbformat": 4,
 "nbformat_minor": 2
}
