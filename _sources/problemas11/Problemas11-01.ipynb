{
 "cells": [
  {
   "cell_type": "markdown",
   "metadata": {},
   "source": [
    "# Problema 1\n",
    "\n",
    "Asumiendo que la Tierra es una esfera de radio medio 6371 km, calcular la distancia\n",
    "(geodésica) entre Moscú (55°45'21''N 37°37'04''E) y Nairobi (1°17'11''S 36°49'02''E).\n",
    "\n",
    "## Planteamiento\n",
    "\n",
    "Para una Tierra esférica, calcular la distancia geodésica implica resolver un triángulo esférico.\n",
    "\n",
    "<div>\n",
    "<img src=\"../_static/p11/earth.png\" width=\"500\"/>\n",
    "</div>\n",
    "\n",
    "El punto __A representa el polo Norte y B__ y __C__ los puntos sobre la superficie de la Tierra. (Esta imagen no corresponde a los datos del problema).\n",
    "\n",
    "De este triángulo conocemos:\n",
    "\n",
    " * El lado AB, correspondiente a 90 - $\\phi_B$\n",
    " * El lado AC. correspondiente a 90 - $\\phi_C$\n",
    " * El ángulo A, se mide sobre el ecuador y corresponde al arco desde la intersección del meridiano que pasa por __B__ hasta el que pasa por **C**. Es la diferencia de longitudes $\\lambda_2 - \\lambda_1$.\n",
    "\n",
    "A partir de aquí podemos utilizar trigonometría esférica, en particular la ley del coseno.\n",
    "\n",
    "$$\\cos c = \\cos a \\cos b + \\sin a \\sin b \\cos C $$\n",
    "\n",
    "En nuestro caso, $a = 90 - \\phi_1$, $b = 90 - \\phi_2$, $C = \\mathrm{\\lambda_2} - \\mathrm{\\lambda_1}$ \n"
   ]
  },
  {
   "cell_type": "code",
   "execution_count": null,
   "metadata": {},
   "outputs": [],
   "source": [
    "from astropy.coordinates import Angle\n",
    "import astropy.units as u\n",
    "import numpy as np\n",
    "import matplotlib.pyplot as plt"
   ]
  },
  {
   "cell_type": "code",
   "execution_count": null,
   "metadata": {},
   "outputs": [],
   "source": [
    "latB = Angle(\"55d45m21s\")\n",
    "lonB = Angle(\"37d37m04s\")\n",
    "\n",
    "latC = Angle(\"-1d17m11s\")\n",
    "lonC = Angle(\"36d49m02s\")\n",
    "\n",
    "rad = 6371 * u.km"
   ]
  },
  {
   "cell_type": "markdown",
   "metadata": {},
   "source": [
    "$$\\cos c = \\cos a \\cos b + \\sin a \\sin b \\cos C $$\n",
    "\n",
    "En nuestro caso, $a = 90 - \\phi_B$, $b = 90 - \\phi_C$, $C = \\mathrm{\\lambda_B} - \\mathrm{\\lambda_C}$ \n",
    "\n",
    "\n",
    "Por lo que:\n",
    "\n",
    "$$\\cos c = \\sin \\phi_B \\sin \\phi_C + \\cos \\phi_B \\cos \\phi_C \\cos (\\lambda_B - \\lambda_C) $$\n"
   ]
  },
  {
   "cell_type": "code",
   "execution_count": null,
   "metadata": {},
   "outputs": [],
   "source": [
    "cos_c = np.sin(latB) * np.sin(latC) + np.cos(latB) * np.cos(latC) * np.cos(lonC - lonB)"
   ]
  },
  {
   "cell_type": "code",
   "execution_count": null,
   "metadata": {},
   "outputs": [],
   "source": [
    "c = np.arccos(cos_c)"
   ]
  },
  {
   "cell_type": "code",
   "execution_count": null,
   "metadata": {},
   "outputs": [],
   "source": [
    "print('Arco del lado C:', c)"
   ]
  },
  {
   "cell_type": "code",
   "execution_count": null,
   "metadata": {},
   "outputs": [],
   "source": [
    "dist = rad * c.value"
   ]
  },
  {
   "cell_type": "code",
   "execution_count": null,
   "metadata": {},
   "outputs": [],
   "source": [
    "print('Distancia:', dist)"
   ]
  },
  {
   "cell_type": "markdown",
   "metadata": {},
   "source": [
    "Si estuviéramos calculando la distancia en línea recta, podríamos calcular las coordendas cartesianas.\n",
    "\n",
    "$$\n",
    "z = \\sin \\phi \\\\\n",
    "y = \\cos \\phi \\sin l \\\\\n",
    "x = \\cos \\phi \\cos l \\\\\n",
    "$$\n",
    "\n",
    "\n"
   ]
  },
  {
   "cell_type": "code",
   "execution_count": null,
   "metadata": {},
   "outputs": [],
   "source": [
    "# vector de coordenadas B\n",
    "coorB = (np.cos(latB) * np.cos(lonB), np.cos(latB) * np.sin(lonB), np.sin(latB))\n",
    "# vector de coordenadas C\n",
    "coorC = (np.cos(latC) * np.cos(lonC), np.cos(latC) * np.sin(lonC), np.sin(latC))"
   ]
  },
  {
   "cell_type": "code",
   "execution_count": null,
   "metadata": {},
   "outputs": [],
   "source": [
    "print('Cartesianas B:', coorB)\n",
    "print('Cartesianas C:', coorC)"
   ]
  },
  {
   "cell_type": "code",
   "execution_count": null,
   "metadata": {},
   "outputs": [],
   "source": [
    "coor_diff = np.subtract(coorB, coorC)\n",
    "print('Diferencia:', coor_diff)"
   ]
  },
  {
   "cell_type": "code",
   "execution_count": null,
   "metadata": {},
   "outputs": [],
   "source": [
    "print('Distancia:', rad * np.sqrt(coor_diff @ coor_diff))"
   ]
  }
 ],
 "metadata": {
  "kernelspec": {
   "display_name": "Python 3 (ipykernel)",
   "language": "python",
   "name": "python3"
  },
  "language_info": {
   "codemirror_mode": {
    "name": "ipython",
    "version": 3
   },
   "file_extension": ".py",
   "mimetype": "text/x-python",
   "name": "python",
   "nbconvert_exporter": "python",
   "pygments_lexer": "ipython3",
   "version": "3.10.13"
  }
 },
 "nbformat": 4,
 "nbformat_minor": 2
}
