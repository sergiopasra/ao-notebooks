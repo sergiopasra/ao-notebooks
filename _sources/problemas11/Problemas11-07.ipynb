{
 "cells": [
  {
   "cell_type": "markdown",
   "metadata": {},
   "source": [
    "# Problema 7\n",
    "\n",
    "Determinar  las  coordenadas  eclípticas  de  la  estrella  α Eri  de  coordenadas  ecuatoriales  **α = 01h 37m 19s.451** y  **δ = -57º 17’ 23’’.51**. \n",
    "\n",
    "Considerar la oblicuidad de la eclíptica **ε = 23º 26’ 16’’.3**. \n"
   ]
  },
  {
   "cell_type": "markdown",
   "metadata": {},
   "source": [
    "## Planteamiento\n",
    "\n",
    "Este problema exige un cambio de coordenadas contrario del ejercicio 1, es decir: **ecuatorial -> eclíptico**. Ambos sistemas de coordenadas comparte el origen de longitud y ascensión recta y el hecho de estar *orientados a derechas*. El cambio supone un solo giro entorno el eje `X` \n",
    "\n",
    "\n",
    "![polaraxis](../_static/p11/polareclipticaxis.png)\n"
   ]
  },
  {
   "cell_type": "code",
   "execution_count": null,
   "metadata": {},
   "outputs": [],
   "source": [
    "from astropy.coordinates import Angle\n",
    "import astropy.units as u\n",
    "import numpy as np\n",
    "import matplotlib.pyplot as plt"
   ]
  },
  {
   "cell_type": "code",
   "execution_count": null,
   "metadata": {},
   "outputs": [],
   "source": [
    "ra = Angle(\"01h37m19.451s\")\n",
    "dec = Angle(\"-57d17m23.51s\")\n",
    "eps = Angle(\"23d26m16.3s\")\n"
   ]
  },
  {
   "cell_type": "markdown",
   "metadata": {},
   "source": [
    "### Coordenadas ecuatoriales a eclípticas\n",
    "\n",
    "El cambio del sistema ecuatorial a eclíptico require, o bien la resolución de un triángulo esférico, con polos `P` y `K` y ángulo entre ellos ε o bien la aplicación de una rotación $R_x$(ε).\n",
    "\n",
    "Las ecuaciones finales son:\n",
    "\n",
    "$$\n",
    "\\begin{eqnarray}\n",
    "\\sin \\delta &=& \\sin \\beta \\cos \\epsilon  + \\cos \\beta \\sin \\epsilon \\sin \\lambda  \\\\\n",
    "\\cos \\delta \\cos \\alpha &=& \\cos \\beta \\cos \\lambda \\\\\n",
    "\\cos \\delta \\sin \\alpha &=& -\\sin \\beta \\sin \\epsilon + \\cos \\beta \\cos \\epsilon \\sin \\lambda\n",
    "\\end{eqnarray}\n",
    "$$\n",
    "\n",
    "Las ecuaciones del cambio inverso (eclípticas a ecuatoriales) pueden obtenerse cambiando \n",
    " * (α, δ) <-> (β, λ)\n",
    " * ε ->  -ε\n",
    " \n",
    "$$\n",
    "\\begin{eqnarray}\n",
    "\\sin \\beta &=& \\sin \\delta \\cos (-\\epsilon)  + \\cos \\delta \\sin (-\\epsilon) \\sin \\alpha  \\\\\n",
    "\\cos \\beta \\cos \\lambda &=& \\cos \\delta \\cos \\alpha \\\\\n",
    "\\cos \\beta \\sin \\lambda &=& -\\sin \\delta \\sin (-\\epsilon) + \\cos \\delta \\cos (-\\epsilon) \\sin \\alpha\n",
    "\\end{eqnarray}\n",
    "$$\n",
    " \n",
    "Es decir:\n",
    "\n",
    "$$\n",
    "\\begin{eqnarray}\n",
    "\\sin \\beta &=& \\sin \\delta \\cos \\epsilon  - \\cos \\delta \\sin \\epsilon \\sin \\alpha  \\\\\n",
    "\\cos \\beta \\cos \\lambda &=& \\cos \\delta \\cos \\alpha \\\\\n",
    "\\cos \\beta \\sin \\lambda &=& \\sin \\delta \\sin \\epsilon + \\cos \\delta \\cos \\epsilon \\sin \\alpha\n",
    "\\end{eqnarray}\n",
    "$$\n",
    "\n",
    "\n",
    "![polarecliptic](../_static/p11/polarecliptic.png)\n"
   ]
  },
  {
   "cell_type": "code",
   "execution_count": null,
   "metadata": {},
   "outputs": [],
   "source": [
    "sin_b = np.sin(dec) * np.cos(eps) - np.cos(dec) * np.sin(eps) * np.sin(ra)"
   ]
  },
  {
   "cell_type": "code",
   "execution_count": null,
   "metadata": {},
   "outputs": [],
   "source": [
    "b_lat = Angle(np.arcsin(sin_b))\n",
    "cos_b = np.cos(b_lat)\n",
    "print('Latitud eclíptica:', b_lat.to_string(unit=u.degree))"
   ]
  },
  {
   "cell_type": "code",
   "execution_count": null,
   "metadata": {},
   "outputs": [],
   "source": [
    "# Calculamos el cos y el seno de la longitud eclíptica\n",
    "cos_l = (np.cos(dec) * np.cos(ra)) / cos_b\n",
    "sin_l = (np.sin(dec) * np.sin(eps) + np.cos(dec) * np.cos(eps) * np.sin(ra)) / cos_b"
   ]
  },
  {
   "cell_type": "code",
   "execution_count": null,
   "metadata": {},
   "outputs": [],
   "source": [
    "print(sin_l, cos_l)\n",
    "print(\"seno negativo y coseno es un ángulo del cuarto cuadrante\")"
   ]
  },
  {
   "cell_type": "code",
   "execution_count": null,
   "metadata": {},
   "outputs": [],
   "source": [
    "l_lon = Angle(np.arctan2(sin_l, cos_l))\n",
    "print('Longitud eclíptica:', l_lon.to_string(unit=u.degree))"
   ]
  },
  {
   "cell_type": "code",
   "execution_count": null,
   "metadata": {},
   "outputs": [],
   "source": [
    "print(\"Para un ángulo negativo, sumamos 360 grados\")\n",
    "l_lon = l_lon + Angle(360.0, unit=u.degree)\n",
    "print('Longitud eclíptica:', l_lon.to_string(unit=u.degree))"
   ]
  }
 ],
 "metadata": {
  "kernelspec": {
   "display_name": "Python 3 (ipykernel)",
   "language": "python",
   "name": "python3"
  },
  "language_info": {
   "codemirror_mode": {
    "name": "ipython",
    "version": 3
   },
   "file_extension": ".py",
   "mimetype": "text/x-python",
   "name": "python",
   "nbconvert_exporter": "python",
   "pygments_lexer": "ipython3",
   "version": "3.12.7"
  }
 },
 "nbformat": 4,
 "nbformat_minor": 4
}
