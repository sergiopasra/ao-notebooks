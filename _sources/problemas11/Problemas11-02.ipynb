{
 "cells": [
  {
   "cell_type": "markdown",
   "metadata": {},
   "source": [
    "# Problema 2\n",
    "\n",
    "Las distancias cenitales de una estrella en su culminación superior **al sur del cenit** e\n",
    "inferior son, respectivamente 35° y 75°. Calcular la declinación de la estrella y la latitud del\n",
    "lugar de observación."
   ]
  },
  {
   "cell_type": "markdown",
   "metadata": {},
   "source": [
    "## Planteamiento\n",
    "\n",
    "Sabemos que:\n",
    "\n",
    "$ a_{\\textrm{max}} = 90 - | \\delta - \\phi| $\n",
    "\n",
    "$ a_{\\textrm{min}} = -90 + | \\delta + \\phi| $\n",
    "\n",
    "Convertido en distancias cenitales:\n",
    "\n",
    "$ z_{\\textrm{max}} = | \\delta - \\phi| $\n",
    "\n",
    "$ z_{\\textrm{min}} = 180 - | \\delta + \\phi| $\n",
    "\n",
    "Si la culminación es al sur del cenit, entonces $\\phi > \\delta $ y la ecuación para $ z_{\\textrm{max}}$ queda:\n",
    "\n",
    "$ z_{\\textrm{max}} = \\phi - \\delta $\n",
    "\n",
    "Ahora, para la ecuación de $ z_{\\textrm{min}}$ hay dos posibilidades. \n",
    "\n",
    "### Caso 1: $ \\delta + \\phi > 0 $\n",
    "Si $ \\delta + \\phi > 0 $\n",
    "\n",
    "$ z_{\\textrm{min}} = 180 - \\delta - \\phi \\\\\n",
    "z_{\\textrm{max}} = \\phi - \\delta $\n",
    "\n",
    "De donde:\n",
    "\n",
    "$ z_{\\textrm{min}} + z_{\\textrm{max}} = 180 - 2 * \\delta $, despejando:\n",
    "\n",
    "$\\delta = 90 - (z_{\\textrm{min}} + z_{\\textrm{max}}) / 2 $\n",
    "\n",
    "Y además:\n",
    "\n",
    "$\\phi = z_{\\textrm{max}} + \\delta$\n",
    "\n",
    "\n",
    "### Caso 2: $ \\delta + \\phi < 0 $\n",
    "\n",
    "Por otro lado, si $ \\delta + \\phi < 0 $\n",
    "\n",
    "$ z_{\\textrm{min}} = 180 + \\delta + \\phi \\\\\n",
    "z_{\\textrm{max}} = \\phi - \\delta $\n",
    "\n",
    "De donde:\n",
    "\n",
    "$ z_{\\textrm{min}} + z_{\\textrm{max}} = 180 + 2 * \\phi $, despejando:\n",
    "\n",
    "$\\phi = (z_{\\textrm{min}} + z_{\\textrm{max}}) / 2 - 90$\n",
    "\n",
    "Y además:\n",
    "\n",
    "$\\delta = \\phi - z_{\\textrm{max}}$\n",
    "\n",
    "\n",
    "### Resultados\n",
    "\n",
    "Luego en principio tendremos dos posibles soluciones. Hay que comprobar cuáles son válidas."
   ]
  },
  {
   "cell_type": "code",
   "execution_count": 1,
   "metadata": {},
   "outputs": [],
   "source": [
    "from astropy.coordinates import Angle\n",
    "import astropy.units as u\n",
    "import numpy as np\n",
    "import matplotlib.pyplot as plt"
   ]
  },
  {
   "cell_type": "code",
   "execution_count": 2,
   "metadata": {},
   "outputs": [],
   "source": [
    "z1 = Angle(\"35d\")\n",
    "z2 = Angle(\"75d\")"
   ]
  },
  {
   "cell_type": "code",
   "execution_count": 3,
   "metadata": {},
   "outputs": [
    {
     "name": "stdout",
     "output_type": "stream",
     "text": [
      "Dec: 35d00m00s\n",
      "Lat: 70d00m00s\n"
     ]
    }
   ],
   "source": [
    "# Solución 1, corresponde al hemisferio Norte\n",
    "dec1 = Angle(90, unit='deg') - (z1 + z2) / (2.0)\n",
    "lat1 = z1 + dec1\n",
    "print('Dec:', dec1)\n",
    "print('Lat:', lat1)"
   ]
  },
  {
   "cell_type": "code",
   "execution_count": 4,
   "metadata": {},
   "outputs": [
    {
     "name": "stdout",
     "output_type": "stream",
     "text": [
      "Dec: -70d00m00s\n",
      "Lat: -35d00m00s\n"
     ]
    }
   ],
   "source": [
    "# Solución 2, corresponde al hemisferio Sur\n",
    "lat2 = (z1 + z2) / 2.0 - Angle(90, unit='deg')\n",
    "dec2 = lat2 - z1\n",
    "print('Dec:', dec2)\n",
    "print('Lat:', lat2)"
   ]
  },
  {
   "cell_type": "markdown",
   "metadata": {},
   "source": [
    "## Atención\n",
    "\n",
    "En un caso general, tenemos que buscar las dos soluciones y ver cuál es la correcta (pueden ser las dos).\n",
    "\n",
    "Dependiendo de las condiciones, puede ser posible eliminar una de las dos soluciones *a priori*.\n",
    "\n",
    "Por ejemplo, se puede demostrar que si estamos en el hemisferio norte y la culminación es al norte del cenit, entonces, la única solución correcta es la que tiene $ \\delta + \\phi > 0 $"
   ]
  },
  {
   "cell_type": "code",
   "execution_count": null,
   "metadata": {},
   "outputs": [],
   "source": []
  }
 ],
 "metadata": {
  "kernelspec": {
   "display_name": "Python 3",
   "language": "python",
   "name": "python3"
  },
  "language_info": {
   "codemirror_mode": {
    "name": "ipython",
    "version": 3
   },
   "file_extension": ".py",
   "mimetype": "text/x-python",
   "name": "python",
   "nbconvert_exporter": "python",
   "pygments_lexer": "ipython3",
   "version": "3.9.1"
  }
 },
 "nbformat": 4,
 "nbformat_minor": 2
}
