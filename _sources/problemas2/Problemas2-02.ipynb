{
 "cells": [
  {
   "cell_type": "markdown",
   "metadata": {},
   "source": [
    "# Problema 2\n",
    "\n",
    "Tres  estrellas  tienen  magnitudes  aparentes  visuales  de  2.0,  2.5  y  3.0.  \n",
    "\n",
    "¿Cuál  es  la  magnitud aparente  del  trío  de  estrellas, suponiendo que están lo suficientemente cerca como para que no se puedan resolver?\n",
    "\n",
    "Si  las  tres  estrellas  tienen una paralaje  media  de  0\".010  y  la  misma  magnitud  absoluta, calcular  esta  magnitud  absoluta y  la paralaje individual de cada estrella."
   ]
  },
  {
   "cell_type": "markdown",
   "metadata": {},
   "source": [
    "## Planteamiento\n",
    "\n",
    "Nos encontramos con tres estrellas cuya separaración angular es tan pequeña que no pueden resolverse. Esto no implica necesariamente que formen un sistema ligado. Simplemente ocupan la misma línea de visión.\n",
    "\n",
    "Sus magnitudes son:\n",
    "\n",
    " * $m_1$ = 2.0\n",
    " * $m_2$ = 2.5\n",
    " * $m_3$ = 3.0\n"
   ]
  },
  {
   "cell_type": "code",
   "execution_count": 1,
   "metadata": {},
   "outputs": [],
   "source": [
    "import math"
   ]
  }
 ],
 "metadata": {
  "kernelspec": {
   "display_name": "Python 3",
   "language": "python",
   "name": "python3"
  },
  "language_info": {
   "codemirror_mode": {
    "name": "ipython",
    "version": 3
   },
   "file_extension": ".py",
   "mimetype": "text/x-python",
   "name": "python",
   "nbconvert_exporter": "python",
   "pygments_lexer": "ipython3",
   "version": "3.9.1"
  }
 },
 "nbformat": 4,
 "nbformat_minor": 4
}
