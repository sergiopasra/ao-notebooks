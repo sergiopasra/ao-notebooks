{
 "cells": [
  {
   "cell_type": "markdown",
   "metadata": {},
   "source": [
    "# Problema 2\n",
    "\n",
    "Cástor (α Gem) es un sistema estelar múltiple. Se conocen sus dos componentes principales, Cástor A y B desde al menos 1718. A su vez, tanto Cástor A como B tienen una compañera más oscura. También existe Cástor C, más débil y más lejana. Cástor C también es binaria. En total, Cástor es un sistema séxtuple.\n",
    "\n",
    "Las componentes A y B tienen magnitudes visuales 1.93 y 2.97, respectivamente. ¿Cuál es la magnitud total del sistema no resuelto?"
   ]
  },
  {
   "cell_type": "markdown",
   "metadata": {},
   "source": [
    "## Planteamiento\n",
    "\n",
    "Nos encontramos con dos estrellas cuya separaración angular es tan pequeña que no pueden resolverse. Esto no implica necesariamente que formen un sistema ligado. \n",
    "\n",
    "Sus magnitudes son:\n",
    "\n",
    " * $m_1$ = 1.93\n",
    " * $m_2$ = 2.97\n",
    "\n",
    "Dado que las estrellas no pueden resolverse, la irradiancia de ambas se combina para dar una irradiancia total $e_T = e_1 + e_2$\n",
    "\n",
    "La magnitud total $m_T$ se relaciona con las irradiancias según la ley de Pogson, por ejemplo:\n",
    "\n",
    "$$\n",
    "m_T -m_1 = -2.5 \\log \\frac{e_T}{e_1}\n",
    "$$\n",
    "\n",
    "Dado que las magnitudes de cada estrella son conocidas, podemos calcular $e_2 / e_1 $.\n",
    "\n",
    "$$\n",
    "m_2 -m_1 = -2.5 \\log \\frac{e_2}{e_1} \\rightarrow \\frac{e_2}{e_1} = 10^{-0.4 (m_2 -m_1)}\n",
    "$$\n"
   ]
  },
  {
   "cell_type": "code",
   "execution_count": null,
   "metadata": {},
   "outputs": [],
   "source": [
    "import math\n",
    "\n",
    "m1 = 1.93\n",
    "m2 = 2.97\n",
    "\n",
    "e2_e1 = 10**(-0.4*(m2-m1))\n",
    "print(f'La relación de irradiancias e2/e1 es: {e2_e1:.4f}')"
   ]
  },
  {
   "cell_type": "markdown",
   "metadata": {},
   "source": [
    "Ahora podemos operar en la relación para la magnitud total:\n",
    "\n",
    "$$\n",
    "m_T = m_1 - 2.5 \\log \\frac{e_T}{e_1} = m_1 - 2.5 \\log \\frac{e_1 + e_2}{e_1} = m_1 - 2.5 \\log \\left( 1+ \\frac{e_2}{e_1} \\right)\n",
    "$$"
   ]
  },
  {
   "cell_type": "code",
   "execution_count": null,
   "metadata": {},
   "outputs": [],
   "source": [
    "mt = m1 - 2.5 * math.log10(1 + e2_e1)\n",
    "print(f'La magnitud combinada del sistemas es: {mt:.4f}')"
   ]
  }
 ],
 "metadata": {
  "kernelspec": {
   "display_name": "Python 3",
   "language": "python",
   "name": "python3"
  },
  "language_info": {
   "codemirror_mode": {
    "name": "ipython",
    "version": 3
   },
   "file_extension": ".py",
   "mimetype": "text/x-python",
   "name": "python",
   "nbconvert_exporter": "python",
   "pygments_lexer": "ipython3",
   "version": "3.10.0"
  }
 },
 "nbformat": 4,
 "nbformat_minor": 4
}
