{
 "cells": [
  {
   "cell_type": "markdown",
   "metadata": {},
   "source": [
    "# Problema 14\n",
    "\n",
    "\n",
    "Supongamos la misma galaxia que en el problema anterior, con 10$^{11}$ masas solares y las mismas dos categorías de estrellas: tipo 1 de 1.1 M$_{\\odot}$ y tipo 2 de 60 M$_{\\odot}$. De nuevo, 1.1 10$^{10}$ masas solares corresponden a las estrellas de tipo 1 y el resto es de tipo 2.\n",
    "\n",
    "Suponiendo que la magnitud absoluta visible es de 4.4 y el color B-V=0.58 para las estrellas tipo 1 y magnitud absoluta visible -5.7 y color B-V=-0.33 para las de tipo 2, calcular el color B-V de la galaxia.\n"
   ]
  },
  {
   "cell_type": "markdown",
   "metadata": {},
   "source": [
    "## Planteamiento\n",
    "\n",
    "Podemos calcular B-V para toda la galaxia repitiendo el procedimienno del problema anterior dos veces, una para magnitud B y otra para magnitud V y finalmente, restar las magnitudes para obtener el índice de color.\n",
    "\n",
    "De manera alternativa, podemos operar las ecuaciones para entender cómo se combinan los colores.\n",
    "\n",
    "Para cada magnitud tendremos:\n",
    "\n",
    "$$\n",
    "M_B^G - M_B^1 = -2.5 \\log \\frac{L_B^G}{L_B^1}\n",
    "$$\n",
    "\n",
    "$$\n",
    "M_V^G - M_V^1 = -2.5 \\log \\frac{L_V^G}{L_V^1}\n",
    "$$\n",
    "\n",
    "Restando, tenemos:\n",
    "\n",
    "\n",
    "$$\n",
    "M_B^G - M_V^G - (M_B^1 - M_V^1) = -2.5 \\log \\frac{L_B^G}{L_B^1} +2.5 \\log \\frac{L_V^G}{L_V^1}\n",
    "$$ \n",
    "Denominamos $(B - V)^G$ y $(B - V)^1$ a los índices de color de la galaxia y de la estrella tipo 1:\n",
    "\n",
    "$$\n",
    "(B - V)^G - (B - V)^1 = -2.5 \\log \\frac{L_B^G}{L_B^1} +2.5 \\log \\frac{L_V^G}{L_V^1}\n",
    "$$ \n",
    "\n",
    "\n",
    "En el problema anterior vimos que podemos calcular la luminosidad total a partir de la mezcla de dos tipos de estrellas como:\n",
    "\n",
    "\n",
    "$$\\frac{L_G}{L_1} = N_1  + N_2 \\frac{L_2}{L_1} $$\n",
    "\n",
    "\n",
    "Así que podemos escribir la ecuación como:\n",
    "\n",
    "$$\n",
    "(B - V)^G - (B - V)^1 = -2.5 \\log (N_1  + N_2 \\frac{L_B^2}{L_B^1}) +2.5 \\log (N_1  + N_2 \\frac{L_V^2}{L_V^1})\n",
    "$$ \n",
    "\n",
    "\n",
    "$$\n",
    "(B - V)^G - (B - V)^1 = -2.5 \\log \\frac{N_1  + N_2 \\frac{L_B^2}{L_B^1}}{N_1  + N_2 \\frac{L_V^2}{L_V^1}} = -2.5 \\log \\frac{1  + \\frac{N_2}{N_1} \\frac{L_B^2}{L_B^1}}{1  + \\frac{N_2}{N_1} \\frac{L_V^2}{L_V^1}}\n",
    "$$ \n",
    "\n",
    "Como se puede ver, el color de la galaxia no depende del número absoluto de estrellas, sino de la proporción de cada uno de los dos tipos de estrellas.\n",
    "\n",
    "Solo necesitamos calcular el número de estrellas de cada tipo y la relación de luminosidad en cada una de las bandas.\n"
   ]
  },
  {
   "cell_type": "code",
   "execution_count": null,
   "metadata": {},
   "outputs": [],
   "source": [
    "import math"
   ]
  },
  {
   "cell_type": "code",
   "execution_count": null,
   "metadata": {},
   "outputs": [],
   "source": [
    "# Datos\n",
    "MV2 = -5.7\n",
    "MV1 = 4.4\n",
    "B_V1 = 0.58\n",
    "B_V2 = -0.33"
   ]
  },
  {
   "cell_type": "code",
   "execution_count": null,
   "metadata": {},
   "outputs": [],
   "source": [
    "# Calculamos la magnitud absoluta B de cada tipo de estrella\n",
    "\n",
    "MB2 = MV2 + B_V2\n",
    "MB1 = MV1 + B_V1\n",
    "\n",
    "print(f'Magnitud B de una estrella de tipo 1 {MB1}')\n",
    "print(f'Magnitud B de una estrella de tipo 2 {MB2}')"
   ]
  },
  {
   "cell_type": "code",
   "execution_count": null,
   "metadata": {},
   "outputs": [],
   "source": [
    "# Calculamos la relación de luminosidades en cada banda\n",
    "LB2_LB1 = 10**(-0.4 * (MB2 - MB1))\n",
    "LV2_LV1 = 10**(-0.4 * (MV2 - MV1))\n",
    "print(f'Una estrella de tipo 2 brilla {LB2_LB1:.2f} veces más que una de tipo 1 en banda B')\n",
    "print(f'Una estrella de tipo 2 brilla {LV2_LV1:.2f} veces más que una de tipo 1 en banda V')"
   ]
  },
  {
   "cell_type": "markdown",
   "metadata": {},
   "source": [
    "Las estrellas de tipo 2 son incluso más brillantes en banda B que lo que eran en banda V."
   ]
  },
  {
   "cell_type": "markdown",
   "metadata": {},
   "source": [
    "### Número de estrellas de cada tipo\n",
    "\n",
    "Calculamos el número de estrellas de cada tipo. La masa en estrellas de tipo 1 es de 1.1 10$^{10}$. El resto de la masa corresponde a estrellas de tipo 2."
   ]
  },
  {
   "cell_type": "code",
   "execution_count": null,
   "metadata": {},
   "outputs": [],
   "source": [
    "# Datos\n",
    "masa_total = 1e11\n",
    "masa_total1 = 1.1e10\n",
    "masa_tipo1 = 1.1\n",
    "masa_tipo2 = 60"
   ]
  },
  {
   "cell_type": "code",
   "execution_count": null,
   "metadata": {},
   "outputs": [],
   "source": [
    "masa_total2 = masa_total - masa_total1\n",
    "print(f'Masa en estrellas tipo1 {masa_total1:g}')\n",
    "print(f'Masa en estrellas tipo2 {masa_total2:g}')"
   ]
  },
  {
   "cell_type": "code",
   "execution_count": null,
   "metadata": {},
   "outputs": [],
   "source": [
    "n_tipo1 = masa_total1 / masa_tipo1\n",
    "n_tipo2 = masa_total2 / masa_tipo2\n",
    "tipo_21 = n_tipo2 /n_tipo1\n",
    "print(f'Número de estrellas tipo1 {n_tipo1:g}')\n",
    "print(f'Número de estrellas tipo2 {n_tipo2:g}')\n",
    "print(f'Estrellas tipo2/tipo1 {tipo_21}')"
   ]
  },
  {
   "cell_type": "markdown",
   "metadata": {},
   "source": [
    "### Colores\n",
    "\n",
    "Ya tenemos todos los ingredientes para calcular el color final:\n",
    "\n",
    "$$\n",
    "(B - V)^G - (B - V)^1 = -2.5 \\log \\left( \\frac{1  + \\frac{N_2}{N_1} \\frac{L_B^2}{L_B^1}}{1  + \\frac{N_2}{N_1} \\frac{L_V^2}{L_V^1}} \\right)\n",
    "$$ "
   ]
  },
  {
   "cell_type": "code",
   "execution_count": null,
   "metadata": {},
   "outputs": [],
   "source": [
    "B_VG = B_V1 -2.5 * math.log10((1 + tipo_21 * LB2_LB1)/ (1 + tipo_21 * LV2_LV1))"
   ]
  },
  {
   "cell_type": "code",
   "execution_count": null,
   "metadata": {},
   "outputs": [],
   "source": [
    "print(f'El color total de la galaxia es {B_VG:.2f}')"
   ]
  },
  {
   "cell_type": "markdown",
   "metadata": {},
   "source": [
    "### Comentario final\n",
    "\n",
    "El color de la galaxia es igual al de la estrella de 60 masas solares. En el rango óptico, el color de las galaxias está dominado por las estrellas jóvenes, masivas y calientes. Desde el punto de vista del color, las estrellas poco masivas son irrelevantes en este rango.\n",
    "\n",
    "Para galaxias reales, el efecto no es tan extremo. En este modelo simple estamos utilizando extrellas extremadamente masivas, que no son tan frecuentes como en este modelo.\n"
   ]
  }
 ],
 "metadata": {
  "kernelspec": {
   "display_name": "Python 3",
   "language": "python",
   "name": "python3"
  },
  "language_info": {
   "codemirror_mode": {
    "name": "ipython",
    "version": 3
   },
   "file_extension": ".py",
   "mimetype": "text/x-python",
   "name": "python",
   "nbconvert_exporter": "python",
   "pygments_lexer": "ipython3",
   "version": "3.10.0"
  }
 },
 "nbformat": 4,
 "nbformat_minor": 4
}
