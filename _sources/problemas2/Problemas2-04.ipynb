{
 "cells": [
  {
   "cell_type": "markdown",
   "metadata": {},
   "source": [
    "# Problema 4\n",
    "\n",
    "\n",
    "Se han obtenido los siguientes datos observacionales de una estrella: \n",
    "* mediante un fotómetro se determinó que mv= 2.5; \n",
    "* mediante análisis espectroscópico se determinó un máximo en el contínuo de la radiación estelar en 400 nm\n",
    "* el desplazamiento aparente observado sobre el fondo del cielo durante un año permitió deducir para la paralaje un valor de 174 mas \n",
    "* mediante un interferómetro de intensidad se obtuvo un radio angular de 1 mas. \n",
    "\n",
    "Con los datos anteriores calcular el radio, la temperatura, la luminosidad, la distancia, la magnitud\n",
    "absoluta visual, la magnitud absoluta bolométrica y la corrección bolométrica. ¿Qué fracción de\n",
    "la energía irradiada por la estrella es del rango visible?.\n",
    "\n",
    "\n",
    "La magnitud absoluta bolométrica del Sol es 4.74 y su luminosidad $3.828 × 10^{26}$ W. El radio solar es $6.957 × 10^8$ m y la temperatura efectiva del Sol es $5772$ K. \n",
    "\n",
    "1 pársec es exactamente $648000 / \\pi$ unidades astronómicas y 1 au exactamente 149597870700 m"
   ]
  },
  {
   "cell_type": "markdown",
   "metadata": {},
   "source": [
    "## Planteamiento\n",
    "\n",
    "Tenemos datos estelares obtenidos mediante fotometría, espectroscopía, astrometría e interferometría."
   ]
  },
  {
   "cell_type": "code",
   "execution_count": null,
   "metadata": {},
   "outputs": [],
   "source": [
    "import math"
   ]
  },
  {
   "cell_type": "code",
   "execution_count": null,
   "metadata": {},
   "outputs": [],
   "source": [
    "import astropy.units as u\n",
    "import astropy.constants as const\n",
    "import numpy as np"
   ]
  },
  {
   "cell_type": "code",
   "execution_count": null,
   "metadata": {},
   "outputs": [],
   "source": [
    "mv = 2.5\n",
    "Ls = 3.828e26 * u.watt # luminosidad solar\n",
    "Rs = 6.957e8 * u.m\n",
    "Ts = 5772 * u.K\n",
    "Mbs = 4.74 # Magnitud absoluta bolométrica del Sol\n",
    "p = 0.174\n",
    "alpha = 0.001 * u.arcsec\n",
    "lmax = 400 * u.nm"
   ]
  },
  {
   "cell_type": "markdown",
   "metadata": {},
   "source": [
    "La energía por unidad de área que se recibe del Sol a la distancia terrestre se denomina **constante solar**."
   ]
  },
  {
   "cell_type": "code",
   "execution_count": null,
   "metadata": {},
   "outputs": [],
   "source": [
    "d = 1 / p * u.pc\n",
    "# (p * u.arcsec).to(u.parsec, equivalencies=u.parallax())\n",
    "print(f'Distancia {d:5.2f}')"
   ]
  },
  {
   "cell_type": "markdown",
   "metadata": {},
   "source": [
    "El radio de las estrellas es generalmente menor que un milisegundo de arco. Las medidas directas son escasas. Un instrumento que puede realizarlas es el interferómetro de intensidad.\n",
    "\n",
    "El radio cumplirá:\n",
    "\n",
    "$$\n",
    "R = d \\tan \\alpha \\simeq d \\alpha\n",
    "$$"
   ]
  },
  {
   "cell_type": "code",
   "execution_count": null,
   "metadata": {},
   "outputs": [],
   "source": [
    "R = d * np.tan(alpha)\n",
    "R = R.to(u.km)\n",
    "R_Rs = R / Rs\n",
    "print(f'Radio {R:.4g} {R_Rs.to(\"\"):.3f} Rsol')"
   ]
  },
  {
   "cell_type": "markdown",
   "metadata": {},
   "source": [
    "Utilizamos la ley de Wien para encontrar la temperatura efectiva.\n",
    "\n",
    "$\\lambda_{\\text{max}} T = 0.28976 \\ \\text{cm} \\ \\text{K}$\n"
   ]
  },
  {
   "cell_type": "code",
   "execution_count": null,
   "metadata": {},
   "outputs": [],
   "source": [
    "T = (0.28976 * u.cm * u.K / lmax)\n",
    "T = T.to(u.K)\n",
    "print(f'La temperatura efectiva a {lmax} es de {T:.2f}')"
   ]
  },
  {
   "cell_type": "markdown",
   "metadata": {},
   "source": [
    "La luminosidad viene dada por\n",
    "\n",
    "$$\n",
    "L = 4 \\pi R^2 \\sigma T^4\n",
    "$$\n",
    "\n",
    "Pero al calcularla relativa a la solar es:\n",
    "\n",
    "$$\n",
    "\\frac{L}{L_{\\odot}} = \\left( \\frac{R}{R_{\\odot}} \\right)^2 \\left( \\frac{T}{T_{\\odot}} \\right)^4\n",
    "$$"
   ]
  },
  {
   "cell_type": "code",
   "execution_count": null,
   "metadata": {},
   "outputs": [],
   "source": [
    "L_Ls = R_Rs**2 * (T / Ts)**4\n",
    "L_Ls = L_Ls.to('')\n",
    "print(f'Luminosidad es {L_Ls:.3} Lsol')\n",
    "print(f'Luminosidad es {L_Ls * Ls:.3}')"
   ]
  },
  {
   "cell_type": "markdown",
   "metadata": {},
   "source": [
    "La magnitud absoluta visual la obtenemos usando el módulo de distancia"
   ]
  },
  {
   "cell_type": "code",
   "execution_count": null,
   "metadata": {},
   "outputs": [],
   "source": [
    "d_pc = d.to(u.pc).value # Valor numérico de la distancia es parcsec\n",
    "print(f'Distancia es {d_pc:.2f}')\n",
    "Mv = mv - 5 * math.log10(d_pc) + 5\n",
    "print(f'Magnitud absoluta visual es {Mv:.2f}')"
   ]
  },
  {
   "cell_type": "markdown",
   "metadata": {},
   "source": [
    "Usamos la definición de magnitud bolométrica para obtener la magnitud absoluta bolométrica de la estrella:"
   ]
  },
  {
   "cell_type": "code",
   "execution_count": null,
   "metadata": {},
   "outputs": [],
   "source": [
    "Mb = Mbs - 2.5 * math.log10(L_Ls)\n",
    "print(f'Magnitud bolométrica absoluta {Mb:.2f}')"
   ]
  },
  {
   "cell_type": "markdown",
   "metadata": {},
   "source": [
    "Finalmente, podemos calcular la fracción de luminosidad en el visible a partir de la corrección bolométrica:\n",
    "\n",
    "$$\n",
    "\\text{CB} = M_b - M_V = -2.5 \\log \\frac{L}{L_V}\n",
    "$$\n",
    "\n",
    "De donde:\n",
    "\n",
    "$$\n",
    "\\frac{L_V}{L} = 10^{0.4 \\text{CB}}\n",
    "$$\n",
    "\n",
    "\n"
   ]
  },
  {
   "cell_type": "code",
   "execution_count": null,
   "metadata": {},
   "outputs": [],
   "source": [
    "CB = Mb - Mv\n",
    "print(f'Corrección bolométrica {CB:.2f}')"
   ]
  },
  {
   "cell_type": "code",
   "execution_count": null,
   "metadata": {},
   "outputs": [],
   "source": [
    "Lv_L = 10**(0.4 * CB)\n",
    "print(f'Fracción de luminosidad en V: {Lv_L:.2f}')"
   ]
  }
 ],
 "metadata": {
  "kernelspec": {
   "display_name": "Python 3",
   "language": "python",
   "name": "python3"
  },
  "language_info": {
   "codemirror_mode": {
    "name": "ipython",
    "version": 3
   },
   "file_extension": ".py",
   "mimetype": "text/x-python",
   "name": "python",
   "nbconvert_exporter": "python",
   "pygments_lexer": "ipython3",
   "version": "3.10.0"
  }
 },
 "nbformat": 4,
 "nbformat_minor": 4
}
