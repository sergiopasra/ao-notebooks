{
 "cells": [
  {
   "cell_type": "markdown",
   "metadata": {},
   "source": [
    "# Problema 12\n",
    "\n",
    "Para un cierto lugar de observación, el valor del parámetro de Fried en el cenit es \n",
    "$r_0$(500 nm) = 18 cm. Calcular la resolución de un telescopio de 15 cm de apertura y de otro de 1m a una longitud de onda λ = 600nm. \n",
    "\n",
    "En ambos casos, calcular la resolución a 0º y 45º de distancia cenital\n"
   ]
  },
  {
   "cell_type": "markdown",
   "metadata": {},
   "source": [
    "## Planteamiento\n",
    "\n",
    "El parámetro de Fried nos informa de cómo afecta la turbulencia a los frentes de onda que atraviesan la atmósfera. Es un parámetro que necesitamos para decidir el régimen en el que se encuentra la resolución del teelescopio: si está dominado por el *seeing* o por difracción.\n",
    "\n",
    "El parámetro de Fried depende tanto de la longitud de onda como de la distancia cenital como:\n",
    "\n",
    "$$\n",
    "r_0(\\lambda, z) \\propto \\lambda^{(6/5)} (\\cos z)^{3 /5}\n",
    "$$\n",
    "\n",
    "Por lo que $r_0$ se hace más grande para longitudes de onda mayores y a distancias cenitales más pequeñas.\n",
    "\n",
    "\n",
    "Si conocemos $r_0$ para un valor de $\\lambda$ y $z$, podemos calcularlo para cualquier otro, dado que:\n",
    "\n",
    "\n",
    "$$\n",
    "\\frac{r_0(\\lambda_1, z_1)}{r_0(\\lambda_2, z_2)} = \\left( \\frac{\\lambda_1}{\\lambda_2} \\right)^{6/5} \\left( \\frac{\\cos z_1}{\\cos z_2} \\right)^{3 /5}\n",
    "$$\n",
    "\n",
    "Una vez conocemos el parámetro de Fried, el régimen es el de difracción si $r_0 > D$ y el de *seeing* en el contrario, siendo $D$ el diámetro del telescopio.\n",
    "\n"
   ]
  },
  {
   "cell_type": "markdown",
   "metadata": {},
   "source": [
    "Conocemos $r_0$ para 500 nm y en el cenit (z=0)."
   ]
  },
  {
   "cell_type": "code",
   "execution_count": null,
   "metadata": {},
   "outputs": [],
   "source": [
    "import astropy.units as u\n",
    "import numpy as np\n",
    "import math"
   ]
  },
  {
   "cell_type": "code",
   "execution_count": null,
   "metadata": {},
   "outputs": [],
   "source": [
    "# Pongo las unidades, aunque no son necesarias\n",
    "# si tenemos cuidado\n",
    "r0_ref = 18 * u.cm\n",
    "long_ref = 500 * u.nm\n",
    "cen_ref = 0 * u.deg"
   ]
  },
  {
   "cell_type": "markdown",
   "metadata": {},
   "source": [
    "Para distancia cenital de 0, los cosenos valen 1:\n",
    "\n",
    "$$\n",
    "\\frac{r_0(\\lambda_1=600 \\ \\text{nm}, z_1=0)}{r_0(\\lambda_2=500 \\ \\text{nm}, z_2=0)} = \\left( \\frac{600}{500} \\right)^{6/5}\n",
    "$$"
   ]
  },
  {
   "cell_type": "code",
   "execution_count": null,
   "metadata": {},
   "outputs": [],
   "source": [
    "lon_calc = 600 * u.nm\n",
    "cen_calc_0 = 0 * u.deg\n",
    "r0_l_0 = r0_ref * (lon_calc / long_ref)**(6 / 5)\n",
    "print(f' Parámetro de Fried a 600 nm y distancia cenital 0º: {r0_l_0:.2f}')"
   ]
  },
  {
   "cell_type": "markdown",
   "metadata": {},
   "source": [
    "Para el otro caso, podemos hacerlo de dos maneras. \n",
    "\n",
    "Un método es aplicar la relación completa:"
   ]
  },
  {
   "cell_type": "code",
   "execution_count": null,
   "metadata": {},
   "outputs": [],
   "source": [
    "lon_calc = 600 * u.nm\n",
    "cen_calc_1 = 45 * u.deg\n",
    "r0_l_1a = r0_ref * (lon_calc / long_ref)**(6 / 5) * (np.cos(cen_calc_1) / np.cos(cen_ref))**(3/5)\n",
    "print(f' Parámetro de Fried a 600 nm y distancia cenital 45º: {r0_l_1a:.2f}')"
   ]
  },
  {
   "cell_type": "markdown",
   "metadata": {},
   "source": [
    "También podemos particularizar la relación general si ya sabemos el parámetro de Fried para la **misma longitud de onda**. De esa manera, los términos en longitud de onda se cancelan. Además, como nuestra medida a la misma longitud de onda es en el cenit, tenemos:\n",
    "\n",
    "$$\n",
    "r_0(\\lambda_1, z_1) = r_0(\\lambda_1, 0) \\left( \\cos z_1 \\right)^{3 /5}\n",
    "$$"
   ]
  },
  {
   "cell_type": "code",
   "execution_count": null,
   "metadata": {},
   "outputs": [],
   "source": [
    "r0_l_1b = r0_l_0 * np.cos(cen_calc_1)**(3/5)\n",
    "print(f' Parámetro de Fried a 600 nm y distancia cenital 45º: {r0_l_1b:.2f}')"
   ]
  },
  {
   "cell_type": "markdown",
   "metadata": {},
   "source": [
    "Así que se obtiene el mismo resultado."
   ]
  },
  {
   "cell_type": "markdown",
   "metadata": {},
   "source": [
    "### Resolución del telescopio de 15cm\n",
    "\n",
    "Para un telescopio de $D$ = 15 cm, estamos en el régimen dominado por difracción, de manera que la resolución es\n",
    "\n",
    "$$\n",
    "R = 1.22 \\lambda / D\n",
    "$$\n",
    "\n",
    "La ecuación está en radianes. Para obtener el resultado en segundos de arco tenemos que aplicar el factor 206265 (o más exactamente 648000 / $\\pi$). En el régimen de difracción, la resolución no depende de la distancia cenital.\n"
   ]
  },
  {
   "cell_type": "code",
   "execution_count": null,
   "metadata": {},
   "outputs": [],
   "source": [
    "lon_calc = 600 * u.nm\n",
    "D = 15 * u.cm\n",
    "R = (1.22 * lon_calc / D)\n",
    "R = R.to('')\n",
    "print(f'Resolución en radianes {R}')\n",
    "# Para convertir a segundos de arco podemos utilizar la conversión eacta\n",
    "print(f'Resolución en segundos de arco {R * 648000 / math.pi}')\n",
    "# Para convertir a segundos de arco podemos multiplicar por 206265\n",
    "print(f'Resolución en segundos de arco {R * 206265}')"
   ]
  },
  {
   "cell_type": "markdown",
   "metadata": {},
   "source": [
    "La diferencia entre ambos métodos de conversión a segundos de arco está en el sexto decimal, así que en este caso la diferencia es irrelevante. Como nota, el paquete `astropy` untiliza la conversión exacta internamente."
   ]
  },
  {
   "cell_type": "code",
   "execution_count": null,
   "metadata": {},
   "outputs": [],
   "source": [
    "# astropy hace conversiones exactas\n",
    "Rrad = R * u.rad\n",
    "print(f'Conversión a segundos de arco de astropy: {Rrad.to(u.arcsec)}')"
   ]
  },
  {
   "cell_type": "markdown",
   "metadata": {},
   "source": [
    "La resolución del telescopio de 15 cm, a una longitud de onda de 600 nm es de 1''"
   ]
  },
  {
   "cell_type": "markdown",
   "metadata": {},
   "source": [
    "### Resolución del telescopio de 1 m\n",
    "\n",
    "Para un telescopio de $D$ = 1 m, estamos en el régimen dominado por *seeing*, de manera que la resolución es\n",
    "\n",
    "$$\n",
    "R = 1.22 \\lambda / r_0\n",
    "$$\n",
    "\n",
    "Con la ecuación en radianes. Además, la ecuación depende de la distancia cenital.\n",
    "\n",
    "#### En el cenit\n",
    "\n",
    "El valor de $r_0$ es de 22.40 cm"
   ]
  },
  {
   "cell_type": "code",
   "execution_count": null,
   "metadata": {},
   "outputs": [],
   "source": [
    "lon_calc = 600 * u.nm\n",
    "r0 = 22.40 * u.cm\n",
    "R = (1.22 * lon_calc / r0)\n",
    "R = R.to('')\n",
    "print(f'Resolución en radianes: {R}')\n",
    "print(f'Resolución en segundos de arco: {R * 206265}')"
   ]
  },
  {
   "cell_type": "markdown",
   "metadata": {},
   "source": [
    "#### A 45º\n",
    "\n",
    "El valor de $r_0$ es de 18.20 cm"
   ]
  },
  {
   "cell_type": "code",
   "execution_count": null,
   "metadata": {},
   "outputs": [],
   "source": [
    "lon_calc = 600 * u.nm\n",
    "r0 = 18.20 * u.cm\n",
    "R = (1.22 * lon_calc / r0)\n",
    "R = R.to('')\n",
    "print(f'Resolución en radianes {R}')\n",
    "print(f'Resolución en segundos de arco {R * 206265}')"
   ]
  },
  {
   "cell_type": "markdown",
   "metadata": {},
   "source": [
    "Para este caso particular, el telescopio de 1 m tiene mejor resolución que el de 15 cm"
   ]
  }
 ],
 "metadata": {
  "kernelspec": {
   "display_name": "Python 3",
   "language": "python",
   "name": "python3"
  },
  "language_info": {
   "codemirror_mode": {
    "name": "ipython",
    "version": 3
   },
   "file_extension": ".py",
   "mimetype": "text/x-python",
   "name": "python",
   "nbconvert_exporter": "python",
   "pygments_lexer": "ipython3",
   "version": "3.10.0"
  }
 },
 "nbformat": 4,
 "nbformat_minor": 4
}
