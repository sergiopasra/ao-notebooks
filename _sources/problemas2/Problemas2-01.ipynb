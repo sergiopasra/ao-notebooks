{
 "cells": [
  {
   "cell_type": "markdown",
   "metadata": {},
   "source": [
    "# Problema 1\n",
    "\n",
    "La magnitud visible de la estrella Deneb (α Cyg) es de 1.33 y la de Sirio (α CMa) es de -1.58. \n",
    "\n",
    "¿Cuántas veces más brillante que Sirio se observaría Deneb si estuviesen a la misma distancia de la Tierra? \n",
    "\n",
    "Sirio se encuentra 75 veces más cerca de la Tierra que Deneb."
   ]
  },
  {
   "cell_type": "markdown",
   "metadata": {},
   "source": [
    "## Planteamiento\n",
    "\n",
    "Las dos ecuaciones que necesitamos son la **ley de Pogson** y la **definición de módulo de distancia**.\n",
    "\n",
    "$$\n",
    "m_1 - m_2 = -2.5 \\log \\frac{e_1}{e_2}\n",
    "$$\n",
    "\n",
    "\n",
    "$$\n",
    "m - M = 5 \\log d - 5\n",
    "$$\n",
    "\n",
    "Los datos son subindice D corresponden a Deneb y los de subíndice D a Sirio. Tenemos:\n",
    "\n",
    " * $m_D$ = 1.33\n",
    " * $m_S$ = -1.58\n",
    " * $d_D$ = 75 $d_D$\n"
   ]
  },
  {
   "cell_type": "code",
   "execution_count": 1,
   "metadata": {},
   "outputs": [],
   "source": [
    "import math"
   ]
  },
  {
   "cell_type": "code",
   "execution_count": 2,
   "metadata": {},
   "outputs": [],
   "source": [
    "mD = 1.33\n",
    "mS = -1.58\n",
    "dD_dS = 75"
   ]
  },
  {
   "cell_type": "markdown",
   "metadata": {},
   "source": [
    "A partir de la ley de Pogson oftenemos la relación de irradiancias:"
   ]
  },
  {
   "cell_type": "code",
   "execution_count": 3,
   "metadata": {},
   "outputs": [
    {
     "name": "stdout",
     "output_type": "stream",
     "text": [
      "Deneb se observa 0.0685 veces más débil que Sirio\n"
     ]
    }
   ],
   "source": [
    "eD_eS = 10**(-0.4 *(mD- mS))\n",
    "print(f'Deneb se observa {eD_eS:.4f} veces más débil que Sirio')"
   ]
  },
  {
   "cell_type": "markdown",
   "metadata": {},
   "source": [
    "A continuación, calculamos la magnitud que tendría Deneb si se encontrara la distancia de Sirio. Llamamos a esa magnitud $m_D^*$.\n",
    "\n",
    "Aplicamos el módulo de distancia, para cada distancia:\n",
    "\n",
    "$$\n",
    "m_D - M_D = 5 \\log d_D - 5\n",
    "$$\n",
    "\n",
    "$$\n",
    "m_D^* - M_D = 5 \\log d_S - 5\n",
    "$$\n",
    "\n",
    "La magnitud absoluta de Deneb es la misma. Restando una de otra queda:\n",
    "\n",
    "$$\n",
    "m_D -m_D^* = 5 \\log \\frac{d_D}{d_S}\n",
    "$$\n",
    "\n",
    "Despejamos $m_D^*$:\n",
    "\n",
    "$$\n",
    "m_D^* = m_D - 5 \\log \\frac{d_D}{d_S} = 1.33 - 5 \\log 75\n",
    "$$\n",
    "\n",
    "Sustituímos valores:"
   ]
  },
  {
   "cell_type": "code",
   "execution_count": 4,
   "metadata": {},
   "outputs": [
    {
     "name": "stdout",
     "output_type": "stream",
     "text": [
      "Deneb tendría magnitud -8.05 si estuviera a la distancia de Sirio\n"
     ]
    }
   ],
   "source": [
    "mDs = mD - 5 * math.log10(dD_dS)\n",
    "print(f'Deneb tendría magnitud {mDs:.2f} si estuviera a la distancia de Sirio')"
   ]
  },
  {
   "cell_type": "markdown",
   "metadata": {},
   "source": [
    "Finalmente usamos la ley de Pogson para obtener el uevo cociente de irradiancias"
   ]
  },
  {
   "cell_type": "code",
   "execution_count": 5,
   "metadata": {},
   "outputs": [
    {
     "name": "stdout",
     "output_type": "stream",
     "text": [
      "Deneb se observaría 385.5871 veces más brillante que Sirio\n"
     ]
    }
   ],
   "source": [
    "eDs_eS = 10**(-0.4 *(mDs- mS))\n",
    "print(f'Deneb se observaría {eDs_eS:.4f} veces más brillante que Sirio')"
   ]
  },
  {
   "cell_type": "markdown",
   "metadata": {},
   "source": [
    "### Método alternativo\n",
    "\n",
    "Otra manera de resolver el problema es partiendo del módulo de distancias:\n",
    "\n",
    "$$\n",
    "m_D - M_D = 5 \\log d_D - 5\n",
    "$$\n",
    "\n",
    "$$\n",
    "m_S - M_S = 5 \\log d_S - 5\n",
    "$$\n",
    "\n",
    "Restando y reordenando se obtiene:\n",
    "\n",
    "$$\n",
    "M_D - M_S = (m_D - m_S) -5 \\log \\frac{d_D}{d_S}\n",
    "$$\n",
    "\n",
    "Lo que nos permite obtener la diferencia de magnitudes absolutas (que está relacionada con el cociente de luminosidades).\n"
   ]
  },
  {
   "cell_type": "code",
   "execution_count": 6,
   "metadata": {},
   "outputs": [
    {
     "name": "stdout",
     "output_type": "stream",
     "text": [
      "La diferencia de magnitudes absolutas Deneb-Sirio es -6.47\n"
     ]
    }
   ],
   "source": [
    "MD_MS = (mD - mS) - 5 * math.log10(dD_dS)\n",
    "print(f'La diferencia de magnitudes absolutas Deneb-Sirio es {MD_MS:.2f}')"
   ]
  },
  {
   "cell_type": "markdown",
   "metadata": {},
   "source": [
    "Si cambia la distancia relativa entre las estrellas, cambian sus magnitudes parantes, pero no las absolutas. Si hacemos $d_D = d_S$\n",
    "\n",
    "$$\n",
    "M_D - M_S = m_D^* - m_S\n",
    "$$\n",
    "\n",
    "Y ahora usamos la ley de Pogson con la diferencia de magnitudes"
   ]
  },
  {
   "cell_type": "code",
   "execution_count": 7,
   "metadata": {},
   "outputs": [
    {
     "name": "stdout",
     "output_type": "stream",
     "text": [
      "Deneb se observaría 385.5871 veces más brillante que Sirio\n"
     ]
    }
   ],
   "source": [
    "eDs_eS = 10**(-0.4 *(MD_MS))\n",
    "print(f'Deneb se observaría {eDs_eS:.4f} veces más brillante que Sirio')"
   ]
  },
  {
   "cell_type": "code",
   "execution_count": null,
   "metadata": {},
   "outputs": [],
   "source": []
  }
 ],
 "metadata": {
  "kernelspec": {
   "display_name": "Python 3",
   "language": "python",
   "name": "python3"
  },
  "language_info": {
   "codemirror_mode": {
    "name": "ipython",
    "version": 3
   },
   "file_extension": ".py",
   "mimetype": "text/x-python",
   "name": "python",
   "nbconvert_exporter": "python",
   "pygments_lexer": "ipython3",
   "version": "3.9.1"
  }
 },
 "nbformat": 4,
 "nbformat_minor": 4
}
