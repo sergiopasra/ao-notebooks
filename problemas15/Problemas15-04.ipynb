{
 "cells": [
  {
   "cell_type": "markdown",
   "metadata": {},
   "source": [
    "# Problema 4\n",
    "\n",
    "Se observa el tránsito de la Luna simultáneamente desde dos lugares en el mismo meridiano\n",
    "de longitud. \n",
    "\n",
    "En el primero, con latitud 40°50′30′′N, la distancia cenital de la Luna es\n",
    "28°48′37′′ (al sur del cenit). \n",
    "\n",
    "En el segundo, con latitud 20°40′12′′N, la distancia cenital de la\n",
    "Luna es 8°18′29.5′′ (al sur del cenit). \n",
    "\n",
    "Suponiendo que la Tierra es esférica, calcular la\n",
    "distancia geocéntrica de la Luna en radios terrestres."
   ]
  },
  {
   "cell_type": "markdown",
   "metadata": {},
   "source": [
    "## Planteamiento\n",
    "\n",
    "Una solución general de este problema exige conocer la hora de los tránsitos y las coordenadas geocénticas, ya que los dos lugares de obervación no tienen por qué estar en el mismo meridiano. Sin embargo, podemos resolver fácilmente esta versión simplificada sin tener que calcular la distancia entre los lugares de observación.\n",
    "\n",
    "\n",
    "<br>\n",
    "<div>\n",
    "<img src=\"../_static/p11/parallax.png\" width=\"500\"/>\n",
    "</div>\n",
    "<br>\n",
    "\n",
    "_El dibujo no está a escala_\n",
    "\n",
    "Dado que la Luna culmina al sur del cenit en los dos casos, se cumple\n",
    "\n",
    "\n",
    "$\\delta = \\phi_1 - z_1 = \\phi_2 - z_2 $\n",
    "\n",
    "Ojo: si la Luna culminara al norte del cenit en O2, las ecuaciones para ese lugar serían $\\delta = z_2 -\\phi_2$\n",
    "\n",
    "Por la definición del ángulo de paralaje *p*:\n",
    "\n",
    "$z_1 = z_{10} - p_1 \\\\\n",
    "z_2 = z_{20} - p_2 \n",
    "$\n",
    "\n",
    "Donde podemos utilizar la definición de paralaje horizontal, que nos da directamene la distancia en radios terrestres.\n",
    "\n",
    "$\n",
    "p_1 = P \\sin z_{10} \\\\\n",
    " p_2 = P \\sin z_{20}\n",
    "$\n",
    "\n",
    "$ \\sin P = R / d $\n",
    "\n",
    "Sustituyendo, despejamos *P*:\n",
    "\n",
    "$\\phi_1 - (z_{10} - p_1) = \\phi_2 - (z_{20} - p_2) $\n",
    "\n",
    "$\\phi_1 - \\phi_2  = (z_{10} - z_{20}) - (p_1 - p_2) $\n",
    "\n",
    "$\\phi_1 - \\phi_2  = (z_{10} - z_{20}) - P (\\sin z_{10}  - \\sin z_{20} ) $\n",
    "\n",
    "$$\n",
    "P = \\frac{(z_{10} - z_{20}) - (\\phi_1 - \\phi_2)}{\\sin z_{10}  - \\sin z_{20}}\n",
    "$$"
   ]
  },
  {
   "cell_type": "code",
   "execution_count": 1,
   "metadata": {},
   "outputs": [],
   "source": [
    "from astropy.coordinates import Angle\n",
    "import astropy.units as u\n",
    "import numpy as np\n",
    "import matplotlib.pyplot as plt"
   ]
  },
  {
   "cell_type": "code",
   "execution_count": 2,
   "metadata": {},
   "outputs": [],
   "source": [
    "za = Angle(\"28d48m37s\")\n",
    "zb = Angle(\"8d18m29.5s\")\n",
    "lat_a = Angle(\"40d50m30s\")\n",
    "lat_b = Angle(\"20d40m12s\")"
   ]
  },
  {
   "cell_type": "code",
   "execution_count": 3,
   "metadata": {},
   "outputs": [],
   "source": [
    "P = ((za - zb) - (lat_a - lat_b)) / (np.sin(za) - np.sin(zb))"
   ]
  },
  {
   "cell_type": "code",
   "execution_count": 4,
   "metadata": {},
   "outputs": [
    {
     "name": "stdout",
     "output_type": "stream",
     "text": [
      "Paralaje horizonal: 0d58m45.3518s\n"
     ]
    }
   ],
   "source": [
    "print('Paralaje horizonal:', P)"
   ]
  },
  {
   "cell_type": "code",
   "execution_count": 5,
   "metadata": {},
   "outputs": [],
   "source": [
    "d = 1 / np.sin(P)"
   ]
  },
  {
   "cell_type": "code",
   "execution_count": 6,
   "metadata": {},
   "outputs": [
    {
     "name": "stdout",
     "output_type": "stream",
     "text": [
      "Distancia en radios terrestres: 58.5118486276421\n"
     ]
    }
   ],
   "source": [
    "print('Distancia en radios terrestres:', d)"
   ]
  },
  {
   "cell_type": "code",
   "execution_count": null,
   "metadata": {},
   "outputs": [],
   "source": []
  }
 ],
 "metadata": {
  "kernelspec": {
   "display_name": "Python 3",
   "language": "python",
   "name": "python3"
  },
  "language_info": {
   "codemirror_mode": {
    "name": "ipython",
    "version": 3
   },
   "file_extension": ".py",
   "mimetype": "text/x-python",
   "name": "python",
   "nbconvert_exporter": "python",
   "pygments_lexer": "ipython3",
   "version": "3.9.1"
  }
 },
 "nbformat": 4,
 "nbformat_minor": 4
}
