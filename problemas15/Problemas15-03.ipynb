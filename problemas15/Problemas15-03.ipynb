{
 "cells": [
  {
   "cell_type": "markdown",
   "metadata": {},
   "source": [
    "# Problema 3\n",
    "\n",
    "Se mide la distancia cenital de la Luna como 43º28’ desde un cierto lugar de observación.\n",
    "\n",
    "Calcular la distancia cenital verdadera (geocéntrica) asumiendo un paralaje horizontal de 60’"
   ]
  },
  {
   "cell_type": "markdown",
   "metadata": {},
   "source": [
    "## Solución\n",
    "\n",
    "Para el caso geocéntrico, el ángulo de paralaje puede calcularse como \n",
    "\n",
    "$$\n",
    "p = P \\sin z_0\n",
    "$$\n",
    "\n",
    "Con $P$ el paralaje horizontal y $z_0$ la distancia cenital del lugar de observación.\n",
    "\n",
    "La distancia cenital verdadera es:\n",
    "\n",
    "$$\n",
    "z = z_0 -p\n",
    "$$"
   ]
  },
  {
   "cell_type": "code",
   "execution_count": 1,
   "metadata": {},
   "outputs": [],
   "source": [
    "from astropy.coordinates import Angle\n",
    "import astropy.units as u\n",
    "import numpy as np"
   ]
  },
  {
   "cell_type": "code",
   "execution_count": 3,
   "metadata": {},
   "outputs": [],
   "source": [
    "z0 = Angle(\"42d28m\")\n",
    "P = 60 * u.arcmin"
   ]
  },
  {
   "cell_type": "code",
   "execution_count": 5,
   "metadata": {},
   "outputs": [
    {
     "name": "stdout",
     "output_type": "stream",
     "text": [
      "Ángulo de paralaje: 40.509669764451374 arcmin\n"
     ]
    }
   ],
   "source": [
    "p = P * np.sin(z0)\n",
    "print('Ángulo de paralaje:', p)"
   ]
  },
  {
   "cell_type": "code",
   "execution_count": 7,
   "metadata": {},
   "outputs": [
    {
     "name": "stdout",
     "output_type": "stream",
     "text": [
      "Distancia cenital local 42d28m00s\n",
      "Distancia cenital verdadera 41d47m29.4198s\n"
     ]
    }
   ],
   "source": [
    "z = z0 - p\n",
    "print('Distancia cenital local', z0)\n",
    "print('Distancia cenital verdadera', z)"
   ]
  },
  {
   "cell_type": "code",
   "execution_count": null,
   "metadata": {},
   "outputs": [],
   "source": []
  }
 ],
 "metadata": {
  "kernelspec": {
   "display_name": "Python 3",
   "language": "python",
   "name": "python3"
  },
  "language_info": {
   "codemirror_mode": {
    "name": "ipython",
    "version": 3
   },
   "file_extension": ".py",
   "mimetype": "text/x-python",
   "name": "python",
   "nbconvert_exporter": "python",
   "pygments_lexer": "ipython3",
   "version": "3.9.1"
  }
 },
 "nbformat": 4,
 "nbformat_minor": 4
}
