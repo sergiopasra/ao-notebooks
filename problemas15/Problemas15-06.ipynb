{
 "cells": [
  {
   "cell_type": "markdown",
   "metadata": {},
   "source": [
    "# Problema 6\n",
    "\n",
    "Los paralajes de dos estrellas son 0.074’’ y 0.047’’. Ambas estrellas tienen la misma\n",
    "ascensión recta y sus declinaciones son 62ºy 56º respectivamente. \n",
    "\n",
    "Calcular la distancia de cada estrella al Sol y la distancia entre ellas."
   ]
  },
  {
   "cell_type": "markdown",
   "metadata": {},
   "source": [
    "## Solución\n",
    "\n",
    "La distancia a las estrellas viene dada por su paralaje. Si la paralaje está en segundos de arco, la distancia se obtiene en parsecs como:\n",
    "\n",
    "$\n",
    " d (\\mathrm{pc}) = \\frac{1}{\\pi (\\mathrm{''})}\n",
    "$"
   ]
  },
  {
   "cell_type": "code",
   "execution_count": 1,
   "metadata": {},
   "outputs": [],
   "source": [
    "par1 = 0.074\n",
    "par2 = 0.047"
   ]
  },
  {
   "cell_type": "code",
   "execution_count": 4,
   "metadata": {},
   "outputs": [
    {
     "name": "stdout",
     "output_type": "stream",
     "text": [
      "Distancia a estrella1= 13.513513513513514 pc\n",
      "Distancia a estrella2= 21.27659574468085 pc\n"
     ]
    }
   ],
   "source": [
    "d1 = 1 / par1\n",
    "d2 = 1 / par2\n",
    "print('Distancia a estrella1=', d1, 'pc')\n",
    "print('Distancia a estrella2=', d2, 'pc')"
   ]
  },
  {
   "cell_type": "markdown",
   "metadata": {},
   "source": [
    "Para calcular la distancia entre ellas, construimos un triángulo formado por los radios vectores de las estrellas. Estos vectores forman un ángulo de $\\delta_2 - \\delta_1$ = 62º-56º = 6º = $\\pi / 30$ y el triángulo está contenido en un plano.\n",
    "\n",
    "Dado que conocemos dos lados y el ángulo que subtienden, podemos usar el teorema del coseno como:\n",
    "\n",
    "$$\n",
    "d_{12}^2 = d_1^2 + d_2^2 -2 d_1 d_2 \\cos (\\delta_2 - \\delta_1)\n",
    "$$"
   ]
  },
  {
   "cell_type": "code",
   "execution_count": 9,
   "metadata": {},
   "outputs": [],
   "source": [
    "import math"
   ]
  },
  {
   "cell_type": "code",
   "execution_count": 10,
   "metadata": {},
   "outputs": [],
   "source": [
    "d12 = math.sqrt(d1**2 + d2**2 - 2*d1*d2*math.cos(math.pi / 30))"
   ]
  },
  {
   "cell_type": "code",
   "execution_count": 11,
   "metadata": {},
   "outputs": [
    {
     "name": "stdout",
     "output_type": "stream",
     "text": [
      "Distancia entre estrellas= 7.963390744657119 pc\n"
     ]
    }
   ],
   "source": [
    "print('Distancia entre estrellas=', d12, 'pc')"
   ]
  },
  {
   "cell_type": "code",
   "execution_count": null,
   "metadata": {},
   "outputs": [],
   "source": []
  }
 ],
 "metadata": {
  "kernelspec": {
   "display_name": "Python 3",
   "language": "python",
   "name": "python3"
  },
  "language_info": {
   "codemirror_mode": {
    "name": "ipython",
    "version": 3
   },
   "file_extension": ".py",
   "mimetype": "text/x-python",
   "name": "python",
   "nbconvert_exporter": "python",
   "pygments_lexer": "ipython3",
   "version": "3.9.1"
  }
 },
 "nbformat": 4,
 "nbformat_minor": 4
}
