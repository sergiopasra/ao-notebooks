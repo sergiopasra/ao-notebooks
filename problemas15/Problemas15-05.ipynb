{
 "cells": [
  {
   "cell_type": "markdown",
   "metadata": {},
   "source": [
    "# Problema 5\n",
    "\n",
    "En un lugar de latitud 40°50′30′′N, se observan los tránsitos (superior e inferior) de una\n",
    "estrella. Las distancias cenitales son 19°39′20.8′′ (al norte del cenit) y 78°34′22.44′′.\n",
    "Calcular la declinación de la estrella y la constante de refracción"
   ]
  },
  {
   "cell_type": "markdown",
   "metadata": {},
   "source": [
    "## Planteamiento\n",
    "\n",
    "De la altura máxima y mínima obtenemos la distancia cenital máxima y mínima como:\n",
    "\n",
    "$|\\phi - \\delta| = z_1 + \\kappa \\tan z_1 \\\\\n",
    "180 - |\\phi + \\delta| = z_2 + \\kappa \\tan z_2\n",
    "$\n",
    "\n",
    "Como la culminación es al norte del cenit, entonces &delta; > &phi;. Obtenemos entonces:\n",
    "\n",
    "$\\delta - \\phi = z_1 + \\kappa \\tan z_1 \\\\\n",
    "180 - \\phi - \\delta = z_2 + \\kappa \\tan z_2\n",
    "$\n",
    "\n",
    "De aquí hay que depejar &delta; y &kappa;, todos los demás valores son conocidos. Si sumamos las dos ecuaciones, por ejemplo, obtenemos:\n",
    "\n",
    "$\n",
    "\\kappa = \\frac{180 - 2 \\phi -z_1 - z_2}{\\tan(z_1) + \\tan(z_2)}\n",
    "$\n",
    "\n",
    "Una vez calculado &kappa; se puede obtener &delta; de cualquiera de las otras ecuaciones."
   ]
  },
  {
   "cell_type": "code",
   "execution_count": 1,
   "metadata": {},
   "outputs": [],
   "source": [
    "from astropy.coordinates import Angle\n",
    "import astropy.units as u\n",
    "import numpy as np\n",
    "import matplotlib.pyplot as plt"
   ]
  },
  {
   "cell_type": "code",
   "execution_count": 2,
   "metadata": {},
   "outputs": [],
   "source": [
    "phi = Angle(\"40d50m30s\")\n",
    "z1 = Angle(\"19d39m20.8s\")\n",
    "z2 = Angle(\"78d34m22.44s\")"
   ]
  },
  {
   "cell_type": "code",
   "execution_count": 3,
   "metadata": {},
   "outputs": [],
   "source": [
    "K = (Angle(\"180d\") - 2 * phi -z2 - z1) / (np.tan(z2) + np.tan(z1))"
   ]
  },
  {
   "cell_type": "code",
   "execution_count": 4,
   "metadata": {},
   "outputs": [
    {
     "name": "stdout",
     "output_type": "stream",
     "text": [
      "Constante de refrección: 0d00m59.7148s\n"
     ]
    }
   ],
   "source": [
    "print('Constante de refrección:', K)"
   ]
  },
  {
   "cell_type": "code",
   "execution_count": 5,
   "metadata": {},
   "outputs": [
    {
     "name": "stdout",
     "output_type": "stream",
     "text": [
      "Declinación de la estrellas: 60d30m12.129s\n"
     ]
    }
   ],
   "source": [
    "delt = phi + z1 + K * np.tan(z1)\n",
    "print('Declinación de la estrellas:',delt)"
   ]
  },
  {
   "cell_type": "code",
   "execution_count": null,
   "metadata": {},
   "outputs": [],
   "source": []
  }
 ],
 "metadata": {
  "kernelspec": {
   "display_name": "Python 3",
   "language": "python",
   "name": "python3"
  },
  "language_info": {
   "codemirror_mode": {
    "name": "ipython",
    "version": 3
   },
   "file_extension": ".py",
   "mimetype": "text/x-python",
   "name": "python",
   "nbconvert_exporter": "python",
   "pygments_lexer": "ipython3",
   "version": "3.9.1"
  }
 },
 "nbformat": 4,
 "nbformat_minor": 4
}
