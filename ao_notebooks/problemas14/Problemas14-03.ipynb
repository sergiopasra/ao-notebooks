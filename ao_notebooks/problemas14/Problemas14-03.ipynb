{
 "cells": [
  {
   "cell_type": "markdown",
   "metadata": {},
   "source": [
    "# Problema 3\n",
    "\n",
    "Sabiendo que el semieje mayor de la órbita de Marte es a=1.524 au y su excentricidad\n",
    "e=0.093, calcular la razón entre su velocidad orbital máxima y su velocidad orbital mínima."
   ]
  },
  {
   "cell_type": "markdown",
   "metadata": {},
   "source": [
    "## Planteamiento\n",
    "\n",
    "La ecuación de la órbita es:\n",
    "\n",
    "$$\n",
    "r  = \\frac{a(1 - e^2)}{1+e\\cos \\nu}\n",
    "$$\n",
    "\n",
    "Por lo que los valores extremos de r son:\n",
    "$r_{-} = a \\, (1-e)$ para $\\nu=0$ \n",
    "y $r_{+} = a \\, ( 1 + e)$ para $\\nu=180^{\\circ}$\n",
    "\n",
    "La velocidad es:\n",
    "\n",
    "$$\n",
    "V^2 = GM \\left( \\frac{2}{r} - \\frac{1}{a} \\right)\n",
    "$$\n",
    "\n",
    "La velocidad máxima se alcanza en $r_{-}$ y la mínima en $r_{+}$.\n",
    "\n",
    "\n",
    "Sustituyendo:\n",
    "\n",
    "$$\n",
    "V_{+}^2 = GM \\left( \\frac{2}{a \\, (1-e)} - \\frac{1}{a} \\right) = \\frac{GM}{a}\\left( \\frac{1 + e}{1-e} \\right)\n",
    "$$\n",
    "\n",
    "Y también:\n",
    "\n",
    "$$\n",
    "V_{-}^2 = GM \\left( \\frac{2}{a \\, (1+e)} - \\frac{1}{a} \\right) = \\frac{GM}{a}\\left( \\frac{1 - e}{1 + e} \\right)\n",
    "$$\n",
    "\n",
    "Dividiendo y extrayendo raiz cuadrada:\n",
    "\n",
    "$$\n",
    "\\frac{V_{+}}{V_{-}} = \\left( \\frac{1 + e}{1 - e} \\right)\n",
    "$$\n",
    "\n"
   ]
  },
  {
   "cell_type": "code",
   "execution_count": 1,
   "metadata": {},
   "outputs": [
    {
     "name": "stdout",
     "output_type": "stream",
     "text": [
      "Razón de velocidades:  1.2050716648291069\n"
     ]
    }
   ],
   "source": [
    "e = 0.093\n",
    "\n",
    "razon_v = (1 + e) / (1-e)\n",
    "print('Razón de velocidades: ', razon_v)"
   ]
  },
  {
   "cell_type": "code",
   "execution_count": null,
   "metadata": {},
   "outputs": [],
   "source": []
  }
 ],
 "metadata": {
  "kernelspec": {
   "display_name": "Python 3",
   "language": "python",
   "name": "python3"
  },
  "language_info": {
   "codemirror_mode": {
    "name": "ipython",
    "version": 3
   },
   "file_extension": ".py",
   "mimetype": "text/x-python",
   "name": "python",
   "nbconvert_exporter": "python",
   "pygments_lexer": "ipython3",
   "version": "3.9.1"
  }
 },
 "nbformat": 4,
 "nbformat_minor": 4
}
