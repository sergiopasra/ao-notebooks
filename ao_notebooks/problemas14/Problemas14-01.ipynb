{
 "cells": [
  {
   "cell_type": "markdown",
   "metadata": {},
   "source": [
    "# Problema 1\n",
    "\n",
    "El periodo sidéreo de Mercurio es de 88 días. Calcular su periodo sinódico. Considerar el\n",
    "periodo sidéreo de la Tierra como 365.25 días."
   ]
  },
  {
   "cell_type": "markdown",
   "metadata": {},
   "source": [
    "## Planteamiento\n",
    "\n",
    "El periodo sinódico respecto de la Tierra es:\n",
    "\n",
    "\n",
    "$$\n",
    "\\frac{1}{P_S} = \\left|\\frac{1}{P_E} - \\frac{1}{P}\\right| $$"
   ]
  },
  {
   "cell_type": "code",
   "execution_count": 1,
   "metadata": {},
   "outputs": [
    {
     "name": "stdout",
     "output_type": "stream",
     "text": [
      "Periodo sinódico: 115.93146979260594 dias\n"
     ]
    }
   ],
   "source": [
    "P_E = 365.25\n",
    "P = 88\n",
    "P_S = abs(1 / (1 / P_E - 1 / P))\n",
    "print(\"Periodo sinódico:\", P_S, \"dias\")"
   ]
  },
  {
   "cell_type": "code",
   "execution_count": null,
   "metadata": {},
   "outputs": [],
   "source": []
  }
 ],
 "metadata": {
  "kernelspec": {
   "display_name": "Python 3",
   "language": "python",
   "name": "python3"
  },
  "language_info": {
   "codemirror_mode": {
    "name": "ipython",
    "version": 3
   },
   "file_extension": ".py",
   "mimetype": "text/x-python",
   "name": "python",
   "nbconvert_exporter": "python",
   "pygments_lexer": "ipython3",
   "version": "3.9.1"
  }
 },
 "nbformat": 4,
 "nbformat_minor": 4
}
