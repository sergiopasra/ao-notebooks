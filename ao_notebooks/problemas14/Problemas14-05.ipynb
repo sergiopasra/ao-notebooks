{
 "cells": [
  {
   "cell_type": "markdown",
   "metadata": {},
   "source": [
    "# Problema 5\n",
    "\n",
    "Calcular la elongación máxima de la Tierra vista desde Marte, siendo el semieje mayor de\n",
    "la órbita de Marte a=1.524 au"
   ]
  },
  {
   "cell_type": "markdown",
   "metadata": {},
   "source": [
    "## Solución\n",
    "\n",
    "Desde Marte, la Tierra es un planeta interior, por lo que la elongación máxima se alcanza cuando el ángulo de fase en la Tierra es de 90º.\n",
    "\n",
    "En esas condiciones se cumple:\n",
    "\n",
    "$\n",
    "a_T = a_M \\sin E_{\\mathrm{max}}\n",
    "$\n",
    "\n",
    "Donde $a_T = 1$ au y $a_M$ = 1.524 au"
   ]
  },
  {
   "cell_type": "code",
   "execution_count": 2,
   "metadata": {},
   "outputs": [],
   "source": [
    "import math"
   ]
  },
  {
   "cell_type": "code",
   "execution_count": 3,
   "metadata": {},
   "outputs": [
    {
     "name": "stdout",
     "output_type": "stream",
     "text": [
      "Elongación máxima: 41.008271748213836 grados\n"
     ]
    }
   ],
   "source": [
    "a_T = 1\n",
    "a_M = 1.524\n",
    "sin_E = a_T / a_M\n",
    "E = math.asin(sin_E) / math .pi * 180 # Conversión a grados\n",
    "print(\"Elongación máxima:\", E, 'grados')"
   ]
  },
  {
   "cell_type": "code",
   "execution_count": null,
   "metadata": {},
   "outputs": [],
   "source": []
  }
 ],
 "metadata": {
  "kernelspec": {
   "display_name": "Python 3",
   "language": "python",
   "name": "python3"
  },
  "language_info": {
   "codemirror_mode": {
    "name": "ipython",
    "version": 3
   },
   "file_extension": ".py",
   "mimetype": "text/x-python",
   "name": "python",
   "nbconvert_exporter": "python",
   "pygments_lexer": "ipython3",
   "version": "3.9.1"
  }
 },
 "nbformat": 4,
 "nbformat_minor": 4
}
