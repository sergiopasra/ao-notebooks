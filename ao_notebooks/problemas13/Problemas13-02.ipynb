{
 "cells": [
  {
   "cell_type": "markdown",
   "metadata": {},
   "source": [
    "# Problema 2"
   ]
  },
  {
   "cell_type": "markdown",
   "metadata": {},
   "source": [
    "Calcular el día del calendario que corresponde a JD2453677,5"
   ]
  },
  {
   "cell_type": "markdown",
   "metadata": {},
   "source": [
    "## Solución\n",
    "\n",
    "A pesar de que existen algoritmos para realizar el cálculo inverso, vamos a realizarlo paso a paso."
   ]
  },
  {
   "cell_type": "markdown",
   "metadata": {},
   "source": [
    "Calculamos el año dividiendo entre 365.25 y quedándonos con la parte entera"
   ]
  },
  {
   "cell_type": "code",
   "execution_count": null,
   "metadata": {},
   "outputs": [],
   "source": [
    "pq = 2453677.5 / 365.25\n",
    "print(pq)"
   ]
  },
  {
   "cell_type": "code",
   "execution_count": null,
   "metadata": {},
   "outputs": [],
   "source": [
    "pqa = int(pq)\n",
    "print('Años julianos transcurridos', pqa)"
   ]
  },
  {
   "cell_type": "code",
   "execution_count": null,
   "metadata": {},
   "outputs": [],
   "source": [
    "# Restamos 4712 (origen de la fecha juliana)\n",
    "a = 6717 - 4712\n",
    "print('Años julianos desde el origen del calendario gregoriano:', a)"
   ]
  },
  {
   "cell_type": "code",
   "execution_count": null,
   "metadata": {},
   "outputs": [],
   "source": [
    "# Para el inicio de 2005, el fecha juliana es\n",
    "jd0 = (4712 + 2005) * 365.25\n",
    "jd0 = int(jd0)\n",
    "# Restamos 13\n",
    "jd0 = jd0 - 13\n",
    "# Finalmente 0.5\n",
    "jd0 = jd0 - 0.5\n",
    "print('JD a 0 de enero 2005 0h UT=', jd0)"
   ]
  },
  {
   "cell_type": "code",
   "execution_count": null,
   "metadata": {},
   "outputs": [],
   "source": [
    "# Los días restantes son\n",
    "\n",
    "dd = 2453677.5 - 2453370.5\n",
    "print('Días restantes', dd)"
   ]
  },
  {
   "cell_type": "code",
   "execution_count": null,
   "metadata": {},
   "outputs": [],
   "source": [
    "# La suma de días hasta el 31 de octubre es\n",
    "sd = 31+28+31+30+31+30+31+31+30+31\n",
    "print('Días a partir del 31 de octubre', dd - sd)"
   ]
  },
  {
   "cell_type": "code",
   "execution_count": null,
   "metadata": {},
   "outputs": [],
   "source": [
    "print('JD a 3 de noviembre 2005 0h UT=', 2453677.5)"
   ]
  }
 ],
 "metadata": {
  "kernelspec": {
   "display_name": "Python 3 (ipykernel)",
   "language": "python",
   "name": "python3"
  },
  "language_info": {
   "codemirror_mode": {
    "name": "ipython",
    "version": 3
   },
   "file_extension": ".py",
   "mimetype": "text/x-python",
   "name": "python",
   "nbconvert_exporter": "python",
   "pygments_lexer": "ipython3",
   "version": "3.11.6"
  }
 },
 "nbformat": 4,
 "nbformat_minor": 4
}
