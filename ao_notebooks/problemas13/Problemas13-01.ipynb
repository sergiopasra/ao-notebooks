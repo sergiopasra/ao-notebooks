{
 "cells": [
  {
   "cell_type": "markdown",
   "metadata": {},
   "source": [
    "# Problema 1"
   ]
  },
  {
   "cell_type": "markdown",
   "metadata": {},
   "source": [
    "Calcular la fecha juliana del 27 de febrero de 2007"
   ]
  },
  {
   "cell_type": "markdown",
   "metadata": {},
   "source": [
    "## Solución\n",
    "\n",
    "Utilizaremos el método descrito en el temario para convertir la fecha."
   ]
  },
  {
   "cell_type": "code",
   "execution_count": 12,
   "metadata": {},
   "outputs": [
    {
     "name": "stdout",
     "output_type": "stream",
     "text": [
      "valor inicial 2454114.75\n",
      "JD a 0 de enero 0h UT= 2454100.5\n"
     ]
    }
   ],
   "source": [
    "# Comenzamos con el año\n",
    "a = 2007\n",
    "jd0 = (4712 + a) * 365.25\n",
    "print('valor inicial', jd0)\n",
    "# Como el resultado es decimal, tomamos la parte entera\n",
    "jd0 = int(jd0)\n",
    "# A continuación restamos 13 al estar el año entre 1901 y 2100\n",
    "# diez dias por la reforma gregoriana y 3 por los bisiestos eliminados\n",
    "jd0 = jd0 - 13\n",
    "# Finalmente restamos 0.5 para estar a 0h de UT\n",
    "jd0 = jd0 - 0.5\n",
    "print('JD a 0 de enero de 2007, 0h UT=', jd0)"
   ]
  },
  {
   "cell_type": "code",
   "execution_count": 13,
   "metadata": {},
   "outputs": [
    {
     "name": "stdout",
     "output_type": "stream",
     "text": [
      "JD a 27 de febrero de 2007, 0h UT= 2454158.5\n"
     ]
    }
   ],
   "source": [
    "# A continuación sumamos 31 días de enero y 27 de febrero\n",
    "jd = jd0 + 31 +27\n",
    "print('JD a 27 de febrero de 2007, 0h UT=', jd)"
   ]
  },
  {
   "cell_type": "code",
   "execution_count": null,
   "metadata": {},
   "outputs": [],
   "source": []
  }
 ],
 "metadata": {
  "kernelspec": {
   "display_name": "Python 3",
   "language": "python",
   "name": "python3"
  },
  "language_info": {
   "codemirror_mode": {
    "name": "ipython",
    "version": 3
   },
   "file_extension": ".py",
   "mimetype": "text/x-python",
   "name": "python",
   "nbconvert_exporter": "python",
   "pygments_lexer": "ipython3",
   "version": "3.9.0"
  }
 },
 "nbformat": 4,
 "nbformat_minor": 4
}
