{
 "cells": [
  {
   "cell_type": "markdown",
   "metadata": {},
   "source": [
    "# Problema 5"
   ]
  },
  {
   "cell_type": "markdown",
   "metadata": {},
   "source": [
    "Calcular el tiempo sidéreo local para la fecha 2019-09-20 03:20:18 UTC, en un lugar de\n",
    "coordenadas φ=42°52’31,8’’, longitud=0h34m14s W. \n",
    "\n",
    "Utilizar la expresión de GMST(0h UT) vista en clase. UT1-UTC = -0.153s para esa fecha."
   ]
  },
  {
   "cell_type": "markdown",
   "metadata": {},
   "source": [
    "## Solución\n",
    "\n",
    "### Tiempo sidéreo local\n",
    "\n",
    "Sabemos que para calcular el tiempo sidéreo local (TSL) en un cierto momento t (medido en la escala UT) podemos utilizar:\n",
    "\n",
    "$$ \\mathrm{TSL}(t) = \\mathrm{GMST}(t) + \\lambda$$\n",
    "\n",
    "\n",
    "A su vez, podemos recuperar el valor del GMST(t) para un cierto día como:\n",
    "\n",
    "\n",
    "$$ \n",
    "\\mathrm{GMST}(t) = \\mathrm{GMST}(\\mathrm{0h UT}) + 1.0027379091 \\,(t - \\mathrm{0h UT})\n",
    "$$\n",
    "\n",
    "Y por último, podemos calcular el valor $\\mathrm{GMST}(\\mathrm{0h UT})$ para cualquier fecha como:\n",
    "\n",
    "$$\n",
    "\\mathrm{GMST}(\\mathrm{0h UT}) = 24110.54841 + 8640184.812866 \\times T + 0.093104 \\times  T^2 - 0.0000062 \\times T^3\n",
    "$$\n",
    "\n",
    "siendo $T$ el número de centurias julianas desde 2000-01-01 12h UT1 (fecha juliana 2451545.0).\n",
    "\n",
    "Por último, recordar que el tiempo en estas ecuaciones siempre está en la escala UT.\n",
    "\n"
   ]
  },
  {
   "cell_type": "markdown",
   "metadata": {},
   "source": [
    "### Cálculo de la época\n",
    "\n",
    "En primer lugar, calculamos la época en escala UT. Dado que tenemos su valor en UTC, solamente tenemos que introducir la diferencia UT1-UTC.\n",
    " $t(\\mathrm{UT}) = t(\\mathrm{UTC}) + (\\mathrm{UT1} - \\mathrm{UTC})$\n",
    "\n",
    "Como $(\\mathrm{UT1} - \\mathrm{UTC})$ es pequeño (siempre menor que 1 segundo), suele ignorarse si no se conoce.\n",
    "\n",
    "Por lo tanto, la fecha en escala UT es 2019-09-20 03:20:17.847 UT1"
   ]
  },
  {
   "cell_type": "markdown",
   "metadata": {},
   "source": [
    "### Fecha juliana\n",
    "\n",
    "Para el cálculo de  GMST(0h UT) necesitamos el número de centurias julianas desde una fecha de referencia, así que tenemos que calcular la fecha juliana que corresponde a nuestro tiempo en escala UT1. Para hacerlo, podemos ver el método en los problemas 1 y 4. El resultado es:"
   ]
  },
  {
   "cell_type": "code",
   "execution_count": null,
   "metadata": {},
   "outputs": [],
   "source": [
    "from astropy.coordinates import Angle\n",
    "import astropy.units as u\n",
    "import numpy as np\n",
    "import matplotlib.pyplot as plt"
   ]
  },
  {
   "cell_type": "code",
   "execution_count": null,
   "metadata": {},
   "outputs": [],
   "source": [
    "fecha_jd = 2458746.639095"
   ]
  },
  {
   "cell_type": "markdown",
   "metadata": {},
   "source": [
    "### Cálculo de GMST(0h UT)\n",
    "\n",
    "Calculamos la fracción de siglo juliano como:"
   ]
  },
  {
   "cell_type": "code",
   "execution_count": null,
   "metadata": {},
   "outputs": [],
   "source": [
    "T = (fecha_jd - 2451545.0) / 36525\n",
    "print(f'Fracción de siglo juliano {T}')"
   ]
  },
  {
   "cell_type": "markdown",
   "metadata": {},
   "source": [
    "Como la fecha es de 2019, un resultado cercano a 0.19 es razonable.\n",
    "Finalmente, calculamos el valor de GMST(0h UT). Recordemos que es un ángulo y que la ecuación que vamos a utilizar da un resultado en **segundos angulares**.\n",
    "Dividiremos el resultado entre 3600 para obtener horas angulares y finalmente lo reducieremos módulo 24.\n"
   ]
  },
  {
   "cell_type": "code",
   "execution_count": null,
   "metadata": {},
   "outputs": [],
   "source": [
    "GMST_0ut = 24110.54841 + 8640184.812866 * T + 0.093104 * T**2 - 0.0000062 * T**3\n",
    "print(f\"GMST(0h UT): {GMST_0ut} s\")\n",
    "# Convertimos a horas\n",
    "GMST_0ut = GMST_0ut / 3600\n",
    "print(f\"GMST(0h UT): {GMST_0ut} h\")\n",
    "\n",
    "# Nos quedamos con un ángulo entre 0 y 24 horas\n",
    "# Operación módulo\n",
    "GMST_0ut = GMST_0ut % 24\n",
    "print(f\"GMST(0h UT): {GMST_0ut} h\")"
   ]
  },
  {
   "cell_type": "markdown",
   "metadata": {},
   "source": [
    "### Cálculo de GMST(t)\n",
    "\n",
    "Para un día cualquiera, la siguiente relación es válida:\n",
    "\n",
    "$$ \n",
    "\\mathrm{GMST}(t) = \\mathrm{GMST}(\\mathrm{0h TU}) + 1.0027379091 \\,(t - \\mathrm{0h TU})\n",
    "$$\n",
    "\n",
    "El intervalo de tiempo (en horas) entre 2019-09-20 03:20:17.847 UT1 y 2019-09-20 00:00:00 UT1 será:"
   ]
  },
  {
   "cell_type": "code",
   "execution_count": null,
   "metadata": {},
   "outputs": [],
   "source": [
    "delta_t = 3 + (20 + 17.847/60) / 60\n",
    "delta_t"
   ]
  },
  {
   "cell_type": "code",
   "execution_count": null,
   "metadata": {},
   "outputs": [],
   "source": [
    "GMST_t = GMST_0ut + 1.0027379091 * delta_t"
   ]
  },
  {
   "cell_type": "code",
   "execution_count": null,
   "metadata": {},
   "outputs": [],
   "source": [
    "print(f\"GMST(t): {GMST_t} h\")\n",
    "# Nos quedamos con un ángulo entre 0 y 24 horas\n",
    "# Operación módulo\n",
    "GMST_t = GMST_t % 24\n",
    "print(f\"GMST(t): {GMST_t} h\")"
   ]
  },
  {
   "cell_type": "markdown",
   "metadata": {},
   "source": [
    "### Cálculo de LST(t)\n",
    "\n",
    "Finalmente, sumamos la longitud. Al ser una longitud oeste, es negativa.\n",
    "Los valores en horas, minutos y segundos son:"
   ]
  },
  {
   "cell_type": "code",
   "execution_count": null,
   "metadata": {},
   "outputs": [],
   "source": [
    "GMST_t = Angle(GMST_t * u.hourangle)"
   ]
  },
  {
   "cell_type": "code",
   "execution_count": null,
   "metadata": {},
   "outputs": [],
   "source": [
    "print('GMST(t)', GMST_t)"
   ]
  },
  {
   "cell_type": "code",
   "execution_count": null,
   "metadata": {},
   "outputs": [],
   "source": [
    "lon = Angle(\"0h34m14sW\")\n",
    "print('longitud', lon)"
   ]
  },
  {
   "cell_type": "code",
   "execution_count": null,
   "metadata": {},
   "outputs": [],
   "source": [
    "# Resultado final\n",
    "LST = GMST_t + lon\n",
    "print('LST', LST)"
   ]
  }
 ],
 "metadata": {
  "kernelspec": {
   "display_name": "Python 3 (ipykernel)",
   "language": "python",
   "name": "python3"
  },
  "language_info": {
   "codemirror_mode": {
    "name": "ipython",
    "version": 3
   },
   "file_extension": ".py",
   "mimetype": "text/x-python",
   "name": "python",
   "nbconvert_exporter": "python",
   "pygments_lexer": "ipython3",
   "version": "3.11.6"
  }
 },
 "nbformat": 4,
 "nbformat_minor": 4
}
