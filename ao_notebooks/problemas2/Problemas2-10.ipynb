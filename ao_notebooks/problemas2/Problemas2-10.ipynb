{
 "cells": [
  {
   "cell_type": "markdown",
   "metadata": {},
   "source": [
    "# Problema 10\n",
    "\n",
    "\n",
    "La nebulosa planetaria NGC7662 tiene una paralaje de 0.86 mas, mV= 12.0 y un radio angular \n",
    "de 0.257’. Suponiendo que la nebulosa es un disco de radiancia uniforme calcular su radio (en UA), \n",
    "su magnitud absoluta y su brillo superficial. (Abajo, imagen desde Tierra y desde HST)\n"
   ]
  },
  {
   "cell_type": "code",
   "execution_count": null,
   "metadata": {},
   "outputs": [],
   "source": []
  }
 ],
 "metadata": {
  "kernelspec": {
   "display_name": "Python 3 (ipykernel)",
   "language": "python",
   "name": "python3"
  },
  "language_info": {
   "codemirror_mode": {
    "name": "ipython",
    "version": 3
   },
   "file_extension": ".py",
   "mimetype": "text/x-python",
   "name": "python",
   "nbconvert_exporter": "python",
   "pygments_lexer": "ipython3",
   "version": "3.10.0"
  }
 },
 "nbformat": 4,
 "nbformat_minor": 4
}
