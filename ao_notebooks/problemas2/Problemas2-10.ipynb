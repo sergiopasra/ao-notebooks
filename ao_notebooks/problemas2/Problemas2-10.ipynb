{
 "cells": [
  {
   "cell_type": "markdown",
   "metadata": {},
   "source": [
    "# Problema 10\n",
    "\n",
    "\n",
    "La nebulosa planetaria NGC7662 tiene una paralaje de 0.86 mas, magnitud visual aparente = 12.0 y un radio angular \n",
    "de 0.257’. \n",
    "\n",
    "\n",
    "<figure style=\"display:flex\">\n",
    "  <table>\n",
    "    <tr>\n",
    "      <td>\n",
    "       <img src=\"../_static/p21/ngc7662.png\" alt=\"NGC 7662\" style=\"width:200px\"/>              \n",
    "      </td>\n",
    "      <td> <img src=\"../_static/p21/ngc7662-hubble.jpeg\" alt=\"NGC 7662 Hubble\" style=\"width:200px\"/>\n",
    "      </td>\n",
    "    </tr>\n",
    "      <tr style=\"align:center\">\n",
    "      <td style=\"text-align: center\">\n",
    "          Imagen desde tierra.\n",
    "      </td>\n",
    "      <td style=\"text-align: center\">Imagen de HST con mayor resolución.\n",
    "      </td>\n",
    "    </tr>\n",
    "  </table>\n",
    "</figure>\n",
    "\n",
    "\n",
    "Suponiendo que la nebulosa es un disco de radiancia uniforme calcular:\n",
    "\n",
    "* radio (en unidades astronómicas),  \n",
    "* magnitud absoluta y \n",
    "* brillo superficial. \n",
    "\n"
   ]
  },
  {
   "cell_type": "markdown",
   "metadata": {},
   "source": [
    "## Planteamiento\n",
    "\n",
    "Tenemos que aplicar las ecuaciones de definición de paralaje, magnitud absoluta y brillo superficial."
   ]
  },
  {
   "cell_type": "code",
   "execution_count": null,
   "metadata": {},
   "outputs": [],
   "source": [
    "import math\n",
    "import numpy as np\n",
    "import astropy.units as u"
   ]
  },
  {
   "cell_type": "code",
   "execution_count": null,
   "metadata": {},
   "outputs": [],
   "source": [
    "par = 0.86e-3 # milisegundos de arco\n",
    "mv = 12.0\n",
    "alpha = 0.257 * 60 # segundos de arco"
   ]
  },
  {
   "cell_type": "code",
   "execution_count": null,
   "metadata": {},
   "outputs": [],
   "source": [
    "# Distancia en parsecs a partir de paralaje\n",
    "\n",
    "d = 1 / par\n",
    "print(f'Distancia {d:.2f} pc')"
   ]
  },
  {
   "cell_type": "markdown",
   "metadata": {},
   "source": [
    "### Magnitud absoluta\n",
    "\n",
    "Despejamos la magnitud absoluta de la relación del módulo de distancia:\n",
    "\n",
    "$$\n",
    "M = m - 5 \\log d +5\n",
    "$$\n",
    "\n"
   ]
  },
  {
   "cell_type": "code",
   "execution_count": null,
   "metadata": {},
   "outputs": [],
   "source": [
    "Mv = mv - 5 * math.log10(d) + 5\n",
    "print(f'Magnitud absoluta visual: {Mv:.2f}')"
   ]
  },
  {
   "cell_type": "markdown",
   "metadata": {},
   "source": [
    "### Radio\n",
    "\n",
    "El radio, la distancia y el radio angular se relacionan por $R = d \\tan \\alpha$\n",
    "\n",
    "En astronomía, lo habitual es que los ángulos sean pequeños, de manera que $\\tan \\alpha \\sim \\alpha$. Además, el factor de conversión entre unidad astronómica y pársec es el mismo que entre radianes y segundos de arco. De manera que si expresamos la ecuación en las unidades adecuadas, tendremos:\n",
    "\n",
    "$$R (\\text{au}) = d (\\text{pc}) \\alpha(\\text{''})$$\n",
    "\n",
    "Donde el radio del objeto está en unidades astronómicas, la distancia en pársec y el radio angular en segundos de arco.\n",
    "\n",
    "De manera que el radio físico será:"
   ]
  },
  {
   "cell_type": "code",
   "execution_count": null,
   "metadata": {},
   "outputs": [],
   "source": [
    "r = d * alpha\n",
    "print(f\"Radio físico: {r:.2f} au \")"
   ]
  },
  {
   "cell_type": "markdown",
   "metadata": {},
   "source": [
    "### Brillo superficial\n",
    "\n",
    "Podemos utilizar la relación $\\mu = m + 2.5 \\log \\Omega(\\text{arcsec}^2)$, en la que ya conocemos la magnitud y nos hace falta el ángulo sólido $\\Omega$, que tiene que venir dado en segundos de arco cuadrados.\n",
    "\n",
    "Como la región es pequeña, podemos utilizar las mismas relaciones que en geometría plana."
   ]
  },
  {
   "cell_type": "code",
   "execution_count": null,
   "metadata": {},
   "outputs": [],
   "source": [
    "omega = np.pi * alpha**2\n",
    "\n",
    "print(f'El ángulo sólido es {omega:.2f} segundos de arco cuadrados')"
   ]
  },
  {
   "cell_type": "code",
   "execution_count": null,
   "metadata": {},
   "outputs": [],
   "source": [
    "mu = mv + 2.5 * np.log10(omega)\n",
    "print(f'El brillo superficial es {mu:.2f} magnitudes por segundo de arco cuadrado')"
   ]
  }
 ],
 "metadata": {
  "kernelspec": {
   "display_name": "Python 3 (ipykernel)",
   "language": "python",
   "name": "python3"
  },
  "language_info": {
   "codemirror_mode": {
    "name": "ipython",
    "version": 3
   },
   "file_extension": ".py",
   "mimetype": "text/x-python",
   "name": "python",
   "nbconvert_exporter": "python",
   "pygments_lexer": "ipython3",
   "version": "3.11.6"
  }
 },
 "nbformat": 4,
 "nbformat_minor": 4
}
