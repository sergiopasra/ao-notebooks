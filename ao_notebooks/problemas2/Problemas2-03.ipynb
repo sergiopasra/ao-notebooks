{
 "cells": [
  {
   "cell_type": "markdown",
   "metadata": {},
   "source": [
    "# Problema 3\n",
    "\n",
    "La magnitud aparente bolométrica del Sol es -26.83 y su luminosidad $3.828 × 10^{26}$ W \n",
    "\n",
    "¿Cuál la irradiancia solar a la distancia de la Tierra? Calcular la magnitud aparente y la irradiancia en Marte.\n",
    "\n",
    "Suponemos que la distancia Tierra-Sol es 1 au y la distancia Marte-Sol es 1.52 au, siendo 1 au exactamente \n",
    "149597870700 m"
   ]
  },
  {
   "cell_type": "markdown",
   "metadata": {},
   "source": [
    "## Planteamiento\n",
    "\n",
    "La irradiancia varía con el inverso del cuadrado de la distancia, de manera que:\n",
    "\n",
    "$$\n",
    "L = 4\\pi d^2 e\n",
    "$$"
   ]
  },
  {
   "cell_type": "code",
   "execution_count": null,
   "metadata": {},
   "outputs": [],
   "source": [
    "import math"
   ]
  },
  {
   "cell_type": "code",
   "execution_count": null,
   "metadata": {},
   "outputs": [],
   "source": [
    "import astropy.units as u\n",
    "import astropy.constants as const"
   ]
  },
  {
   "cell_type": "code",
   "execution_count": null,
   "metadata": {},
   "outputs": [],
   "source": [
    "m = -26.83\n",
    "L = 3.828e26 * u.watt # luminosidad solar\n",
    "d_t = 1 * u.au # distancia Tierra-Sol\n",
    "d_m = 1.52 * u.au # distancia Marte-Sol\n",
    "print('Distancia Tierra-Sol', d_t.to(u.km))\n",
    "print('distancia Marte-Sol', d_m.to(u.km))"
   ]
  },
  {
   "cell_type": "markdown",
   "metadata": {},
   "source": [
    "La energía por unidad de área que se recibe del Sol a la distancia terrestre se denomina **constante solar**."
   ]
  },
  {
   "cell_type": "code",
   "execution_count": null,
   "metadata": {},
   "outputs": [],
   "source": [
    "C = L / (4*math.pi*d_t**2)\n",
    "print('Constante solar.', C.to(u.W / u.m**2))"
   ]
  },
  {
   "cell_type": "markdown",
   "metadata": {},
   "source": [
    "Calculamos ahora la irradiancia a la distancia de Marte"
   ]
  },
  {
   "cell_type": "code",
   "execution_count": null,
   "metadata": {},
   "outputs": [],
   "source": [
    "CM = L / (4*math.pi*d_m**2)\n",
    "print('Constante solar en Marte', CM.to(u.W / u.m**2))"
   ]
  },
  {
   "cell_type": "markdown",
   "metadata": {},
   "source": [
    "Finalmente usamos la ley de Pogson para obtener la magnitud en Marte"
   ]
  },
  {
   "cell_type": "code",
   "execution_count": null,
   "metadata": {},
   "outputs": [],
   "source": [
    "m_m = m -2.5 * math.log( CM / C)\n",
    "print(f'magnitud del sol en Marte {m_m:5.2f}')"
   ]
  }
 ],
 "metadata": {
  "kernelspec": {
   "display_name": "Python 3",
   "language": "python",
   "name": "python3"
  },
  "language_info": {
   "codemirror_mode": {
    "name": "ipython",
    "version": 3
   },
   "file_extension": ".py",
   "mimetype": "text/x-python",
   "name": "python",
   "nbconvert_exporter": "python",
   "pygments_lexer": "ipython3",
   "version": "3.10.0"
  }
 },
 "nbformat": 4,
 "nbformat_minor": 4
}
