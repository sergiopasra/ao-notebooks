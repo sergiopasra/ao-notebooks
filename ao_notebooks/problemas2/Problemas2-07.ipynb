{
 "cells": [
  {
   "cell_type": "markdown",
   "metadata": {},
   "source": [
    "# Problema 7\n",
    "\n",
    "En dos galaxias cercanas de coordenadas galácticas (l1= 38o, b1= 36o), ( l2= 142o, b2= 65o) se\n",
    "observa una Cefeida en cada una con el mismo período y con magnitudes mv1= 14.5 y mv2= 16.2.\n",
    "Por otra parte se sabe que la extinción interna de la primera galaxia produce unos excesos de\n",
    "color de E(B-V)1= 0.20 y E(B-V)2= 0.35. ¿Cuál es la razón entre las distancias a las dos galaxias?,\n",
    "¿qué datos se necesitarían para poder calcular las distancias de forma absoluta?. Las hipótesis\n",
    "que se han de considerar son: a) la absorción interestelar dentro de nuestra Galaxia se produce\n",
    "en una capa homogénea de gas y polvo de ≈300 pc de espesor situada simétricamente respecto del\n",
    "plano galáctico, produciéndose en élla una absorción de ≈1m kpc-1; b) las curvas de extinción de\n",
    "ambas galaxias son iguales y similares a las de nuestra Galaxia."
   ]
  }
 ],
 "metadata": {
  "kernelspec": {
   "display_name": "Python 3 (ipykernel)",
   "language": "python",
   "name": "python3"
  },
  "language_info": {
   "codemirror_mode": {
    "name": "ipython",
    "version": 3
   },
   "file_extension": ".py",
   "mimetype": "text/x-python",
   "name": "python",
   "nbconvert_exporter": "python",
   "pygments_lexer": "ipython3",
   "version": "3.10.0"
  }
 },
 "nbformat": 4,
 "nbformat_minor": 4
}
