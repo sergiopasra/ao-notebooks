{
 "cells": [
  {
   "cell_type": "markdown",
   "metadata": {},
   "source": [
    "# Problema 7\n",
    "\n",
    "En dos galaxias cercanas se observan sendas estrellas cefeidas del mismo periodo y con magnitudes mv= 14.5 y mv= 16.2 respectivamente.\n",
    "\n",
    "Las coordendas galácticas de la primera galaxia son l= 38°, b= 36° y las de la segunda, l= 142°, b= 65°. Se sabe que la extinción interna de la primera galaxia produce unos excesos de color de E(B-V)= 0.20 y en la segunda el exceso de color es de E(B-V)= 0.35. \n",
    "\n",
    "¿Cuál es la razón entre las distancias a las dos galaxias?\n",
    "¿Qué datos se necesitarían para poder calcular las distancias de forma absoluta? \n",
    "\n",
    "Las hipótesis que se han de considerar son: \n",
    "\n",
    "* la absorción interestelar dentro de nuestra Galaxia se produce en una capa homogénea de gas y polvo de 300 pc de espesor situada simétricamente respecto del plano galáctico, produciéndose en ella una absorción en el visble de 1.2$^\\text{m}$ kpc$^{-1}$\n",
    "* las curvas de extinción de ambas galaxias son iguales y similares a las de nuestra Galaxia ($R_V$ = 3.1)."
   ]
  },
  {
   "cell_type": "markdown",
   "metadata": {},
   "source": [
    "## Planteamiento\n",
    "\n",
    "Se han observado estrellas de tipo cefeida en dos galaxias. Estas estrellas tienen un relación entre su magnitud absoluta y su periodo. Dado que las cefeidas observadas tienen el mismo periodo en ambas galaxias, tienen la misma magnitud absoluta $M$. \n",
    "\n",
    "Por lo tanto:\n",
    "\n",
    "$$\n",
    "m_1 - M = 5 \\log d_1 -5 + A_1\\\\\n",
    "m_2 - M = 5 \\log d_2 -5 + A_2 \\rightarrow \\\\\n",
    "m_1 - m_2 = 5\\log (d_1/d_2) + A_1 - A_2\n",
    "$$\n",
    "\n",
    "Así que para conocer la relación de distancias, tenemos que averiguar la extinción que sufre la luz que nos llega de cada galaxia.\n",
    "\n",
    "En su trayecto hasta nosotros, la luz atraviesa parte del disco de la Vía Láctea, el medio intergaláctico y sufre cierta extinción dentro de cada una de las galaxias.\n",
    "\n",
    "Podemos suponer despreciable la extinción intergaláctica, así que solamente tenemos que considerar las otras dos aportaciones, **la extinción galáctica** y **la extinción interna**.\n"
   ]
  },
  {
   "cell_type": "markdown",
   "metadata": {},
   "source": [
    "### Extinción galáctica\n",
    "\n",
    "Para la extinción galáctica, el modelo propuesto es que se produce en una región de 300 pc de grosor centrada en el plano galáctico (disco fino) y que corresponde a una extinción de 1.2 magnitudes por cada kiloparsec de disco que se atraviese.\n",
    "\n",
    "<img src=\"../_static/p21/extincion_gal.jpg\" alt=\"Extinción\"/>  \n",
    "\n",
    "En este modelo sencillo, la distancia $d$ recorrida dentro del disco es la hipotenusa del triángulo mostrado en la figura. El cateto contiguo mide 150 pc y el ángulo entre ellos es 90 - $b$. De manera que $d = h / \\sin |b|$.\n",
    "\n",
    "Dado que la extinción es de 1.2 magnitudes por cada kiloparsec, tenemos:\n",
    "\n",
    "$$A = 1.2^{\\text{m}} \\ \\text{kpc}^{-1} \\times 150 \\ \\text{pc} / \\sin b = \\frac{1.2^{\\text{m}} \\times 0.15}{\\sin |b|} = \\frac{0.18^{\\text{m}}}{\\sin |b|}$$\n",
    "\n",
    "\n",
    "Para latitudes galácticas muy bajas, el camino de la luz puede estar íntegramente en el disco, por lo que la anterior relación ya no sería correcta. En este modelo, la extinción no depende de la longitud galáctica."
   ]
  },
  {
   "cell_type": "code",
   "execution_count": null,
   "metadata": {},
   "outputs": [],
   "source": [
    "import numpy as np\n",
    "import astropy.units as u"
   ]
  },
  {
   "cell_type": "code",
   "execution_count": null,
   "metadata": {},
   "outputs": [],
   "source": [
    "# Para nuestros objetos, su extinción galactica es\n",
    "b2 = 65 * u.deg\n",
    "b1 = 36 * u.deg\n",
    "A1_g = 0.18 / np.sin(b1)\n",
    "A2_g = 0.18 / np.sin(b2)\n",
    "\n",
    "print(f'Extinción galáctica para la galaxia 1: {A1_g:.2f} magnitudes')\n",
    "print(f'Extinción galáctica para la galaxia 2: {A2_g:.2f} magnitudes')"
   ]
  },
  {
   "cell_type": "markdown",
   "metadata": {},
   "source": [
    "### Extinción interna\n",
    "\n",
    "Para calcular la extinción interna de cada galaxia, utilizamos que su curva de extinción se supone similar a la de la Vía Láctea, con $R_V$ = 3.1, y que sabemos el exceso de color en cada galaxia, E(B-V). La extinción en el visible es $A_V = R_V E(B-V)$."
   ]
  },
  {
   "cell_type": "code",
   "execution_count": null,
   "metadata": {},
   "outputs": [],
   "source": [
    "Rv = 3.1\n",
    "EB_V1 = 0.20\n",
    "EB_V2 = 0.35\n",
    "A1_i = Rv * EB_V1\n",
    "A2_i = Rv * EB_V2\n",
    "print(f'Extinción interna para la galaxia 1: {A1_i:.2f} magnitudes')\n",
    "print(f'Extinción interna para la galaxia 2: {A2_i:.2f} magnitudes')"
   ]
  },
  {
   "cell_type": "markdown",
   "metadata": {},
   "source": [
    "### Extinción total y resultado\n",
    "\n",
    "Con la extinción total, podemos despejar la razón de distancias como:\n",
    "\n",
    "$$\\frac{d_1}{d_2} = 10^{0.2(m_1 - m_2 - (A_1 - A_2))}$$\n"
   ]
  },
  {
   "cell_type": "code",
   "execution_count": null,
   "metadata": {},
   "outputs": [],
   "source": [
    "A1 = A1_g + A1_i\n",
    "A2 = A2_g + A2_i\n",
    "print(f'Extinción total para la galaxia 1: {A1:.2f} magnitudes')\n",
    "print(f'Extinción total para la galaxia 2: {A2:.2f} magnitudes')"
   ]
  },
  {
   "cell_type": "code",
   "execution_count": null,
   "metadata": {},
   "outputs": [],
   "source": [
    "m1 = 14.5\n",
    "m2 = 16.2\n",
    "\n",
    "d1_d2 = 10**(0.2*(m1 - m2 - (A1 - A2)))\n",
    "print(f'La razón de distancias d1/d2 es: {d1_d2:.2f}')"
   ]
  },
  {
   "cell_type": "markdown",
   "metadata": {},
   "source": [
    "Para conocer la distancia absoluta, bastaría con conocer el periodo de las estrellas cefeidas, que puede obtenerse en diferentes relaciones publicadas. Por ejemplo: $M_V = -2.43 (\\log P  -1) - 4.05$, con el periodo en días."
   ]
  }
 ],
 "metadata": {
  "kernelspec": {
   "display_name": "Python 3",
   "language": "python",
   "name": "python3"
  },
  "language_info": {
   "codemirror_mode": {
    "name": "ipython",
    "version": 3
   },
   "file_extension": ".py",
   "mimetype": "text/x-python",
   "name": "python",
   "nbconvert_exporter": "python",
   "pygments_lexer": "ipython3",
   "version": "3.10.0"
  }
 },
 "nbformat": 4,
 "nbformat_minor": 4
}
