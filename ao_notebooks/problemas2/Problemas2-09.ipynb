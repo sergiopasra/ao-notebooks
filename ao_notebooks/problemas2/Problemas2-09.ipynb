{
 "cells": [
  {
   "cell_type": "markdown",
   "metadata": {},
   "source": [
    "# Problema 9\n",
    "\n",
    "\n",
    "Se desean medir los colores (U, B, V) de una estrella desconocida. \n",
    "\n",
    "Se dispone de un fotómetro cuya medida por minuto es proporcional al flujo recibido. \n",
    "\n",
    "Se mide en la estrella estándar Vega durante 1 minuto a diferentes distancias cenitales z, obteniéndose las siguientes cuentas para los diferentes filtros:\n",
    "\n",
    "\n",
    "|  z         | V   |  B   |  U   |\n",
    "|------------|-----|------|------|\n",
    "|   20º      | 1e4 | 8e3  | 5e3  |\n",
    "|   40º      |9460 |7247  | 4223 |\n",
    "|   60º      |8063 |5451  | 2597 |\n",
    "\n",
    "Posteriormente se miden los flujos para la estrella desconocida, que es mucho más débil que\n",
    "Vega, midiéndose en cada filtro durante 10 minutos. Se obtienen los siguientes registros:\n",
    "\n",
    "|  z         | V   |  B   |  U   |\n",
    "|------------|-----|------|------|\n",
    "|  40º       |3784 | 2998 | 1689 |\n",
    "\n",
    "\n",
    "Determinar los valores de $m_V$, $m_B$ y $m_U$, \n",
    "así como apreciar cualitativamente el color de la estrella.\n",
    "¿Qué tipo de estrella será si se encuentra en la Secuencia Principal?.\n"
   ]
  },
  {
   "cell_type": "markdown",
   "metadata": {},
   "source": [
    "## Planteamiento\n",
    "\n",
    "Esto es una versión algo más realista del problema anterior. Tenemos un sistema que recoge luz y que nos devuelve un valor numérico proporcional a la energía recogida durante el tiempo de exposición. Sin embargo, no sabemos ni la constante de proporcionalidad ni el valor de la extinción atmosférica. Utilizamos Vega como referencia, ya que sabemos que todas sus magnitudes son 0."
   ]
  },
  {
   "cell_type": "code",
   "execution_count": null,
   "metadata": {},
   "outputs": [],
   "source": []
  }
 ],
 "metadata": {
  "kernelspec": {
   "display_name": "Python 3",
   "language": "python",
   "name": "python3"
  },
  "language_info": {
   "codemirror_mode": {
    "name": "ipython",
    "version": 3
   },
   "file_extension": ".py",
   "mimetype": "text/x-python",
   "name": "python",
   "nbconvert_exporter": "python",
   "pygments_lexer": "ipython3",
   "version": "3.10.0"
  }
 },
 "nbformat": 4,
 "nbformat_minor": 4
}
