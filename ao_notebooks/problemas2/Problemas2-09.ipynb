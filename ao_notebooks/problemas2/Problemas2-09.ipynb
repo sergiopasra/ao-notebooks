{
 "cells": [
  {
   "cell_type": "markdown",
   "metadata": {},
   "source": [
    "# Problema 9\n",
    "\n",
    "\n",
    "Se desean medir los colores (U, B, V) de una estrella desconocida. \n",
    "\n",
    "Se dispone de un fotómetro cuya medida por unidad de tiempo es proporcional a la irradiancia recibida. \n",
    "\n",
    "Se mide en la estrella estándar Vega durante 1 minuto a diferentes distancias cenitales z, obteniéndose las siguientes cuentas para los diferentes filtros:\n",
    "\n",
    "\n",
    "|  z         | V   |  B   |  U   |\n",
    "|------------|-----|------|------|\n",
    "|   20º      | 1e4 | 8e3  | 5e3  |\n",
    "|   40º      |9460 |7247  | 4223 |\n",
    "|   60º      |8063 |5451  | 2597 |\n",
    "\n",
    "Posteriormente se miden los flujos para la estrella desconocida, que es mucho más débil que\n",
    "Vega, midiéndose en cada filtro durante 10 minutos. Se obtienen los siguientes registros:\n",
    "\n",
    "|  z         | V   |  B   |  U   |\n",
    "|------------|-----|------|------|\n",
    "|  40º       |3784 | 2998 | 1689 |\n",
    "\n",
    "\n",
    "Determinar los valores de $m_V$, $m_B$ y $m_U$.\n"
   ]
  },
  {
   "cell_type": "markdown",
   "metadata": {},
   "source": [
    "## Planteamiento\n",
    "\n",
    "Esto es una versión algo más realista del problema anterior. Tenemos un sistema que recoge luz y que nos devuelve un valor numérico proporcional a la energía recogida durante el tiempo de exposición. Sin embargo, no sabemos ni la constante de proporcionalidad ni el valor de la extinción atmosférica. \n",
    "\n",
    "Además, recordemos que la magnitud se calcula a partir de la **irradiancia**, por lo que necesitamos valores de energía por unidad de área y unidad de tiempo. Dado que la medida numérica, *cuentas*, de nuestro instrumento es proporcional a la energía, tenemos que dividir entre el tiempo en el que se ha estado recogiendo luz: **el tiempo de exposición**.\n",
    "\n",
    "Para poder obtener una medidad correcta de la magnitud, es neceseario calibrar el instrumento observando estrellas de magnitud conocida. Con estas estrellas de referencia, es posible calcular tanto la extinción atmosférica como el término de calibración instrumental.\n",
    "\n",
    "Aunque en general se utilizan varias estrellas estándar, en este problema vamos a ver un ejemplo simplificado con una sola.\n",
    "\n",
    "Supongamos que se observa una estrella de magnitud conocida $m_0$ a diferentes masas de aire $z_i$. Las medidas de **cuentas por unidad de tiempo** en cada observación son $E_i$.\n",
    "\n",
    "Por un lado, el efecto de la extinción atmosférica será aumentar la magnitud para obtener un valor observado $m_i$:\n",
    "\n",
    "$$m_i = m_0 + k \\sec z_i$$\n",
    "\n",
    "Por otro lado, se puede obtener la magnitud observada a partir de las medidas del instrumento como:\n",
    "\n",
    "$$m_i = C - 2.5 \\log E_i$$\n",
    "\n",
    "Tanto el valor de la constante instrumental $C$ como la extinción atmosférica $k$ dependen de la banda de observación.\n",
    "\n",
    "Igualando queda:\n",
    "$$m_0 + k \\sec z_i =  C - 2.5 \\log E_i$$\n",
    "\n",
    "y reordenando:\n",
    "$$m_0 + 2.5 \\log E_i = C - k \\sec z_i$$\n",
    "\n",
    "Dado que tenemos $i$ medidas, podemos obtener los valores $C$ y $k$ a partir de un ajuste por mínimos cuadrados de los valores $(\\sec z_i, m_0 + 2.5 \\log E_i)$. Este método se conoce como el de la recta de Bouguer.\n",
    "\n",
    "Una vez que hemos calculado $C$ y $k$, con el sistema calibrado, podemos aplicar las dos primeras ecuaciones a la estrella problema para calcular su magnitud fuera de la atmósfera."
   ]
  },
  {
   "cell_type": "code",
   "execution_count": null,
   "metadata": {},
   "outputs": [],
   "source": [
    "import numpy as np\n",
    "import astropy.units as u\n",
    "import matplotlib.pyplot as plt\n",
    "from astropy.coordinates import Angle"
   ]
  },
  {
   "cell_type": "markdown",
   "metadata": {},
   "source": [
    "### Estrella estándar.\n",
    "\n",
    "Utilizamos Vega como referencia y sabemos que todas sus magnitudes son cero. \n",
    "\n",
    "En un caso real, Vega sería demasiado brillante como para utilizarse como estándar y además es ligeramente variable (entorno al 1% de variacion de brillo).\n",
    "\n",
    "Recolectamos aquí los valores medidos para Vega. Hay que calcular la constante instrumental y la extinción para cada banda. Se han realizado medidas a tres alturas diferentes,\n"
   ]
  },
  {
   "cell_type": "code",
   "execution_count": null,
   "metadata": {},
   "outputs": [],
   "source": [
    "# magnitudes de vega\n",
    "mV_vega = 0\n",
    "mB_vega = 0\n",
    "mU_vega = 0\n",
    "# Medidas de Vega\n",
    "z_vega = Angle([20, 40, 60], unit=u.deg) # Una lista de distancias cenitales\n",
    "masa_aire_vega = 1 / np.cos(z_vega) # Lista de masas de aire\n",
    "# Medidas, son las columnas de la primera tabla\n",
    "cuentas_vega_V = np.array([1e4, 9460, 8063])\n",
    "cuentas_vega_B = np.array([8e3, 7247, 5451])\n",
    "cuentas_vega_U = np.array([5e3, 4223, 2597])\n",
    "# Medidas durante 1 minuto = 60 segundos\n",
    "tiempo_vega = 1 * 60 \n"
   ]
  },
  {
   "cell_type": "code",
   "execution_count": null,
   "metadata": {},
   "outputs": [],
   "source": [
    "## Las medidas de energía recibida por unidad de tiempo\n",
    "cuentas_vega_V_t = cuentas_vega_V / tiempo_vega\n",
    "cuentas_vega_B_t = cuentas_vega_B / tiempo_vega\n",
    "cuentas_vega_U_t = cuentas_vega_U / tiempo_vega"
   ]
  },
  {
   "cell_type": "code",
   "execution_count": null,
   "metadata": {},
   "outputs": [],
   "source": [
    "# Medidas de Vega en función de la masa de aire sec z\n",
    "plt.plot(masa_aire_vega, mV_vega + 2.5* np.log10(cuentas_vega_V_t), '*', c='g', label='V Vega')\n",
    "plt.plot(masa_aire_vega, mB_vega + 2.5* np.log10(cuentas_vega_B_t), '*', c='b', label='B Vega')\n",
    "plt.plot(masa_aire_vega, mU_vega + 2.5* np.log10(cuentas_vega_U_t), '*', c='k', label='U Vega')\n",
    "plt.legend()\n",
    "plt.xlim([1, 2.2])\n",
    "plt.xlabel(\"sec z\")\n",
    "plt.ylabel(\"m0 + 2.5 log (cuentas / t)\");"
   ]
  },
  {
   "cell_type": "code",
   "execution_count": null,
   "metadata": {},
   "outputs": [],
   "source": [
    "# Ajuste por mínimos cuadrados\n",
    "# Se puede hacer con la función de numpy polyfit\n",
    "# Nos devuelve pendiente y ordenada en el origen\n",
    "# Queremos la pendiente p cambiada de signo, que es la extinción\n",
    "\n",
    "p, CV = np.polyfit(masa_aire_vega, mV_vega + 2.5* np.log10(cuentas_vega_V_t), deg=1)\n",
    "kV = -p\n",
    "p, CB = np.polyfit(masa_aire_vega, mB_vega + 2.5* np.log10(cuentas_vega_B_t), deg=1)\n",
    "kB = -p\n",
    "p, CU = np.polyfit(masa_aire_vega, mU_vega + 2.5* np.log10(cuentas_vega_U_t), deg=1)\n",
    "kU = -p\n",
    "\n",
    "print(f'Extinción V: {kV:.2f} magnitudes, constante instrumental V {CV:.2f}')\n",
    "print(f'Extinción B: {kB:.2f} magnitudes, constante instrumental B {CB:.2f}')\n",
    "print(f'Extinción U: {kU:.2f} magnitudes, constante instrumental U {CU:.2f}')\n",
    "print('Cada valor obtenido tendrá asociado una incertidumbre. No lo estamos teniendo en cuenta')"
   ]
  },
  {
   "cell_type": "code",
   "execution_count": null,
   "metadata": {},
   "outputs": [],
   "source": [
    "# Representamos los ajustes.\n",
    "# En un caso real no serían tan buenos como estamos obteniendo\n",
    "\n",
    "plt.plot(masa_aire_vega, mV_vega + 2.5* np.log10(cuentas_vega_V_t), '*', c='g', label='V Vega')\n",
    "plt.plot(masa_aire_vega, mB_vega + 2.5* np.log10(cuentas_vega_B_t), '*', c='b', label='B Vega')\n",
    "plt.plot(masa_aire_vega, mU_vega + 2.5* np.log10(cuentas_vega_U_t), '*', c='k', label='U Vega')\n",
    "plt.legend()\n",
    "# Ajustes\n",
    "plt.plot(masa_aire_vega, CV - kV * masa_aire_vega, c='k', ls='--')\n",
    "plt.plot(masa_aire_vega, CB - kB * masa_aire_vega, c='k', ls='--')\n",
    "plt.plot(masa_aire_vega, CU - kU * masa_aire_vega, c='k', ls='--')\n",
    "\n",
    "plt.xlim([1, 2.2])\n",
    "plt.xlabel(\"sec z\")\n",
    "plt.ylabel(\"m0 + 2.5 log (cuentas / t)\");"
   ]
  },
  {
   "cell_type": "markdown",
   "metadata": {},
   "source": [
    "### Estrella problema\n",
    "\n",
    "Una vez conocidos los valores de $C$ y $k$, podemos aplicarlos a la estrella problema. "
   ]
  },
  {
   "cell_type": "code",
   "execution_count": null,
   "metadata": {},
   "outputs": [],
   "source": [
    "# Medidas de la estrella desconocida\n",
    "z = Angle(40, unit=u.deg) # Un solo ángulo en grados (deg)\n",
    "masa_aire = 1 / np.cos(z) # Masa de aire de observación\n",
    "cuentas_V = 3784\n",
    "cuentas_B = 2998\n",
    "cuentas_U = 1689\n",
    "tiempo = 10 * 60 # 600 segundos"
   ]
  },
  {
   "cell_type": "code",
   "execution_count": null,
   "metadata": {},
   "outputs": [],
   "source": [
    "### Las medidas de energía recibida por unidad de tiempo\n",
    "cuentas_V_t = cuentas_V / tiempo\n",
    "cuentas_B_t = cuentas_B / tiempo\n",
    "cuentas_U_t = cuentas_U / tiempo"
   ]
  },
  {
   "cell_type": "code",
   "execution_count": null,
   "metadata": {},
   "outputs": [],
   "source": [
    "# magnitudes observadas, con extinción atmosférica\n",
    "mV = CV - 2.5 * np.log10(cuentas_V_t)\n",
    "mB = CB - 2.5 * np.log10(cuentas_B_t)\n",
    "mU = CU - 2.5 * np.log10(cuentas_U_t)\n",
    "print(f'Magnitud observada V {mV:.2f}')\n",
    "print(f'Magnitud observada B {mB:.2f}')\n",
    "print(f'Magnitud observada U {mU:.2f}')"
   ]
  },
  {
   "cell_type": "code",
   "execution_count": null,
   "metadata": {},
   "outputs": [],
   "source": [
    "# Magnitudes aparentes, corregidas de extinción atmosférica\n",
    "m0V = mV - kV * masa_aire\n",
    "m0B = mB - kB * masa_aire\n",
    "m0U = mU - kU * masa_aire\n",
    "print(f'Magnitud aparente V {m0V:.2f}')\n",
    "print(f'Magnitud aparente B {m0B:.2f}')\n",
    "print(f'Magnitud aparente U {m0U:.2f}')"
   ]
  }
 ],
 "metadata": {
  "kernelspec": {
   "display_name": "Python 3",
   "language": "python",
   "name": "python3"
  },
  "language_info": {
   "codemirror_mode": {
    "name": "ipython",
    "version": 3
   },
   "file_extension": ".py",
   "mimetype": "text/x-python",
   "name": "python",
   "nbconvert_exporter": "python",
   "pygments_lexer": "ipython3",
   "version": "3.10.0"
  }
 },
 "nbformat": 4,
 "nbformat_minor": 4
}
