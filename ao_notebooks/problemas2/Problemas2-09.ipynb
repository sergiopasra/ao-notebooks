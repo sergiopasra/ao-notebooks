{
 "cells": [
  {
   "cell_type": "markdown",
   "metadata": {},
   "source": [
    "# Problema 9\n",
    "\n",
    "\n",
    "Se desean medir los colores (U, B, V) de una estrella desconocida. \n",
    "\n",
    "Se dispone de un fotómetro cuya medida por minuto es proporcional al flujo recibido. \n",
    "\n",
    "Se mide en la estrella estándar Vega durante 1 minuto a diferentes distancias cenitales z, obteniéndose las siguientes cuentas para los diferentes filtros:\n",
    "\n",
    "\n",
    "|  z         | V   |  B   |  U   |\n",
    "|------------|-----|------|------|\n",
    "|   20º      | 1e4 | 8e3  | 5e3  |\n",
    "|   40º      |9460 |7247  | 4223 |\n",
    "|   60º      |8063 |5451  | 2597 |\n",
    "\n",
    "Posteriormente se miden los flujos para la estrella desconocida, que es mucho más débil que\n",
    "Vega, midiéndose en cada filtro durante 10 minutos. Se obtienen los siguientes registros:\n",
    "\n",
    "|  z         | V   |  B   |  U   |\n",
    "|------------|-----|------|------|\n",
    "|  40º       |3784 | 2998 | 1689 |\n",
    "\n",
    "\n",
    "Determinar los valores de $m_V$, $m_B$ y $m_U$, \n",
    "así como apreciar cualitativamente el color de la estrella.\n",
    "¿Qué tipo de estrella será si se encuentra en la Secuencia Principal?.\n"
   ]
  },
  {
   "cell_type": "markdown",
   "metadata": {},
   "source": [
    "## Planteamiento\n",
    "\n",
    "Esto es una versión algo más realista del problema anterior. Tenemos un sistema que recoge luz y que nos devuelve un valor numérico proporcional a la energía recogida durante el tiempo de exposición. Sin embargo, no sabemos ni la constante de proporcionalidad ni el valor de la extinción atmosférica. Utilizamos Vega como referencia, ya que sabemos que todas sus magnitudes son 0."
   ]
  },
  {
   "cell_type": "code",
   "execution_count": null,
   "metadata": {},
   "outputs": [],
   "source": [
    "import numpy as np\n",
    "import astropy.units as u\n",
    "import matplotlib.pyplot as plt\n",
    "from astropy.coordinates import Angle"
   ]
  },
  {
   "cell_type": "code",
   "execution_count": null,
   "metadata": {},
   "outputs": [],
   "source": [
    "# magnitudes de vega\n",
    "mV_vega = 0\n",
    "mB_vega = 0\n",
    "mU_vega = 0\n",
    "# Medidas de Vega\n",
    "z_vega = Angle([20, 40, 60], unit=u.deg) # Una lista de ángulos\n",
    "masa_aire_vega = 1 / np.cos(z_vega) # Lista de masas de aire\n",
    "cuentas_vega_V = np.array([1e4, 9460, 8063])\n",
    "cuentas_vega_B = np.array([8e3, 7247, 5451])\n",
    "cuentas_vega_U = np.array([5e3, 4223, 2597])\n",
    "tiempo_vega = 1 * 60 # 60 segundos\n"
   ]
  },
  {
   "cell_type": "code",
   "execution_count": null,
   "metadata": {},
   "outputs": [],
   "source": [
    "cuentas_vega_V_t = cuentas_vega_V / tiempo_vega\n",
    "cuentas_vega_B_t = cuentas_vega_B / tiempo_vega\n",
    "cuentas_vega_U_t = cuentas_vega_U / tiempo_vega"
   ]
  },
  {
   "cell_type": "code",
   "execution_count": null,
   "metadata": {},
   "outputs": [],
   "source": [
    "plt.plot(masa_aire_vega, mV_vega + 2.5* np.log10(cuentas_vega_V_t), '*', label='V Vega')\n",
    "plt.plot(masa_aire_vega, mB_vega + 2.5* np.log10(cuentas_vega_B_t), '*', label='B Vega')\n",
    "plt.plot(masa_aire_vega, mU_vega + 2.5* np.log10(cuentas_vega_U_t), '*', label='U Vega')\n",
    "plt.legend()\n",
    "plt.xlim([1, 2.2])\n",
    "plt.xlabel(\"sec z\")\n",
    "plt.ylabel(\"m0 + 2.5 log (cuentas / t)\");"
   ]
  },
  {
   "cell_type": "code",
   "execution_count": null,
   "metadata": {},
   "outputs": [],
   "source": [
    "# Ajuste por mínimos cuadrados\n",
    "p, CV = np.polyfit(masa_aire_vega, mV_vega + 2.5* np.log10(cuentas_vega_V_t), deg=1)\n",
    "kV = -p\n",
    "p, CB = np.polyfit(masa_aire_vega, mB_vega + 2.5* np.log10(cuentas_vega_B_t), deg=1)\n",
    "kB = -p\n",
    "p, CU = np.polyfit(masa_aire_vega, mU_vega + 2.5* np.log10(cuentas_vega_U_t), deg=1)\n",
    "kU = -p\n",
    "print(f'Extinción V: {kV:.2f} magnitudes, constante instrumental V {CV:.2f}')\n",
    "print(f'Extinción B: {kB:.2f} magnitudes, constante instrumental B {CB:.2f}')\n",
    "print(f'Extinción U: {kU:.2f} magnitudes, constante instrumental U {CU:.2f}')\n",
    "print('Cada valor obtenido tendrá asociado una incertidumbre. No lo estamos teniendo en cuenta')"
   ]
  },
  {
   "cell_type": "code",
   "execution_count": null,
   "metadata": {},
   "outputs": [],
   "source": [
    "plt.plot(masa_aire_vega, mV_vega + 2.5* np.log10(cuentas_vega_V_t), '*', label='V Vega')\n",
    "plt.plot(masa_aire_vega, mB_vega + 2.5* np.log10(cuentas_vega_B_t), '*', label='B Vega')\n",
    "plt.plot(masa_aire_vega, mU_vega + 2.5* np.log10(cuentas_vega_U_t), '*', label='U Vega')\n",
    "plt.legend()\n",
    "# Ajustes\n",
    "plt.plot(masa_aire_vega, CV - kV * masa_aire_vega, c='k', ls='--')\n",
    "plt.plot(masa_aire_vega, CB - kB * masa_aire_vega, c='k', ls='--')\n",
    "plt.plot(masa_aire_vega, CU - kU * masa_aire_vega, c='k', ls='--')\n",
    "\n",
    "plt.xlim([1, 2.2])\n",
    "plt.xlabel(\"sec z\")\n",
    "plt.ylabel(\"m0 + 2.5 log (cuentas / t)\");"
   ]
  },
  {
   "cell_type": "code",
   "execution_count": null,
   "metadata": {},
   "outputs": [],
   "source": [
    "# Medidas de la estrella desconocida\n",
    "z = Angle(40, unit=u.deg) # Una lista de ángulos\n",
    "masa_aire = 1 / np.cos(z) # Lista de masas de aire\n",
    "cuentas_V = 3784\n",
    "cuentas_B = 2998\n",
    "cuentas_U = 1689\n",
    "tiempo = 10 * 60 # 600 segundos"
   ]
  },
  {
   "cell_type": "code",
   "execution_count": null,
   "metadata": {},
   "outputs": [],
   "source": [
    "cuentas_V_t = cuentas_V / tiempo\n",
    "cuentas_B_t = cuentas_B / tiempo\n",
    "cuentas_U_t = cuentas_U / tiempo"
   ]
  },
  {
   "cell_type": "code",
   "execution_count": null,
   "metadata": {},
   "outputs": [],
   "source": [
    "# magnitudes observadas, con extinción atmosférica\n",
    "mV = CV - 2.5 * np.log10(cuentas_V_t)\n",
    "mB = CB - 2.5 * np.log10(cuentas_B_t)\n",
    "mU = CU - 2.5 * np.log10(cuentas_U_t)\n",
    "print(f'Magnitud observada V {mV:.2f}')\n",
    "print(f'Magnitud observada B {mB:.2f}')\n",
    "print(f'Magnitud observada U {mU:.2f}')"
   ]
  },
  {
   "cell_type": "code",
   "execution_count": null,
   "metadata": {},
   "outputs": [],
   "source": [
    "# Magnitudes aparentes, corregidas de extinción atmosférica\n",
    "m0V = mV - kV * masa_aire\n",
    "m0B = mB - kB * masa_aire\n",
    "m0U = mU - kU * masa_aire\n",
    "print(f'Magnitud aparente V {m0V:.2f}')\n",
    "print(f'Magnitud aparente B {m0B:.2f}')\n",
    "print(f'Magnitud aparente U {m0U:.2f}')"
   ]
  },
  {
   "cell_type": "code",
   "execution_count": null,
   "metadata": {},
   "outputs": [],
   "source": [
    "# Colores:\n",
    "print(f'U -B  {m0U - m0B:.2f}')\n",
    "print(f'B -V  {m0B - m0V:.2f}')"
   ]
  },
  {
   "cell_type": "markdown",
   "metadata": {},
   "source": [
    "Dados los colores, se trata de una estrella de tipos de A1 a A3 (ver , por ejemplo, la gráfica de la página 53 de la primera presentación del tema 2)."
   ]
  },
  {
   "cell_type": "code",
   "execution_count": null,
   "metadata": {},
   "outputs": [],
   "source": []
  }
 ],
 "metadata": {
  "kernelspec": {
   "display_name": "Python 3",
   "language": "python",
   "name": "python3"
  },
  "language_info": {
   "codemirror_mode": {
    "name": "ipython",
    "version": 3
   },
   "file_extension": ".py",
   "mimetype": "text/x-python",
   "name": "python",
   "nbconvert_exporter": "python",
   "pygments_lexer": "ipython3",
   "version": "3.10.0"
  }
 },
 "nbformat": 4,
 "nbformat_minor": 4
}
