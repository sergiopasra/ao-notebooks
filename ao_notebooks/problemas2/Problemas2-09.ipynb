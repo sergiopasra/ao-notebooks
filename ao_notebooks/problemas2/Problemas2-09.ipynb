{
 "cells": [
  {
   "cell_type": "markdown",
   "metadata": {},
   "source": [
    "# Problema 8\n",
    "\n",
    "\n",
    "Se desean medir los colores (U, B, V) de una estrella desconocida. Se dispone de un\n",
    "fotómetro cuyas \"cuentas\" por minuto son proporcionales al flujo recibido. Se mide en la estrella\n",
    "standard Vega durante 1 minuto a diferentes distancias cenitales z, obteniéndose las siguientes\n",
    "cuentas para los diferentes filtros:\n",
    "Z\n",
    "V\n",
    "B\n",
    "U\n",
    "20º\n",
    "104\n",
    "8x103\n",
    "5x103\n",
    "40º\n",
    "9460\n",
    "7247\n",
    "4223\n",
    "60º\n",
    "8063\n",
    "5451\n",
    "2597\n",
    "Posteriormente se miden los flujos para la estrella desconocida, que es mucho más débil que\n",
    "Vega, midiéndose en cada filtro durante 10 minutos. Se obtienen los siguientes registros:\n",
    "Z\n",
    "V\n",
    "B\n",
    "U\n",
    "40º\n",
    "3784\n",
    "2998\n",
    "1689\n",
    "Determinar los valores de mV, mB y mU, así como apreciar cualitativamente el color de la\n",
    "estrella; ¿qué tipo de estrella será si se encuentra en la Secuencia Principal?.\n"
   ]
  },
  {
   "cell_type": "code",
   "execution_count": null,
   "metadata": {},
   "outputs": [],
   "source": []
  }
 ],
 "metadata": {
  "kernelspec": {
   "display_name": "Python 3 (ipykernel)",
   "language": "python",
   "name": "python3"
  },
  "language_info": {
   "codemirror_mode": {
    "name": "ipython",
    "version": 3
   },
   "file_extension": ".py",
   "mimetype": "text/x-python",
   "name": "python",
   "nbconvert_exporter": "python",
   "pygments_lexer": "ipython3",
   "version": "3.10.0"
  }
 },
 "nbformat": 4,
 "nbformat_minor": 4
}
