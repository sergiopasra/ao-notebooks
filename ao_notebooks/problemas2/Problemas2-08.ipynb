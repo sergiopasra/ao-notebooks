{
 "cells": [
  {
   "cell_type": "markdown",
   "metadata": {},
   "source": [
    "# Problema 8\n",
    "\n",
    "\n",
    "Se mide en dos instantes de tiempo diferentes la magnitud aparente visual de una estrella\n",
    "no variable: \n",
    "\n",
    "| tiempo | magnitud | distancia cenital |\n",
    "| -------|----------|-------------------|\n",
    "|   t1   | 3.63     | 48° 14'            |\n",
    "| t2     | 3.95     | 66° 29' |\n",
    "\n",
    "* ¿Cómo se explica la variación de la magnitud de la estrella?\n",
    "* Determinar la cantidad en que varía la magnitud cuando sec z aumenta en una unidad.\n",
    "* Admitiendo que la corrección de magnitud de una estrella es proporcional al espesor de la atmósfera atravesado por la radiación emitida, precisar la expresión de dicha corrección en función de z.\n",
    "* Calcular la magnitud $m_0$ fuera de la atmósfera."
   ]
  },
  {
   "cell_type": "markdown",
   "metadata": {},
   "source": [
    "## Planteamiento\n",
    "\n",
    "En el modelo de atmósfera plano-paralelo, es fácil ver que la cantidad de atmósfera que atraviesa la luz es el segmento OA de la figura.\n",
    "\n",
    "![atm_pp](../_static/p21/atm_plano_paralela.png)\n",
    "\n",
    "\n",
    "La longitud de ese segmento es proporcional a $\\sec z$. Este valor se suele denominar *masa de aire*.\n",
    "\n",
    "Podemos añadir una nueva columna a la tabla la secante de la distancia cenital:\n",
    "\n",
    "| tiempo | magnitud | distancia cenital | sec z |\n",
    "| -------|----------|-------------------|-------|\n",
    "|   t1   | 3.63     | 48° 14'           | 1.50  |\n",
    "| t2     | 3.95     | 66° 29'           | 2.50  |\n",
    "\n",
    "\n",
    "Con estos valores es fácil ver que $\\Delta \\sec z = 1$ corresponde a $\\Delta m = 0.32$.\n",
    "\n",
    "En su movimiento diurno, la estrella se desplaza a diferentes masas de aire, lo que produce variaciones en su magnitud.\n"
   ]
  },
  {
   "cell_type": "markdown",
   "metadata": {},
   "source": [
    "## Variación con la masa de aire\n",
    "\n",
    "Si el aumento de magnitud que sufre la estrella es proprocional a la masa de aire:\n",
    "\n",
    "$$ \\Delta m = k \\sec z$$\n",
    "\n",
    "Es decir:\n",
    "\n",
    "$$ m - m_0 = k \\sec z$$\n",
    "\n",
    "Donde $m_0$ es la magnitud del objeto fuera de la atmósfera.\n",
    "\n",
    "Tenemos dos ecuaciones:\n",
    "\n",
    "$$ \n",
    "m_1 - m_0 = k \\sec z_1 \\\\\n",
    "m_2 - m_0 = k \\sec z_2\n",
    "$$\n",
    "\n",
    "De las que podemos obtener $m_0$ y $k$.\n",
    "\n",
    "Restando una de otra queda:\n",
    "\n",
    "$$\n",
    "k = \\frac{m_2 - m_1}{\\sec z_2 - \\sec z_1}\n",
    "$$\n",
    "\n",
    "Una vez despejado, podemos sustituir el valor de $k$ para obtener $m_o$"
   ]
  },
  {
   "cell_type": "code",
   "execution_count": null,
   "metadata": {},
   "outputs": [],
   "source": [
    "m1 = 3.63\n",
    "m2 = 3.95\n",
    "secz1 = 1.50\n",
    "secz2 = 2.50"
   ]
  },
  {
   "cell_type": "code",
   "execution_count": null,
   "metadata": {},
   "outputs": [],
   "source": [
    "k = (m2 - m1) / (secz2 - secz1)\n",
    "\n",
    "print(f'La extinción es de {k:.2f} magnitudes')"
   ]
  },
  {
   "cell_type": "code",
   "execution_count": null,
   "metadata": {},
   "outputs": [],
   "source": [
    "m0 = m1 - k * secz1\n",
    "print(f'La magnitud fuera de la atmósfera es {m0:.2f}')"
   ]
  },
  {
   "cell_type": "markdown",
   "metadata": {},
   "source": [
    "### Advertencia\n",
    "\n",
    "La obtención del valor de $k$ y $m_0$ es normalmente mucho más complicado y suele requerir ajustes con varias estrellas estrellas de referencia a diferentes alturas e incluir también el color (B-V, V-I, etc) de las estrellas"
   ]
  }
 ],
 "metadata": {
  "kernelspec": {
   "display_name": "Python 3 (ipykernel)",
   "language": "python",
   "name": "python3"
  },
  "language_info": {
   "codemirror_mode": {
    "name": "ipython",
    "version": 3
   },
   "file_extension": ".py",
   "mimetype": "text/x-python",
   "name": "python",
   "nbconvert_exporter": "python",
   "pygments_lexer": "ipython3",
   "version": "3.11.6"
  }
 },
 "nbformat": 4,
 "nbformat_minor": 4
}
