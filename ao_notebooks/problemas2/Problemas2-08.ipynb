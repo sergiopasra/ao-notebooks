{
 "cells": [
  {
   "cell_type": "markdown",
   "metadata": {},
   "source": [
    "# Problema 8\n",
    "\n",
    "\n",
    "Se mide en dos instantes de tiempo diferentes la magnitud aparente visual de una estrella\n",
    "no variable: instante t1:\n",
    "m1= 3.63\n",
    "z1= 48o 14'\n",
    "instante t2:\n",
    "m2= 3.95\n",
    "z2= 66o 29'\n",
    "a) ¿Cómo se explica la variación de la magnitud de la estrella?; determinar la cantidad en que\n",
    "varía la magnitud cuando sec z aumenta en una unidad.\n",
    "b) Admitiendo que la corrección de magnitud de una estrella es proporcional al espesor de la\n",
    "atmósfera atravesado por la radiación emitida, precisar la expresión de dicha corrección en\n",
    "función de z.\n",
    "c) Calcular la magnitud mo fuera de la atmósfera."
   ]
  },
  {
   "cell_type": "code",
   "execution_count": null,
   "metadata": {},
   "outputs": [],
   "source": []
  }
 ],
 "metadata": {
  "kernelspec": {
   "display_name": "Python 3 (ipykernel)",
   "language": "python",
   "name": "python3"
  },
  "language_info": {
   "codemirror_mode": {
    "name": "ipython",
    "version": 3
   },
   "file_extension": ".py",
   "mimetype": "text/x-python",
   "name": "python",
   "nbconvert_exporter": "python",
   "pygments_lexer": "ipython3",
   "version": "3.10.0"
  }
 },
 "nbformat": 4,
 "nbformat_minor": 4
}
