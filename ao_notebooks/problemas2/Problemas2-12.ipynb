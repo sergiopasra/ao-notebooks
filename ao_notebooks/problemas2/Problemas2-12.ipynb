{
 "cells": [
  {
   "cell_type": "markdown",
   "metadata": {},
   "source": [
    "# Problema 12\n",
    "\n",
    "Para un cierto lugar de observación el valor del parámetro de Fried en el cenit es \n",
    "r0(500nm)=18 cm. Calcular la resolución de un telescopio de 5 cm y de uno de 1m a una longitud de \n",
    "onda λ=300nm. En ambos casos calcular la resolución a 0º y 45º de distancia cenital\n"
   ]
  }
 ],
 "metadata": {
  "kernelspec": {
   "display_name": "Python 3 (ipykernel)",
   "language": "python",
   "name": "python3"
  },
  "language_info": {
   "codemirror_mode": {
    "name": "ipython",
    "version": 3
   },
   "file_extension": ".py",
   "mimetype": "text/x-python",
   "name": "python",
   "nbconvert_exporter": "python",
   "pygments_lexer": "ipython3",
   "version": "3.10.0"
  }
 },
 "nbformat": 4,
 "nbformat_minor": 4
}
