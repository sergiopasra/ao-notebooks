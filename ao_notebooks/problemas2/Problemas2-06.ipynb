{
 "cells": [
  {
   "cell_type": "markdown",
   "metadata": {},
   "source": [
    "# Problema 6\n",
    "\n",
    "La estrella Sirio es una estrella doble cuyas componentes A y B tienen aproximadamente el\n",
    "mismo color. Sirio A es del tipo espectral A1V. Su magnitud aparente\n",
    "visual es -1.6, su magnitud absoluta bolométrica es 0.8 y su temperatura efectiva es de 10000 K. La\n",
    "magnitud aparente visual de Sirio B es 7.1. Calcular: \n",
    "\n",
    "* el radio de Sirio A y de Sirio B en unidades solares\n",
    "* la densidad media de Sirio B, si su masa es igual a la del Sol (densidad solar media = 1410.0 kg / m$^3$); \n",
    "* la paralaje y la distancia de Sirio A, suponiendo que una estrella A1V tiene Mv= 1.3.\n",
    "\n",
    "La magnitud absoluta bolométrica del Sol es 4.74 y la temperatura efectiva del Sol es $5772$ K.\n"
   ]
  },
  {
   "cell_type": "markdown",
   "metadata": {},
   "source": [
    "## Planteamiento\n",
    "\n",
    "Podemos obtener el radio de Sirio A a partir de su luminosidad, sabiendo su temperatura. La luminosidad podemos obtenerla usando las magnitudes bolométricas del Sol y de Sirio.\n",
    "\n",
    "$$\n",
    "M - M_{\\odot} = -2.5 \\log \\frac{L}{L_{\\odot}}\n",
    "$$"
   ]
  },
  {
   "cell_type": "code",
   "execution_count": 1,
   "metadata": {},
   "outputs": [],
   "source": [
    "import math\n",
    "import astropy.units as u\n",
    "import astropy.constants as const\n",
    "import numpy as np"
   ]
  },
  {
   "cell_type": "code",
   "execution_count": 2,
   "metadata": {},
   "outputs": [],
   "source": [
    "Msol = 4.74\n",
    "Tsol = 5772 * u.K\n",
    "rho_sol = 1410 * u.kg * u.m**(-3)\n",
    "MsA = 0.8 # magnitud bolométrica absoluta SirioA\n",
    "mv_sA = -1.6 # magnitud visual aparente SirioA\n",
    "mv_sB = 7.1 # magnitud visual aparente SirioB\n",
    "TsA = 10000 * u.K\n",
    "TsB = 10000 * u.K"
   ]
  },
  {
   "cell_type": "code",
   "execution_count": 3,
   "metadata": {},
   "outputs": [
    {
     "name": "stdout",
     "output_type": "stream",
     "text": [
      "Luminosidad de Sirio A: 37.67 Lsol\n"
     ]
    }
   ],
   "source": [
    "LsA_Ls = 10**(-0.4*(MsA - Msol))\n",
    "print(f'Luminosidad de Sirio A: {LsA_Ls:.2f} Lsol')"
   ]
  },
  {
   "cell_type": "markdown",
   "metadata": {},
   "source": [
    "El radio lo obtenemos a partir de la ley de Stefan-Boltzman:\n",
    "\n",
    "$$\n",
    "\\frac{L}{L_{\\odot}} = \\left( \\frac{R}{R_{\\odot}} \\right)^2 \\left( \\frac{T}{T_{\\odot}} \\right)^4\n",
    "$$"
   ]
  },
  {
   "cell_type": "code",
   "execution_count": 4,
   "metadata": {},
   "outputs": [
    {
     "name": "stdout",
     "output_type": "stream",
     "text": [
      "Radio de Sirio A: 2.04 radios solares\n"
     ]
    }
   ],
   "source": [
    "RsA_Rs = np.sqrt( LsA_Ls) / (TsA / Tsol)**2\n",
    "print(f'Radio de Sirio A: {RsA_Rs:.2f} radios solares')"
   ]
  },
  {
   "cell_type": "markdown",
   "metadata": {},
   "source": [
    "Para el caso de Sirio B, conocemos su magnitud visual, pero no su magnitud bolométrica, por lo que no podemos calcular directamente su luminosidad de la manera anterior. Sí que conocemos la magnitudes aparentes visuales de ambas estrellas.\n",
    "\n",
    "Como ambas estrellas están a la misma distancia, su diferencia de magnitudes aparentes visuales es igual a su diferencia de magnitudes absolutas visuales.\n",
    "\n",
    "$$\n",
    "m^A -M^A = m^B -M^B = 5 \\log d -5 \\rightarrow m^A -m^B = M^A -M^B \n",
    "$$\n",
    "\n",
    "\n",
    "\n",
    "Además, como ambas tienen la misma temperatura, sus correcciones bolométricas son iguales, luego su diferencia de magnitudes visuales es igual a su diferencia de magnitudes bolométricas.\n",
    "\n",
    "$$\n",
    "BC = M_b^A -M^A  = M_b^B -M^B \n",
    "$$\n",
    "\n",
    "Por lo tanto:\n",
    "\n",
    "$$\n",
    "m^A -m^B = M_b^A - M_b^B = -2.5 \\log \\frac{L_A}{L_B}\n",
    "$$\n",
    "\n",
    "Es decir, la diferencia de magnitudes aparentes visuales es igual a la diferencia de magnitudes absolutas bolométricas."
   ]
  },
  {
   "cell_type": "code",
   "execution_count": 5,
   "metadata": {},
   "outputs": [
    {
     "name": "stdout",
     "output_type": "stream",
     "text": [
      "Luminosidad Sirio A = 3019.95 Luminosidad Sirio B\n",
      "Luminosidad Sirio B = 0.00033 Luminosidad Sirio A\n",
      "Luminosidad Sirio B = 0.012 Luminosidad Sol\n"
     ]
    }
   ],
   "source": [
    "LsA_LsB = 10**(-0.4*(mv_sA - mv_sB))\n",
    "print(f'Luminosidad Sirio A = {LsA_LsB:.2f} Luminosidad Sirio B')\n",
    "print(f'Luminosidad Sirio B = {1 / LsA_LsB:.5f} Luminosidad Sirio A')\n",
    "LsB_Ls = 1 / LsA_LsB * LsA_Ls\n",
    "print(f'Luminosidad Sirio B = {LsB_Ls:.3f} Luminosidad Sol')"
   ]
  },
  {
   "cell_type": "markdown",
   "metadata": {},
   "source": [
    "Para calcular el radio de Sirio B acudimos de nuevo a\n",
    "\n",
    "$$\n",
    "\\frac{L_1}{L_2} = \\left( \\frac{R_1}{R_2} \\right)^2 \\left( \\frac{T_1}{T_2} \\right)^4\n",
    "$$\n",
    "\n",
    "Podemos comparar el radio de Sirio B con el de Sirio A o bien con el del Sol. "
   ]
  },
  {
   "cell_type": "markdown",
   "metadata": {},
   "source": [
    "Si comparamos con Sirio A, las temperaturas efectivas son iguales. Toda la diferencia de luminosidad se debe al radio."
   ]
  },
  {
   "cell_type": "code",
   "execution_count": 6,
   "metadata": {},
   "outputs": [
    {
     "name": "stdout",
     "output_type": "stream",
     "text": [
      "Radio de Sirio A = 54.95 Radio de Sirio B\n",
      "Radio de Sirio B = 0.018 Radio de Sirio A\n",
      "Radio de Sirio B = 0.037 Radio del Sol\n"
     ]
    }
   ],
   "source": [
    "# Primera manera\n",
    "# Comparando con Sirio A\n",
    "RsA_RsB = np.sqrt( LsA_LsB) / (TsA / TsB)**2\n",
    "print(f'Radio de Sirio A = {RsA_RsB:.2f} Radio de Sirio B')\n",
    "print(f'Radio de Sirio B = {1 / RsA_RsB:.3f} Radio de Sirio A')\n",
    "# Dado que el radio de Sirio A en radios solares ya es\n",
    "# conocido, lo usamos para calcular el radio\n",
    "# de Sirio B en radios solares\n",
    "RsB_Rs = 1 / RsA_RsB * RsA_Rs\n",
    "print(f'Radio de Sirio B = {RsB_Rs:.3f} Radio del Sol')"
   ]
  },
  {
   "cell_type": "code",
   "execution_count": 7,
   "metadata": {},
   "outputs": [
    {
     "name": "stdout",
     "output_type": "stream",
     "text": [
      "Radio de Sirio B = 0.037 Radio del Sol\n"
     ]
    }
   ],
   "source": [
    "# Segunda manera\n",
    "# Comparando con el Sol\n",
    "RsB_Rs = np.sqrt( LsB_Ls) / (TsB / Tsol)**2\n",
    "print(f'Radio de Sirio B = {RsB_Rs:.3f} Radio del Sol')"
   ]
  },
  {
   "cell_type": "markdown",
   "metadata": {},
   "source": [
    "Para la magnitud bolométrica de Sirio B, despejamos de la relación que vimos un poco más arriba de la diferencia de magnitudes visuales (dado que ambas estrellas están a la misma distancia y tienen la misma temperatura). \n",
    "\n",
    "$$\n",
    "m^A -m^B = M_b^A - M_b^B \\rightarrow M_b^B = M_b^A - (m^A -m^B) \n",
    "$$\n"
   ]
  },
  {
   "cell_type": "code",
   "execution_count": 8,
   "metadata": {},
   "outputs": [
    {
     "name": "stdout",
     "output_type": "stream",
     "text": [
      "Magnitud absoluta bolométrica de Sirio B: 9.5\n"
     ]
    }
   ],
   "source": [
    "MsB = MsA - (mv_sA - mv_sB)\n",
    "print(f'Magnitud absoluta bolométrica de Sirio B: {MsB}')"
   ]
  },
  {
   "cell_type": "markdown",
   "metadata": {},
   "source": [
    "### Densidad de Sirio B\n",
    "\n",
    "Podemos calcular la densidad de Sirio B relativa a la solar. Si asumimos la misma masa que el Sol, tendremos:\n",
    "\n",
    "$$\n",
    "\\frac{\\rho_B}{\\rho_{\\odot}} = \\left( \\frac{R_B}{R_{\\odot}} \\right)^{-3}\n",
    "$$\n",
    "\n",
    "La densidad promedio del Sol es algo mayor que la del agua, cuyo valor es de 1000 kg m$^{-3}$"
   ]
  },
  {
   "cell_type": "code",
   "execution_count": 9,
   "metadata": {},
   "outputs": [
    {
     "name": "stdout",
     "output_type": "stream",
     "text": [
      "La densidad del Sol es 1410.0 kg / m3\n",
      "La densidad de Sirio B es 2.73691e+07 kg / m3\n"
     ]
    }
   ],
   "source": [
    "rho_B = rho_sol * (RsB_Rs)**(-3)\n",
    "print(f'La densidad del Sol es {rho_sol}')\n",
    "print(f'La densidad de Sirio B es {rho_B:g}')"
   ]
  },
  {
   "cell_type": "markdown",
   "metadata": {},
   "source": [
    "### Distancia a Sirio\n",
    "\n",
    "Suponiendo conocida la magnitud absoluta de una estrella de tipo A1V (Mv = 1.3), podemos calcular el módulo de distancia:\n",
    "\n",
    "$$\n",
    "m - M = 5 \\log d -5\n",
    "$$\n",
    "\n",
    "de donde:\n",
    "$$\n",
    "d = 10^{(m - M + 5) / 5}\n",
    "$$\n",
    "\n"
   ]
  },
  {
   "cell_type": "code",
   "execution_count": 10,
   "metadata": {},
   "outputs": [
    {
     "name": "stdout",
     "output_type": "stream",
     "text": [
      "Distancia 2.63 pc\n",
      "Paralaje 0.38 segundos de arco\n"
     ]
    }
   ],
   "source": [
    "d = 10**((mv_sA - 1.3 + 5) / 5)\n",
    "par = 1 / d\n",
    "print(f'Distancia {d:.2f} pc')\n",
    "print(f'Paralaje {par:.2f} segundos de arco')"
   ]
  },
  {
   "cell_type": "code",
   "execution_count": null,
   "metadata": {},
   "outputs": [],
   "source": []
  }
 ],
 "metadata": {
  "kernelspec": {
   "display_name": "Python 3 (ipykernel)",
   "language": "python",
   "name": "python3"
  },
  "language_info": {
   "codemirror_mode": {
    "name": "ipython",
    "version": 3
   },
   "file_extension": ".py",
   "mimetype": "text/x-python",
   "name": "python",
   "nbconvert_exporter": "python",
   "pygments_lexer": "ipython3",
   "version": "3.10.0"
  }
 },
 "nbformat": 4,
 "nbformat_minor": 4
}
