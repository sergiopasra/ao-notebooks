{
 "cells": [
  {
   "cell_type": "markdown",
   "metadata": {},
   "source": [
    "# Problema 11\n",
    "\n",
    "Suponiendo que una nebulosa con las mismas características físicas que NGC7662 tuviera una \n",
    "paralaje de 0.51 mas, calcular:\n",
    "\n",
    "* su magnitud aparente V\n",
    "* radio angular y \n",
    "* brillo superficial. \n",
    "\n",
    "Comparar los resultados con los obtenidos en el problema anterior. \n",
    "\n",
    "Asumimos para la nebulosa una magnitud absoluta visual de 1.67 y un radio de 17930 unidades astronómicas."
   ]
  },
  {
   "cell_type": "markdown",
   "metadata": {},
   "source": [
    "## Planteamiento\n",
    "\n",
    "Tenemos que aplicar las ecuaciones de definición de paralaje, magnitud absoluta y brillo superficial."
   ]
  },
  {
   "cell_type": "code",
   "execution_count": null,
   "metadata": {},
   "outputs": [],
   "source": [
    "import math\n",
    "import numpy as np\n",
    "import astropy.units as u"
   ]
  },
  {
   "cell_type": "code",
   "execution_count": null,
   "metadata": {},
   "outputs": [],
   "source": [
    "par = 0.51e-3 # milisegundos de arco\n",
    "Mv = 1.67\n",
    "r = 17930 # unidades astronómicas"
   ]
  },
  {
   "cell_type": "code",
   "execution_count": null,
   "metadata": {},
   "outputs": [],
   "source": [
    "# Distancia en parsecs a partir de paralaje\n",
    "\n",
    "d = 1 / par\n",
    "print(f'Distancia {d:.2f} pc')"
   ]
  },
  {
   "cell_type": "markdown",
   "metadata": {},
   "source": [
    "### Magnitud aparente\n",
    "\n",
    "La magnitud aparente la calculamos a partir de la magnitud absoluta y la de distancia"
   ]
  },
  {
   "cell_type": "code",
   "execution_count": null,
   "metadata": {},
   "outputs": [],
   "source": [
    "# Magnitud aparente, a partir de la magnitud absoluta y el módulo de distancia\n",
    "\n",
    "mv = Mv + 5 * math.log10(d) - 5\n",
    "print(f'Magnitud aparente visual: {mv:.2f}')"
   ]
  },
  {
   "cell_type": "markdown",
   "metadata": {},
   "source": [
    "### Radio\n",
    "\n",
    "El radio, la distancia y el radio angular se relacionan por $R = d \\tan \\alpha$\n",
    "\n",
    "En nuestro caso, el radio es pequeño, de manera que $\\tan \\alpha \\sim \\alpha$. Además, el factor de conversión entre unidad astronómica y pársec es el mismo que entre radianes y segundos de arco. De manera que si expresamos la ecuación en las unidades adecuadas, tendremos:\n",
    "\n",
    "$$R (\\text{au}) = d (\\text{pc}) \\alpha(\\text{''})$$\n",
    "\n",
    "Donde el radio del objeto está en unidades astronómicas, la distancia en pársec y el radio angular en segundos de arco.\n",
    "\n",
    "Despejamos $\\alpha$:"
   ]
  },
  {
   "cell_type": "code",
   "execution_count": null,
   "metadata": {},
   "outputs": [],
   "source": [
    "alpha = r / d\n",
    "print(f\"Radio angular: {alpha}'' \")"
   ]
  },
  {
   "cell_type": "markdown",
   "metadata": {},
   "source": [
    "Como comprobación, voy a calcular el ángulo con la ecuación completa, utilizando unidades. Tendríamos:"
   ]
  },
  {
   "cell_type": "code",
   "execution_count": null,
   "metadata": {},
   "outputs": [],
   "source": [
    "alpha_exact = np.arctan((r * u.au) / (d * u.pc))\n",
    "print('Valor exacto, radianes', alpha_exact)\n",
    "print('Valor exacto, segundos de arco:', alpha_exact.to(u.arcsec))"
   ]
  },
  {
   "cell_type": "markdown",
   "metadata": {},
   "source": [
    "Los valores obtenidos son iguales dentro de la precisión."
   ]
  },
  {
   "cell_type": "markdown",
   "metadata": {},
   "source": [
    "### Brillo superficial\n",
    "\n",
    "Podemos utilizar la relación $\\mu = m + 2.5 \\log \\Omega(\\text{arcsec}^2)$, en la que ya conocemos la magnitud y nos hace falta el ángulo sólido $\\Omega$, que tiene que venir dado en segundos de arco cuadrados.\n",
    "\n",
    "Como la región es pequeña, podemos utilizar las mismas relaciones que en geometría plana."
   ]
  },
  {
   "cell_type": "code",
   "execution_count": null,
   "metadata": {},
   "outputs": [],
   "source": [
    "omega = np.pi * alpha**2\n",
    "\n",
    "print(f'El ángulo sólido es {omega:.2f} segundos de arco cuadrados')"
   ]
  },
  {
   "cell_type": "code",
   "execution_count": null,
   "metadata": {},
   "outputs": [],
   "source": [
    "mu = mv + 2.5 * np.log10(omega)\n",
    "print(f'El brillo superficial es {mu:.2f} magnitudes por segundo de arco cuadrado')"
   ]
  },
  {
   "cell_type": "markdown",
   "metadata": {},
   "source": [
    "### Comparación de resultados\n",
    "\n",
    "Comparamos los resultados con los del ejercicio anterior. Al aumentar la distancia a la que está el objeto (pasamos de 1163 pc a 1961 pc), observamos que el objeto se vuelve menos brillante (pasa de magnitud aparente 12 a 12.3). \n",
    "\n",
    "Su radio angular, así como el ángulo sólido que cubren en el cielo, también se reducen, pasando de 15.42'' a 9.14'' y de 747 arcsec² a 262 arcsec² en el caso del ángulo sólido.\n",
    "\n",
    "Para terminar, **el brillo superficial es el mismo**, porque la reducción en irradiancia (con el cuadrado de la distancia) se contraresta con la reducción en ángulo sólido (también con el cuadrado de la distancia)."
   ]
  }
 ],
 "metadata": {
  "kernelspec": {
   "display_name": "Python 3",
   "language": "python",
   "name": "python3"
  },
  "language_info": {
   "codemirror_mode": {
    "name": "ipython",
    "version": 3
   },
   "file_extension": ".py",
   "mimetype": "text/x-python",
   "name": "python",
   "nbconvert_exporter": "python",
   "pygments_lexer": "ipython3",
   "version": "3.10.0"
  }
 },
 "nbformat": 4,
 "nbformat_minor": 4
}
