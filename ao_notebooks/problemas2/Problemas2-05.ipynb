{
 "cells": [
  {
   "cell_type": "markdown",
   "metadata": {},
   "source": [
    "# Problema 5\n",
    "\n",
    "Calcular la temperatura de la fotosfera solar sabiendo que la constante solar es 1.36 kW m$^{-2}$, el diámetro angular del Sol es de 1918.4 segundos de arco.\n",
    "\n",
    "El valor de la constante de Stefan-Boltzman es $5.6703744×10^{−8} W / m^2 / K^4$"
   ]
  },
  {
   "cell_type": "markdown",
   "metadata": {},
   "source": [
    "## Planteamiento\n",
    "\n",
    "La luminosidad del Sol viene dada por la ley de Stefan-Boltzman y el área del Sol. La constante solar $C$, por otro lado, es la irradiancia a la distancia de 1 au.\n",
    "\n",
    "Tenemos que:\n",
    "$$\n",
    "L = 4 \\pi R^2 \\sigma T^4 = 4 \\pi d^2 C\n",
    "$$\n",
    "\n",
    "de donde:\n",
    "$$\n",
    "T^4 = \\left( \\frac{d}{R} \\right)^2 \\frac{C}{\\sigma}\n",
    "$$\n",
    "\n",
    "El radio angular del Sol $\\alpha$ cumple $ \\tan \\alpha = R / d$, de donde:\n",
    "\n",
    "$$\n",
    "T^4 = \\frac{C}{\\sigma \\tan^2 \\alpha}\n",
    "$$\n",
    "\n"
   ]
  },
  {
   "cell_type": "code",
   "execution_count": 1,
   "metadata": {},
   "outputs": [],
   "source": [
    "import math"
   ]
  },
  {
   "cell_type": "code",
   "execution_count": 2,
   "metadata": {},
   "outputs": [],
   "source": [
    "import astropy.units as u\n",
    "import astropy.constants as const\n",
    "import numpy as np"
   ]
  },
  {
   "cell_type": "code",
   "execution_count": 3,
   "metadata": {},
   "outputs": [],
   "source": [
    "# Constante solar\n",
    "C = 1.361 * u.kW * u.m**(-2)\n",
    "# Tenemos el diámetro, queremos el radio, dividimos por 2\n",
    "alpha = 1918.4 * u.arcsec / 2"
   ]
  },
  {
   "cell_type": "code",
   "execution_count": 4,
   "metadata": {},
   "outputs": [
    {
     "name": "stdout",
     "output_type": "stream",
     "text": [
      "Valor exacto     0.00465036635156476\n",
      "Valor aproximado 0.004650328460960415\n"
     ]
    }
   ],
   "source": [
    "# Para la tangente, podemos aproximar \n",
    "# para ángulos pequeños o utilizar la ecuación completa\n",
    "\n",
    "tan_alpha = np.tan(alpha)\n",
    "# Como el ángulo es pequeño, \n",
    "# su tangente es aproximadamente igual al ángulo en radianes\n",
    "alpha_rad = 1918.4 / 2 / 206265\n",
    "print('Valor exacto    ', tan_alpha)\n",
    "print('Valor aproximado', alpha_rad)"
   ]
  },
  {
   "cell_type": "code",
   "execution_count": 5,
   "metadata": {},
   "outputs": [
    {
     "name": "stdout",
     "output_type": "stream",
     "text": [
      "  Name   = Stefan-Boltzmann constant\n",
      "  Value  = 5.6703744191844314e-08\n",
      "  Uncertainty  = 0.0\n",
      "  Unit  = W / (K4 m2)\n",
      "  Reference = CODATA 2018\n"
     ]
    }
   ],
   "source": [
    "# utilizo el valor definido de la\n",
    "# constante de Stefan-Boltzman\n",
    "print(const.sigma_sb)"
   ]
  },
  {
   "cell_type": "code",
   "execution_count": 6,
   "metadata": {},
   "outputs": [
    {
     "name": "stdout",
     "output_type": "stream",
     "text": [
      "Temperatura efectiva 5771.889569344133 K\n"
     ]
    }
   ],
   "source": [
    "temp = (C / (const.sigma_sb * np.tan(alpha)**2))**(0.25)\n",
    "temp = temp.to(u.K)\n",
    "print('Temperatura efectiva', temp)"
   ]
  },
  {
   "cell_type": "code",
   "execution_count": null,
   "metadata": {},
   "outputs": [],
   "source": []
  }
 ],
 "metadata": {
  "kernelspec": {
   "display_name": "Python 3 (ipykernel)",
   "language": "python",
   "name": "python3"
  },
  "language_info": {
   "codemirror_mode": {
    "name": "ipython",
    "version": 3
   },
   "file_extension": ".py",
   "mimetype": "text/x-python",
   "name": "python",
   "nbconvert_exporter": "python",
   "pygments_lexer": "ipython3",
   "version": "3.10.0"
  }
 },
 "nbformat": 4,
 "nbformat_minor": 4
}
