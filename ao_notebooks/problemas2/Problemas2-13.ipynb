{
 "cells": [
  {
   "cell_type": "markdown",
   "metadata": {},
   "source": [
    "# Problema 13\n",
    "\n",
    "\n",
    "Supongamos una galaxia de 10$^{11}$ masas solares. Esta galaxia está compuesta por dos tipos de estrellas, tipo 1 de 1.1 M$_{\\odot}$ y otra, tipo B, de 60 M$_{\\odot}$. Supongamos, además, que 1.1 10$^{10}$ masas solares corresponde a las estrellas de tipo A y el resto es de tipo B.\n",
    "\n",
    "Suponiendo que la magnitud absoluta visible es de 4.4 para las estrellas tipo A y -5.7 para las de tipo B, calcular la magnitud absoluta visible de la galaxia.\n"
   ]
  },
  {
   "cell_type": "markdown",
   "metadata": {},
   "source": [
    "## Planteamiento\n",
    "\n",
    "La magnitud absoluta visible de la galaxia se calcula a partir de la luminosidad total de los dos tipos de estrellas.\n",
    "\n",
    "### Relación de luminosidades\n",
    "En primer lugar calcularemos la relación de luminosidad de los dos tipos de estrellas. En todas las siguientes ecuaciones, la luminosidad es siempre en el visible.\n",
    "\n",
    "\n",
    "$$\n",
    "M_2 - M_1 = -2.5 \\log \\frac{L_2}{L_1}\n",
    "$$"
   ]
  },
  {
   "cell_type": "code",
   "execution_count": 1,
   "metadata": {},
   "outputs": [],
   "source": [
    "import math"
   ]
  },
  {
   "cell_type": "code",
   "execution_count": 2,
   "metadata": {},
   "outputs": [],
   "source": [
    "M2 = -5.7\n",
    "M1 = 4.4"
   ]
  },
  {
   "cell_type": "code",
   "execution_count": 3,
   "metadata": {},
   "outputs": [
    {
     "name": "stdout",
     "output_type": "stream",
     "text": [
      "Una estrella de tipo 2 brilla 10964.78 veces más que una de tipo 1\n"
     ]
    }
   ],
   "source": [
    "L2_L1 = 10**(-0.4*(M2-M1))\n",
    "print(f'Una estrella de tipo 2 brilla {L2_L1:.2f} veces más que una de tipo 1')"
   ]
  },
  {
   "cell_type": "markdown",
   "metadata": {},
   "source": [
    "### Número de estrellas de cada tipo\n",
    "\n",
    "Calculamos el número de estrellas de cada tipo. La masa en estrellas de tipo 1 es de 1.1 10$^{10}$. El resto de la masa corresponde a estrellas de tipo 2."
   ]
  },
  {
   "cell_type": "code",
   "execution_count": 4,
   "metadata": {},
   "outputs": [],
   "source": [
    "masa_total = 1e11\n",
    "masa_total1 = 1.1e10\n",
    "masa_tipo1 = 1.1\n",
    "masa_tipo2 = 60"
   ]
  },
  {
   "cell_type": "code",
   "execution_count": 5,
   "metadata": {},
   "outputs": [
    {
     "name": "stdout",
     "output_type": "stream",
     "text": [
      "Masa en estrellas tipo1 1.1e+10\n",
      "Masa en estrellas tipo2 8.9e+10\n"
     ]
    }
   ],
   "source": [
    "masa_total2 = masa_total - masa_total1\n",
    "print(f'Masa en estrellas tipo1 {masa_total1:g}')\n",
    "print(f'Masa en estrellas tipo2 {masa_total2:g}')"
   ]
  },
  {
   "cell_type": "code",
   "execution_count": 6,
   "metadata": {},
   "outputs": [
    {
     "name": "stdout",
     "output_type": "stream",
     "text": [
      "Número de estrellas tipo1 1e+10\n",
      "Número de estrellas tipo2 1.48333e+09\n",
      "Estrellas tipo1/tipo2 6.741573033707866\n"
     ]
    }
   ],
   "source": [
    "n_tipo1 = masa_total1 / masa_tipo1\n",
    "n_tipo2 = masa_total2 / masa_tipo2\n",
    "print(f'Número de estrellas tipo1 {n_tipo1:g}')\n",
    "print(f'Número de estrellas tipo2 {n_tipo2:g}')\n",
    "print(f'Estrellas tipo1/tipo2 {n_tipo1/n_tipo2}')"
   ]
  },
  {
   "cell_type": "markdown",
   "metadata": {},
   "source": [
    "Como resumen, hay aproximadamente 6 estrellas de tipo 1 por cada estrella de tipo 2, pero cada estrella de tipo 2 brilla 11000 veces más que una de tipo 1."
   ]
  },
  {
   "cell_type": "markdown",
   "metadata": {},
   "source": [
    "### Luminosidad total\n",
    "\n",
    "La luminosidad total de la galaxia sera:\n",
    "\n",
    "$$L_G = N_1 L_1 + N_2 L_2$$\n",
    "\n",
    "Conocemos los números de estrellas, pero solamente la relación $L_2 / L_1$. Podemos poner la ecuación como:\n",
    "\n",
    "\n",
    "$$\\frac{L_G}{L_1} = N_1  + N_2 \\frac{L_2}{L_1} $$\n",
    "\n",
    "Y luego obtener la magnitud de la galaxia como:\n",
    "$$\n",
    "M_G - M_1 = -2.5 \\log \\frac{L_G}{L_1}\n",
    "$$"
   ]
  },
  {
   "cell_type": "code",
   "execution_count": 7,
   "metadata": {},
   "outputs": [
    {
     "name": "stdout",
     "output_type": "stream",
     "text": [
      "La galaxia brilla como 1.62744e+13 estrellas de tipo 1\n"
     ]
    }
   ],
   "source": [
    "LG_L1 = n_tipo1 + n_tipo2 * L2_L1\n",
    "print(f'La galaxia brilla como {LG_L1:g} estrellas de tipo 1')"
   ]
  },
  {
   "cell_type": "code",
   "execution_count": 8,
   "metadata": {},
   "outputs": [
    {
     "name": "stdout",
     "output_type": "stream",
     "text": [
      "La magnitud absoluta visual de la galaxia es -28.63\n"
     ]
    }
   ],
   "source": [
    "MG = M1 - 2.5 * math.log10(LG_L1)\n",
    "print(f'La magnitud absoluta visual de la galaxia es {MG:.2f}')"
   ]
  }
 ],
 "metadata": {
  "kernelspec": {
   "display_name": "Python 3",
   "language": "python",
   "name": "python3"
  },
  "language_info": {
   "codemirror_mode": {
    "name": "ipython",
    "version": 3
   },
   "file_extension": ".py",
   "mimetype": "text/x-python",
   "name": "python",
   "nbconvert_exporter": "python",
   "pygments_lexer": "ipython3",
   "version": "3.10.0"
  }
 },
 "nbformat": 4,
 "nbformat_minor": 4
}
