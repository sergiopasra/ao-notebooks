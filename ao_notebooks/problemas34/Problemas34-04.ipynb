{
 "cells": [
  {
   "cell_type": "markdown",
   "metadata": {},
   "source": [
    "# Problema 4\n",
    "Calcular la relación señal/ruido (S/N) de observaciones fotométricas realizadas con un detector CCD tras obtener el flujo en una apertura de 50 pix$^2$. La señal total de la estrella en la apertura es de 30000 ADU (1 ADU = 5 e- para este CCD), el nivel de fondo de cielo es de 1000 ADU por pixel y el ruido de lectura es de 5 ADU.\n",
    "\n",
    "Considerar ya sustraído el nivel de pedestal y que la determinación del cielo tiene un error despreciable.\n",
    "\n",
    "## Planteamiento\n",
    "Para el caso de fotometría de apertura, la SNR del objeto es:\n",
    "\n",
    "$$\n",
    "\\mathrm{SNR}(\\mathrm{O}) = \\frac{ N_{\\mathrm{O}} }{\\sqrt{\\frac{1}{g} N_{\\mathrm{O+C}} + A\\left(\\frac{\\sigma_{R}}{g}\\right)^2}} =  \\frac{ N_{\\mathrm{O}} }{\\sqrt{\\frac{1}{g} N_{\\mathrm{O}} + \\frac{1}{g} A N_{\\mathrm{C}} + A\\left(\\frac{\\sigma_{R}}{g}\\right)^2}}\n",
    "$$\n",
    "\n",
    "Simplemente tenemos que identificar los términos. En la anterior ecuación $\\sigma_{R}$ está medida en electrones, luego $\\sigma_{R}/g$ está medida en ADUSs."
   ]
  },
  {
   "cell_type": "code",
   "execution_count": 5,
   "metadata": {},
   "outputs": [],
   "source": [
    "import numpy as np\n",
    "import astropy.units as u\n",
    "from astropy.coordinates import Angle"
   ]
  },
  {
   "cell_type": "code",
   "execution_count": 6,
   "metadata": {},
   "outputs": [
    {
     "name": "stdout",
     "output_type": "stream",
     "text": [
      "SNR: 228.4160962880643\n"
     ]
    }
   ],
   "source": [
    "N_O = 30000 # ADU\n",
    "N_C = 1000 # ADU / pix^2\n",
    "A = 50 # pix^2\n",
    "g = 5.0 # e / ADU\n",
    "sigma_r_g = 5.0 # ADU\n",
    "\n",
    "SNR = N_O / np.sqrt(N_O / g + N_C * A / g + A * sigma_r_g**2)\n",
    "print('SNR:', SNR)"
   ]
  },
  {
   "cell_type": "markdown",
   "metadata": {},
   "source": [
    "¿Si hubiéramos observado durante la decima parte de tiempo? Entonces, tanto del cielo como del objeto nos habrían llegado una décima parte de los fotones y tendríamos una décima parte de las cuentas $N$."
   ]
  },
  {
   "cell_type": "code",
   "execution_count": 9,
   "metadata": {},
   "outputs": [
    {
     "name": "stdout",
     "output_type": "stream",
     "text": [
      "SNR: 56.19514869490164\n"
     ]
    }
   ],
   "source": [
    "N_O = 3000 # ADU\n",
    "N_C = 100 # ADU / pix^2\n",
    "A = 50 # pix^2\n",
    "g = 5.0 # e / ADU\n",
    "sigma_r_g = 5.0 # ADU\n",
    "\n",
    "SNR = N_O / np.sqrt(N_O / g + N_C * A / g + A * sigma_r_g**2)\n",
    "print('SNR:', SNR)"
   ]
  },
  {
   "cell_type": "markdown",
   "metadata": {},
   "source": [
    "¿Si hubiéramos observado durante la centésima parte de tiempo? Tendríamos una centésima parte de las cuentas $N$ del objeto y del cielo."
   ]
  },
  {
   "cell_type": "code",
   "execution_count": 10,
   "metadata": {},
   "outputs": [
    {
     "name": "stdout",
     "output_type": "stream",
     "text": [
      "SNR: 7.989354619369612\n"
     ]
    }
   ],
   "source": [
    "N_O = 300 # ADU\n",
    "N_C = 10 # ADU / pix^2\n",
    "A = 50 # pix^2\n",
    "g = 5.0 # e / ADU\n",
    "sigma_r_g = 5.0 # ADU\n",
    "\n",
    "SNR = N_O / np.sqrt(N_O / g + N_C * A / g + A * sigma_r_g**2)\n",
    "print('SNR:', SNR)"
   ]
  }
 ],
 "metadata": {
  "kernelspec": {
   "display_name": "Python 3",
   "language": "python",
   "name": "python3"
  },
  "language_info": {
   "codemirror_mode": {
    "name": "ipython",
    "version": 3
   },
   "file_extension": ".py",
   "mimetype": "text/x-python",
   "name": "python",
   "nbconvert_exporter": "python",
   "pygments_lexer": "ipython3",
   "version": "3.10.0"
  }
 },
 "nbformat": 4,
 "nbformat_minor": 2
}
