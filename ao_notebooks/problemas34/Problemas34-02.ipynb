{
 "cells": [
  {
   "cell_type": "markdown",
   "metadata": {},
   "source": [
    "# Problema 2\n",
    "\n",
    "El telescopio William Herschel (WHT) del Observatorio del Roque de Los Muchachos (La Palma) tiene un diámetro de 4.2 m y una relación focal f = 10.94 en el foco Cassegrain. \n",
    "\n",
    "Calcular:\n",
    "\n",
    "* Las dimensiones mínimas que debe tener un detector acoplado al foco Cassegrain para poder obtener una imagen completa de una galaxia de 1′x 2′ de tamaño aparente.\n",
    "* ¿Qué tamaño debe tener cada pixel del detector utilizado para no perder resolución espacial si el seeing es de 0.5″?\n",
    "* Si se observa en el IR ¿necesitaríamos modificar algún parámetro del detector? \n",
    "\n",
    "## Planteamiento\n",
    "\n",
    "Dada la relación focal (f) y el diámetro del espejo (D) es posible calcular la distancia focal (F) y a partir de ella, la escala de placa.  \n",
    "\n",
    "\n",
    "$$f = F / D $$"
   ]
  },
  {
   "cell_type": "code",
   "execution_count": null,
   "metadata": {},
   "outputs": [],
   "source": [
    "import numpy as np\n",
    "import astropy.units as u\n",
    "from astropy.coordinates import Angle"
   ]
  },
  {
   "cell_type": "code",
   "execution_count": null,
   "metadata": {},
   "outputs": [],
   "source": [
    "D = 4.2 * u.m\n",
    "f_ratio = 10.94\n",
    "f_dist = f_ratio * D\n",
    "print('Distancia focal:', f_dist)"
   ]
  },
  {
   "cell_type": "code",
   "execution_count": null,
   "metadata": {},
   "outputs": [],
   "source": [
    "plate_scale = 1 / f_dist * u.rad\n",
    "print('Escala de placa: ',plate_scale)\n",
    "print('Conversión de unidades:', plate_scale.to(u.arcsec / u.mm))"
   ]
  },
  {
   "cell_type": "markdown",
   "metadata": {},
   "source": [
    "La escala de placa permite convertir distancias en el plano focal (o en el detector, que se sitúa en el plano focal) en ángulos en el cielo."
   ]
  },
  {
   "cell_type": "code",
   "execution_count": null,
   "metadata": {},
   "outputs": [],
   "source": [
    "# Para cubrir un 1'x 2'\n",
    "ang_a = 1 * u.arcmin\n",
    "ang_b = 2 * u.arcmin\n",
    "lado_a = ang_a / plate_scale\n",
    "lado_b = ang_b / plate_scale\n",
    "print('Lado A', lado_a.to(u.mm))\n",
    "print('Lado B', lado_b.to(u.mm))"
   ]
  },
  {
   "cell_type": "markdown",
   "metadata": {},
   "source": [
    "Ahora utilizamos el criterio de buen muestro de imágenes. Para no perder resolución, la FWHM del seeing tiene que ser muestreada con 3 pixels."
   ]
  },
  {
   "cell_type": "code",
   "execution_count": null,
   "metadata": {},
   "outputs": [],
   "source": [
    "seeing_fwhm = 0.5 * u.arcsec\n",
    "factor_muestreo = 3\n",
    "pix_ang = seeing_fwhm / factor_muestreo\n",
    "print(f'Cada pixel tiene que cubir como máximo (ang) {pix_ang:.2f}')\n",
    "pix_phy = pix_ang / plate_scale\n",
    "print(f'El tamaño de estos pixels es {pix_phy.to(u.micron):.2f}')"
   ]
  },
  {
   "cell_type": "markdown",
   "metadata": {},
   "source": [
    "Para el IR, el seeing será menor, luego necesitaremos pixels más pequeños si queremos muestrear bien con mejor resolución.\n",
    "\n",
    "Por ejemplo, con un seeing de 0.35″:"
   ]
  },
  {
   "cell_type": "code",
   "execution_count": null,
   "metadata": {},
   "outputs": [],
   "source": [
    "seeing_fwhm = 0.35 * u.arcsec\n",
    "factor_muestreo = 3\n",
    "pix_ang = seeing_fwhm / factor_muestreo\n",
    "print(f'Cada pixel tiene que cubir como máximo (ang) {pix_ang:.2f}')\n",
    "pix_phy = pix_ang / plate_scale\n",
    "print(f'El tamaño de estos pixels es {pix_phy.to(u.micron):.2f}')\n"
   ]
  }
 ],
 "metadata": {
  "kernelspec": {
   "display_name": "Python 3",
   "language": "python",
   "name": "python3"
  },
  "language_info": {
   "codemirror_mode": {
    "name": "ipython",
    "version": 3
   },
   "file_extension": ".py",
   "mimetype": "text/x-python",
   "name": "python",
   "nbconvert_exporter": "python",
   "pygments_lexer": "ipython3",
   "version": "3.10.0"
  }
 },
 "nbformat": 4,
 "nbformat_minor": 2
}
