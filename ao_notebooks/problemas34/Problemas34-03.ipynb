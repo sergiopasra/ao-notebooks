{
 "cells": [
  {
   "cell_type": "markdown",
   "metadata": {},
   "source": [
    "# Problema 3\n",
    "Se dispone de un detector CCD de 2048 × 2048 píxeles de 15 μm. \n",
    "\n",
    "Determinar el campo registrado con un telescopio de focal F = 6 m y el número de exposiciones necesarias para cubrir un campo de 100×100 arcmin2 mediante un mosaico de imágenes. \n",
    "\n",
    "Si con este detector acoplado a un telescopio se obtienen un total de 2000 cuentas al observar una estrella durante 1000 segundos, ¿cuántas cuentas se obtendrían al observar una estrella 1 magnitud más débil y con un telescopio del doble de diámetro durante el mismo tiempo?\n",
    "\n",
    "## Planteamiento\n",
    "\n",
    "Dada la distancia focal, la escala de placa es $1 / F$ (en radianes por unidad de longitud)."
   ]
  },
  {
   "cell_type": "code",
   "execution_count": 23,
   "metadata": {},
   "outputs": [],
   "source": [
    "import numpy as np\n",
    "import astropy.units as u\n",
    "from astropy.coordinates import Angle"
   ]
  },
  {
   "cell_type": "code",
   "execution_count": 24,
   "metadata": {},
   "outputs": [
    {
     "name": "stdout",
     "output_type": "stream",
     "text": [
      "Distancia focal: 6.0 m\n",
      "Escala de placa: 0.16666666666666666 rad / m\n",
      "Escala de placa: 0.00016666666666666666 rad / mm\n",
      "Escala de placa: 34.37746770784939 arcsec / mm\n",
      "Escala de placa: 34.3775 arcsec / mm\n"
     ]
    }
   ],
   "source": [
    "## Diferentes conversiones de unidades de la escala de placa\n",
    "f_dist = 6 * u.m\n",
    "plate_scale = 1 / f_dist * u.rad\n",
    "print('Distancia focal:', f_dist)\n",
    "print('Escala de placa:', plate_scale)\n",
    "print('Escala de placa:', plate_scale.to(u.rad / u.mm))\n",
    "print('Escala de placa:', plate_scale.to(u.arcsec / u.mm))\n",
    "print('Escala de placa:', 206265 / 6000.0, 'arcsec / mm')"
   ]
  },
  {
   "cell_type": "markdown",
   "metadata": {},
   "source": [
    "Una vez conocida la escala de placa, podemos convertir las dimensiones físicas del detector en ángulo sólido en el cielo. en este caso el detector es cuadrado, por lo que sus dos lados tienen la misma longitud."
   ]
  },
  {
   "cell_type": "code",
   "execution_count": 25,
   "metadata": {},
   "outputs": [
    {
     "name": "stdout",
     "output_type": "stream",
     "text": [
      "Lado del detector 30.72 mm\n"
     ]
    }
   ],
   "source": [
    "# Ángulo por pixel\n",
    "pix_size = 15 * u.micron\n",
    "detector_size1 = 2048 * pix_size\n",
    "detector_size2 = 2048 * pix_size\n",
    "print('Lado del detector', detector_size1.to(u.mm))"
   ]
  },
  {
   "cell_type": "code",
   "execution_count": 26,
   "metadata": {},
   "outputs": [
    {
     "name": "stdout",
     "output_type": "stream",
     "text": [
      "Ángulo subtendido por el lado del detector 1056.08 arcsec\n",
      "Ángulo subtendido por el lado del detector 17.60 arcmin\n"
     ]
    }
   ],
   "source": [
    "# Calculamos en segundos de arco y minutos de arco\n",
    "detector_ang1 = plate_scale * detector_size1\n",
    "detector_ang2 = plate_scale * detector_size2\n",
    "print(f'Ángulo subtendido por el lado del detector {detector_ang1.to(u.arcsec):.2f}')\n",
    "print(f'Ángulo subtendido por el lado del detector {detector_ang1.to(u.arcmin):.2f}')"
   ]
  },
  {
   "cell_type": "markdown",
   "metadata": {},
   "source": [
    "Para ángulos pequeños, el ángulo sólido correspondiente puede calcularse como si tuviéramos una figura plana. En este caso, multiplicamos el ángulo de los lados. Damos los valores en segundos de arco cuadrados y minutos de arco cuadrados."
   ]
  },
  {
   "cell_type": "code",
   "execution_count": 27,
   "metadata": {},
   "outputs": [
    {
     "name": "stdout",
     "output_type": "stream",
     "text": [
      "Ángulo sólido del detector: 1115296.1122114523 arcsec2\n",
      "Ángulo sólido del detector: 309.8044756142923 arcmin2\n"
     ]
    }
   ],
   "source": [
    "detector_solid_ang = detector_ang1 * detector_ang2\n",
    "print('Ángulo sólido del detector:', detector_solid_ang.to(u.arcsec * u.arcsec))\n",
    "print('Ángulo sólido del detector:', detector_solid_ang.to(u.arcmin * u.arcmin))\n",
    "# "
   ]
  },
  {
   "cell_type": "markdown",
   "metadata": {},
   "source": [
    "Para calcular exáctamente el número de imágenes, tendríamos que calcular en detalle las posiciones de los apuntados individuales. Como el área que queremos cubrir es grande, podemos aproximar el valor del número de imágenes por la razón de las áreas."
   ]
  },
  {
   "cell_type": "code",
   "execution_count": 29,
   "metadata": {},
   "outputs": [
    {
     "name": "stdout",
     "output_type": "stream",
     "text": [
      "Campo para cubrir 10000.0 arcmin2\n",
      "Razón de ángulos sólidos 32.278423286725\n",
      "Número de exposiciones: 33\n"
     ]
    }
   ],
   "source": [
    "campo = 100 * u.arcmin * 100 * u.arcmin\n",
    "print('Campo para cubrir',campo)\n",
    "ratio = (campo / detector_solid_ang).to('')\n",
    "print('Razón de ángulos sólidos', ratio)\n",
    "num = int(np.ceil(ratio)) # Redondeo hacia arriba y conversión a entero\n",
    "print('Número de exposiciones:', num)"
   ]
  },
  {
   "cell_type": "markdown",
   "metadata": {},
   "source": [
    "El número de fotones o el número de cuentas (ignorando el bias) es proporcional al tiempo de exposición y proporcional al área colectora. El área colectora es proporcional al cuadrado del diámetro del primario.\n",
    "\n",
    "Si de la estrella 1 recibimos $n_1 = N_1 / t$ cuentas, de la estrella 2 (1 mag más débil) recibiremos $n_2$. \n",
    "\n",
    "*Recordar que 1 magnitud más débil significa que $m_2 = m_1 + 1$*\n",
    "\n",
    "$ \\Delta m = m_1 - m_2 = -2.5 log (n_1 / n_2) $\n",
    "\n",
    "de donde:\n",
    "\n",
    "$ n_2 = n_1 10^{0.4 \\Delta m} $"
   ]
  },
  {
   "cell_type": "code",
   "execution_count": 12,
   "metadata": {},
   "outputs": [
    {
     "name": "stdout",
     "output_type": "stream",
     "text": [
      "Total NA 2000.0\n",
      "Total NB 796.2143411069944\n"
     ]
    }
   ],
   "source": [
    "# Si de la estrella 1 recibimos N / t cuentas, de la estrella 2 (1 mag más débil) recibiremos\n",
    "delta_m = -1.0\n",
    "NA = 2000.0\n",
    "texp = 1000\n",
    "na = NA / texp\n",
    "nb = na * 10**(0.4 * delta_m)\n",
    "\n",
    "NB = nb * texp\n",
    "\n",
    "print('Total NA', NA)\n",
    "print('Total NB', NB)"
   ]
  },
  {
   "cell_type": "markdown",
   "metadata": {},
   "source": [
    "Si el tiempo de exposición y otros factores se mantienen constantes, entre dos telescopios la razón del número de cuentas (descontando el bias) será igual a la razón de las áreas colectoras, que en general se puede considerar proporcional al diámetro de M1.\n",
    "\n",
    "$\\frac{N_{T1}}{N_{T2}} = \\frac{A_{T1}}{A_{T2}} = \\left(\\frac{D_{T1}}{D_{T2}}\\right)^2$ "
   ]
  },
  {
   "cell_type": "code",
   "execution_count": 13,
   "metadata": {},
   "outputs": [
    {
     "name": "stdout",
     "output_type": "stream",
     "text": [
      "Estrella en telescopio 2 796.2143411069944 cuentas\n",
      "Estrella en telescopio 1 3184.8573644279777 cuentas\n"
     ]
    }
   ],
   "source": [
    "# El telescopio 1 tiene el diámetro mayor\n",
    "# Nuestra estrella tiene estas cuentas en el telescopio 2\n",
    "NB_2 = NB\n",
    "print('Estrella en telescopio 2', NB_2, 'cuentas')\n",
    "D_ratio12 = 2\n",
    "NB_1 = NB_2 * D_ratio12**2\n",
    "print('Estrella en telescopio 1', NB_1, 'cuentas')"
   ]
  }
 ],
 "metadata": {
  "kernelspec": {
   "display_name": "Python 3",
   "language": "python",
   "name": "python3"
  },
  "language_info": {
   "codemirror_mode": {
    "name": "ipython",
    "version": 3
   },
   "file_extension": ".py",
   "mimetype": "text/x-python",
   "name": "python",
   "nbconvert_exporter": "python",
   "pygments_lexer": "ipython3",
   "version": "3.10.0"
  }
 },
 "nbformat": 4,
 "nbformat_minor": 2
}
