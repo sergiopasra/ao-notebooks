{
 "cells": [
  {
   "cell_type": "markdown",
   "metadata": {},
   "source": [
    "# Problema 1\n",
    "Adoptando para un lugar de observación el siguiente valor para el parámetro de Fried: $r_0(\\lambda_0=0.5\\mu m) = 10 \\ \\mathrm{cm}$ y su dependencia habitual con la longitud de onda, ¿cuál será el *seeing* con el que se observaría en el óptico (λ = 500 nm) y el infrarrojo cercano, (λ = 2.0 μm)? \n",
    "\n",
    "Determinar a que longitud de onda la difracción comienza a dominar para un telescopio de diámetro D = 2 m.\n",
    "\n",
    "## Planteamiento\n",
    "\n",
    "En condiciones de turbulencia, el parámetro que determina la resolución es el parámetro de Fried, $r_0 \\propto \\lambda^{6/5} $. En este caso, suponemos que la resolución dada por el criterio de Rayleigh será (en radianes) $ \\alpha_S = 1.22 \\ \\lambda / r_0$ en el régimen de exposiciones largas dominadas por *seeing* y $ \\alpha_D = 1.22 \\ \\lambda / D$ en el régimen de exposiciones largas dominadas difracción. \n",
    "\n",
    "Como hemos visto en clase el cambio entre un régimen y el otro es suave. Aquí calcularemos un valor aproximado para el cambio.\n",
    "\n",
    "La resolución es mejor cuanto más pequeño sea el valor de $\\alpha$, ya que se pueden resolver separaciones angulares más pequeñas.\n",
    "\n",
    "En el régimen dominado por difracción $ \\alpha_D > \\alpha_S$ y por lo tanto, el parámetro de Fried tiene que ser mayor que $D$. \n",
    "\n",
    "$$r_0(\\lambda_D) > D$$\n",
    "\n",
    "Como\n",
    "\n",
    "$$r_0(\\lambda_D) = r_0(\\lambda_0) (\\lambda_D / \\lambda_0)^{6/5}$$\n",
    "\n",
    "\n",
    "y por lo tanto:\n",
    "\n",
    "$$r_0(\\lambda_0) (\\lambda_D / \\lambda_0)^{6/5} > D$$\n",
    "\n",
    "$$\\lambda_D > \\lambda_0 \\times (D / r_0(\\lambda_0))^{5/6}$$"
   ]
  },
  {
   "cell_type": "code",
   "execution_count": null,
   "metadata": {},
   "outputs": [],
   "source": [
    "import numpy as np\n",
    "import astropy.units as u\n",
    "from astropy.coordinates import Angle"
   ]
  },
  {
   "cell_type": "code",
   "execution_count": null,
   "metadata": {},
   "outputs": [],
   "source": [
    "r0_optico = 10 * u.cm\n",
    "wl_optico = 0.5 * u.micron\n",
    "wl_nir = 2.0 * u.micron\n",
    "r0_nir = r0_optico * (wl_nir / wl_optico) ** (6/5)\n",
    "print(f'r0 óptico: {r0_optico}')\n",
    "print(f'r0 NIR: {r0_nir:.2f}')"
   ]
  },
  {
   "cell_type": "code",
   "execution_count": null,
   "metadata": {},
   "outputs": [],
   "source": [
    "D = 2 * u.m\n",
    "wl_d = wl_optico * (D / r0_optico)**(5/6)\n",
    "print(f'La difracción domina a partir de {wl_d.to(u.micron):.2f}')"
   ]
  },
  {
   "cell_type": "markdown",
   "metadata": {},
   "source": [
    "Podemos calcular también la resolución que alcanzamos en estas condiciones en el óptico (0.5 μm) y en el infrarrojo cercano (2 μm).\n",
    "\n",
    "Recordemos que la ecuación de resolución está en radianes. Hay que aplicar el factor 206265 para obtener segundos de arco."
   ]
  },
  {
   "cell_type": "code",
   "execution_count": null,
   "metadata": {},
   "outputs": [],
   "source": [
    "# Resolución por seeing\n",
    "# alpha_optico = (1.22 * wl_optico / r0_optico).to(u.arcsec, equivalencies=u.dimensionless_angles())\n",
    "# print(alpha_optico)\n",
    "\n",
    "alpha_optico = 206265 * (1.22 * wl_optico.to_value(u.cm) / r0_optico.to_value(u.cm))\n",
    "print(f'seeing optico (arcsec) {alpha_optico:.2f}')\n",
    "\n",
    "# alpha_nir = (1.2 * wl_nir / r0_nir).to(u.arcsec, equivalencies=u.dimensionless_angles())\n",
    "# print(alpha_nir)\n",
    "\n",
    "alpha_nir = 206265 * (1.22 * wl_nir.to_value(u.cm) / r0_nir.to_value(u.cm))\n",
    "print(f'seeing nir (arcsec) {alpha_nir:.2f}')"
   ]
  }
 ],
 "metadata": {
  "kernelspec": {
   "display_name": "Python 3",
   "language": "python",
   "name": "python3"
  },
  "language_info": {
   "codemirror_mode": {
    "name": "ipython",
    "version": 3
   },
   "file_extension": ".py",
   "mimetype": "text/x-python",
   "name": "python",
   "nbconvert_exporter": "python",
   "pygments_lexer": "ipython3",
   "version": "3.10.0"
  }
 },
 "nbformat": 4,
 "nbformat_minor": 2
}
