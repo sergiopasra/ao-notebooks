{
 "cells": [
  {
   "cell_type": "markdown",
   "metadata": {},
   "source": [
    "# Problema 1\n",
    "Adoptando para un lugar de observación el siguiente valor para el parámetro de Fried: $r_0(\\lambda_0=0.5\\mu m) = 10 \\ \\mathrm{cm}$ y su dependencia habitual con la longitud de onda, ¿cuál será el *seeing* con el que se observaría en el óptico (λ = 500 nm) y el infrarrojo cercano, (λ = 2.0 μm)? \n",
    "\n",
    "Determinar a que longitud de onda la difracción comienza a dominar para un telescopio de diámetro D = 2 m.\n",
    "\n",
    "## Planteamiento\n",
    "\n",
    "\n",
    "En condiciones de turbulencia, el parámetro que determina el tamaño del perfil de *seeing* es  el parámetro de Fried, $r_0 \\propto \\lambda^{6/5} $. \n",
    "\n",
    "La anchura a media altura del perfil de *seeing* es $ \\mathrm{FWHM} = 0.976 \\ \\lambda / r_0$."
   ]
  },
  {
   "cell_type": "code",
   "execution_count": null,
   "metadata": {},
   "outputs": [],
   "source": [
    "import numpy as np\n",
    "import astropy.units as u\n",
    "from astropy.coordinates import Angle"
   ]
  },
  {
   "cell_type": "code",
   "execution_count": null,
   "metadata": {},
   "outputs": [],
   "source": [
    "r0_optico = 10 * u.cm\n",
    "wl_optico = 0.5 * u.micron\n",
    "wl_nir = 2.0 * u.micron\n",
    "r0_nir = r0_optico * (wl_nir / wl_optico) ** (6/5)\n",
    "print(f'r0 óptico: {r0_optico}')\n",
    "print(f'r0 NIR: {r0_nir:.2f}')"
   ]
  },
  {
   "cell_type": "code",
   "execution_count": null,
   "metadata": {},
   "outputs": [],
   "source": [
    "# Seeing \n",
    "# en el óptico\n",
    "fwhm_optico = 206265 * (0.976 * wl_optico.to_value(u.cm) / r0_optico.to_value(u.cm))\n",
    "print(f'seeing optico (arcsec) {fwhm_optico:.2f}')\n",
    "\n",
    "# alpha_nir = (1.2 * wl_nir / r0_nir).to(u.arcsec, equivalencies=u.dimensionless_angles())\n",
    "# print(alpha_nir)\n",
    "\n",
    "# Seeing \n",
    "# en el infrarrojo\n",
    "fwhm_nir = 206265 * (0.976 * wl_nir.to_value(u.cm) / r0_nir.to_value(u.cm))\n",
    "print(f'seeing nir (arcsec) {fwhm_nir:.2f}')"
   ]
  },
  {
   "cell_type": "code",
   "execution_count": null,
   "metadata": {},
   "outputs": [],
   "source": [
    "# Seeing \n",
    "# en el óptico\n",
    "# Lo mismo pero con vonersión automática de unidades\n",
    "fwhm_optico = (0.976 * wl_optico / r0_optico).to(u.arcsec, equivalencies=u.dimensionless_angles())\n",
    "print(f'seeing optico (arcsec) {fwhm_optico:.2f}')\n",
    "\n",
    "# Seeing \n",
    "# en el infrarrojo\n",
    "fwhm_nir = (0.976 * wl_nir / r0_nir).to(u.arcsec, equivalencies=u.dimensionless_angles())\n",
    "print(f'seeing nir (arcsec) {fwhm_nir:.2f}')"
   ]
  },
  {
   "cell_type": "markdown",
   "metadata": {},
   "source": [
    "La resolución del sistema depende de si estamos en el regimen dominado por *seeing* o por difracción. Como hemos visto en clase el cambio entre un régimen y el otro es suave. Aquí calcularemos un valor aproximado para el cambio.\n",
    "\n",
    "En el régimen dominado por difracción, el parámetro de Fried tiene que ser mayor que $D$. \n",
    "\n",
    "$$r_0(\\lambda_D) > D$$\n",
    "\n",
    "Como\n",
    "\n",
    "$$r_0(\\lambda_D) = r_0(\\lambda_0) (\\lambda_D / \\lambda_0)^{6/5}$$\n",
    "\n",
    "\n",
    "y por lo tanto:\n",
    "\n",
    "$$r_0(\\lambda_0) (\\lambda_D / \\lambda_0)^{6/5} > D$$\n",
    "\n",
    "$$\\lambda_D > \\lambda_0 \\times (D / r_0(\\lambda_0))^{5/6}$$"
   ]
  },
  {
   "cell_type": "code",
   "execution_count": null,
   "metadata": {},
   "outputs": [],
   "source": [
    "D = 2 * u.m\n",
    "wl_d = wl_optico * (D / r0_optico)**(5/6)\n",
    "print(f'La difracción domina a partir de {wl_d.to(u.micron):.2f}')"
   ]
  }
 ],
 "metadata": {
  "kernelspec": {
   "display_name": "Python 3",
   "language": "python",
   "name": "python3"
  },
  "language_info": {
   "codemirror_mode": {
    "name": "ipython",
    "version": 3
   },
   "file_extension": ".py",
   "mimetype": "text/x-python",
   "name": "python",
   "nbconvert_exporter": "python",
   "pygments_lexer": "ipython3",
   "version": "3.10.8"
  }
 },
 "nbformat": 4,
 "nbformat_minor": 2
}
