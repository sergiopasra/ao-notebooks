{
 "cells": [
  {
   "cell_type": "code",
   "execution_count": 2,
   "metadata": {},
   "outputs": [],
   "source": [
    "# https://www.aanda.org/articles/aa/pdf/2006/45/aa5897-06.pdf"
   ]
  },
  {
   "cell_type": "code",
   "execution_count": 3,
   "metadata": {},
   "outputs": [],
   "source": [
    "import astropy\n",
    "import math\n",
    "import numpy as np\n",
    "from astropy.time import Time\n",
    "from astropy.coordinates import Angle\n",
    "import numpy.polynomial.polynomial as poly"
   ]
  },
  {
   "cell_type": "code",
   "execution_count": 4,
   "metadata": {},
   "outputs": [],
   "source": [
    "def rot1(ang):\n",
    "    return [[1,0,0], \n",
    "            [0, np.cos(ang), np.sin(ang)], \n",
    "            [0, -np.sin(ang), np.cos(ang)]\n",
    "           ]\n",
    "\n",
    "def rot2(ang):\n",
    "    return [ \n",
    "            [np.cos(ang), 0, -np.sin(ang)],\n",
    "            [0, 1, 0],\n",
    "            [np.sin(ang), 0, np.cos(ang)]\n",
    "           ]\n",
    "\n",
    "def rot3(ang):\n",
    "    return [[np.cos(ang), np.sin(ang), 0], \n",
    "            [-np.sin(ang), np.cos(ang), 0],\n",
    "            [0, 0, 1]\n",
    "           ]"
   ]
  },
  {
   "cell_type": "code",
   "execution_count": 8,
   "metadata": {},
   "outputs": [],
   "source": [
    "# Earth Rotation Angle\n",
    "def era(thist):\n",
    "    tu = thist.ut1.jd - 2451545.0\n",
    "    a = 0.7790572732640 + 1.00273781191135448 * tu\n",
    "    a = a % 1\n",
    "    return Angle(2 * math.pi * a, unit='rad')"
   ]
  },
  {
   "cell_type": "code",
   "execution_count": 9,
   "metadata": {},
   "outputs": [
    {
     "name": "stdout",
     "output_type": "stream",
     "text": [
      "53750.89285513889\n",
      "0.06040774415164652\n",
      "53750.89210456099\n"
     ]
    }
   ],
   "source": [
    "thist = Time(\"2006-01-15T21:24:37.5\", scale='utc')\n",
    "print(thist.tt.mjd)\n",
    "j2000 = Time(\"J2000\", format='jyear_str', scale=\"tt\")\n",
    "tc = (thist - j2000).to_value('year') / 100\n",
    "print(tc) \n",
    "print(thist.ut1.mjd)"
   ]
  },
  {
   "cell_type": "code",
   "execution_count": 87,
   "metadata": {},
   "outputs": [
    {
     "data": {
      "text/plain": [
       "1.3310828750217287"
      ]
     },
     "execution_count": 87,
     "metadata": {},
     "output_type": "execute_result"
    }
   ],
   "source": [
    "era_ang = era(thist)\n",
    "era_ang.value"
   ]
  },
  {
   "cell_type": "code",
   "execution_count": 13,
   "metadata": {},
   "outputs": [],
   "source": [
    "def mat_prec1(X, Y, s):\n",
    "    return [[1, 0, -X.rad], \n",
    "            [0, 1, -Y.rad],\n",
    "            [X.rad, Y.rad, 1]\n",
    "           ]\n",
    "\n",
    "def mat_prec2(X, Y, s):\n",
    "    x = X.rad\n",
    "    y = Y.rad\n",
    "    s = 0\n",
    "    x4 = (1+x**2/4)\n",
    "    x24 = x4 / 2\n",
    "    x22 = (1-x**2/2)\n",
    "    y22 = (1-x**2/2)\n",
    "    \n",
    "    return [[1-x**2*x24, -s-x*y*x24, -x-s*y], \n",
    "            [s*x22-x*y*x24, y22, -y - s *x],\n",
    "            [x, y, 1-(x**2*x4-y**2)/2]\n",
    "           ]"
   ]
  },
  {
   "cell_type": "code",
   "execution_count": 15,
   "metadata": {},
   "outputs": [],
   "source": [
    "j2000 = Time(\"J2000\", format='jyear_str', scale=\"tt\")"
   ]
  },
  {
   "cell_type": "code",
   "execution_count": 30,
   "metadata": {},
   "outputs": [
    {
     "data": {
      "text/plain": [
       "2453751.392855139"
      ]
     },
     "execution_count": 30,
     "metadata": {},
     "output_type": "execute_result"
    }
   ],
   "source": [
    "thist.tt.jd"
   ]
  },
  {
   "cell_type": "code",
   "execution_count": 31,
   "metadata": {},
   "outputs": [],
   "source": [
    "import erfa"
   ]
  },
  {
   "cell_type": "code",
   "execution_count": 66,
   "metadata": {},
   "outputs": [
    {
     "name": "stdout",
     "output_type": "stream",
     "text": [
      "2453750.5 0.8921006944444444\n",
      "2453750.5 0.8928551388888888\n"
     ]
    },
    {
     "data": {
      "text/plain": [
       "2006.0407723496082"
      ]
     },
     "execution_count": 66,
     "metadata": {},
     "output_type": "execute_result"
    }
   ],
   "source": [
    "thist = Time(\"2006-01-15T21:24:37.5\", scale='utc')\n",
    "utc1, utc2 = erfa.dtf2d('UTC', 2006,1,15,21,24,37.5)\n",
    "tai1, tai2 = erfa.utctai(utc1, utc2)\n",
    "tt1, tt2 = erfa.taitt(tai1, tai2)\n",
    "print(utc1, utc2)\n",
    "print(tt1, tt2)\n",
    "thist.to_value(format='jyear')"
   ]
  },
  {
   "cell_type": "code",
   "execution_count": 33,
   "metadata": {},
   "outputs": [
    {
     "data": {
      "text/plain": [
       "-1.2469339751752158e-08"
      ]
     },
     "execution_count": 33,
     "metadata": {},
     "output_type": "execute_result"
    }
   ],
   "source": [
    "erfa.s06a(tt1, tt2) #rad"
   ]
  },
  {
   "cell_type": "code",
   "execution_count": 41,
   "metadata": {},
   "outputs": [],
   "source": [
    "mcio = erfa.c2i06a(tt1, tt2)\n",
    "Xx, Yy, Ss = erfa.xys06a(tt1, tt2)"
   ]
  },
  {
   "cell_type": "code",
   "execution_count": 75,
   "metadata": {},
   "outputs": [
    {
     "data": {
      "text/plain": [
       "array([[ 2.37424217e-01,  9.71406047e-01, -1.79207501e-04],\n",
       "       [-9.71405888e-01,  2.37424281e-01,  5.58274894e-04],\n",
       "       [ 5.84859820e-04,  4.15352420e-05,  9.99999828e-01]])"
      ]
     },
     "execution_count": 75,
     "metadata": {},
     "output_type": "execute_result"
    }
   ],
   "source": [
    "rmat = rot3(era_ang) @ mcio\n",
    "rmat"
   ]
  },
  {
   "cell_type": "code",
   "execution_count": 76,
   "metadata": {},
   "outputs": [],
   "source": [
    "sp = erfa.sp00(tt1, tt2)"
   ]
  },
  {
   "cell_type": "code",
   "execution_count": 80,
   "metadata": {},
   "outputs": [],
   "source": [
    "# http://hpiers.obspm.fr/eoppc/eop/eopc01/filtered-pole.tab\n",
    "# Polar motion\n",
    "# values in arcsec\n",
    "thist.to_value(format='jyear')\n",
    "xp = Angle(0.061017, unit='arcsec')         \n",
    "yp = Angle(0.345285, unit='arcsec')"
   ]
  },
  {
   "cell_type": "code",
   "execution_count": 81,
   "metadata": {},
   "outputs": [
    {
     "data": {
      "text/plain": [
       "array([[ 1.00000000e+00, -1.37646554e-11,  2.95818764e-07],\n",
       "       [ 1.42598527e-11,  1.00000000e+00, -1.67398892e-06],\n",
       "       [-2.95818764e-07,  1.67398892e-06,  1.00000000e+00]])"
      ]
     },
     "execution_count": 81,
     "metadata": {},
     "output_type": "execute_result"
    }
   ],
   "source": [
    "rpm = erfa.pom00(xp.rad, yp.rad, sp)\n",
    "rpm"
   ]
  },
  {
   "cell_type": "code",
   "execution_count": 82,
   "metadata": {},
   "outputs": [
    {
     "data": {
      "text/plain": [
       "array([[ 2.37424217e-01,  9.71406047e-01, -1.78911682e-04],\n",
       "       [-9.71405889e-01,  2.37424281e-01,  5.56600905e-04],\n",
       "       [ 5.83163463e-04,  4.16453275e-05,  9.99999829e-01]])"
      ]
     },
     "execution_count": 82,
     "metadata": {},
     "output_type": "execute_result"
    }
   ],
   "source": [
    "rglob = rpm @ rot3(era_ang) @ mcio\n",
    "rglob"
   ]
  },
  {
   "cell_type": "code",
   "execution_count": 83,
   "metadata": {},
   "outputs": [
    {
     "data": {
      "text/plain": [
       "<function erfa.core.gmst06(uta, utb, tta, ttb)>"
      ]
     },
     "execution_count": 83,
     "metadata": {},
     "output_type": "execute_result"
    }
   ],
   "source": [
    "# GMST\n",
    "erfa.gmst06"
   ]
  },
  {
   "cell_type": "code",
   "execution_count": 85,
   "metadata": {},
   "outputs": [
    {
     "data": {
      "text/plain": [
       "1.3310828750206056"
      ]
     },
     "execution_count": 85,
     "metadata": {},
     "output_type": "execute_result"
    }
   ],
   "source": [
    "erfa.era00(thist.ut1.jd, 0)"
   ]
  },
  {
   "cell_type": "code",
   "execution_count": 88,
   "metadata": {},
   "outputs": [
    {
     "data": {
      "text/plain": [
       "1.3310828750217287"
      ]
     },
     "execution_count": 88,
     "metadata": {},
     "output_type": "execute_result"
    }
   ],
   "source": [
    "1.3310828750217287"
   ]
  },
  {
   "cell_type": "code",
   "execution_count": 89,
   "metadata": {},
   "outputs": [],
   "source": [
    "dec = Angle(57, unit='deg')\n",
    "ra = Angle(120, unit='deg')"
   ]
  },
  {
   "cell_type": "code",
   "execution_count": 90,
   "metadata": {},
   "outputs": [],
   "source": [
    "v1 = (np.cos(dec)*np.cos(ra), np.cos(dec)*np.sin(ra), np.sin(dec))"
   ]
  },
  {
   "cell_type": "code",
   "execution_count": 91,
   "metadata": {},
   "outputs": [],
   "source": [
    "v2 = rglob @ v1"
   ]
  },
  {
   "cell_type": "code",
   "execution_count": 92,
   "metadata": {},
   "outputs": [
    {
     "data": {
      "text/plain": [
       "array([0.393379  , 0.37698579, 0.83853126])"
      ]
     },
     "execution_count": 92,
     "metadata": {},
     "output_type": "execute_result"
    }
   ],
   "source": [
    "v2"
   ]
  },
  {
   "cell_type": "code",
   "execution_count": 102,
   "metadata": {},
   "outputs": [],
   "source": [
    "dec2 = Angle(np.arcsin(v2[2]), unit='rad')\n",
    "ra2 = Angle(np.arctan2(v2[0], v2[1]), unit='rad')"
   ]
  },
  {
   "cell_type": "code",
   "execution_count": 103,
   "metadata": {},
   "outputs": [
    {
     "data": {
      "text/plain": [
       "56.985347827950605"
      ]
     },
     "execution_count": 103,
     "metadata": {},
     "output_type": "execute_result"
    }
   ],
   "source": [
    "dec2.deg"
   ]
  },
  {
   "cell_type": "code",
   "execution_count": 104,
   "metadata": {},
   "outputs": [
    {
     "data": {
      "text/plain": [
       "46.219058551954696"
      ]
     },
     "execution_count": 104,
     "metadata": {},
     "output_type": "execute_result"
    }
   ],
   "source": [
    "ra2.deg"
   ]
  },
  {
   "cell_type": "code",
   "execution_count": 116,
   "metadata": {},
   "outputs": [],
   "source": [
    "long = Angle(0.23, unit='deg')\n",
    "phi = Angle(41, unit='deg')"
   ]
  },
  {
   "cell_type": "code",
   "execution_count": 117,
   "metadata": {},
   "outputs": [],
   "source": [
    "h = era_ang + long - ra2"
   ]
  },
  {
   "cell_type": "code",
   "execution_count": 118,
   "metadata": {},
   "outputs": [
    {
     "data": {
      "text/plain": [
       "2.0184248245953325"
      ]
     },
     "execution_count": 118,
     "metadata": {},
     "output_type": "execute_result"
    }
   ],
   "source": [
    "h.hourangle"
   ]
  },
  {
   "cell_type": "code",
   "execution_count": 119,
   "metadata": {},
   "outputs": [
    {
     "data": {
      "text/plain": [
       "(<Angle 0.99458194 rad>, <Angle 0.52842238 rad>)"
      ]
     },
     "execution_count": 119,
     "metadata": {},
     "output_type": "execute_result"
    }
   ],
   "source": [
    "dec2, h"
   ]
  },
  {
   "cell_type": "code",
   "execution_count": 126,
   "metadata": {},
   "outputs": [],
   "source": [
    "sin_a = np.sin(dec2) * np.sin(phi) + np.cos(dec2) * np.cos(phi) * np.cos(h)\n",
    "a = Angle(np.arcsin(sin_a)).deg"
   ]
  },
  {
   "cell_type": "code",
   "execution_count": 127,
   "metadata": {},
   "outputs": [
    {
     "data": {
      "text/plain": [
       "64.85631248620432"
      ]
     },
     "execution_count": 127,
     "metadata": {},
     "output_type": "execute_result"
    }
   ],
   "source": [
    "a"
   ]
  },
  {
   "cell_type": "code",
   "execution_count": null,
   "metadata": {},
   "outputs": [],
   "source": []
  }
 ],
 "metadata": {
  "kernelspec": {
   "display_name": "Python 3",
   "language": "python",
   "name": "python3"
  },
  "language_info": {
   "codemirror_mode": {
    "name": "ipython",
    "version": 3
   },
   "file_extension": ".py",
   "mimetype": "text/x-python",
   "name": "python",
   "nbconvert_exporter": "python",
   "pygments_lexer": "ipython3",
   "version": "3.8.6"
  }
 },
 "nbformat": 4,
 "nbformat_minor": 4
}
