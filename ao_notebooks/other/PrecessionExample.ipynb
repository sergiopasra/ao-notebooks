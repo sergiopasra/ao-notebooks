{
 "cells": [
  {
   "cell_type": "code",
   "execution_count": 1,
   "metadata": {},
   "outputs": [],
   "source": [
    "# https://www.aanda.org/articles/aa/pdf/2006/45/aa5897-06.pdf"
   ]
  },
  {
   "cell_type": "code",
   "execution_count": 2,
   "metadata": {},
   "outputs": [],
   "source": [
    "# http://www.iausofa.org/sofa_ast_c.pdf\n",
    "# https://www.iers.org/SharedDocs/Publikationen/EN/IERS/Publications/tn/TechnNote32/tn32.pdf;jsessionid=E7DE9BECBE5D3FD0BE0D6F4CE81DDE30.live1?__blob=publicationFile&v=1\n",
    "# https://www.iausofa.org/sofa_pn_c.pdf\n",
    "\n",
    "# Polar motion\n",
    "# http://hpiers.obspm.fr/eop-pc/index.php?index=pm&lang=ru"
   ]
  },
  {
   "cell_type": "code",
   "execution_count": 3,
   "metadata": {},
   "outputs": [],
   "source": [
    "import astropy\n",
    "import math\n",
    "import numpy as np\n",
    "from astropy.time import Time\n",
    "from astropy.coordinates import Angle\n",
    "import numpy.polynomial.polynomial as poly"
   ]
  },
  {
   "cell_type": "code",
   "execution_count": 4,
   "metadata": {},
   "outputs": [],
   "source": [
    "import erfa"
   ]
  },
  {
   "cell_type": "code",
   "execution_count": 5,
   "metadata": {},
   "outputs": [],
   "source": [
    "def rot1(ang):\n",
    "    return [[1,0,0], \n",
    "            [0, np.cos(ang), np.sin(ang)], \n",
    "            [0, -np.sin(ang), np.cos(ang)]\n",
    "           ]\n",
    "\n",
    "def rot2(ang):\n",
    "    return [ \n",
    "            [np.cos(ang), 0, -np.sin(ang)],\n",
    "            [0, 1, 0],\n",
    "            [np.sin(ang), 0, np.cos(ang)]\n",
    "           ]\n",
    "\n",
    "def rot3(ang):\n",
    "    return [[np.cos(ang), np.sin(ang), 0], \n",
    "            [-np.sin(ang), np.cos(ang), 0],\n",
    "            [0, 0, 1]\n",
    "           ]"
   ]
  },
  {
   "cell_type": "code",
   "execution_count": 6,
   "metadata": {},
   "outputs": [],
   "source": [
    "j2000 = Time(\"J2000\", format='jyear_str', scale=\"tt\")"
   ]
  },
  {
   "cell_type": "code",
   "execution_count": 7,
   "metadata": {},
   "outputs": [
    {
     "name": "stdout",
     "output_type": "stream",
     "text": [
      "2006-08-16T00:36:37.500\n"
     ]
    }
   ],
   "source": [
    "thist = Time(\"2006-8-16T00:36:37.5\", scale='utc')\n",
    "print(thist)"
   ]
  },
  {
   "cell_type": "code",
   "execution_count": 8,
   "metadata": {},
   "outputs": [
    {
     "data": {
      "text/plain": [
       "2453963.5261884723"
      ]
     },
     "execution_count": 8,
     "metadata": {},
     "output_type": "execute_result"
    }
   ],
   "source": [
    "thist.tt.jd"
   ]
  },
  {
   "cell_type": "code",
   "execution_count": 9,
   "metadata": {},
   "outputs": [
    {
     "data": {
      "text/plain": [
       "2006.621561763252"
      ]
     },
     "execution_count": 9,
     "metadata": {},
     "output_type": "execute_result"
    }
   ],
   "source": [
    "thist.to_value(format='jyear')"
   ]
  },
  {
   "cell_type": "code",
   "execution_count": 10,
   "metadata": {},
   "outputs": [
    {
     "name": "stdout",
     "output_type": "stream",
     "text": [
      "hms_tuple(h=22.0, m=13.0, s=43.39808020008434)\n"
     ]
    }
   ],
   "source": [
    "utc1, utc2 = erfa.dtf2d('UTC', 2006,8,16,0,36,37.5)\n",
    "tai1, tai2 = erfa.utctai(utc1, utc2)\n",
    "tt1, tt2 = erfa.taitt(tai1, tai2)\n",
    "gmst = erfa.gmst06(thist.ut1.jd, 0, thist.tt.jd, 0)\n",
    "gmst = Angle(gmst, unit='rad')\n",
    "print(gmst.hms)"
   ]
  },
  {
   "cell_type": "code",
   "execution_count": 11,
   "metadata": {},
   "outputs": [],
   "source": [
    "# Earth Rotation Angle\n",
    "def era(thist):\n",
    "    tu = thist.ut1.jd - 2451545.0\n",
    "    a = 0.7790572732640 + 1.00273781191135448 * tu\n",
    "    a = a % 1\n",
    "    return Angle(2 * math.pi * a, unit='rad')"
   ]
  },
  {
   "cell_type": "code",
   "execution_count": 12,
   "metadata": {},
   "outputs": [
    {
     "data": {
      "text/plain": [
       "5.817985023917661"
      ]
     },
     "execution_count": 12,
     "metadata": {},
     "output_type": "execute_result"
    }
   ],
   "source": [
    "era_ang = era(thist)\n",
    "era_ang.value"
   ]
  },
  {
   "cell_type": "code",
   "execution_count": 13,
   "metadata": {},
   "outputs": [
    {
     "data": {
      "text/plain": [
       "5.817985023917316"
      ]
     },
     "execution_count": 13,
     "metadata": {},
     "output_type": "execute_result"
    }
   ],
   "source": [
    "erfa.era00(thist.ut1.jd, 0)"
   ]
  },
  {
   "cell_type": "code",
   "execution_count": 14,
   "metadata": {},
   "outputs": [],
   "source": [
    "s = erfa.s06a(tt1, tt2) # CIO locator"
   ]
  },
  {
   "cell_type": "code",
   "execution_count": 15,
   "metadata": {},
   "outputs": [],
   "source": [
    "mcio = erfa.c2i06a(tt1, tt2)\n",
    "Xx, Yy, Ss = erfa.xys06a(tt1, tt2)"
   ]
  },
  {
   "cell_type": "code",
   "execution_count": 16,
   "metadata": {},
   "outputs": [
    {
     "data": {
      "text/plain": [
       "array([[ 8.93731561e-01, -4.48601812e-01, -5.58340872e-04],\n",
       "       [ 4.48601693e-01,  8.93731734e-01, -3.29709875e-04],\n",
       "       [ 6.46915403e-04,  4.41994616e-05,  9.99999790e-01]])"
      ]
     },
     "execution_count": 16,
     "metadata": {},
     "output_type": "execute_result"
    }
   ],
   "source": [
    "rmat = rot3(era_ang) @ mcio\n",
    "rmat"
   ]
  },
  {
   "cell_type": "code",
   "execution_count": 17,
   "metadata": {},
   "outputs": [],
   "source": [
    "# TIO locator\n",
    "sp = erfa.sp00(tt1, tt2)"
   ]
  },
  {
   "cell_type": "code",
   "execution_count": 18,
   "metadata": {},
   "outputs": [],
   "source": [
    "# http://hpiers.obspm.fr/eoppc/eop/eopc01/filtered-pole.tab\n",
    "# Polar motion\n",
    "# values in arcsec\n",
    "xp = Angle(0.063424, unit='arcsec')         \n",
    "yp = Angle(0.345493 , unit='arcsec')"
   ]
  },
  {
   "cell_type": "code",
   "execution_count": 19,
   "metadata": {},
   "outputs": [
    {
     "data": {
      "text/plain": [
       "array([[ 1.00000000e+00, -1.50880563e-11,  3.07488229e-07],\n",
       "       [ 1.56030982e-11,  1.00000000e+00, -1.67499733e-06],\n",
       "       [-3.07488229e-07,  1.67499733e-06,  1.00000000e+00]])"
      ]
     },
     "execution_count": 19,
     "metadata": {},
     "output_type": "execute_result"
    }
   ],
   "source": [
    "rpm = erfa.pom00(xp.rad, yp.rad, sp)\n",
    "rpm"
   ]
  },
  {
   "cell_type": "code",
   "execution_count": 20,
   "metadata": {},
   "outputs": [
    {
     "data": {
      "text/plain": [
       "array([[ 8.93731561e-01, -4.48601812e-01, -5.58033383e-04],\n",
       "       [ 4.48601692e-01,  8.93731734e-01, -3.31384872e-04],\n",
       "       [ 6.47391998e-04,  4.58343996e-05,  9.99999789e-01]])"
      ]
     },
     "execution_count": 20,
     "metadata": {},
     "output_type": "execute_result"
    }
   ],
   "source": [
    "rglob = rpm @ rot3(era_ang) @ mcio\n",
    "rglob"
   ]
  },
  {
   "cell_type": "code",
   "execution_count": 21,
   "metadata": {},
   "outputs": [],
   "source": [
    "dec = Angle(\"8d52m06s\")\n",
    "ra = Angle(\"19h50m47s\")"
   ]
  },
  {
   "cell_type": "code",
   "execution_count": 22,
   "metadata": {},
   "outputs": [],
   "source": [
    "lon =  Angle(\"-3d41m31s\")\n",
    "phi = Angle(\"40d25m\")\n",
    "hsite = 650"
   ]
  },
  {
   "cell_type": "code",
   "execution_count": 23,
   "metadata": {},
   "outputs": [],
   "source": [
    "v1 = (np.cos(dec)*np.cos(ra), np.cos(dec)*np.sin(ra), np.sin(dec))"
   ]
  },
  {
   "cell_type": "code",
   "execution_count": 24,
   "metadata": {},
   "outputs": [],
   "source": [
    "astrom, eo = erfa.apci13(thist.tdb.jd, 0)\n",
    "# equivalente a mcio\n",
    "bpn = astrom[6]"
   ]
  },
  {
   "cell_type": "code",
   "execution_count": 25,
   "metadata": {},
   "outputs": [],
   "source": [
    "# Lo mismo\n",
    "p = erfa.s2c(ra.rad, dec.rad)\n",
    "q = erfa.rxp(bpn, p)\n",
    "qq = erfa.c2s(q)\n",
    "qq = (erfa.anp(qq[0]), qq[1])"
   ]
  },
  {
   "cell_type": "code",
   "execution_count": 26,
   "metadata": {},
   "outputs": [],
   "source": [
    "# Lo mismo\n",
    "q2 = mcio @ v1\n",
    "qq2 = erfa.c2s(q2)\n",
    "qq2 = (erfa.anp(qq2[0]), qq2[1])"
   ]
  },
  {
   "cell_type": "code",
   "execution_count": 27,
   "metadata": {},
   "outputs": [],
   "source": [
    "# No incluye ERA\n",
    "# Lo mismo\n",
    "res = erfa.atci13(ra.rad, dec.rad, 0,0,0,0, thist.tdb.jd, 0)"
   ]
  },
  {
   "cell_type": "code",
   "execution_count": 28,
   "metadata": {},
   "outputs": [],
   "source": [
    "ra22 = Angle(res[0], unit='rad')\n",
    "dec22 = Angle(res[1], unit='rad')"
   ]
  },
  {
   "cell_type": "code",
   "execution_count": 29,
   "metadata": {},
   "outputs": [
    {
     "data": {
      "text/plain": [
       "(5.195766052940791, 5.19567978925342, 5.19567978925342)"
      ]
     },
     "execution_count": 29,
     "metadata": {},
     "output_type": "execute_result"
    }
   ],
   "source": [
    "ra22.rad, qq[0], qq2[0]"
   ]
  },
  {
   "cell_type": "code",
   "execution_count": 30,
   "metadata": {},
   "outputs": [
    {
     "data": {
      "text/plain": [
       "(0.15507989903263658, 0.15504312477718582, 0.15504312477718993)"
      ]
     },
     "execution_count": 30,
     "metadata": {},
     "output_type": "execute_result"
    }
   ],
   "source": [
    "dec22.rad, qq[1], qq2[1]"
   ]
  },
  {
   "cell_type": "code",
   "execution_count": 31,
   "metadata": {},
   "outputs": [],
   "source": [
    "astrom2 = erfa.apio13(thist.utc.jd,0, thist.delta_ut1_utc, \n",
    "                      lon.rad, phi.rad, hsite,\n",
    "                      xp.rad, yp.rad,\n",
    "                      0,0,0,0.5) # refraccion"
   ]
  },
  {
   "cell_type": "code",
   "execution_count": 32,
   "metadata": {},
   "outputs": [
    {
     "data": {
      "text/plain": [
       "(-0.06443658637135649, -0.06443658637135649)"
      ]
     },
     "execution_count": 32,
     "metadata": {},
     "output_type": "execute_result"
    }
   ],
   "source": [
    "astrom2[7], lon.rad + sp"
   ]
  },
  {
   "cell_type": "code",
   "execution_count": 33,
   "metadata": {},
   "outputs": [],
   "source": [
    "era_local = era_ang + lon + Angle(sp, unit='rad')"
   ]
  },
  {
   "cell_type": "code",
   "execution_count": 34,
   "metadata": {},
   "outputs": [
    {
     "data": {
      "text/plain": [
       "(5.753548437546304, 5.753548437772936, 5.75354843754596)"
      ]
     },
     "execution_count": 34,
     "metadata": {},
     "output_type": "execute_result"
    }
   ],
   "source": [
    "era_local.rad, astrom2[14], erfa.era00(thist.ut1.jd, 0) + astrom2[7]"
   ]
  },
  {
   "cell_type": "code",
   "execution_count": 35,
   "metadata": {},
   "outputs": [],
   "source": [
    "h = (ra22 - era_local)\n",
    "v3 = erfa.s2c(h.rad, dec22.rad)"
   ]
  },
  {
   "cell_type": "code",
   "execution_count": 36,
   "metadata": {},
   "outputs": [
    {
     "data": {
      "text/plain": [
       "array([ 0.83824914, -0.52295391,  0.15445904])"
      ]
     },
     "execution_count": 36,
     "metadata": {},
     "output_type": "execute_result"
    }
   ],
   "source": [
    "v3"
   ]
  },
  {
   "cell_type": "code",
   "execution_count": 37,
   "metadata": {},
   "outputs": [],
   "source": [
    "# rot to horizontal coords\n",
    "v4x = np.sin(phi)*v3[0] - np.cos(phi)*v3[2]\n",
    "v4y = v3[1]\n",
    "v4z = np.cos(phi)*v3[0] + np.sin(phi)*v3[2]"
   ]
  },
  {
   "cell_type": "code",
   "execution_count": 38,
   "metadata": {},
   "outputs": [],
   "source": [
    "altobs = Angle(180, unit='deg') + np.arctan2(v4y,-v4x)"
   ]
  },
  {
   "cell_type": "code",
   "execution_count": 39,
   "metadata": {},
   "outputs": [
    {
     "data": {
      "text/latex": [
       "$50^\\circ50{}^\\prime30.8635{}^{\\prime\\prime}$"
      ],
      "text/plain": [
       "<Angle 50.84190652 deg>"
      ]
     },
     "execution_count": 39,
     "metadata": {},
     "output_type": "execute_result"
    }
   ],
   "source": [
    "altobs"
   ]
  },
  {
   "cell_type": "code",
   "execution_count": 40,
   "metadata": {},
   "outputs": [],
   "source": [
    "aobs = Angle(90, unit='deg') - np.arctan2(np.sqrt(v4x**2+v4y**2), v4z);"
   ]
  },
  {
   "cell_type": "code",
   "execution_count": 41,
   "metadata": {},
   "outputs": [
    {
     "data": {
      "text/plain": [
       "(50.84190652452955, 47.59045149434478)"
      ]
     },
     "execution_count": 41,
     "metadata": {},
     "output_type": "execute_result"
    }
   ],
   "source": [
    "# No refraction\n",
    "altobs.deg, aobs.deg"
   ]
  },
  {
   "cell_type": "code",
   "execution_count": 42,
   "metadata": {},
   "outputs": [],
   "source": [
    "H = -h"
   ]
  },
  {
   "cell_type": "code",
   "execution_count": 43,
   "metadata": {},
   "outputs": [
    {
     "data": {
      "text/plain": [
       "(8.885423701885014, 2.1305717683092515)"
      ]
     },
     "execution_count": 43,
     "metadata": {},
     "output_type": "execute_result"
    }
   ],
   "source": [
    "dec22.deg, H.hourangle"
   ]
  },
  {
   "cell_type": "code",
   "execution_count": 46,
   "metadata": {},
   "outputs": [
    {
     "name": "stdout",
     "output_type": "stream",
     "text": [
      "31d57m30.8755s\n"
     ]
    }
   ],
   "source": [
    "print(H.to_string(unit='degree'))"
   ]
  },
  {
   "cell_type": "code",
   "execution_count": null,
   "metadata": {},
   "outputs": [],
   "source": []
  }
 ],
 "metadata": {
  "kernelspec": {
   "display_name": "Python 3",
   "language": "python",
   "name": "python3"
  },
  "language_info": {
   "codemirror_mode": {
    "name": "ipython",
    "version": 3
   },
   "file_extension": ".py",
   "mimetype": "text/x-python",
   "name": "python",
   "nbconvert_exporter": "python",
   "pygments_lexer": "ipython3",
   "version": "3.8.6"
  }
 },
 "nbformat": 4,
 "nbformat_minor": 4
}
