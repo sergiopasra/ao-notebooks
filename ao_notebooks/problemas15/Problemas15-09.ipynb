{
 "cells": [
  {
   "cell_type": "markdown",
   "metadata": {},
   "source": [
    "# Problema 9\n",
    "\n",
    "Las coordenadas ecuatoriales de una estrella en la época J2000 son α=$17^h43^m20^s$\n",
    "δ=46°25′11′′. Su movimiento propio es μ=134 mas/año con ángulo de posición θ=63º\n",
    "\n",
    "Calcular sus coordenadas en la época J2050."
   ]
  },
  {
   "cell_type": "markdown",
   "metadata": {},
   "source": [
    "## Solución\n",
    "\n",
    "El cambio de coordenadas viene dado por\n",
    "\n",
    "\\begin{eqnarray*}\n",
    "\\Delta \\alpha & = & \\mu_{\\alpha} \\Delta t \\\\\n",
    "\\Delta \\delta & = & \\mu_{\\delta} \\Delta t\n",
    "\\end{eqnarray*}\n",
    "\n",
    "Y además\n",
    "\n",
    "\\begin{eqnarray*}\n",
    "\\mu \\sin \\theta & = &\\mu_{\\alpha} \\cos \\delta\\\\\n",
    "\\mu \\cos \\theta & = &\\mu_{\\delta}\\\\\n",
    "\\end{eqnarray*}\n",
    "\n",
    "Donde $\\theta$ es el ángulo de posición."
   ]
  },
  {
   "cell_type": "code",
   "execution_count": 21,
   "metadata": {},
   "outputs": [],
   "source": [
    "from astropy.coordinates import Angle\n",
    "import astropy.units as u\n",
    "import numpy as np\n",
    "import matplotlib.pyplot as plt"
   ]
  },
  {
   "cell_type": "code",
   "execution_count": 22,
   "metadata": {},
   "outputs": [],
   "source": [
    "mu = 134 * u.mas / u.a\n",
    "theta = 63 * u.deg\n",
    "\n",
    "dec = Angle(\"46d25m11s\")\n",
    "ra = Angle(\"17h43m20s\")\n",
    "\n",
    "# Intervalo temporal\n",
    "delta_t = 50 * u.a"
   ]
  },
  {
   "cell_type": "code",
   "execution_count": 23,
   "metadata": {},
   "outputs": [],
   "source": [
    "mu_dec = mu * np.cos(theta)\n",
    "mu_ra = mu * np.sin(theta) / np.cos(dec)"
   ]
  },
  {
   "cell_type": "code",
   "execution_count": 24,
   "metadata": {},
   "outputs": [
    {
     "name": "stdout",
     "output_type": "stream",
     "text": [
      "Componente DEC 60.83472696509927 mas / a\n",
      "Componente RA 173.19412563460952 mas / a\n"
     ]
    }
   ],
   "source": [
    "print('Componente DEC', mu_dec)\n",
    "print('Componente RA', mu_ra)"
   ]
  },
  {
   "cell_type": "code",
   "execution_count": 15,
   "metadata": {},
   "outputs": [],
   "source": [
    "dec_2050 = dec + mu_dec * delta_t\n",
    "ra_2050 = ra + mu_ra * delta_t"
   ]
  },
  {
   "cell_type": "code",
   "execution_count": 19,
   "metadata": {},
   "outputs": [
    {
     "name": "stdout",
     "output_type": "stream",
     "text": [
      "DEC J2050: 46d25m14.0417s\n",
      "DEC J2000: 46d25m11s\n",
      "RA J2050: 17h43m20.5773s\n",
      "RA J2000: 17h43m20s\n"
     ]
    }
   ],
   "source": [
    "print('DEC J2050:', dec_2050)\n",
    "print('DEC J2000:', dec)\n",
    "print('RA J2050:', ra_2050)\n",
    "print('RA J2000:', ra)"
   ]
  },
  {
   "cell_type": "code",
   "execution_count": null,
   "metadata": {},
   "outputs": [],
   "source": []
  }
 ],
 "metadata": {
  "kernelspec": {
   "display_name": "Python 3",
   "language": "python",
   "name": "python3"
  },
  "language_info": {
   "codemirror_mode": {
    "name": "ipython",
    "version": 3
   },
   "file_extension": ".py",
   "mimetype": "text/x-python",
   "name": "python",
   "nbconvert_exporter": "python",
   "pygments_lexer": "ipython3",
   "version": "3.9.1"
  }
 },
 "nbformat": 4,
 "nbformat_minor": 4
}
