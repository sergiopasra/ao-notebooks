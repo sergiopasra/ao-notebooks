{
 "cells": [
  {
   "cell_type": "code",
   "execution_count": null,
   "metadata": {},
   "outputs": [],
   "source": [
    "import erfa\n",
    "import numpy as np\n",
    "import astropy.units as u"
   ]
  },
  {
   "cell_type": "code",
   "execution_count": null,
   "metadata": {},
   "outputs": [],
   "source": [
    "# ITRS\n",
    "site1 = 9.712156 * u.deg\n",
    "site2 = 52.385639 * u.deg\n",
    "site3 = 200 "
   ]
  },
  {
   "cell_type": "code",
   "execution_count": null,
   "metadata": {},
   "outputs": [],
   "source": [
    "\n",
    "# ICRS (RA, DEC, proper_motions, parallax, radial velocity)\n",
    "# star\n",
    "coor1 = 353.22987757 * u.deg\n",
    "coor2 = 52.27730247 * u.deg\n",
    "mu_a_cos = 22.9 # mas/year\n",
    "mu_a = mu_a_cos / np.cos(coor1) * 1e-3 * u.arcsec / u.year\n",
    "mu_delta = -2.1 * 1e-3 * u.arcsec / u.year\n",
    "paral = 23 * 1e-3 * u.arcsec\n",
    "vrad = 25 # km/s"
   ]
  },
  {
   "cell_type": "code",
   "execution_count": null,
   "metadata": {},
   "outputs": [],
   "source": [
    "# IERS deltaX, deltaY, DUT1\n",
    "deltaX = 0.038 # mas\n",
    "deltaY = -0.118 # mas\n",
    "DUT1 = -0.349535 # s"
   ]
  },
  {
   "cell_type": "code",
   "execution_count": null,
   "metadata": {},
   "outputs": [],
   "source": [
    "# IERS polar motion\n",
    "xp = 0.259371\n",
    "yp = 0.415573"
   ]
  },
  {
   "cell_type": "code",
   "execution_count": null,
   "metadata": {},
   "outputs": [],
   "source": [
    "# ICRS (RA, DEC, proper_motions, parallax, radial velocity)\n",
    "# BCRS -> Baricentric Celestial Reference System\n",
    "# Correction from space motion\n",
    "# BCRS (RA, DEC, parallax)"
   ]
  },
  {
   "cell_type": "code",
   "execution_count": null,
   "metadata": {},
   "outputs": [],
   "source": [
    "phpa = 952 # HPa\n",
    "tc = 18.5 # C\n",
    "rh = 0.83\n",
    "wl = 0.55 #mum"
   ]
  },
  {
   "cell_type": "code",
   "execution_count": null,
   "metadata": {},
   "outputs": [],
   "source": [
    "utc1, utc2 = erfa.dtf2d('UTC', 2003,8,28,0,37,38.973810)\n",
    "tai1, tai2 = erfa.utctai(utc1, utc2)\n",
    "tt1, tt2 = erfa.taitt(tai1, tai2)\n",
    "print(utc1, utc2)\n",
    "print(tt1, tt2)"
   ]
  },
  {
   "cell_type": "code",
   "execution_count": null,
   "metadata": {},
   "outputs": [],
   "source": [
    "# EOPs:  polar motion in radians, UT1-UTC in seconds.\n",
    "xp = 50.995e-3 * erfa.DAS2R\n",
    "yp = 376.723e-3 * erfa.DAS2R\n",
    "dut1 = 155.0675e-3\n",
    "# Corrections to IAU 2000A CIP (radians). \n",
    "dx = 0.269e-3 * erfa.DAS2R\n",
    "dy = -0.274e-3 * erfa.DAS2R"
   ]
  },
  {
   "cell_type": "code",
   "execution_count": null,
   "metadata": {},
   "outputs": [],
   "source": [
    "# ICRS to CIRS (geocentric observer).\n",
    "res1 = erfa.atci13(coor1.to(u.rad).value, coor2.to(u.rad).value,\n",
    "            mu_a.to(u.rad/u.year).value, mu_delta.to(u.rad/u.year).value,\n",
    "            paral.to(u.arcsec).value, 0, tt1, tt2\n",
    "            \n",
    "           )\n",
    "print(coor1, coor2)\n",
    "print(np.rad2deg(res1[0]), np.rad2deg(res1[1]))"
   ]
  },
  {
   "cell_type": "code",
   "execution_count": null,
   "metadata": {},
   "outputs": [],
   "source": [
    "# CIRS to ICRS (astrometric).\n",
    "res2 = erfa.atic13(res1[0], res1[1],\n",
    "            tt1, tt2\n",
    "           )\n",
    "print(coor1, coor2)\n",
    "print(np.rad2deg(res1[0]), np.rad2deg(res1[1]))\n",
    "print(np.rad2deg(res2[0]), np.rad2deg(res2[1]))"
   ]
  },
  {
   "cell_type": "code",
   "execution_count": null,
   "metadata": {},
   "outputs": [],
   "source": [
    "# ICRS (astrometric) to CIRS (geocentric observer)\n",
    "res3 = erfa.atci13(res2[0], res2[1],\n",
    "           0,0,0,0,tt1, tt2)\n",
    "print('icrs', coor1, coor2)\n",
    "print('cirs', np.rad2deg(res1[0]), np.rad2deg(res1[1]))\n",
    "print('icrs (astrometric)', np.rad2deg(res2[0]), np.rad2deg(res2[1]))\n",
    "print('cirs', np.rad2deg(res3[0]), np.rad2deg(res3[1]))"
   ]
  },
  {
   "cell_type": "code",
   "execution_count": null,
   "metadata": {},
   "outputs": [],
   "source": [
    "# apparent place\n",
    "ra = erfa.anp(res3[0] - res3[2])\n",
    "da = res3[1]\n",
    "print('geocentric apparent', np.rad2deg(ra), np.rad2deg(da))"
   ]
  },
  {
   "cell_type": "code",
   "execution_count": null,
   "metadata": {},
   "outputs": [],
   "source": [
    "# CIRS to topocentric, no refraction\n",
    "final1 = erfa.atio13(res3[0], res3[2], utc1, utc2, DUT1,\n",
    "                    site1.to(u.rad).value, site2.to(u.rad).value, site3,\n",
    "                     xp, yp, 0,0,0,0.5\n",
    "                    )\n",
    "# az, zen, ha\n",
    "print(final1)"
   ]
  },
  {
   "cell_type": "code",
   "execution_count": null,
   "metadata": {},
   "outputs": [],
   "source": [
    "# ICRS to topocentric, no refraction\n",
    "final2 = erfa.atco13(coor1.to(u.rad).value, coor2.to(u.rad).value,\n",
    "            mu_a.to(u.rad/u.year).value, mu_delta.to(u.rad/u.year).value,\n",
    "            paral.to(u.arcsec).value, 0, \n",
    "            utc1, utc2, DUT1,\n",
    "            site1.to(u.rad).value, site2.to(u.rad).value, site3,\n",
    "            xp, yp, 0,0,0,0.5\n",
    "                    )\n",
    "print(final2)"
   ]
  },
  {
   "cell_type": "code",
   "execution_count": null,
   "metadata": {},
   "outputs": [],
   "source": [
    "from astropy.coordinates import SkyCoord, Distance\n",
    "from astropy.coordinates import EarthLocation, AltAz\n",
    "from astropy.time import Time"
   ]
  },
  {
   "cell_type": "code",
   "execution_count": null,
   "metadata": {},
   "outputs": [],
   "source": [
    "c = SkyCoord(ra=coor1, dec=coor2, frame='icrs',\n",
    "             distance=Distance(parallax=23*u.mas),\n",
    "             pm_ra_cosdec=mu_a_cos * u.mas / u.year,\n",
    "             pm_dec=-2.1* u.mas / u.year,\n",
    "             obstime=Time(2000.0, format='decimalyear'),\n",
    "            radial_velocity=vrad * u.km / u.s)"
   ]
  },
  {
   "cell_type": "code",
   "execution_count": null,
   "metadata": {},
   "outputs": [],
   "source": [
    "location = EarthLocation(lon=site1, lat=site2, height=site3*u.m)"
   ]
  },
  {
   "cell_type": "code",
   "execution_count": null,
   "metadata": {},
   "outputs": [],
   "source": [
    "obstime=Time(\"2003-08-26 00:37:38.973810\", scale='utc')"
   ]
  },
  {
   "cell_type": "code",
   "execution_count": null,
   "metadata": {},
   "outputs": [],
   "source": [
    "caltaz = c.transform_to(AltAz(obstime=obstime, location=location))"
   ]
  },
  {
   "cell_type": "code",
   "execution_count": null,
   "metadata": {},
   "outputs": [],
   "source": [
    "caltaz.zen.rad"
   ]
  },
  {
   "cell_type": "code",
   "execution_count": null,
   "metadata": {},
   "outputs": [],
   "source": [
    "from astropy.utils.data import clear_download_cache\n",
    "clear_download_cache()  "
   ]
  },
  {
   "cell_type": "code",
   "execution_count": null,
   "metadata": {},
   "outputs": [],
   "source": [
    "from astropy.utils import iers"
   ]
  },
  {
   "cell_type": "code",
   "execution_count": null,
   "metadata": {},
   "outputs": [],
   "source": [
    "iers_b = iers.IERS_B.open()"
   ]
  },
  {
   "cell_type": "code",
   "execution_count": null,
   "metadata": {},
   "outputs": [],
   "source": [
    "iers_b.ut1_utc(obstime)  "
   ]
  },
  {
   "cell_type": "code",
   "execution_count": null,
   "metadata": {},
   "outputs": [],
   "source": [
    "dat = iers.earth_orientation_table.get()  "
   ]
  },
  {
   "cell_type": "code",
   "execution_count": null,
   "metadata": {},
   "outputs": [],
   "source": [
    "dat"
   ]
  },
  {
   "cell_type": "code",
   "execution_count": null,
   "metadata": {},
   "outputs": [],
   "source": [
    "dat['MJD', 'UT1_UTC', 'UT1Flag', 'PM_x', 'PM_y', 'PolPMFlag'] "
   ]
  },
  {
   "cell_type": "code",
   "execution_count": null,
   "metadata": {},
   "outputs": [],
   "source": [
    "iers.IERS_A_URL"
   ]
  },
  {
   "cell_type": "code",
   "execution_count": null,
   "metadata": {},
   "outputs": [],
   "source": []
  }
 ],
 "metadata": {
  "kernelspec": {
   "display_name": "Python 3",
   "language": "python",
   "name": "python3"
  },
  "language_info": {
   "codemirror_mode": {
    "name": "ipython",
    "version": 3
   },
   "file_extension": ".py",
   "mimetype": "text/x-python",
   "name": "python",
   "nbconvert_exporter": "python",
   "pygments_lexer": "ipython3",
   "version": "3.8.6"
  }
 },
 "nbformat": 4,
 "nbformat_minor": 2
}
